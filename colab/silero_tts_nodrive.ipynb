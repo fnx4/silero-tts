{
 "cells": [
  {
   "cell_type": "markdown",
   "metadata": {
    "id": "VIp7YqtS0to5"
   },
   "source": [
    "# SILERO TTS"
   ]
  },
  {
   "cell_type": "code",
   "execution_count": null,
   "metadata": {
    "id": "mT4FkCj-3uAe"
   },
   "outputs": [],
   "source": [
    "#!mkdir src\n",
    "#!touch src/test.txt\n",
    "\n",
    "# !echo \"Я приближался к месту моего назначения. \" >> src/test.txt\n",
    "# !echo \"Вокруг меня, прижимаясь к самой дороге, зеленел лес, изредка уступая место полянам, поросшим желтой осокою. \" >> src/test.txt\n",
    "# !echo \"Солнце садилось уже который час, все никак не могло сесть и висело низко над горизонтом. \" >> src/test.txt\n",
    "# !echo \"Машина катилась по узкой дороге, засыпанной хрустящим гравием. \" >> src/test.txt\n",
    "# !echo \"Крупные камни я пускал под колесо, и каждый раз в багажнике лязгали и громыхали пустые канистры.\" >> src/test.txt"
   ]
  },
  {
   "cell_type": "code",
   "execution_count": 1,
   "metadata": {
    "colab": {
     "base_uri": "https://localhost:8080/"
    },
    "id": "StLJmSWrBFqk",
    "outputId": "14a5aa5a-a8df-41b2-d46b-4dd0d93fc223"
   },
   "outputs": [
    {
     "name": "stdout",
     "output_type": "stream",
     "text": [
      "Archive:  src.zip\n",
      "  inflating: ./src/part001 - Том 1..txt  \n",
      "  inflating: ./src/part002 - Пролог..txt  \n",
      "  inflating: ./src/part003 - Глава 1..txt  \n",
      "  inflating: ./src/part004 - Глава 2..txt  \n",
      "  inflating: ./src/part005 - Глава 3..txt  \n",
      "  inflating: ./src/part006 - Глава 4..txt  \n",
      "  inflating: ./src/part007 - Глава 5..txt  \n"
     ]
    }
   ],
   "source": [
    "!mkdir src\n",
    "!unzip src.zip -d ./src"
   ]
  },
  {
   "cell_type": "code",
   "execution_count": 2,
   "metadata": {
    "colab": {
     "base_uri": "https://localhost:8080/"
    },
    "id": "HonFbI7A0wez",
    "outputId": "7efcaa46-099a-4713-9281-d8179737069f"
   },
   "outputs": [
    {
     "name": "stdout",
     "output_type": "stream",
     "text": [
      "Cloning into 'silero'...\n",
      "remote: Enumerating objects: 221, done.\u001b[K\n",
      "remote: Counting objects: 100% (221/221), done.\u001b[K\n",
      "remote: Compressing objects: 100% (128/128), done.\u001b[K\n",
      "remote: Total 221 (delta 114), reused 175 (delta 68), pack-reused 0 (from 0)\u001b[K\n",
      "Receiving objects: 100% (221/221), 111.84 KiB | 931.00 KiB/s, done.\n",
      "Resolving deltas: 100% (114/114), done.\n"
     ]
    }
   ],
   "source": [
    "!git clone https://github.com/fnx4/silero-tts silero"
   ]
  },
  {
   "cell_type": "code",
   "execution_count": 3,
   "metadata": {
    "colab": {
     "base_uri": "https://localhost:8080/"
    },
    "id": "eGIIgFwg0zsd",
    "outputId": "3818ab2a-5d4a-4472-e343-be7eeb14cf49"
   },
   "outputs": [
    {
     "name": "stdout",
     "output_type": "stream",
     "text": [
      "Python 3.12.11\n",
      "ffmpeg version 4.4.2-0ubuntu0.22.04.1 Copyright (c) 2000-2021 the FFmpeg developers\n",
      "Fri Aug 29 10:23:34 2025       \n",
      "+-----------------------------------------------------------------------------------------+\n",
      "| NVIDIA-SMI 550.54.15              Driver Version: 550.54.15      CUDA Version: 12.4     |\n",
      "|-----------------------------------------+------------------------+----------------------+\n",
      "| GPU  Name                 Persistence-M | Bus-Id          Disp.A | Volatile Uncorr. ECC |\n",
      "| Fan  Temp   Perf          Pwr:Usage/Cap |           Memory-Usage | GPU-Util  Compute M. |\n",
      "|                                         |                        |               MIG M. |\n",
      "|=========================================+========================+======================|\n",
      "|   0  Tesla T4                       Off |   00000000:00:04.0 Off |                    0 |\n",
      "| N/A   42C    P8              9W /   70W |       0MiB /  15360MiB |      0%      Default |\n",
      "|                                         |                        |                  N/A |\n",
      "+-----------------------------------------+------------------------+----------------------+\n",
      "                                                                                         \n",
      "+-----------------------------------------------------------------------------------------+\n",
      "| Processes:                                                                              |\n",
      "|  GPU   GI   CI        PID   Type   Process name                              GPU Memory |\n",
      "|        ID   ID                                                               Usage      |\n",
      "|=========================================================================================|\n",
      "|  No running processes found                                                             |\n",
      "+-----------------------------------------------------------------------------------------+\n"
     ]
    }
   ],
   "source": [
    "!python --version\n",
    "!ffmpeg -version | grep \"ffmpeg version\"\n",
    "!nvidia-smi"
   ]
  },
  {
   "cell_type": "code",
   "execution_count": 4,
   "metadata": {
    "colab": {
     "base_uri": "https://localhost:8080/"
    },
    "id": "-aCpkxag03ul",
    "outputId": "4244c87a-7baa-4bcb-b537-c418b6c2e6d0"
   },
   "outputs": [
    {
     "name": "stdout",
     "output_type": "stream",
     "text": [
      "Selecting previously unselected package libcmark-gfm0.29.0.gfm.3:amd64.\n",
      "(Reading database ... 126371 files and directories currently installed.)\n",
      "Preparing to unpack .../libcmark-gfm0.29.0.gfm.3_0.29.0.gfm.3-3_amd64.deb ...\n",
      "Unpacking libcmark-gfm0.29.0.gfm.3:amd64 (0.29.0.gfm.3-3) ...\n",
      "Selecting previously unselected package libcmark-gfm-extensions0.29.0.gfm.3:amd64.\n",
      "Preparing to unpack .../libcmark-gfm-extensions0.29.0.gfm.3_0.29.0.gfm.3-3_amd64.deb ...\n",
      "Unpacking libcmark-gfm-extensions0.29.0.gfm.3:amd64 (0.29.0.gfm.3-3) ...\n",
      "Selecting previously unselected package pandoc-data.\n",
      "Preparing to unpack .../pandoc-data_2.9.2.1-3ubuntu2_all.deb ...\n",
      "Unpacking pandoc-data (2.9.2.1-3ubuntu2) ...\n",
      "Selecting previously unselected package pandoc.\n",
      "Preparing to unpack .../pandoc_2.9.2.1-3ubuntu2_amd64.deb ...\n",
      "Unpacking pandoc (2.9.2.1-3ubuntu2) ...\n",
      "Setting up libcmark-gfm0.29.0.gfm.3:amd64 (0.29.0.gfm.3-3) ...\n",
      "Setting up libcmark-gfm-extensions0.29.0.gfm.3:amd64 (0.29.0.gfm.3-3) ...\n",
      "Setting up pandoc-data (2.9.2.1-3ubuntu2) ...\n",
      "Setting up pandoc (2.9.2.1-3ubuntu2) ...\n",
      "Processing triggers for man-db (2.10.2-1) ...\n",
      "Processing triggers for libc-bin (2.35-0ubuntu3.8) ...\n",
      "/sbin/ldconfig.real: /usr/local/lib/libtbbmalloc.so.2 is not a symbolic link\n",
      "\n",
      "/sbin/ldconfig.real: /usr/local/lib/libur_adapter_opencl.so.0 is not a symbolic link\n",
      "\n",
      "/sbin/ldconfig.real: /usr/local/lib/libur_adapter_level_zero.so.0 is not a symbolic link\n",
      "\n",
      "/sbin/ldconfig.real: /usr/local/lib/libtbbbind_2_0.so.3 is not a symbolic link\n",
      "\n",
      "/sbin/ldconfig.real: /usr/local/lib/libtbbbind.so.3 is not a symbolic link\n",
      "\n",
      "/sbin/ldconfig.real: /usr/local/lib/libur_adapter_level_zero_v2.so.0 is not a symbolic link\n",
      "\n",
      "/sbin/ldconfig.real: /usr/local/lib/libhwloc.so.15 is not a symbolic link\n",
      "\n",
      "/sbin/ldconfig.real: /usr/local/lib/libumf.so.0 is not a symbolic link\n",
      "\n",
      "/sbin/ldconfig.real: /usr/local/lib/libtcm.so.1 is not a symbolic link\n",
      "\n",
      "/sbin/ldconfig.real: /usr/local/lib/libtbb.so.12 is not a symbolic link\n",
      "\n",
      "/sbin/ldconfig.real: /usr/local/lib/libur_loader.so.0 is not a symbolic link\n",
      "\n",
      "/sbin/ldconfig.real: /usr/local/lib/libtcm_debug.so.1 is not a symbolic link\n",
      "\n",
      "/sbin/ldconfig.real: /usr/local/lib/libtbbmalloc_proxy.so.2 is not a symbolic link\n",
      "\n",
      "/sbin/ldconfig.real: /usr/local/lib/libtbbbind_2_5.so.3 is not a symbolic link\n",
      "\n",
      "  Preparing metadata (setup.py) ... \u001b[?25l\u001b[?25hdone\n",
      "\u001b[2K   \u001b[90m━━━━━━━━━━━━━━━━━━━━━━━━━━━━━━━━━━━━━━━━\u001b[0m \u001b[32m45.8/45.8 kB\u001b[0m \u001b[31m3.6 MB/s\u001b[0m eta \u001b[36m0:00:00\u001b[0m\n",
      "\u001b[2K   \u001b[90m━━━━━━━━━━━━━━━━━━━━━━━━━━━━━━━━━━━━━━━━\u001b[0m \u001b[32m163.5/163.5 kB\u001b[0m \u001b[31m9.9 MB/s\u001b[0m eta \u001b[36m0:00:00\u001b[0m\n",
      "\u001b[?25h  Building wheel for docopt (setup.py) ... \u001b[?25l\u001b[?25hdone\n"
     ]
    }
   ],
   "source": [
    "!apt-get -qq install pandoc\n",
    "\n",
    "#!pip install -r silero/requirements-local.txt --quiet\n",
    "!pip install -r silero/requirements.txt --quiet"
   ]
  },
  {
   "cell_type": "code",
   "execution_count": 5,
   "metadata": {
    "colab": {
     "base_uri": "https://localhost:8080/",
     "height": 739,
     "referenced_widgets": [
      "eb098a4fab9f484eb66fc4b63210098c",
      "99b85cd3a4434f8d88ee13a04fa0da9b",
      "93bc3f77b7dc48258b58a75fb19d3391",
      "22c2ca404ccb4a1b95bef2e8eedc0d51",
      "f657444ce41840c6bb0dffdca9be52e8",
      "04eae9cb23664880aa4a73277d6e92cd",
      "669bc9a01c75426e94bbdd65049e565d",
      "af88acedbbcf4537acc3a07150d409fe",
      "8f99bc82471647fcb27f7dc65a0ca21f",
      "b974197a373b4127a67151514b3078f8",
      "60deeb1af969495b91be504209c260ba",
      "15f7cd181b0b4087b83e88f4d90fba8b",
      "6339580e035a4db5abd23b2bfbe34502",
      "e8d95e8ad4ae470286bfd4440f04d3c5",
      "ff6dc0c84c8d4680b357d666b709f4fb",
      "02f239b070d54a04be1f0692cfdd54b0",
      "eb065fad383c480896b79eb47b372ba4",
      "3d768b6cf1fa477eaab34a7541cbe212",
      "cb7d45fe4a6940bc8ae09479c95534f9",
      "ca12e1584580463cab1e1a96cbddfed6",
      "4c3fea7718f342ac95bb6722987691d2",
      "e2073cb7b77f4319bab492fb1ef700d1",
      "6abc24ce60e841fca20a875e58fc72c6",
      "49aa17e727d34808a949681bd1cf798a",
      "30a79d5e9620401fa214f2765b8ea338",
      "c7019e6ff2354e36a3f8798d7ad08ffc",
      "73254850e9694aee92721bbf746270cc",
      "ccdb1311d1be441fa707011c894563f5",
      "79238d9b81704699b63a12c79922c95e",
      "070bfdb39f3c4ba488b3578a21e80b63",
      "31a2775cf8dd46d98b650ee40bbe2c7b",
      "2f6c491aa2294288b37d8155a6c5aaea",
      "b4e6cd636dac4e848a2d816df96c991f",
      "0108164f3fab4b3a873a9de3aef605c4",
      "7fc152e715b14d95aad5fd1bdea490be",
      "aaadb8fdf3ca48b2be1a78c94f5e1981",
      "31cf5fd574c647fda547c20648b39a0e",
      "ca454a814ab943aa95b098edc48447f5",
      "e28a4ca260ce4a71a0459dccace33f8a",
      "ea7651e6623c4d29ab5931205bf41461",
      "fd05d79588fc406d8a13efc967f5444c",
      "2f8b47fd3a0d43d4a87c399d007aa7a7",
      "e3d23f3d73a24e83ae563be804e18a8f",
      "5b9727f2b53642a4b5b78236165a77c0",
      "b250135b44a941f89f7ec64bda9067ff",
      "582421b8199f4a4a8f1065bb9267bb3c",
      "9978c4023e554a7f8deb2e7392d7c553",
      "a1caf2ee2b244b86b8cf514e15b615ed",
      "17dda53a1f7a425f8accba3b5d1d8f25",
      "3541fd6afac24f10b591405d94fd7267",
      "bf1d33b87b444af3a834fcf048213a5f",
      "b76f995993474c0a8e00ad9e14cf29b1",
      "c43e4d3498da46ee902e33edd2b24b02",
      "fcb5e3cdae54418e8c13eede86bca80b",
      "69971c59230d4c2fa5f7daee69b5ecb9",
      "911376b0194f42949612178f6f341d6a",
      "c22698fa859a48ea84a6641c9c60eee1",
      "24293cadbf76476f9b3e25ab88676b53",
      "3e8c2454403b49e5aa833352e189cf65",
      "01246f12b3cc49919e51c8f9a2589f51",
      "f5e8245c46594dda8c37b21ae08c19de",
      "416d0b9cc2364ff5a60b284f74a57435",
      "c701bba84a974da192dcd1fca1a99fbb",
      "b6b25789eea54f73a7e0bc7ec03f16ac",
      "ec50b906e7744d55a9a1a12f4e1c557d",
      "3e476dd5b9e24a5198b8cdea4c832942",
      "79f4850faaaf4125b0c190639ae16e2c",
      "e56f91b6ac3c49f4a6d39ccbacf5a8e9",
      "306d767033cd4108ba5e6cd6c80d33bb",
      "357485ef038348dcbd5ce4504b920bee",
      "addea1162d0244e0842910e6754a5146",
      "f6efcf37e9d94e3cbf118244f86c1425",
      "fd6581b6e3ad4353b2a8930689fee585",
      "1415e437b8f64425a4ae20e057b7e5fd",
      "72abf57a1e8340009fa8c268eca2009b",
      "c4039cfe219040e09cf8ae45e4b456f6",
      "aa6fac83ca394fd4a0ca646fe62dd993",
      "272fbb673bd749d18adf8483cecdb7ba",
      "ae369cb12c3d4fd6ae393cd0d6b1520d",
      "c65a3fa74b7c45caab942da4057ceb3e",
      "f9201e2f05424cc4a4c90e5e7d0fb213",
      "0db17522807b4fb59498f56cd1425ebf",
      "bea615c41232450482e0d36933a3479d",
      "d057aead1a714fb0ba74e74bc2a6ac0e",
      "7221350cfce641a28fc371551a7e636c",
      "84945aa9efcc4f8e9fa7f7c689c8a538",
      "009a736f553a4baaba372282b4285649",
      "cc811f15ed5a41da8d14c37223bb86a4",
      "801b0e7419954e6a9f6a044a7ae4385a",
      "b2daf3e7a92f43ac96335ea44ff2cc22",
      "ef528b8ca41145c39e082bfe749705c1",
      "913026018a5344c4b62b0352bc4e5607",
      "3352287efefc40c38750faad6eff1d47",
      "8716256e23f44d308af260fce8d863ed",
      "b62c8d7d04f841198c473c522ed4842f",
      "786dd187a02d47ce93d199b150759ac6",
      "7f812201d45242cab69102d2b8bfea07",
      "b811373243f24337873dece4f9e1b70f",
      "73c2f0d09240484cbad9820cf6bea242",
      "a356aa28c2114b66b9e48d7bcad9feb5",
      "096a1147fcc742eab992e853b1e0cc64",
      "a1812e1c685e4b89bc578d1f066cac38",
      "be4b5882b265475592dcedfcb91dd648",
      "10a1338441d84a499bb4c6a92dbc9d8e",
      "89a717ee7bce4636a1ac7a6a786948ac",
      "05e2525980e849da9f43823f46f1a57f",
      "fbb48711214a4b8790e8f2ded783a17a",
      "29379e2b27e741d69af9d99a70e49259",
      "9471af4990b24cfea776bd693cde77da",
      "061e2cb4944c40c4acaf4d672179fe7e",
      "67811c6bf7e94736be6c8d92139fd1c8",
      "d2ae3df1b9444321bd4cd071853aa883",
      "9d15867330cc4f349530404f63b12d28",
      "fcffbdc6b25f466bbc6faba3b1a6963a",
      "91ae233e8eda441c95284131b86d1311",
      "064133cd508d40a9910454ab5aaced21",
      "0e85484c0e8e481f981162e5339ff9f5",
      "9bdc5458693344adb49e7bbeaf0b4840",
      "446fc965939545d7815445b30bf7fb12",
      "79d74252ba264e8994c579c8b7e1e847",
      "c8579a3f36694a428834a0bb7e1f55c5",
      "814fd1c33dff4bb082c27905ff7395ff",
      "525a63499e2a4ce7b5ba3809ee13c60b",
      "42e8b0fdd5bc41259f9231b13d040686",
      "33525c6ca2954f90bf2d81ffb5723e2f",
      "78734903dbf340c6afb31af6f452fb19",
      "eb208a02db474d66973fe5439f36f006",
      "abdccd44caa347ff8ad8b0248944416d",
      "f6dd0e3a36614a5b9329bfa6fed4281f",
      "5066db8e0ae74360ab9f7ae7c7828edf",
      "3f9cee4f4bfd43058c1fe779003563fa",
      "4db9aa89f66f44f5ae75b4a14c083185",
      "0c1e56299c3e44fb9a8fda45ccf5243a",
      "587e3e66fa624730bc260b411b222a89",
      "b29b5a72697d4fafb90cbe82c43bd38c",
      "76b5242c8b3b4ce5aee65957788b1558",
      "a7bc6824830649a8a5bdee09845acf5b",
      "bb199f44fccf43f5b28fa6af0de03d51",
      "a9116d3fe3844146b17313ff5f1d6ac2",
      "5e93b5f716934e3080eba37740254aab",
      "e49169309d484f16b9ff7b97f3e37191",
      "f8f33b9d11c346bea3345915407490e6",
      "ef1ae938742e48f39b6308edf4674d1c",
      "efaeff3258ce4a8f9e157f928f01923d",
      "0003ccb1a7354df9bed2713f587b99af",
      "8bfdb5f2fd8a42e2b059dcaa8b5d1016",
      "1da2b74e763143949c67aec4372524b1",
      "197f80d469484564965aa3e2ae5a9acf",
      "f2c4e085cc4e4892ab3ebaec1e95dcd4",
      "96e7b238b8254ad69d07f5bf32b06444",
      "079151b7a5ca42d5bab5240a872deed6",
      "b6d68128fbaf416b9b7db839c1bb22bd",
      "9cbd26c0b81b4a0ca8d871e0ad5ea4fe",
      "f674ea66557048679de5958c17a10bb6",
      "a3a472786f784e26a8fbf2e010ea51d8",
      "8a5175ad9de640e0936be84c83b944e2",
      "1ff30a24f23e43bdbe0dff6f9d1f610e",
      "c1be61388b084652ba4c871f37e16883",
      "1e13953f05b849c1935159e34f7eca25",
      "3a91949168d24544a605cb7772ab7784",
      "51c2da66ab6748fb99d58800a025ccd3",
      "c7276a90ae564433996935ecc397cebe",
      "15b530c895864ab69af0293524717133",
      "f751d61f15634f39866ffa05915b7242",
      "ef4585199af14df3b32f489b0833d262",
      "2e55e19071564185b133a103d72ce6cd",
      "6e2cfb6614754f04ad45c0466fa2bffa",
      "32737c7d3943470e99394ca61b6349cb",
      "b7ec8ee977374fa5a704b858d16fe0d5",
      "3e40de48328b4cfeac09c8e6bdfcb1fe",
      "a13c39682bab4a36a42c342ccf7902a3",
      "72e61137940f4a5bbb585b129b2de022",
      "6b8a4c9ba4af40a3a5c8650c825e81e6",
      "20001644a33d498bbddc5798f6188007",
      "2dab55f678574cc9a29c2c90328e78d8",
      "8ee1ec2c32b34616a5c239acf5c58d77",
      "d335ea72361b4310b9b249d83175db59",
      "a325e8735c3b4cef931fb746763d759e",
      "f044bfb2a4b446509ba43c856265a5b7",
      "670d3081edf34e8ebc88a5304e193e39",
      "29bf345750684cc1b159fb308c8ec31e",
      "70042de349a84c13be335fbaec368119",
      "7ae3a4c03db84857aa3557d89d36bf3f",
      "1d94ed87d1ad49b599063725a1dcc70e",
      "a1b3f4ad86a941b3910c2a7211453dc6",
      "d6f5c394905f4a1f87f1df09d798b5f3",
      "cd6f9b42a8e641ee8109f16c4f4e7ce2",
      "b1904ae80859468daa102c99ba530a85",
      "e70ace1bc2bc48a8b47c05975c5b2460",
      "009253fe7fa74a57b7c384c768f8290a",
      "21c7f0c7bcd0467785d4662fa174b007",
      "51f29d12673e4b23a464ffd75e270312",
      "e5ca36f7145f4a85be373aece4c4c7b1",
      "747b0620faf242e1af49483f443c391c",
      "38e3a572e0134699ab7845ff5bbc0b04",
      "93f1ecbae65a4cc6af4eecf957f45180",
      "32f4085e130247f7a7efcb653299ba63",
      "4c4fc5cd27e0450f8d81ed8ea9ff5420",
      "501c31eee419437aa78150d615ec7caf",
      "10f4a2954fbd48dd9a6e06231584ba76",
      "fb229b6c84fb47c79d8b02dee881ab4e",
      "d849903c4a88436285dcb0e40cf292d0",
      "365f56b7914a477382327061ba2d2595",
      "312e7e76c4a04209b0b2a8f876b5aa9e",
      "35290cdcdbf64458b9cc9fc4c9049df8",
      "b0334ed647a941ef914347e6b72205bf",
      "7e1823e299b746419ad816590052277e",
      "2aea8dc16165487ea102e22ec437f265",
      "22bc9a885508416b818de821d2315d1e",
      "896fcc4d00344842b99709ff089b85a5",
      "407abd2bbd0c42db8e9ca1d5b5ffc10c",
      "bf726fb26bc24f12badf66e4471bc482",
      "36346b68e6884a1a9d6f2b52b0096a6c",
      "1b9f7014a70e40ec9443550af7094ad6",
      "892abfae3c3c4f46b47ee5f29c352962",
      "2540b22750c347eba35885411f5b3350",
      "fb84dae0c2dd4a9490a489c557ab1ebc",
      "df0fb9059efc4fd3930fec923f5bcd29",
      "f513e974e66e448f8c384fdb433b4cc9",
      "8ad2c44ea3ad47788e65af62091be7fe",
      "94d4fe8325a241eea59420c4b0a53e0a",
      "3d98d610531d4fbea95bc488939e1347",
      "fedc2f057f914a7e9b2d48b582a2ed65",
      "43394f9dd75248cdaf6dc51729de935d",
      "43ff7dbf9c724014be88eeccdc34594b",
      "ef00bca97296481499f00ba41b2d86a5",
      "1410111c804e45e48392a0bfcdd0533e",
      "390ffb1e3c2c4dce8be37bad9473b6bb",
      "2a3d3a2c3bca47f9bed2c50561063e6f",
      "c6b1b608c831474a9dfc0ea88984ce7d",
      "a0933accf7a34d2583606d18114c9394",
      "3a0bb1ce964e4f0195a84ca179897d58",
      "8f3162c4882d46839f709b6e5a0f4cd2",
      "02ab8950874d41d98b4a4e52888a2d65",
      "50ae16b7cbbe420991efe57717845809",
      "27e4127da6d147a699f104739d01d5a8",
      "db2ce195e3234747a61176ce38cbf445",
      "1630f757103b4201bdae23c3599b5a38",
      "5945d2feff31418ea1e88db3dc2a1a78",
      "d09d1354cf9c4244a97da83c25f4c083",
      "d456cf542ffc4567af494ae2ffd6b3e9",
      "b3ae8efcb7a0404db49feccfc11a037d",
      "4d09e8caafa84cde939dd19337063ee5",
      "888842b10352477286febc200d2c51fe",
      "8205b349e7fd4676b54602e05c86f786",
      "8a4f81750068411daddc12cd4677e428",
      "e21615c234d749dfbc19c97e2b30d47a",
      "30ef56c9281b471dad0a85ee69d1274e",
      "07e493b0bb56479ea84d2149bca3bb50",
      "546b9268c0dd4fd0a4e08a59e5bff427",
      "72f034d60b3546e88cc0490c5f6202e3",
      "9811ac17fa1345f8915b80de876a4c9d",
      "1c37869349164cbc8c1bcaaa632fa904"
     ]
    },
    "id": "idsWXgwjx9Bz",
    "outputId": "7b073c0e-e099-4613-f32e-983171cef034"
   },
   "outputs": [
    {
     "name": "stdout",
     "output_type": "stream",
     "text": [
      "\n",
      "Namespace(input='./src', output='silero/output_raw', threads='16', speaker='xenia', device='cuda', rate='48000', ignore_newlines=False, merge=True, rvc=False, rvc_model_pth='ru-saya-1000.pth', rvc_model_index=None, rvc_transpose='3')\n"
     ]
    },
    {
     "name": "stderr",
     "output_type": "stream",
     "text": [
      "[nltk_data] Downloading package punkt to /root/nltk_data...\n",
      "[nltk_data]   Unzipping tokenizers/punkt.zip.\n",
      "[nltk_data] Downloading package punkt_tab to /root/nltk_data...\n",
      "[nltk_data]   Unzipping tokenizers/punkt_tab.zip.\n",
      "100%|██████████| 59.0M/59.0M [00:04<00:00, 13.9MB/s]\n"
     ]
    },
    {
     "name": "stdout",
     "output_type": "stream",
     "text": [
      "\n",
      "file: ./src/part001 - Том 1..txt ...\n"
     ]
    },
    {
     "data": {
      "application/vnd.jupyter.widget-view+json": {
       "model_id": "eb098a4fab9f484eb66fc4b63210098c",
       "version_major": 2,
       "version_minor": 0
      },
      "text/plain": [
       " CHAPTER:   0%|          | 0/1 [00:00<?, ?it/s]"
      ]
     },
     "metadata": {},
     "output_type": "display_data"
    },
    {
     "data": {
      "application/vnd.jupyter.widget-view+json": {
       "model_id": "15f7cd181b0b4087b83e88f4d90fba8b",
       "version_major": 2,
       "version_minor": 0
      },
      "text/plain": [
       "    TEXT:   0%|          | 0/1 [00:00<?, ?it/s]"
      ]
     },
     "metadata": {},
     "output_type": "display_data"
    },
    {
     "data": {
      "application/vnd.jupyter.widget-view+json": {
       "model_id": "6abc24ce60e841fca20a875e58fc72c6",
       "version_major": 2,
       "version_minor": 0
      },
      "text/plain": [
       "SENTENCE:   0%|          | 0/4 [00:00<?, ?it/s]"
      ]
     },
     "metadata": {},
     "output_type": "display_data"
    },
    {
     "name": "stdout",
     "output_type": "stream",
     "text": [
      "\n",
      "file: ./src/part002 - Пролог..txt ...\n"
     ]
    },
    {
     "data": {
      "application/vnd.jupyter.widget-view+json": {
       "model_id": "0108164f3fab4b3a873a9de3aef605c4",
       "version_major": 2,
       "version_minor": 0
      },
      "text/plain": [
       " CHAPTER:   0%|          | 0/1 [00:00<?, ?it/s]"
      ]
     },
     "metadata": {},
     "output_type": "display_data"
    },
    {
     "data": {
      "application/vnd.jupyter.widget-view+json": {
       "model_id": "b250135b44a941f89f7ec64bda9067ff",
       "version_major": 2,
       "version_minor": 0
      },
      "text/plain": [
       "    TEXT:   0%|          | 0/1 [00:00<?, ?it/s]"
      ]
     },
     "metadata": {},
     "output_type": "display_data"
    },
    {
     "data": {
      "application/vnd.jupyter.widget-view+json": {
       "model_id": "911376b0194f42949612178f6f341d6a",
       "version_major": 2,
       "version_minor": 0
      },
      "text/plain": [
       "SENTENCE:   0%|          | 0/65 [00:00<?, ?it/s]"
      ]
     },
     "metadata": {},
     "output_type": "display_data"
    },
    {
     "name": "stdout",
     "output_type": "stream",
     "text": [
      "\n",
      "file: ./src/part003 - Глава 1..txt ...\n"
     ]
    },
    {
     "data": {
      "application/vnd.jupyter.widget-view+json": {
       "model_id": "79f4850faaaf4125b0c190639ae16e2c",
       "version_major": 2,
       "version_minor": 0
      },
      "text/plain": [
       " CHAPTER:   0%|          | 0/1 [00:00<?, ?it/s]"
      ]
     },
     "metadata": {},
     "output_type": "display_data"
    },
    {
     "data": {
      "application/vnd.jupyter.widget-view+json": {
       "model_id": "272fbb673bd749d18adf8483cecdb7ba",
       "version_major": 2,
       "version_minor": 0
      },
      "text/plain": [
       "    TEXT:   0%|          | 0/1 [00:00<?, ?it/s]"
      ]
     },
     "metadata": {},
     "output_type": "display_data"
    },
    {
     "data": {
      "application/vnd.jupyter.widget-view+json": {
       "model_id": "801b0e7419954e6a9f6a044a7ae4385a",
       "version_major": 2,
       "version_minor": 0
      },
      "text/plain": [
       "SENTENCE:   0%|          | 0/75 [00:00<?, ?it/s]"
      ]
     },
     "metadata": {},
     "output_type": "display_data"
    },
    {
     "name": "stdout",
     "output_type": "stream",
     "text": [
      "\n",
      "file: ./src/part004 - Глава 2..txt ...\n"
     ]
    },
    {
     "data": {
      "application/vnd.jupyter.widget-view+json": {
       "model_id": "a356aa28c2114b66b9e48d7bcad9feb5",
       "version_major": 2,
       "version_minor": 0
      },
      "text/plain": [
       " CHAPTER:   0%|          | 0/1 [00:00<?, ?it/s]"
      ]
     },
     "metadata": {},
     "output_type": "display_data"
    },
    {
     "data": {
      "application/vnd.jupyter.widget-view+json": {
       "model_id": "67811c6bf7e94736be6c8d92139fd1c8",
       "version_major": 2,
       "version_minor": 0
      },
      "text/plain": [
       "    TEXT:   0%|          | 0/1 [00:00<?, ?it/s]"
      ]
     },
     "metadata": {},
     "output_type": "display_data"
    },
    {
     "data": {
      "application/vnd.jupyter.widget-view+json": {
       "model_id": "814fd1c33dff4bb082c27905ff7395ff",
       "version_major": 2,
       "version_minor": 0
      },
      "text/plain": [
       "SENTENCE:   0%|          | 0/81 [00:00<?, ?it/s]"
      ]
     },
     "metadata": {},
     "output_type": "display_data"
    },
    {
     "name": "stdout",
     "output_type": "stream",
     "text": [
      "\n",
      "file: ./src/part005 - Глава 3..txt ...\n"
     ]
    },
    {
     "data": {
      "application/vnd.jupyter.widget-view+json": {
       "model_id": "0c1e56299c3e44fb9a8fda45ccf5243a",
       "version_major": 2,
       "version_minor": 0
      },
      "text/plain": [
       " CHAPTER:   0%|          | 0/1 [00:00<?, ?it/s]"
      ]
     },
     "metadata": {},
     "output_type": "display_data"
    },
    {
     "data": {
      "application/vnd.jupyter.widget-view+json": {
       "model_id": "efaeff3258ce4a8f9e157f928f01923d",
       "version_major": 2,
       "version_minor": 0
      },
      "text/plain": [
       "    TEXT:   0%|          | 0/1 [00:00<?, ?it/s]"
      ]
     },
     "metadata": {},
     "output_type": "display_data"
    },
    {
     "data": {
      "application/vnd.jupyter.widget-view+json": {
       "model_id": "a3a472786f784e26a8fbf2e010ea51d8",
       "version_major": 2,
       "version_minor": 0
      },
      "text/plain": [
       "SENTENCE:   0%|          | 0/102 [00:00<?, ?it/s]"
      ]
     },
     "metadata": {},
     "output_type": "display_data"
    },
    {
     "name": "stdout",
     "output_type": "stream",
     "text": [
      "\n",
      "file: ./src/part006 - Глава 4..txt ...\n"
     ]
    },
    {
     "data": {
      "application/vnd.jupyter.widget-view+json": {
       "model_id": "2e55e19071564185b133a103d72ce6cd",
       "version_major": 2,
       "version_minor": 0
      },
      "text/plain": [
       " CHAPTER:   0%|          | 0/1 [00:00<?, ?it/s]"
      ]
     },
     "metadata": {},
     "output_type": "display_data"
    },
    {
     "data": {
      "application/vnd.jupyter.widget-view+json": {
       "model_id": "d335ea72361b4310b9b249d83175db59",
       "version_major": 2,
       "version_minor": 0
      },
      "text/plain": [
       "    TEXT:   0%|          | 0/1 [00:00<?, ?it/s]"
      ]
     },
     "metadata": {},
     "output_type": "display_data"
    },
    {
     "data": {
      "application/vnd.jupyter.widget-view+json": {
       "model_id": "b1904ae80859468daa102c99ba530a85",
       "version_major": 2,
       "version_minor": 0
      },
      "text/plain": [
       "SENTENCE:   0%|          | 0/100 [00:00<?, ?it/s]"
      ]
     },
     "metadata": {},
     "output_type": "display_data"
    },
    {
     "name": "stdout",
     "output_type": "stream",
     "text": [
      "\n",
      "file: ./src/part007 - Глава 5..txt ...\n"
     ]
    },
    {
     "data": {
      "application/vnd.jupyter.widget-view+json": {
       "model_id": "501c31eee419437aa78150d615ec7caf",
       "version_major": 2,
       "version_minor": 0
      },
      "text/plain": [
       " CHAPTER:   0%|          | 0/1 [00:00<?, ?it/s]"
      ]
     },
     "metadata": {},
     "output_type": "display_data"
    },
    {
     "data": {
      "application/vnd.jupyter.widget-view+json": {
       "model_id": "896fcc4d00344842b99709ff089b85a5",
       "version_major": 2,
       "version_minor": 0
      },
      "text/plain": [
       "    TEXT:   0%|          | 0/1 [00:00<?, ?it/s]"
      ]
     },
     "metadata": {},
     "output_type": "display_data"
    },
    {
     "data": {
      "application/vnd.jupyter.widget-view+json": {
       "model_id": "94d4fe8325a241eea59420c4b0a53e0a",
       "version_major": 2,
       "version_minor": 0
      },
      "text/plain": [
       "SENTENCE:   0%|          | 0/88 [00:00<?, ?it/s]"
      ]
     },
     "metadata": {},
     "output_type": "display_data"
    },
    {
     "name": "stdout",
     "output_type": "stream",
     "text": [
      "\n",
      "Merging and encoding, please wait...\n"
     ]
    },
    {
     "data": {
      "application/vnd.jupyter.widget-view+json": {
       "model_id": "3a0bb1ce964e4f0195a84ca179897d58",
       "version_major": 2,
       "version_minor": 0
      },
      "text/plain": [
       "  0%|          | 0/7 [00:00<?, ?it/s]"
      ]
     },
     "metadata": {},
     "output_type": "display_data"
    },
    {
     "data": {
      "application/vnd.jupyter.widget-view+json": {
       "model_id": "4d09e8caafa84cde939dd19337063ee5",
       "version_major": 2,
       "version_minor": 0
      },
      "text/plain": [
       "OPUS:   0%|          | 0/7 [00:00<?, ?it/s]"
      ]
     },
     "metadata": {},
     "output_type": "display_data"
    },
    {
     "name": "stdout",
     "output_type": "stream",
     "text": [
      "\n",
      "Finished!\n"
     ]
    }
   ],
   "source": [
    "%run silero/silero_tts.py -t 16 -s xenia -d cuda -r 48000 --merge -i ./src -o silero/output_raw"
   ]
  },
  {
   "cell_type": "code",
   "execution_count": 6,
   "metadata": {
    "colab": {
     "base_uri": "https://localhost:8080/"
    },
    "id": "WJznBjRnCSGV",
    "outputId": "9a11c8ec-3935-4f6f-a1f1-8074a37d4089"
   },
   "outputs": [
    {
     "name": "stdout",
     "output_type": "stream",
     "text": [
      "  adding: silero/output_raw/_opus/part001_-_Том_1__000000.opus (deflated 1%)\n",
      "  adding: silero/output_raw/_opus/part002_-_Пролог__000000.opus (deflated 1%)\n",
      "  adding: silero/output_raw/_opus/part003_-_Глава_1__000000.opus (deflated 1%)\n",
      "  adding: silero/output_raw/_opus/part004_-_Глава_2__000000.opus (deflated 1%)\n",
      "  adding: silero/output_raw/_opus/part005_-_Глава_3__000000.opus (deflated 1%)\n",
      "  adding: silero/output_raw/_opus/part006_-_Глава_4__000000.opus (deflated 1%)\n",
      "  adding: silero/output_raw/_opus/part007_-_Глава_5__000000.opus (deflated 1%)\n",
      "  adding: silero/output_raw/_opus/ (stored 0%)\n",
      "-rw-r--r-- 1 root root 8378441 Aug 29 10:25 output.zip\n"
     ]
    }
   ],
   "source": [
    "!zip -r output.zip silero/output_raw/_opus | sort\n",
    "!ls -l output.zip"
   ]
  },
  {
   "cell_type": "code",
   "execution_count": null,
   "metadata": {
    "id": "vFo1AM1Hlawf"
   },
   "outputs": [],
   "source": [
    "# from IPython.display import Audio\n",
    "# wav_folder = \"silero/output_raw/_wav\"\n",
    "# for file in sorted(os.listdir(wav_folder)):\n",
    "#     print(file)\n",
    "#     display(Audio(os.path.join(wav_folder, file)))"
   ]
  }
 ],
 "metadata": {
  "accelerator": "GPU",
  "colab": {
   "provenance": []
  },
  "gpuClass": "standard",
  "kernelspec": {
   "display_name": "Python 3",
   "name": "python3"
  },
  "language_info": {
   "name": "python"
  }
 },
 "nbformat": 4,
 "nbformat_minor": 0
}
