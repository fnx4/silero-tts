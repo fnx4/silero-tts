{
 "cells": [
  {
   "cell_type": "markdown",
   "metadata": {
    "id": "VIp7YqtS0to5"
   },
   "source": [
    "# SILERO TTS"
   ]
  },
  {
   "cell_type": "code",
   "execution_count": null,
   "metadata": {
    "id": "mT4FkCj-3uAe"
   },
   "outputs": [],
   "source": [
    "#!mkdir src\n",
    "#!touch src/test.txt\n",
    "\n",
    "# !echo \"Я приближался к месту моего назначения. \" >> src/test.txt\n",
    "# !echo \"Вокруг меня, прижимаясь к самой дороге, зеленел лес, изредка уступая место полянам, поросшим желтой осокою. \" >> src/test.txt\n",
    "# !echo \"Солнце садилось уже который час, все никак не могло сесть и висело низко над горизонтом. \" >> src/test.txt\n",
    "# !echo \"Машина катилась по узкой дороге, засыпанной хрустящим гравием. \" >> src/test.txt\n",
    "# !echo \"Крупные камни я пускал под колесо, и каждый раз в багажнике лязгали и громыхали пустые канистры.\" >> src/test.txt"
   ]
  },
  {
   "cell_type": "code",
   "execution_count": 1,
   "metadata": {
    "colab": {
     "base_uri": "https://localhost:8080/"
    },
    "id": "StLJmSWrBFqk",
    "outputId": "8cef6c62-b6c2-4a2c-db9b-50e6c315e4e8"
   },
   "outputs": [
    {
     "name": "stdout",
     "output_type": "stream",
     "text": [
      "Archive:  src.zip\n",
      "  inflating: ./src/part001 - Том 1..txt  \n",
      "  inflating: ./src/part002 - Пролог..txt  \n",
      "  inflating: ./src/part003 - Глава 1..txt  \n",
      "  inflating: ./src/part004 - Глава 2..txt  \n",
      "  inflating: ./src/part005 - Глава 3..txt  \n",
      "  inflating: ./src/part006 - Глава 4..txt  \n",
      "  inflating: ./src/part007 - Глава 5..txt  \n"
     ]
    }
   ],
   "source": [
    "!mkdir src\n",
    "!unzip src.zip -d ./src"
   ]
  },
  {
   "cell_type": "code",
   "execution_count": 2,
   "metadata": {
    "colab": {
     "base_uri": "https://localhost:8080/"
    },
    "id": "HonFbI7A0wez",
    "outputId": "83a2e016-dc0f-4405-bdbf-518d37384257"
   },
   "outputs": [
    {
     "name": "stdout",
     "output_type": "stream",
     "text": [
      "Cloning into 'silero'...\n",
      "remote: Enumerating objects: 162, done.\u001b[K\n",
      "remote: Counting objects: 100% (162/162), done.\u001b[K\n",
      "remote: Compressing objects: 100% (87/87), done.\u001b[K\n",
      "remote: Total 162 (delta 79), reused 133 (delta 50), pack-reused 0\u001b[K\n",
      "Receiving objects: 100% (162/162), 67.65 KiB | 1018.00 KiB/s, done.\n",
      "Resolving deltas: 100% (79/79), done.\n"
     ]
    }
   ],
   "source": [
    "!git clone https://github.com/fnx4/silero-tts silero"
   ]
  },
  {
   "cell_type": "code",
   "execution_count": 3,
   "metadata": {
    "colab": {
     "base_uri": "https://localhost:8080/"
    },
    "id": "eGIIgFwg0zsd",
    "outputId": "f9efcfb5-f54a-4b2c-99e6-5c51c06799c7"
   },
   "outputs": [
    {
     "name": "stdout",
     "output_type": "stream",
     "text": [
      "ffmpeg version 4.4.2-0ubuntu0.22.04.1 Copyright (c) 2000-2021 the FFmpeg developers\n",
      "Sun Apr 14 13:12:43 2024       \n",
      "+---------------------------------------------------------------------------------------+\n",
      "| NVIDIA-SMI 535.104.07             Driver Version: 537.34       CUDA Version: 12.2     |\n",
      "|-----------------------------------------+----------------------+----------------------+\n",
      "| GPU  Name                 Persistence-M | Bus-Id        Disp.A | Volatile Uncorr. ECC |\n",
      "| Fan  Temp   Perf          Pwr:Usage/Cap |         Memory-Usage | GPU-Util  Compute M. |\n",
      "|                                         |                      |               MIG M. |\n",
      "|=========================================+======================+======================|\n",
      "|   0  NVIDIA GeForce RTX 4090        On  | 00000000:01:00.0  On |                  Off |\n",
      "| 47%   45C    P0              61W / 360W |   1262MiB / 24564MiB |      1%      Default |\n",
      "|                                         |                      |                  N/A |\n",
      "+-----------------------------------------+----------------------+----------------------+\n",
      "                                                                                         \n",
      "+---------------------------------------------------------------------------------------+\n",
      "| Processes:                                                                            |\n",
      "|  GPU   GI   CI        PID   Type   Process name                            GPU Memory |\n",
      "|        ID   ID                                                             Usage      |\n",
      "|=======================================================================================|\n",
      "|    0   N/A  N/A        20      G   /Xwayland                                 N/A      |\n",
      "|    0   N/A  N/A        20      G   /Xwayland                                 N/A      |\n",
      "|    0   N/A  N/A        23      G   /Xwayland                                 N/A      |\n",
      "+---------------------------------------------------------------------------------------+\n"
     ]
    }
   ],
   "source": [
    "!ffmpeg -version | grep \"ffmpeg version\"\n",
    "!nvidia-smi"
   ]
  },
  {
   "cell_type": "code",
   "execution_count": 4,
   "metadata": {
    "colab": {
     "base_uri": "https://localhost:8080/"
    },
    "id": "-aCpkxag03ul",
    "outputId": "d0015aa2-6cc8-4de6-c65b-ec253ef8d0cb"
   },
   "outputs": [
    {
     "name": "stdout",
     "output_type": "stream",
     "text": [
      "Requirement already satisfied: transliterate in /usr/local/lib/python3.10/dist-packages (from -r silero/requirements.txt (line 1)) (1.10.2)\n",
      "Requirement already satisfied: num2words in /usr/local/lib/python3.10/dist-packages (from -r silero/requirements.txt (line 2)) (0.5.13)\n",
      "Requirement already satisfied: pypandoc in /usr/local/lib/python3.10/dist-packages (from -r silero/requirements.txt (line 3)) (1.13)\n",
      "Requirement already satisfied: ffmpeg-python in /usr/local/lib/python3.10/dist-packages (from -r silero/requirements.txt (line 4)) (0.2.0)\n",
      "Requirement already satisfied: six>=1.1.0 in /usr/local/lib/python3.10/dist-packages (from transliterate->-r silero/requirements.txt (line 1)) (1.16.0)\n",
      "Requirement already satisfied: docopt>=0.6.2 in /usr/local/lib/python3.10/dist-packages (from num2words->-r silero/requirements.txt (line 2)) (0.6.2)\n",
      "Requirement already satisfied: future in /usr/local/lib/python3.10/dist-packages (from ffmpeg-python->-r silero/requirements.txt (line 4)) (0.18.3)\n"
     ]
    }
   ],
   "source": [
    "!pip install -r silero/requirements.txt"
   ]
  },
  {
   "cell_type": "code",
   "execution_count": 5,
   "metadata": {
    "colab": {
     "base_uri": "https://localhost:8080/",
     "height": 655,
     "referenced_widgets": [
      "47949f54d3814945b392cb992490337a",
      "703c40cb643e4538aeeac9bee67695d9",
      "7cd0d5483b854ced8fa0b2e4b4ea52fe",
      "2052f2a2808b42e9abe2c21325ed6a68",
      "99bfe32607f646b6883b9ae7173b2e07",
      "a2ea47b11dd1483a927847937d9ba3ba",
      "75d40e763c004ae385aad52b4559c6af",
      "5fa9ca9dc87d418fac56492fdd415109",
      "79cf562c0aaa48de914512ec3dedf60d",
      "0b1452a8215841d988e1d6bc6bd73eb7",
      "0df285d1f87d47ccbe9a4da63b1ff394",
      "40b4d75bba314dbea793cf08c6c8abcf",
      "0b3be70c9c5a4107ad77163df8e42685",
      "a129e422eab541a2b6505ab495c1a736",
      "b9f1253c137a4647850b5f7c6ccaf70a",
      "b4ca5639465a442c97cc133bd9e490be",
      "7a70b7fe116044968a51004e85f654a6",
      "6df6799e49014ec4ba4ef39fa0918976",
      "fa800f160cd44672bb6553c17b2cd1d3",
      "4fc45eeefc2f4df39668fa0e74d0756d",
      "b1110bab6f7544e9b473988961c40155",
      "4593fc7050534973a725097e3f90a93e",
      "01540bb15aa443c1ae50d1621fab8323",
      "f990a0df5ce14b649c9ca9faab2a6823",
      "341efda0786743e1adc58f97ca767122",
      "8213c7b2be704ee4bc54d3223f7afdb3",
      "91003d9876724d57b218a31b457fed16",
      "11d95a76dcde472a8b78ebe4fdce9286",
      "fe4c2e3d3cdd4f558d2755fd78b8402b",
      "a6d100bd2ce14cebb79cc37a2a66ab45",
      "72b69653c80343a8a6f7eb9b8acc8f81",
      "692a543e6d504c28abe8e0c29218d8ba",
      "1a0a8ab6f7c44ebbb0b8bac1533115fc",
      "6c11a7d432074bb4ac92a09c00206346",
      "28932f142c8442c6a0858744acf1265a",
      "0e330bb223ee420b9017e14b98167deb",
      "ee23d587c84d4189984f305ed9caaa39",
      "72206cd9e3af40088811b792dbb41882",
      "808115c08ab74137a76d2da56637508d",
      "8135ca2885cf48aaa2599e2cb08ea82a",
      "c97860c9dd0240e18b7eee8a35723877",
      "9351487ab5b34cee9601ccdadef1fe4f",
      "8bdc2b170f454283a8f74d0c76698bd3",
      "e3051137cb3d4392a89d9522728e036a",
      "9928fc77230f44e1982a9a5a744d8c64",
      "d9888f405a7b414cbe1660d068e301d4",
      "e6a1b5c8defb4edcb76e29437b1b354c",
      "fe82995ec01b4458b27049db76fe9fe6",
      "3b329b7d85c24e7b9c47158e61c8afc9",
      "49ef038a6d0e48699d9b76aeb9e3cca6",
      "79949299551f42289fb3b69f94a3d377",
      "1f9da6c41f6b4676865f7fd2d811d1a5",
      "9d779c387db54bf687a81babe6dfb30f",
      "6548e2b5bbe746e6875ceac2f345d144",
      "298d89a2c07641588af933168b9bc997",
      "43c7cbad57274c918ac231e686a6a80c",
      "3ede206f1f594bf4abe4c9c2e235b024",
      "547d2f430056444eaeae1d3be8287d94",
      "339be7eecbbd437e8149f9b02fd24275",
      "ebd6f4a108e84b0fa2cac23db87e30eb",
      "66b73e5f100b437ebe66f51eb446a647",
      "9df8e50a07344627b42fb6c40ce1692a",
      "a1a54b56191843918bc87688b2eacfaa",
      "676738c442594923893e3e20b5af3b92",
      "75f43e2cb17a42b493e4bcf268ef5e84",
      "7eb6b4c345b549d2b09bc6cbf7cc4c09",
      "394a910629954221870604869239e5f3",
      "1c0649eb4fcc4ec68e9b9c8edd9e93b9",
      "c7ff193203d14746b4006df9b1db912d",
      "37a9b983ebac4af4bb6b23de2c0a8f35",
      "496d8ca07bc7468a93c08a754b79e1eb",
      "da0b1095cf6643a99c4672b26de0e5c8",
      "fb04182caff94411a674d02415e9a167",
      "7d5e2d693a684ff79d7e691a7b0f7398",
      "1939397e099f4ce79a5524420baf763e",
      "e691f94ad1f4443ab252fa716ac22046",
      "841d29d3cec2400d938437047d8def2f",
      "27bdf38d5ae445ec80f2e6a76ba9f6cc",
      "cbf0868ac67d4102a152ff452739f00a",
      "651420f4b84a46108601c6779ad80674",
      "8baedaaed24f40e4b2dbead1243b8ed7",
      "66f7d48e684f42a1a858ac898ab79164",
      "789b43b6494e44148e61d0381b601444",
      "80fa6e1c9f0f4a1f86f15e7320b113c7",
      "d5c963b64a9b4b4c9ca81a116d91e8ad",
      "a3bcecd0112440c5b9e6496aa4d9c002",
      "024232c681e245f1814abec14d18d51d",
      "a8848a4dcb424094bff98b0db464ae10",
      "121ef342aa434af2bfdc75a8f78671f1",
      "36c6fc65a6f4458a8486a6edaf6d6f52",
      "a7c53d7562ca453d9c284ae8b3cb2718",
      "fd55d9b7e1a94fadb011bde18818c5f8",
      "d301e69b8f8a4e3e9fd7cf8f6236f09c",
      "fc9a816f56cf44d080603be2c3cdd735",
      "20374e747b26489f99bd9d6cdb39f814",
      "47bd4f725ea34f8bbe34dd26bdb88253",
      "b1ff7dff41574a008615189ee7258f94",
      "d5992068b5f14399845c908368023bc5",
      "c4623002bb7a45a6b6eaf3c45369ffde",
      "f4b9d573190e49dcbaeae314c566225a",
      "4e6e81b844954f9cb52764f174016415",
      "157dd8814f944eaab0a92b697f02e480",
      "27eb3ccaabf54893aa659a75a9dcf6e1",
      "0cee14bbb79041d48096e0d90393b2dc",
      "15b8df554d8245f38f4f4156bcce7fe9",
      "d086a5e65ec247189d2baaf408ac1392",
      "76f446a1c65a45f89fa953e7bbb4a1c0",
      "71faeb1f6abb41cface35460806bf0e1",
      "13aec322bd5b4b9a8628375ba8694459",
      "074ce046d1f4470ab3b333743da39918",
      "9d592c55944a4b069d9de5de2ab338e3",
      "ff8418f4b1b24382925a8336935eb6dd",
      "987f4e28e205484482b411253070b46c",
      "ea618f71473c419baa584c10c08bc2d2",
      "80ed11added846978147e59591c4e950",
      "c3b4d0a44a274e6d880d67c4e5052936",
      "9a5ce5474be043a6a22c772193c8411c",
      "ff37644b1574447d9ca340ebfa91e82c",
      "9b6346374a1b4b11ab618f9b33782ab3",
      "edf4a939a179498caba10c89808a740a",
      "0f552629053b450eb51875b1d7d05c8a",
      "1ec83bea8b81413897dac8c349708999",
      "c172a5e0361348b1927b76b0a56619c2",
      "9a790c2e393c4c74b4ada6395298819a",
      "fd01968d9e7148f4b62b1118d66d2a6a",
      "fafac82ba3c943a7bbe342b2258fd8ab",
      "23a6cd9c32794ab186b828d782d0c6a7",
      "5147b9c5f6254e428914337590ed82ef",
      "1cee173345cd48418290cab7bee67fc7",
      "112a0cfc0c0c48d8bd1ff4170238eeee",
      "f3860e7c132a494dae40222f02c305da",
      "d41fd1d0da6243aabbf6813d9ddab97c",
      "be44a34fa363498eb12ffde2d6058953",
      "fa7697a186d8459db743956aea3da067",
      "62abaffe09d14386b33ea5986cd0e866",
      "e3e22e4dee4340b3ab726afd9e0667ec",
      "b342283e5f6c4a71b8b574e5fd4a125e",
      "b529aeb287a7404db196c35a5e2101ab",
      "69c8eb410a2a4481acac3a403fee0ba5",
      "b693e42c78aa40059ca3a17255dcfb01",
      "6ae0f5f367324672b6281ecc337eea76",
      "7291697fd4d24574bf2f681010df7dcb",
      "4b4740e33c9249c9bdb7e829ac1e4c45",
      "81e4ea182a7144f0b49f345e58ce4d3d",
      "7837739df59b4908b15f242631c67bb4",
      "017f3d20817a40468c2b955f1b382669",
      "a2df9299bd8745b48687dee680a8132a",
      "ea40ce4504fa49fe90f655d66dc6e223",
      "38f7fcf861b5486bbbbc245daf0e037b",
      "2e396ee450dc4ae2bc214542f6fa23b9",
      "4c9503595c684599b25ccbac7941c336",
      "45aa4ff388e24e9e9cb25a069e9df836",
      "3c6e3ea254f847339f331a835bff45c0",
      "dc05f2dcac8f4362a66104fa807465d7",
      "8e0e737878ce4aefb54dc733b167b320",
      "670f1131eee042009aa3547e325ead84",
      "78183d44e9ca4b95b3b3750f87d189a7",
      "d3ba01c482294158b3b11a97e0582f63",
      "bfb9c4d4ee064cb689a5b2d940899db1",
      "712c13ff6e6c4014bee607682272b48f",
      "cbd36f3f83bc4c40be8695e020beb774",
      "896643d7e4564f0cb0f822b522ef2cc0",
      "3022b9ba800546709bb00c755991371d",
      "5949315e6c0f43639b0efa2082999a7e",
      "fa58d27ac09f492f8f235df2543ee4c5",
      "9f0012599f9f496485a2f8c9d4575205",
      "d27959675bac4db1a06bb1b3abc1ee7e",
      "45f0e78c43644906b6cca6b4aff0f8c4",
      "5e060940749f4e219d4d4578c532f1eb",
      "d9e285346c004db09caf147f065d88fb",
      "04b0557284c443c49a3b5ad7386ea13c",
      "eab3cc1fcb3e49f68006183c8edc0d73",
      "3d710a60768948e290a62899d6e1aacf",
      "2abe04e20edd4b2292604efbc3d56e51",
      "924e7b3524f84a0ca0a71e9966d0dd07",
      "34682c9287714c0d9dee115fc8423872",
      "1b2265b711e447f4bf411dbbca4d2719",
      "00673cc9ad6240439768fd2531536696",
      "5ae17ba8567a479d8db3af9989039e34",
      "a6590a440f3442a6bf711f93cc5d85ae",
      "29285ad54f5c4e7aa3a8d97985cbd186",
      "079ad2837c2c46f9ad846ad0baeceb31",
      "b9724bbdb7874eb48ef013b280c1cbe6",
      "7a6f43010ec04391957df95b96c343c4",
      "eb34302254f0499ea7a5830be0c099f7",
      "ca32f018f25b449ab9b591e77b9f2790",
      "667846da65a244d8b72d134e1f73bd97",
      "2ad68a593d434f90930dac572402a831",
      "cdf971e3e09c486fab113ad77d1429a4",
      "1783ff6657104d7d8d3d4d81141520d3",
      "0852b1814d1443db88970bf3ad748a48",
      "103b3069fb9e467abb36e18494ba3d7c",
      "5323396915de4fdea8601965197689eb",
      "b6ebefc9b19746e48a9db581dc9ea597",
      "132bcb6c642c4cdfb3f56667cdef5813",
      "d103212b38b0479ba47b2b0a139c8f13",
      "6cd6253052d64889ac981158e8da4725",
      "2e919ded67b9448a9fde725dbbef03a8",
      "c49768e10d874401abca2d258c7de9a5",
      "e4e60f5eae2d406a803339857f6dc227",
      "69e139a5d28740bea037f168f482067d",
      "32c05b400b4a4afaa7083226a264e494",
      "c877313a35d14afd97d00a73f689a74d",
      "8d0d3335832b49449d311469acc4cfa1",
      "eccfbbbba3bb4f90b5fcad927c78e383",
      "4f7a907c87ef4f69b0300dc6b1acd672",
      "70a64be4820d4aed856b84e08c463f73",
      "410319922bde49bbb46f509ac122ab63",
      "7fa8f62ecea24937aa15bd7f2aa4786c",
      "4b6315b89a9c41bdbba604e2e576f8b3",
      "669400ffbc864a7083a057c37f5e12fd",
      "c44cae09154f4854b2a3d1ecb15988d9",
      "a725ceb87da543e3ab57dde1eea4640e",
      "52d13cd91fda456faecf79bbcfb411ac",
      "8d7ec73f9a2b4b4993f24554a40c590e",
      "c5aed45865ba41c1ac0acdfdc47b2003",
      "5d8f59bdaf664d4f93b849cc886d78ac",
      "4912970fcd3c4103964fe83c744efa97",
      "a257a6742df245ad9c510cbc8e616ee9",
      "b8aa65d570bd46878d5a7208318546c2",
      "a562c2463a29475cae0967b6bb7d4bdd",
      "9bdd86d58806437b9d19bd74f999d7c1",
      "ef6e2469d59647ae937acaff12e93fd9",
      "ad2538110aa745febb9a4404a21ac2e1",
      "b5ea53b1a742438e9187f3ed684a8db2",
      "918539429ad94fccad6ac4541a77cb16",
      "07e4c247d69a4af19cb3643ea7a6ac9c",
      "fa45b12743bc47028c850e7a721b041e",
      "af4d1527b9a04e84b0aef26348c9e161",
      "23aa738065d94a24a5ec7b89b60a80e8",
      "999bca6a554f45efb5782747a531a644",
      "e5a64b5a61de42628f08fbfc3eabc99c",
      "ebfc91a49047483ca63f97216754a68a",
      "8c8b72b68901463c9820a89dff10bedd",
      "1d261b12a77b42ed974229652fff512c",
      "7acc0bf5c9374171b8162cbc0be737a3",
      "a7ff27a5e31b4681ba218181bdd81f13",
      "ed5978242356437fa84143d362b39e67",
      "16c4fff73ad54236afb6609ab9cb3c51",
      "31fa0ecc955245e7abca21ada7f2d121",
      "3dc0124f90464d71ac3658bbc222c037",
      "233f205f0432454cbb8cc3befb8cceaf"
     ]
    },
    "id": "idsWXgwjx9Bz",
    "outputId": "8fae1296-2082-48d6-c93f-456c17b82ba5"
   },
   "outputs": [
    {
     "name": "stdout",
     "output_type": "stream",
     "text": [
      "\n",
      "Namespace(input='./src', output='silero/output_raw', threads='16', speaker='xenia', device='cuda', rate='48000', merge=True, rvc=False, rvc_model_pth='ru-saya-1000.pth', rvc_model_index=None, rvc_transpose='3')\n"
     ]
    },
    {
     "name": "stderr",
     "output_type": "stream",
     "text": [
      "[nltk_data] Downloading package punkt to /root/nltk_data...\n",
      "[nltk_data]   Package punkt is already up-to-date!\n"
     ]
    },
    {
     "name": "stdout",
     "output_type": "stream",
     "text": [
      "\n",
      "file: ./src/part001 - Том 1..txt ...\n"
     ]
    },
    {
     "data": {
      "application/vnd.jupyter.widget-view+json": {
       "model_id": "47949f54d3814945b392cb992490337a",
       "version_major": 2,
       "version_minor": 0
      },
      "text/plain": [
       " CHAPTER:   0%|          | 0/1 [00:00<?, ?it/s]"
      ]
     },
     "metadata": {},
     "output_type": "display_data"
    },
    {
     "data": {
      "application/vnd.jupyter.widget-view+json": {
       "model_id": "40b4d75bba314dbea793cf08c6c8abcf",
       "version_major": 2,
       "version_minor": 0
      },
      "text/plain": [
       "    TEXT:   0%|          | 0/1 [00:00<?, ?it/s]"
      ]
     },
     "metadata": {},
     "output_type": "display_data"
    },
    {
     "data": {
      "application/vnd.jupyter.widget-view+json": {
       "model_id": "01540bb15aa443c1ae50d1621fab8323",
       "version_major": 2,
       "version_minor": 0
      },
      "text/plain": [
       "SENTENCE:   0%|          | 0/3 [00:00<?, ?it/s]"
      ]
     },
     "metadata": {},
     "output_type": "display_data"
    },
    {
     "name": "stdout",
     "output_type": "stream",
     "text": [
      "\n",
      "file: ./src/part002 - Пролог..txt ...\n"
     ]
    },
    {
     "data": {
      "application/vnd.jupyter.widget-view+json": {
       "model_id": "6c11a7d432074bb4ac92a09c00206346",
       "version_major": 2,
       "version_minor": 0
      },
      "text/plain": [
       " CHAPTER:   0%|          | 0/1 [00:00<?, ?it/s]"
      ]
     },
     "metadata": {},
     "output_type": "display_data"
    },
    {
     "data": {
      "application/vnd.jupyter.widget-view+json": {
       "model_id": "9928fc77230f44e1982a9a5a744d8c64",
       "version_major": 2,
       "version_minor": 0
      },
      "text/plain": [
       "    TEXT:   0%|          | 0/1 [00:00<?, ?it/s]"
      ]
     },
     "metadata": {},
     "output_type": "display_data"
    },
    {
     "data": {
      "application/vnd.jupyter.widget-view+json": {
       "model_id": "43c7cbad57274c918ac231e686a6a80c",
       "version_major": 2,
       "version_minor": 0
      },
      "text/plain": [
       "SENTENCE:   0%|          | 0/64 [00:00<?, ?it/s]"
      ]
     },
     "metadata": {},
     "output_type": "display_data"
    },
    {
     "name": "stdout",
     "output_type": "stream",
     "text": [
      "\n",
      "file: ./src/part003 - Глава 1..txt ...\n"
     ]
    },
    {
     "data": {
      "application/vnd.jupyter.widget-view+json": {
       "model_id": "394a910629954221870604869239e5f3",
       "version_major": 2,
       "version_minor": 0
      },
      "text/plain": [
       " CHAPTER:   0%|          | 0/1 [00:00<?, ?it/s]"
      ]
     },
     "metadata": {},
     "output_type": "display_data"
    },
    {
     "data": {
      "application/vnd.jupyter.widget-view+json": {
       "model_id": "27bdf38d5ae445ec80f2e6a76ba9f6cc",
       "version_major": 2,
       "version_minor": 0
      },
      "text/plain": [
       "    TEXT:   0%|          | 0/1 [00:00<?, ?it/s]"
      ]
     },
     "metadata": {},
     "output_type": "display_data"
    },
    {
     "data": {
      "application/vnd.jupyter.widget-view+json": {
       "model_id": "121ef342aa434af2bfdc75a8f78671f1",
       "version_major": 2,
       "version_minor": 0
      },
      "text/plain": [
       "SENTENCE:   0%|          | 0/74 [00:00<?, ?it/s]"
      ]
     },
     "metadata": {},
     "output_type": "display_data"
    },
    {
     "name": "stdout",
     "output_type": "stream",
     "text": [
      "\n",
      "file: ./src/part004 - Глава 2..txt ...\n"
     ]
    },
    {
     "data": {
      "application/vnd.jupyter.widget-view+json": {
       "model_id": "f4b9d573190e49dcbaeae314c566225a",
       "version_major": 2,
       "version_minor": 0
      },
      "text/plain": [
       " CHAPTER:   0%|          | 0/1 [00:00<?, ?it/s]"
      ]
     },
     "metadata": {},
     "output_type": "display_data"
    },
    {
     "data": {
      "application/vnd.jupyter.widget-view+json": {
       "model_id": "9d592c55944a4b069d9de5de2ab338e3",
       "version_major": 2,
       "version_minor": 0
      },
      "text/plain": [
       "    TEXT:   0%|          | 0/1 [00:00<?, ?it/s]"
      ]
     },
     "metadata": {},
     "output_type": "display_data"
    },
    {
     "data": {
      "application/vnd.jupyter.widget-view+json": {
       "model_id": "1ec83bea8b81413897dac8c349708999",
       "version_major": 2,
       "version_minor": 0
      },
      "text/plain": [
       "SENTENCE:   0%|          | 0/80 [00:00<?, ?it/s]"
      ]
     },
     "metadata": {},
     "output_type": "display_data"
    },
    {
     "name": "stdout",
     "output_type": "stream",
     "text": [
      "\n",
      "file: ./src/part005 - Глава 3..txt ...\n"
     ]
    },
    {
     "data": {
      "application/vnd.jupyter.widget-view+json": {
       "model_id": "be44a34fa363498eb12ffde2d6058953",
       "version_major": 2,
       "version_minor": 0
      },
      "text/plain": [
       " CHAPTER:   0%|          | 0/1 [00:00<?, ?it/s]"
      ]
     },
     "metadata": {},
     "output_type": "display_data"
    },
    {
     "data": {
      "application/vnd.jupyter.widget-view+json": {
       "model_id": "81e4ea182a7144f0b49f345e58ce4d3d",
       "version_major": 2,
       "version_minor": 0
      },
      "text/plain": [
       "    TEXT:   0%|          | 0/1 [00:00<?, ?it/s]"
      ]
     },
     "metadata": {},
     "output_type": "display_data"
    },
    {
     "data": {
      "application/vnd.jupyter.widget-view+json": {
       "model_id": "8e0e737878ce4aefb54dc733b167b320",
       "version_major": 2,
       "version_minor": 0
      },
      "text/plain": [
       "SENTENCE:   0%|          | 0/101 [00:00<?, ?it/s]"
      ]
     },
     "metadata": {},
     "output_type": "display_data"
    },
    {
     "name": "stdout",
     "output_type": "stream",
     "text": [
      "\n",
      "file: ./src/part006 - Глава 4..txt ...\n"
     ]
    },
    {
     "data": {
      "application/vnd.jupyter.widget-view+json": {
       "model_id": "9f0012599f9f496485a2f8c9d4575205",
       "version_major": 2,
       "version_minor": 0
      },
      "text/plain": [
       " CHAPTER:   0%|          | 0/1 [00:00<?, ?it/s]"
      ]
     },
     "metadata": {},
     "output_type": "display_data"
    },
    {
     "data": {
      "application/vnd.jupyter.widget-view+json": {
       "model_id": "1b2265b711e447f4bf411dbbca4d2719",
       "version_major": 2,
       "version_minor": 0
      },
      "text/plain": [
       "    TEXT:   0%|          | 0/1 [00:00<?, ?it/s]"
      ]
     },
     "metadata": {},
     "output_type": "display_data"
    },
    {
     "data": {
      "application/vnd.jupyter.widget-view+json": {
       "model_id": "2ad68a593d434f90930dac572402a831",
       "version_major": 2,
       "version_minor": 0
      },
      "text/plain": [
       "SENTENCE:   0%|          | 0/99 [00:00<?, ?it/s]"
      ]
     },
     "metadata": {},
     "output_type": "display_data"
    },
    {
     "name": "stdout",
     "output_type": "stream",
     "text": [
      "\n",
      "file: ./src/part007 - Глава 5..txt ...\n"
     ]
    },
    {
     "data": {
      "application/vnd.jupyter.widget-view+json": {
       "model_id": "c49768e10d874401abca2d258c7de9a5",
       "version_major": 2,
       "version_minor": 0
      },
      "text/plain": [
       " CHAPTER:   0%|          | 0/1 [00:00<?, ?it/s]"
      ]
     },
     "metadata": {},
     "output_type": "display_data"
    },
    {
     "data": {
      "application/vnd.jupyter.widget-view+json": {
       "model_id": "4b6315b89a9c41bdbba604e2e576f8b3",
       "version_major": 2,
       "version_minor": 0
      },
      "text/plain": [
       "    TEXT:   0%|          | 0/1 [00:00<?, ?it/s]"
      ]
     },
     "metadata": {},
     "output_type": "display_data"
    },
    {
     "data": {
      "application/vnd.jupyter.widget-view+json": {
       "model_id": "a562c2463a29475cae0967b6bb7d4bdd",
       "version_major": 2,
       "version_minor": 0
      },
      "text/plain": [
       "SENTENCE:   0%|          | 0/87 [00:00<?, ?it/s]"
      ]
     },
     "metadata": {},
     "output_type": "display_data"
    },
    {
     "name": "stdout",
     "output_type": "stream",
     "text": [
      "\n",
      "Merging and encoding, please wait...\n"
     ]
    },
    {
     "data": {
      "application/vnd.jupyter.widget-view+json": {
       "model_id": "e5a64b5a61de42628f08fbfc3eabc99c",
       "version_major": 2,
       "version_minor": 0
      },
      "text/plain": [
       "  0%|          | 0/7 [00:00<?, ?it/s]"
      ]
     },
     "metadata": {},
     "output_type": "display_data"
    },
    {
     "name": "stdout",
     "output_type": "stream",
     "text": [
      "\n",
      "Finished!\n"
     ]
    }
   ],
   "source": [
    "%run silero/silero_tts.py -t 16 -s xenia -d cuda -r 48000 --merge -i ./src -o silero/output_raw"
   ]
  },
  {
   "cell_type": "code",
   "execution_count": 6,
   "metadata": {
    "colab": {
     "base_uri": "https://localhost:8080/"
    },
    "id": "WJznBjRnCSGV",
    "outputId": "abf8bfbe-e1a7-4350-aa86-8f6a5ae88046"
   },
   "outputs": [
    {
     "name": "stdout",
     "output_type": "stream",
     "text": [
      "updating: silero/output_raw/_opus/ (stored 0%)\n",
      "updating: silero/output_raw/_opus/part006_-_Глава_4__000000.opus (deflated 1%)\n",
      "updating: silero/output_raw/_opus/part007_-_Глава_5__000000.opus (deflated 1%)\n",
      "updating: silero/output_raw/_opus/part003_-_Глава_1__000000.opus (deflated 1%)\n",
      "updating: silero/output_raw/_opus/part001_-_Том_1__000000.opus (deflated 1%)\n",
      "updating: silero/output_raw/_opus/part002_-_Пролог__000000.opus (deflated 1%)\n",
      "updating: silero/output_raw/_opus/part005_-_Глава_3__000000.opus (deflated 1%)\n",
      "updating: silero/output_raw/_opus/part004_-_Глава_2__000000.opus (deflated 1%)\n",
      "-rw-r--r-- 1 root root 8370214 Apr 14 13:13 output.zip\n"
     ]
    }
   ],
   "source": [
    "!zip -r output.zip silero/output_raw/_opus\n",
    "!ls -l output.zip"
   ]
  }
 ],
 "metadata": {
  "accelerator": "GPU",
  "colab": {
   "provenance": []
  },
  "gpuClass": "standard",
  "kernelspec": {
   "display_name": "Python 3",
   "name": "python3"
  },
  "language_info": {
   "name": "python"
  }
 },
 "nbformat": 4,
 "nbformat_minor": 0
}
