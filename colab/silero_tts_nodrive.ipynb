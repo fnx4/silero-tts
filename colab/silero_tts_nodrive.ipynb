{
  "nbformat": 4,
  "nbformat_minor": 0,
  "metadata": {
    "colab": {
      "provenance": []
    },
    "kernelspec": {
      "name": "python3",
      "display_name": "Python 3"
    },
    "language_info": {
      "name": "python"
    },
    "accelerator": "GPU",
    "gpuClass": "standard"
  },
  "cells": [
    {
      "cell_type": "markdown",
      "source": [
        "# SILERO TTS"
      ],
      "metadata": {
        "id": "VIp7YqtS0to5"
      }
    },
    {
      "cell_type": "code",
      "source": [
        "!mkdir src\n",
        "!unzip src.zip -d ./src"
      ],
      "metadata": {
        "colab": {
          "base_uri": "https://localhost:8080/"
        },
        "id": "StLJmSWrBFqk",
        "outputId": "d0b4b27b-c8c7-4f46-9dc9-98290ad826b7"
      },
      "execution_count": 1,
      "outputs": [
        {
          "output_type": "stream",
          "name": "stdout",
          "text": [
            "Archive:  src.zip\n",
            "  inflating: ./src/part001 - Том 1..txt  \n",
            "  inflating: ./src/part002 - Пролог..txt  \n",
            "  inflating: ./src/part003 - Глава 1..txt  \n",
            "  inflating: ./src/part004 - Глава 2..txt  \n",
            "  inflating: ./src/part005 - Глава 3..txt  \n",
            "  inflating: ./src/part006 - Глава 4..txt  \n",
            "  inflating: ./src/part007 - Глава 5..txt  \n"
          ]
        }
      ]
    },
    {
      "cell_type": "code",
      "source": [
        "!git clone https://gist.github.com/fnx4/cc445c38259853c93cac24abee10c1ed silero"
      ],
      "metadata": {
        "colab": {
          "base_uri": "https://localhost:8080/"
        },
        "id": "HonFbI7A0wez",
        "outputId": "4bfb5d84-6cff-4e80-bfba-324d73f79cb3"
      },
      "execution_count": 2,
      "outputs": [
        {
          "output_type": "stream",
          "name": "stdout",
          "text": [
            "Cloning into 'silero'...\n",
            "remote: Enumerating objects: 70, done.\u001b[K\n",
            "remote: Total 70 (delta 0), reused 0 (delta 0), pack-reused 70\u001b[K\n",
            "Unpacking objects: 100% (70/70), 14.21 KiB | 808.00 KiB/s, done.\n"
          ]
        }
      ]
    },
    {
      "cell_type": "code",
      "source": [
        "!ffmpeg -version | grep \"ffmpeg version\"\n",
        "!nvidia-smi"
      ],
      "metadata": {
        "colab": {
          "base_uri": "https://localhost:8080/"
        },
        "id": "eGIIgFwg0zsd",
        "outputId": "fcdbceaa-5e8c-4b5e-a8e4-51633e1d4281"
      },
      "execution_count": 3,
      "outputs": [
        {
          "output_type": "stream",
          "name": "stdout",
          "text": [
            "ffmpeg version 4.2.7-0ubuntu0.1 Copyright (c) 2000-2022 the FFmpeg developers\n",
            "Tue Jul 11 16:43:51 2023       \n",
            "+-----------------------------------------------------------------------------+\n",
            "| NVIDIA-SMI 525.85.12    Driver Version: 525.85.12    CUDA Version: 12.0     |\n",
            "|-------------------------------+----------------------+----------------------+\n",
            "| GPU  Name        Persistence-M| Bus-Id        Disp.A | Volatile Uncorr. ECC |\n",
            "| Fan  Temp  Perf  Pwr:Usage/Cap|         Memory-Usage | GPU-Util  Compute M. |\n",
            "|                               |                      |               MIG M. |\n",
            "|===============================+======================+======================|\n",
            "|   0  Tesla T4            Off  | 00000000:00:04.0 Off |                    0 |\n",
            "| N/A   50C    P8    10W /  70W |      0MiB / 15360MiB |      0%      Default |\n",
            "|                               |                      |                  N/A |\n",
            "+-------------------------------+----------------------+----------------------+\n",
            "                                                                               \n",
            "+-----------------------------------------------------------------------------+\n",
            "| Processes:                                                                  |\n",
            "|  GPU   GI   CI        PID   Type   Process name                  GPU Memory |\n",
            "|        ID   ID                                                   Usage      |\n",
            "|=============================================================================|\n",
            "|  No running processes found                                                 |\n",
            "+-----------------------------------------------------------------------------+\n"
          ]
        }
      ]
    },
    {
      "cell_type": "code",
      "source": [
        "!pip install -r silero/requirements.txt"
      ],
      "metadata": {
        "colab": {
          "base_uri": "https://localhost:8080/"
        },
        "id": "-aCpkxag03ul",
        "outputId": "0f3bb36f-e963-4954-995a-632960a5c28b"
      },
      "execution_count": 4,
      "outputs": [
        {
          "output_type": "stream",
          "name": "stdout",
          "text": [
            "Collecting transliterate (from -r silero/requirements.txt (line 1))\n",
            "  Downloading transliterate-1.10.2-py2.py3-none-any.whl (45 kB)\n",
            "\u001b[2K     \u001b[90m━━━━━━━━━━━━━━━━━━━━━━━━━━━━━━━━━━━━━━━━\u001b[0m \u001b[32m45.8/45.8 kB\u001b[0m \u001b[31m3.0 MB/s\u001b[0m eta \u001b[36m0:00:00\u001b[0m\n",
            "\u001b[?25hCollecting num2words (from -r silero/requirements.txt (line 2))\n",
            "  Downloading num2words-0.5.12-py3-none-any.whl (125 kB)\n",
            "\u001b[2K     \u001b[90m━━━━━━━━━━━━━━━━━━━━━━━━━━━━━━━━━━━━━━━\u001b[0m \u001b[32m125.2/125.2 kB\u001b[0m \u001b[31m7.2 MB/s\u001b[0m eta \u001b[36m0:00:00\u001b[0m\n",
            "\u001b[?25hCollecting pypandoc (from -r silero/requirements.txt (line 3))\n",
            "  Downloading pypandoc-1.11-py3-none-any.whl (20 kB)\n",
            "Collecting ffmpeg-python (from -r silero/requirements.txt (line 4))\n",
            "  Downloading ffmpeg_python-0.2.0-py3-none-any.whl (25 kB)\n",
            "Requirement already satisfied: six>=1.1.0 in /usr/local/lib/python3.10/dist-packages (from transliterate->-r silero/requirements.txt (line 1)) (1.16.0)\n",
            "Collecting docopt>=0.6.2 (from num2words->-r silero/requirements.txt (line 2))\n",
            "  Downloading docopt-0.6.2.tar.gz (25 kB)\n",
            "  Preparing metadata (setup.py) ... \u001b[?25l\u001b[?25hdone\n",
            "Requirement already satisfied: future in /usr/local/lib/python3.10/dist-packages (from ffmpeg-python->-r silero/requirements.txt (line 4)) (0.18.3)\n",
            "Building wheels for collected packages: docopt\n",
            "  Building wheel for docopt (setup.py) ... \u001b[?25l\u001b[?25hdone\n",
            "  Created wheel for docopt: filename=docopt-0.6.2-py2.py3-none-any.whl size=13707 sha256=49fce1384248c3e9118cf80442057d9082d94a052386fed2035868cf5450ccc4\n",
            "  Stored in directory: /root/.cache/pip/wheels/fc/ab/d4/5da2067ac95b36618c629a5f93f809425700506f72c9732fac\n",
            "Successfully built docopt\n",
            "Installing collected packages: docopt, transliterate, pypandoc, num2words, ffmpeg-python\n",
            "Successfully installed docopt-0.6.2 ffmpeg-python-0.2.0 num2words-0.5.12 pypandoc-1.11 transliterate-1.10.2\n"
          ]
        }
      ]
    },
    {
      "cell_type": "code",
      "source": [
        "!python silero/silero_tts.py -t 16 -s xenia -d cuda -r 48000 --merge -i ./src -o silero/output_raw"
      ],
      "metadata": {
        "colab": {
          "base_uri": "https://localhost:8080/"
        },
        "id": "idsWXgwjx9Bz",
        "outputId": "ce09259f-d834-4841-e4b7-49c9a02f74bc"
      },
      "execution_count": 5,
      "outputs": [
        {
          "output_type": "stream",
          "name": "stdout",
          "text": [
            "{'input': './src', 'output': 'silero/output_raw', 'threads': '16', 'speaker': 'xenia', 'device': 'cuda', 'rate': '48000', 'merge': True, 'svc': False}\n",
            "[nltk_data] Downloading package punkt to /root/nltk_data...\n",
            "[nltk_data]   Unzipping tokenizers/punkt.zip.\n",
            "100% 59.0M/59.0M [00:03<00:00, 16.6MB/s]\n",
            "\n",
            "silero/output_raw/part001_-_Том_1\n",
            "    TTS: 100% 2/2 [00:03<00:00,  1.60s/it]\n",
            "\n",
            "silero/output_raw/part002_-_Пролог\n",
            "    TTS: 100% 36/36 [00:03<00:00, 10.06it/s]\n",
            "\n",
            "silero/output_raw/part003_-_Глава_1\n",
            "    TTS: 100% 52/52 [00:04<00:00, 11.45it/s]\n",
            "\n",
            "silero/output_raw/part004_-_Глава_2\n",
            "    TTS: 100% 49/49 [00:03<00:00, 13.04it/s]\n",
            "\n",
            "silero/output_raw/part005_-_Глава_3\n",
            "    TTS: 100% 60/60 [00:04<00:00, 14.41it/s]\n",
            "\n",
            "silero/output_raw/part006_-_Глава_4\n",
            "    TTS: 100% 58/58 [00:04<00:00, 13.31it/s]\n",
            "\n",
            "silero/output_raw/part007_-_Глава_5\n",
            "    TTS: 100% 47/47 [00:03<00:00, 12.70it/s]\n",
            "\n",
            "Merging and encoding, please wait... (16 threads)\n",
            "MERGING: 100% 7/7 [00:42<00:00,  6.09s/chapter]\n",
            "\n",
            "Finished!\n"
          ]
        }
      ]
    },
    {
      "cell_type": "code",
      "source": [
        "!zip -r output.zip silero/output_raw/*.opus\n",
        "!ls -l output.zip"
      ],
      "metadata": {
        "colab": {
          "base_uri": "https://localhost:8080/"
        },
        "id": "WJznBjRnCSGV",
        "outputId": "bc154cb6-d141-4f5b-b15b-eedda64dce02"
      },
      "execution_count": 6,
      "outputs": [
        {
          "output_type": "stream",
          "name": "stdout",
          "text": [
            "  adding: silero/output_raw/part001_-_Том_1.opus (deflated 0%)\n",
            "  adding: silero/output_raw/part002_-_Пролог.opus (deflated 0%)\n",
            "  adding: silero/output_raw/part003_-_Глава_1.opus (deflated 0%)\n",
            "  adding: silero/output_raw/part004_-_Глава_2.opus (deflated 0%)\n",
            "  adding: silero/output_raw/part005_-_Глава_3.opus (deflated 0%)\n",
            "  adding: silero/output_raw/part006_-_Глава_4.opus (deflated 0%)\n",
            "  adding: silero/output_raw/part007_-_Глава_5.opus (deflated 0%)\n",
            "-rw-r--r-- 1 root root 8418582 Jul 11 16:45 output.zip\n"
          ]
        }
      ]
    }
  ]
}