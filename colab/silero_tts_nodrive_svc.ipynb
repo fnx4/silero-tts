{
  "nbformat": 4,
  "nbformat_minor": 0,
  "metadata": {
    "colab": {
      "provenance": []
    },
    "kernelspec": {
      "name": "python3",
      "display_name": "Python 3"
    },
    "language_info": {
      "name": "python"
    },
    "accelerator": "GPU",
    "gpuClass": "standard"
  },
  "cells": [
    {
      "cell_type": "markdown",
      "source": [
        "# SILERO TTS"
      ],
      "metadata": {
        "id": "VIp7YqtS0to5"
      }
    },
    {
      "cell_type": "code",
      "source": [
        "!mkdir src\n",
        "!unzip src.zip -d ./src"
      ],
      "metadata": {
        "colab": {
          "base_uri": "https://localhost:8080/"
        },
        "id": "StLJmSWrBFqk",
        "outputId": "026cf7c6-b58f-4deb-8d5f-18c5a2c05577"
      },
      "execution_count": 1,
      "outputs": [
        {
          "output_type": "stream",
          "name": "stdout",
          "text": [
            "Archive:  src.zip\n",
            "  inflating: ./src/part001 - Том 1..txt  \n",
            "  inflating: ./src/part002 - Пролог..txt  \n",
            "  inflating: ./src/part003 - Глава 1..txt  \n",
            "  inflating: ./src/part004 - Глава 2..txt  \n",
            "  inflating: ./src/part005 - Глава 3..txt  \n",
            "  inflating: ./src/part006 - Глава 4..txt  \n",
            "  inflating: ./src/part007 - Глава 5..txt  \n"
          ]
        }
      ]
    },
    {
      "cell_type": "code",
      "source": [
        "!git clone https://github.com/fnx4/silero-tts silero"
      ],
      "metadata": {
        "colab": {
          "base_uri": "https://localhost:8080/"
        },
        "id": "HonFbI7A0wez",
        "outputId": "eedb5466-a958-47c1-e722-1483cf3b09d5"
      },
      "execution_count": 2,
      "outputs": [
        {
          "output_type": "stream",
          "name": "stdout",
          "text": [
            "Cloning into 'silero'...\n",
            "remote: Enumerating objects: 82, done.\u001b[K\n",
            "remote: Counting objects: 100% (82/82), done.\u001b[K\n",
            "remote: Compressing objects: 100% (33/33), done.\u001b[K\n",
            "remote: Total 82 (delta 26), reused 82 (delta 26), pack-reused 0\u001b[K\n",
            "Unpacking objects: 100% (82/82), 14.38 KiB | 545.00 KiB/s, done.\n"
          ]
        }
      ]
    },
    {
      "cell_type": "code",
      "source": [
        "!nvidia-smi\n",
        "!ls -alF silero"
      ],
      "metadata": {
        "colab": {
          "base_uri": "https://localhost:8080/"
        },
        "id": "eGIIgFwg0zsd",
        "outputId": "378b44bc-92be-4d18-bd2d-215e8bf0e444"
      },
      "execution_count": 3,
      "outputs": [
        {
          "output_type": "stream",
          "name": "stdout",
          "text": [
            "Sun May  7 07:46:12 2023       \n",
            "+-----------------------------------------------------------------------------+\n",
            "| NVIDIA-SMI 525.85.12    Driver Version: 525.85.12    CUDA Version: 12.0     |\n",
            "|-------------------------------+----------------------+----------------------+\n",
            "| GPU  Name        Persistence-M| Bus-Id        Disp.A | Volatile Uncorr. ECC |\n",
            "| Fan  Temp  Perf  Pwr:Usage/Cap|         Memory-Usage | GPU-Util  Compute M. |\n",
            "|                               |                      |               MIG M. |\n",
            "|===============================+======================+======================|\n",
            "|   0  Tesla T4            Off  | 00000000:00:04.0 Off |                    0 |\n",
            "| N/A   59C    P8    10W /  70W |      0MiB / 15360MiB |      0%      Default |\n",
            "|                               |                      |                  N/A |\n",
            "+-------------------------------+----------------------+----------------------+\n",
            "                                                                               \n",
            "+-----------------------------------------------------------------------------+\n",
            "| Processes:                                                                  |\n",
            "|  GPU   GI   CI        PID   Type   Process name                  GPU Memory |\n",
            "|        ID   ID                                                   Usage      |\n",
            "|=============================================================================|\n",
            "|  No running processes found                                                 |\n",
            "+-----------------------------------------------------------------------------+\n",
            "total 28\n",
            "drwxr-xr-x 3 root root  4096 May  7 07:46 ./\n",
            "drwxr-xr-x 1 root root  4096 May  7 07:46 ../\n",
            "drwxr-xr-x 8 root root  4096 May  7 07:46 .git/\n",
            "-rw-r--r-- 1 root root  1308 May  7 07:46 README.md\n",
            "-rw-r--r-- 1 root root 11088 May  7 07:46 silero_tts.py\n"
          ]
        }
      ]
    },
    {
      "cell_type": "code",
      "source": [
        "!git clone https://github.com/voicepaw/so-vits-svc-fork\n",
        "!pip install -U so-vits-svc-fork\n",
        "!mkdir -p ./so-vits-svc-fork/venv/Scripts\n",
        "!cp /usr/local/bin/svc ./so-vits-svc-fork/venv/Scripts/svc"
      ],
      "metadata": {
        "id": "vAmolViP79JH",
        "colab": {
          "base_uri": "https://localhost:8080/",
          "height": 1000
        },
        "outputId": "babf1d8b-a9a7-4872-b458-f10fcba54324"
      },
      "execution_count": 4,
      "outputs": [
        {
          "output_type": "stream",
          "name": "stdout",
          "text": [
            "Cloning into 'so-vits-svc-fork'...\n",
            "remote: Enumerating objects: 2678, done.\u001b[K\n",
            "remote: Counting objects: 100% (689/689), done.\u001b[K\n",
            "remote: Compressing objects: 100% (299/299), done.\u001b[K\n",
            "remote: Total 2678 (delta 457), reused 531 (delta 359), pack-reused 1989\u001b[K\n",
            "Receiving objects: 100% (2678/2678), 19.27 MiB | 17.64 MiB/s, done.\n",
            "Resolving deltas: 100% (1469/1469), done.\n",
            "Looking in indexes: https://pypi.org/simple, https://us-python.pkg.dev/colab-wheels/public/simple/\n",
            "Collecting so-vits-svc-fork\n",
            "  Downloading so_vits_svc_fork-3.14.1-py3-none-any.whl (91 kB)\n",
            "\u001b[2K     \u001b[90m━━━━━━━━━━━━━━━━━━━━━━━━━━━━━━━━━━━━━━━━\u001b[0m \u001b[32m91.3/91.3 kB\u001b[0m \u001b[31m11.4 MB/s\u001b[0m eta \u001b[36m0:00:00\u001b[0m\n",
            "\u001b[?25hRequirement already satisfied: matplotlib<4.0.0,>=3.7.1 in /usr/local/lib/python3.10/dist-packages (from so-vits-svc-fork) (3.7.1)\n",
            "Collecting praat-parselmouth\n",
            "  Downloading praat_parselmouth-0.4.3-cp310-cp310-manylinux_2_12_x86_64.manylinux2010_x86_64.whl (10.7 MB)\n",
            "\u001b[2K     \u001b[90m━━━━━━━━━━━━━━━━━━━━━━━━━━━━━━━━━━━━━━━\u001b[0m \u001b[32m10.7/10.7 MB\u001b[0m \u001b[31m105.6 MB/s\u001b[0m eta \u001b[36m0:00:00\u001b[0m\n",
            "\u001b[?25hRequirement already satisfied: SoundFile in /usr/local/lib/python3.10/dist-packages (from so-vits-svc-fork) (0.12.1)\n",
            "Requirement already satisfied: requests in /usr/local/lib/python3.10/dist-packages (from so-vits-svc-fork) (2.27.1)\n",
            "Collecting torchcrepe>=0.0.17\n",
            "  Downloading torchcrepe-0.0.18-py3-none-any.whl (72.3 MB)\n",
            "\u001b[2K     \u001b[90m━━━━━━━━━━━━━━━━━━━━━━━━━━━━━━━━━━━━━━━━\u001b[0m \u001b[32m72.3/72.3 MB\u001b[0m \u001b[31m12.2 MB/s\u001b[0m eta \u001b[36m0:00:00\u001b[0m\n",
            "\u001b[?25hRequirement already satisfied: torchaudio in /usr/local/lib/python3.10/dist-packages (from so-vits-svc-fork) (2.0.1+cu118)\n",
            "Requirement already satisfied: tensorboard in /usr/local/lib/python3.10/dist-packages (from so-vits-svc-fork) (2.12.2)\n",
            "Requirement already satisfied: rich in /usr/local/lib/python3.10/dist-packages (from so-vits-svc-fork) (13.3.4)\n",
            "Collecting fastapi==0.88\n",
            "  Downloading fastapi-0.88.0-py3-none-any.whl (55 kB)\n",
            "\u001b[2K     \u001b[90m━━━━━━━━━━━━━━━━━━━━━━━━━━━━━━━━━━━━━━━━\u001b[0m \u001b[32m55.5/55.5 kB\u001b[0m \u001b[31m7.8 MB/s\u001b[0m eta \u001b[36m0:00:00\u001b[0m\n",
            "\u001b[?25hCollecting onnx\n",
            "  Downloading onnx-1.14.0-cp310-cp310-manylinux_2_17_x86_64.manylinux2014_x86_64.whl (14.6 MB)\n",
            "\u001b[2K     \u001b[90m━━━━━━━━━━━━━━━━━━━━━━━━━━━━━━━━━━━━━━━━\u001b[0m \u001b[32m14.6/14.6 MB\u001b[0m \u001b[31m97.8 MB/s\u001b[0m eta \u001b[36m0:00:00\u001b[0m\n",
            "\u001b[?25hRequirement already satisfied: scipy in /usr/local/lib/python3.10/dist-packages (from so-vits-svc-fork) (1.10.1)\n",
            "Collecting lightning<3.0.0,>=2.0.1\n",
            "  Downloading lightning-2.0.2-py3-none-any.whl (1.8 MB)\n",
            "\u001b[2K     \u001b[90m━━━━━━━━━━━━━━━━━━━━━━━━━━━━━━━━━━━━━━━━\u001b[0m \u001b[32m1.8/1.8 MB\u001b[0m \u001b[31m88.1 MB/s\u001b[0m eta \u001b[36m0:00:00\u001b[0m\n",
            "\u001b[?25hCollecting pyworld\n",
            "  Downloading pyworld-0.3.3.tar.gz (218 kB)\n",
            "\u001b[2K     \u001b[90m━━━━━━━━━━━━━━━━━━━━━━━━━━━━━━━━━━━━━━\u001b[0m \u001b[32m218.7/218.7 kB\u001b[0m \u001b[31m24.7 MB/s\u001b[0m eta \u001b[36m0:00:00\u001b[0m\n",
            "\u001b[?25h  Installing build dependencies ... \u001b[?25l\u001b[?25hdone\n",
            "  Getting requirements to build wheel ... \u001b[?25l\u001b[?25hdone\n",
            "  Preparing metadata (pyproject.toml) ... \u001b[?25l\u001b[?25hdone\n",
            "Requirement already satisfied: tqdm in /usr/local/lib/python3.10/dist-packages (from so-vits-svc-fork) (4.65.0)\n",
            "Collecting pysimplegui>=4.6\n",
            "  Downloading PySimpleGUI-4.60.4-py3-none-any.whl (509 kB)\n",
            "\u001b[2K     \u001b[90m━━━━━━━━━━━━━━━━━━━━━━━━━━━━━━━━━━━━━━\u001b[0m \u001b[32m510.0/510.0 kB\u001b[0m \u001b[31m34.9 MB/s\u001b[0m eta \u001b[36m0:00:00\u001b[0m\n",
            "\u001b[?25hCollecting sounddevice\n",
            "  Downloading sounddevice-0.4.6-py3-none-any.whl (31 kB)\n",
            "Collecting cm-time>=0.1.2\n",
            "  Downloading cm_time-0.1.2-py3-none-any.whl (7.8 kB)\n",
            "Collecting pebble>=5.0\n",
            "  Downloading Pebble-5.0.3-py3-none-any.whl (30 kB)\n",
            "Requirement already satisfied: librosa in /usr/local/lib/python3.10/dist-packages (from so-vits-svc-fork) (0.10.0.post2)\n",
            "Collecting numpy<2.0,>=1.23\n",
            "  Using cached numpy-1.24.3-cp310-cp310-manylinux_2_17_x86_64.manylinux2014_x86_64.whl (17.3 MB)\n",
            "Collecting tqdm-joblib\n",
            "  Downloading tqdm_joblib-0.0.3.tar.gz (1.6 kB)\n",
            "  Preparing metadata (setup.py) ... \u001b[?25l\u001b[?25hdone\n",
            "Collecting transformers<5.0.0,>=4.28.1\n",
            "  Downloading transformers-4.28.1-py3-none-any.whl (7.0 MB)\n",
            "\u001b[2K     \u001b[90m━━━━━━━━━━━━━━━━━━━━━━━━━━━━━━━━━━━━━━━━\u001b[0m \u001b[32m7.0/7.0 MB\u001b[0m \u001b[31m96.2 MB/s\u001b[0m eta \u001b[36m0:00:00\u001b[0m\n",
            "\u001b[?25hRequirement already satisfied: torch in /usr/local/lib/python3.10/dist-packages (from so-vits-svc-fork) (2.0.0+cu118)\n",
            "Collecting onnxoptimizer\n",
            "  Downloading onnxoptimizer-0.3.13-cp310-cp310-manylinux_2_17_x86_64.manylinux2014_x86_64.whl (678 kB)\n",
            "\u001b[2K     \u001b[90m━━━━━━━━━━━━━━━━━━━━━━━━━━━━━━━━━━━━━━\u001b[0m \u001b[32m678.1/678.1 kB\u001b[0m \u001b[31m56.4 MB/s\u001b[0m eta \u001b[36m0:00:00\u001b[0m\n",
            "\u001b[?25hCollecting onnxsim\n",
            "  Downloading onnxsim-0.4.28-cp310-cp310-manylinux_2_17_x86_64.manylinux2014_x86_64.whl (2.1 MB)\n",
            "\u001b[2K     \u001b[90m━━━━━━━━━━━━━━━━━━━━━━━━━━━━━━━━━━━━━━━━\u001b[0m \u001b[32m2.1/2.1 MB\u001b[0m \u001b[31m100.4 MB/s\u001b[0m eta \u001b[36m0:00:00\u001b[0m\n",
            "\u001b[?25hCollecting tensorboardx\n",
            "  Downloading tensorboardX-2.6-py2.py3-none-any.whl (114 kB)\n",
            "\u001b[2K     \u001b[90m━━━━━━━━━━━━━━━━━━━━━━━━━━━━━━━━━━━━━━\u001b[0m \u001b[32m114.5/114.5 kB\u001b[0m \u001b[31m15.6 MB/s\u001b[0m eta \u001b[36m0:00:00\u001b[0m\n",
            "\u001b[?25hRequirement already satisfied: pydantic!=1.7,!=1.7.1,!=1.7.2,!=1.7.3,!=1.8,!=1.8.1,<2.0.0,>=1.6.2 in /usr/local/lib/python3.10/dist-packages (from fastapi==0.88->so-vits-svc-fork) (1.10.7)\n",
            "Collecting starlette==0.22.0\n",
            "  Downloading starlette-0.22.0-py3-none-any.whl (64 kB)\n",
            "\u001b[2K     \u001b[90m━━━━━━━━━━━━━━━━━━━━━━━━━━━━━━━━━━━━━━━━\u001b[0m \u001b[32m64.3/64.3 kB\u001b[0m \u001b[31m9.2 MB/s\u001b[0m eta \u001b[36m0:00:00\u001b[0m\n",
            "\u001b[?25hRequirement already satisfied: anyio<5,>=3.4.0 in /usr/local/lib/python3.10/dist-packages (from starlette==0.22.0->fastapi==0.88->so-vits-svc-fork) (3.6.2)\n",
            "Requirement already satisfied: typing-extensions<6.0,>=4.0.0 in /usr/local/lib/python3.10/dist-packages (from lightning<3.0.0,>=2.0.1->so-vits-svc-fork) (4.5.0)\n",
            "Collecting uvicorn<2.0\n",
            "  Downloading uvicorn-0.22.0-py3-none-any.whl (58 kB)\n",
            "\u001b[2K     \u001b[90m━━━━━━━━━━━━━━━━━━━━━━━━━━━━━━━━━━━━━━━━\u001b[0m \u001b[32m58.3/58.3 kB\u001b[0m \u001b[31m6.5 MB/s\u001b[0m eta \u001b[36m0:00:00\u001b[0m\n",
            "\u001b[?25hCollecting croniter<1.4.0,>=1.3.0\n",
            "  Downloading croniter-1.3.14-py2.py3-none-any.whl (18 kB)\n",
            "Collecting arrow<3.0,>=1.2.0\n",
            "  Downloading arrow-1.2.3-py3-none-any.whl (66 kB)\n",
            "\u001b[2K     \u001b[90m━━━━━━━━━━━━━━━━━━━━━━━━━━━━━━━━━━━━━━━━\u001b[0m \u001b[32m66.4/66.4 kB\u001b[0m \u001b[31m9.1 MB/s\u001b[0m eta \u001b[36m0:00:00\u001b[0m\n",
            "\u001b[?25hRequirement already satisfied: fsspec[http]<2025.0,>2021.06.0 in /usr/local/lib/python3.10/dist-packages (from lightning<3.0.0,>=2.0.1->so-vits-svc-fork) (2023.4.0)\n",
            "Requirement already satisfied: websocket-client<3.0 in /usr/local/lib/python3.10/dist-packages (from lightning<3.0.0,>=2.0.1->so-vits-svc-fork) (1.5.1)\n",
            "Collecting pytorch-lightning\n",
            "  Downloading pytorch_lightning-2.0.2-py3-none-any.whl (719 kB)\n",
            "\u001b[2K     \u001b[90m━━━━━━━━━━━━━━━━━━━━━━━━━━━━━━━━━━━━━━\u001b[0m \u001b[32m719.0/719.0 kB\u001b[0m \u001b[31m64.7 MB/s\u001b[0m eta \u001b[36m0:00:00\u001b[0m\n",
            "\u001b[?25hCollecting inquirer<5.0,>=2.10.0\n",
            "  Downloading inquirer-3.1.3-py3-none-any.whl (18 kB)\n",
            "Requirement already satisfied: packaging in /usr/local/lib/python3.10/dist-packages (from lightning<3.0.0,>=2.0.1->so-vits-svc-fork) (23.1)\n",
            "Requirement already satisfied: Jinja2<5.0 in /usr/local/lib/python3.10/dist-packages (from lightning<3.0.0,>=2.0.1->so-vits-svc-fork) (3.1.2)\n",
            "Collecting lightning-cloud>=0.5.34\n",
            "  Downloading lightning_cloud-0.5.34-py3-none-any.whl (557 kB)\n",
            "\u001b[2K     \u001b[90m━━━━━━━━━━━━━━━━━━━━━━━━━━━━━━━━━━━━━━\u001b[0m \u001b[32m557.1/557.1 kB\u001b[0m \u001b[31m54.7 MB/s\u001b[0m eta \u001b[36m0:00:00\u001b[0m\n",
            "\u001b[?25hRequirement already satisfied: psutil<7.0 in /usr/local/lib/python3.10/dist-packages (from lightning<3.0.0,>=2.0.1->so-vits-svc-fork) (5.9.5)\n",
            "Collecting lightning-utilities<2.0,>=0.7.0\n",
            "  Downloading lightning_utilities-0.8.0-py3-none-any.whl (20 kB)\n",
            "Requirement already satisfied: PyYAML<8.0,>=5.4 in /usr/local/lib/python3.10/dist-packages (from lightning<3.0.0,>=2.0.1->so-vits-svc-fork) (6.0)\n",
            "Collecting websockets<12.0\n",
            "  Downloading websockets-11.0.2-cp310-cp310-manylinux_2_5_x86_64.manylinux1_x86_64.manylinux_2_17_x86_64.manylinux2014_x86_64.whl (129 kB)\n",
            "\u001b[2K     \u001b[90m━━━━━━━━━━━━━━━━━━━━━━━━━━━━━━━━━━━━━━\u001b[0m \u001b[32m129.9/129.9 kB\u001b[0m \u001b[31m18.7 MB/s\u001b[0m eta \u001b[36m0:00:00\u001b[0m\n",
            "\u001b[?25hCollecting torchmetrics<2.0,>=0.7.0\n",
            "  Downloading torchmetrics-0.11.4-py3-none-any.whl (519 kB)\n",
            "\u001b[2K     \u001b[90m━━━━━━━━━━━━━━━━━━━━━━━━━━━━━━━━━━━━━━\u001b[0m \u001b[32m519.2/519.2 kB\u001b[0m \u001b[31m53.3 MB/s\u001b[0m eta \u001b[36m0:00:00\u001b[0m\n",
            "\u001b[?25hCollecting deepdiff<8.0,>=5.7.0\n",
            "  Downloading deepdiff-6.3.0-py3-none-any.whl (69 kB)\n",
            "\u001b[2K     \u001b[90m━━━━━━━━━━━━━━━━━━━━━━━━━━━━━━━━━━━━━━━━\u001b[0m \u001b[32m69.7/69.7 kB\u001b[0m \u001b[31m10.1 MB/s\u001b[0m eta \u001b[36m0:00:00\u001b[0m\n",
            "\u001b[?25hRequirement already satisfied: urllib3<3.0 in /usr/local/lib/python3.10/dist-packages (from lightning<3.0.0,>=2.0.1->so-vits-svc-fork) (1.26.15)\n",
            "Requirement already satisfied: click<10.0 in /usr/local/lib/python3.10/dist-packages (from lightning<3.0.0,>=2.0.1->so-vits-svc-fork) (8.1.3)\n",
            "Requirement already satisfied: beautifulsoup4<6.0,>=4.8.0 in /usr/local/lib/python3.10/dist-packages (from lightning<3.0.0,>=2.0.1->so-vits-svc-fork) (4.11.2)\n",
            "Collecting dateutils<2.0\n",
            "  Downloading dateutils-0.6.12-py2.py3-none-any.whl (5.7 kB)\n",
            "Collecting starsessions<2.0,>=1.2.1\n",
            "  Downloading starsessions-1.3.0-py3-none-any.whl (10 kB)\n",
            "Requirement already satisfied: traitlets<7.0,>=5.3.0 in /usr/local/lib/python3.10/dist-packages (from lightning<3.0.0,>=2.0.1->so-vits-svc-fork) (5.7.1)\n",
            "Requirement already satisfied: pillow>=6.2.0 in /usr/local/lib/python3.10/dist-packages (from matplotlib<4.0.0,>=3.7.1->so-vits-svc-fork) (8.4.0)\n",
            "Requirement already satisfied: fonttools>=4.22.0 in /usr/local/lib/python3.10/dist-packages (from matplotlib<4.0.0,>=3.7.1->so-vits-svc-fork) (4.39.3)\n",
            "Requirement already satisfied: cycler>=0.10 in /usr/local/lib/python3.10/dist-packages (from matplotlib<4.0.0,>=3.7.1->so-vits-svc-fork) (0.11.0)\n",
            "Requirement already satisfied: pyparsing>=2.3.1 in /usr/local/lib/python3.10/dist-packages (from matplotlib<4.0.0,>=3.7.1->so-vits-svc-fork) (3.0.9)\n",
            "Requirement already satisfied: kiwisolver>=1.0.1 in /usr/local/lib/python3.10/dist-packages (from matplotlib<4.0.0,>=3.7.1->so-vits-svc-fork) (1.4.4)\n",
            "Requirement already satisfied: python-dateutil>=2.7 in /usr/local/lib/python3.10/dist-packages (from matplotlib<4.0.0,>=3.7.1->so-vits-svc-fork) (2.8.2)\n",
            "Requirement already satisfied: contourpy>=1.0.1 in /usr/local/lib/python3.10/dist-packages (from matplotlib<4.0.0,>=3.7.1->so-vits-svc-fork) (1.0.7)\n",
            "Requirement already satisfied: charset-normalizer~=2.0.0 in /usr/local/lib/python3.10/dist-packages (from requests->so-vits-svc-fork) (2.0.12)\n",
            "Requirement already satisfied: certifi>=2017.4.17 in /usr/local/lib/python3.10/dist-packages (from requests->so-vits-svc-fork) (2022.12.7)\n",
            "Requirement already satisfied: idna<4,>=2.5 in /usr/local/lib/python3.10/dist-packages (from requests->so-vits-svc-fork) (3.4)\n",
            "Requirement already satisfied: markdown-it-py<3.0.0,>=2.2.0 in /usr/local/lib/python3.10/dist-packages (from rich->so-vits-svc-fork) (2.2.0)\n",
            "Requirement already satisfied: pygments<3.0.0,>=2.13.0 in /usr/local/lib/python3.10/dist-packages (from rich->so-vits-svc-fork) (2.14.0)\n",
            "Requirement already satisfied: networkx in /usr/local/lib/python3.10/dist-packages (from torch->so-vits-svc-fork) (3.1)\n",
            "Requirement already satisfied: filelock in /usr/local/lib/python3.10/dist-packages (from torch->so-vits-svc-fork) (3.12.0)\n",
            "Requirement already satisfied: sympy in /usr/local/lib/python3.10/dist-packages (from torch->so-vits-svc-fork) (1.11.1)\n",
            "Requirement already satisfied: triton==2.0.0 in /usr/local/lib/python3.10/dist-packages (from torch->so-vits-svc-fork) (2.0.0)\n",
            "Requirement already satisfied: cmake in /usr/local/lib/python3.10/dist-packages (from triton==2.0.0->torch->so-vits-svc-fork) (3.25.2)\n",
            "Requirement already satisfied: lit in /usr/local/lib/python3.10/dist-packages (from triton==2.0.0->torch->so-vits-svc-fork) (16.0.2)\n",
            "Collecting resampy\n",
            "  Downloading resampy-0.4.2-py3-none-any.whl (3.1 MB)\n",
            "\u001b[2K     \u001b[90m━━━━━━━━━━━━━━━━━━━━━━━━━━━━━━━━━━━━━━━━\u001b[0m \u001b[32m3.1/3.1 MB\u001b[0m \u001b[31m112.3 MB/s\u001b[0m eta \u001b[36m0:00:00\u001b[0m\n",
            "\u001b[?25hCollecting librosa\n",
            "  Downloading librosa-0.9.1-py3-none-any.whl (213 kB)\n",
            "\u001b[2K     \u001b[90m━━━━━━━━━━━━━━━━━━━━━━━━━━━━━━━━━━━━━━\u001b[0m \u001b[32m213.1/213.1 kB\u001b[0m \u001b[31m28.0 MB/s\u001b[0m eta \u001b[36m0:00:00\u001b[0m\n",
            "\u001b[?25hRequirement already satisfied: joblib>=0.14 in /usr/local/lib/python3.10/dist-packages (from librosa->so-vits-svc-fork) (1.2.0)\n",
            "Requirement already satisfied: numba>=0.45.1 in /usr/local/lib/python3.10/dist-packages (from librosa->so-vits-svc-fork) (0.56.4)\n",
            "Requirement already satisfied: scikit-learn>=0.19.1 in /usr/local/lib/python3.10/dist-packages (from librosa->so-vits-svc-fork) (1.2.2)\n",
            "Requirement already satisfied: pooch>=1.0 in /usr/local/lib/python3.10/dist-packages (from librosa->so-vits-svc-fork) (1.6.0)\n",
            "Requirement already satisfied: audioread>=2.1.5 in /usr/local/lib/python3.10/dist-packages (from librosa->so-vits-svc-fork) (3.0.0)\n",
            "Requirement already satisfied: decorator>=4.0.10 in /usr/local/lib/python3.10/dist-packages (from librosa->so-vits-svc-fork) (4.4.2)\n",
            "Requirement already satisfied: cffi>=1.0 in /usr/local/lib/python3.10/dist-packages (from SoundFile->so-vits-svc-fork) (1.15.1)\n",
            "Collecting huggingface-hub<1.0,>=0.11.0\n",
            "  Downloading huggingface_hub-0.14.1-py3-none-any.whl (224 kB)\n",
            "\u001b[2K     \u001b[90m━━━━━━━━━━━━━━━━━━━━━━━━━━━━━━━━━━━━━━\u001b[0m \u001b[32m224.5/224.5 kB\u001b[0m \u001b[31m28.9 MB/s\u001b[0m eta \u001b[36m0:00:00\u001b[0m\n",
            "\u001b[?25hRequirement already satisfied: regex!=2019.12.17 in /usr/local/lib/python3.10/dist-packages (from transformers<5.0.0,>=4.28.1->so-vits-svc-fork) (2022.10.31)\n",
            "Collecting tokenizers!=0.11.3,<0.14,>=0.11.1\n",
            "  Downloading tokenizers-0.13.3-cp310-cp310-manylinux_2_17_x86_64.manylinux2014_x86_64.whl (7.8 MB)\n",
            "\u001b[2K     \u001b[90m━━━━━━━━━━━━━━━━━━━━━━━━━━━━━━━━━━━━━━━━\u001b[0m \u001b[32m7.8/7.8 MB\u001b[0m \u001b[31m87.8 MB/s\u001b[0m eta \u001b[36m0:00:00\u001b[0m\n",
            "\u001b[?25hRequirement already satisfied: protobuf>=3.20.2 in /usr/local/lib/python3.10/dist-packages (from onnx->so-vits-svc-fork) (3.20.3)\n",
            "Requirement already satisfied: cython>=0.24 in /usr/local/lib/python3.10/dist-packages (from pyworld->so-vits-svc-fork) (0.29.34)\n",
            "Requirement already satisfied: markdown>=2.6.8 in /usr/local/lib/python3.10/dist-packages (from tensorboard->so-vits-svc-fork) (3.4.3)\n",
            "Requirement already satisfied: google-auth<3,>=1.6.3 in /usr/local/lib/python3.10/dist-packages (from tensorboard->so-vits-svc-fork) (2.17.3)\n",
            "Requirement already satisfied: wheel>=0.26 in /usr/local/lib/python3.10/dist-packages (from tensorboard->so-vits-svc-fork) (0.40.0)\n",
            "Requirement already satisfied: tensorboard-data-server<0.8.0,>=0.7.0 in /usr/local/lib/python3.10/dist-packages (from tensorboard->so-vits-svc-fork) (0.7.0)\n",
            "Requirement already satisfied: werkzeug>=1.0.1 in /usr/local/lib/python3.10/dist-packages (from tensorboard->so-vits-svc-fork) (2.3.0)\n",
            "Requirement already satisfied: absl-py>=0.4 in /usr/local/lib/python3.10/dist-packages (from tensorboard->so-vits-svc-fork) (1.4.0)\n",
            "Requirement already satisfied: setuptools>=41.0.0 in /usr/local/lib/python3.10/dist-packages (from tensorboard->so-vits-svc-fork) (67.7.2)\n",
            "Requirement already satisfied: tensorboard-plugin-wit>=1.6.0 in /usr/local/lib/python3.10/dist-packages (from tensorboard->so-vits-svc-fork) (1.8.1)\n",
            "Requirement already satisfied: grpcio>=1.48.2 in /usr/local/lib/python3.10/dist-packages (from tensorboard->so-vits-svc-fork) (1.54.0)\n",
            "Requirement already satisfied: google-auth-oauthlib<1.1,>=0.5 in /usr/local/lib/python3.10/dist-packages (from tensorboard->so-vits-svc-fork) (1.0.0)\n",
            "Requirement already satisfied: soupsieve>1.2 in /usr/local/lib/python3.10/dist-packages (from beautifulsoup4<6.0,>=4.8.0->lightning<3.0.0,>=2.0.1->so-vits-svc-fork) (2.4.1)\n",
            "Requirement already satisfied: pycparser in /usr/local/lib/python3.10/dist-packages (from cffi>=1.0->SoundFile->so-vits-svc-fork) (2.21)\n",
            "Requirement already satisfied: pytz in /usr/local/lib/python3.10/dist-packages (from dateutils<2.0->lightning<3.0.0,>=2.0.1->so-vits-svc-fork) (2022.7.1)\n",
            "Collecting ordered-set<4.2.0,>=4.0.2\n",
            "  Downloading ordered_set-4.1.0-py3-none-any.whl (7.6 kB)\n",
            "Collecting aiohttp!=4.0.0a0,!=4.0.0a1\n",
            "  Downloading aiohttp-3.8.4-cp310-cp310-manylinux_2_17_x86_64.manylinux2014_x86_64.whl (1.0 MB)\n",
            "\u001b[2K     \u001b[90m━━━━━━━━━━━━━━━━━━━━━━━━━━━━━━━━━━━━━━━━\u001b[0m \u001b[32m1.0/1.0 MB\u001b[0m \u001b[31m40.8 MB/s\u001b[0m eta \u001b[36m0:00:00\u001b[0m\n",
            "\u001b[?25hRequirement already satisfied: six>=1.9.0 in /usr/local/lib/python3.10/dist-packages (from google-auth<3,>=1.6.3->tensorboard->so-vits-svc-fork) (1.16.0)\n",
            "Requirement already satisfied: pyasn1-modules>=0.2.1 in /usr/local/lib/python3.10/dist-packages (from google-auth<3,>=1.6.3->tensorboard->so-vits-svc-fork) (0.3.0)\n",
            "Requirement already satisfied: rsa<5,>=3.1.4 in /usr/local/lib/python3.10/dist-packages (from google-auth<3,>=1.6.3->tensorboard->so-vits-svc-fork) (4.9)\n",
            "Requirement already satisfied: cachetools<6.0,>=2.0.0 in /usr/local/lib/python3.10/dist-packages (from google-auth<3,>=1.6.3->tensorboard->so-vits-svc-fork) (5.3.0)\n",
            "Requirement already satisfied: requests-oauthlib>=0.7.0 in /usr/local/lib/python3.10/dist-packages (from google-auth-oauthlib<1.1,>=0.5->tensorboard->so-vits-svc-fork) (1.3.1)\n",
            "Collecting blessed>=1.19.0\n",
            "  Downloading blessed-1.20.0-py2.py3-none-any.whl (58 kB)\n",
            "\u001b[2K     \u001b[90m━━━━━━━━━━━━━━━━━━━━━━━━━━━━━━━━━━━━━━━━\u001b[0m \u001b[32m58.4/58.4 kB\u001b[0m \u001b[31m7.5 MB/s\u001b[0m eta \u001b[36m0:00:00\u001b[0m\n",
            "\u001b[?25hCollecting python-editor>=1.0.4\n",
            "  Downloading python_editor-1.0.4-py3-none-any.whl (4.9 kB)\n",
            "Collecting readchar>=3.0.6\n",
            "  Downloading readchar-4.0.5-py3-none-any.whl (8.5 kB)\n",
            "Requirement already satisfied: MarkupSafe>=2.0 in /usr/local/lib/python3.10/dist-packages (from Jinja2<5.0->lightning<3.0.0,>=2.0.1->so-vits-svc-fork) (2.1.2)\n",
            "Collecting pyjwt\n",
            "  Downloading PyJWT-2.6.0-py3-none-any.whl (20 kB)\n",
            "Collecting python-multipart\n",
            "  Downloading python_multipart-0.0.6-py3-none-any.whl (45 kB)\n",
            "\u001b[2K     \u001b[90m━━━━━━━━━━━━━━━━━━━━━━━━━━━━━━━━━━━━━━━━\u001b[0m \u001b[32m45.7/45.7 kB\u001b[0m \u001b[31m5.7 MB/s\u001b[0m eta \u001b[36m0:00:00\u001b[0m\n",
            "\u001b[?25hRequirement already satisfied: mdurl~=0.1 in /usr/local/lib/python3.10/dist-packages (from markdown-it-py<3.0.0,>=2.2.0->rich->so-vits-svc-fork) (0.1.2)\n",
            "Requirement already satisfied: llvmlite<0.40,>=0.39.0dev0 in /usr/local/lib/python3.10/dist-packages (from numba>=0.45.1->librosa->so-vits-svc-fork) (0.39.1)\n",
            "Collecting numpy<2.0,>=1.23\n",
            "  Downloading numpy-1.23.5-cp310-cp310-manylinux_2_17_x86_64.manylinux2014_x86_64.whl (17.1 MB)\n",
            "\u001b[2K     \u001b[90m━━━━━━━━━━━━━━━━━━━━━━━━━━━━━━━━━━━━━━━━\u001b[0m \u001b[32m17.1/17.1 MB\u001b[0m \u001b[31m88.4 MB/s\u001b[0m eta \u001b[36m0:00:00\u001b[0m\n",
            "\u001b[?25hRequirement already satisfied: appdirs>=1.3.0 in /usr/local/lib/python3.10/dist-packages (from pooch>=1.0->librosa->so-vits-svc-fork) (1.4.4)\n",
            "Requirement already satisfied: threadpoolctl>=2.0.0 in /usr/local/lib/python3.10/dist-packages (from scikit-learn>=0.19.1->librosa->so-vits-svc-fork) (3.1.0)\n",
            "Requirement already satisfied: itsdangerous<3.0.0,>=2.0.1 in /usr/local/lib/python3.10/dist-packages (from starsessions<2.0,>=1.2.1->lightning<3.0.0,>=2.0.1->so-vits-svc-fork) (2.1.2)\n",
            "Collecting h11>=0.8\n",
            "  Downloading h11-0.14.0-py3-none-any.whl (58 kB)\n",
            "\u001b[2K     \u001b[90m━━━━━━━━━━━━━━━━━━━━━━━━━━━━━━━━━━━━━━━━\u001b[0m \u001b[32m58.3/58.3 kB\u001b[0m \u001b[31m8.4 MB/s\u001b[0m eta \u001b[36m0:00:00\u001b[0m\n",
            "\u001b[?25hRequirement already satisfied: mpmath>=0.19 in /usr/local/lib/python3.10/dist-packages (from sympy->torch->so-vits-svc-fork) (1.3.0)\n",
            "Collecting multidict<7.0,>=4.5\n",
            "  Downloading multidict-6.0.4-cp310-cp310-manylinux_2_17_x86_64.manylinux2014_x86_64.whl (114 kB)\n",
            "\u001b[2K     \u001b[90m━━━━━━━━━━━━━━━━━━━━━━━━━━━━━━━━━━━━━━\u001b[0m \u001b[32m114.5/114.5 kB\u001b[0m \u001b[31m16.3 MB/s\u001b[0m eta \u001b[36m0:00:00\u001b[0m\n",
            "\u001b[?25hRequirement already satisfied: attrs>=17.3.0 in /usr/local/lib/python3.10/dist-packages (from aiohttp!=4.0.0a0,!=4.0.0a1->fsspec[http]<2025.0,>2021.06.0->lightning<3.0.0,>=2.0.1->so-vits-svc-fork) (23.1.0)\n",
            "Collecting yarl<2.0,>=1.0\n",
            "  Downloading yarl-1.9.2-cp310-cp310-manylinux_2_17_x86_64.manylinux2014_x86_64.whl (268 kB)\n",
            "\u001b[2K     \u001b[90m━━━━━━━━━━━━━━━━━━━━━━━━━━━━━━━━━━━━━━\u001b[0m \u001b[32m268.8/268.8 kB\u001b[0m \u001b[31m32.2 MB/s\u001b[0m eta \u001b[36m0:00:00\u001b[0m\n",
            "\u001b[?25hCollecting aiosignal>=1.1.2\n",
            "  Downloading aiosignal-1.3.1-py3-none-any.whl (7.6 kB)\n",
            "Collecting async-timeout<5.0,>=4.0.0a3\n",
            "  Downloading async_timeout-4.0.2-py3-none-any.whl (5.8 kB)\n",
            "Collecting frozenlist>=1.1.1\n",
            "  Downloading frozenlist-1.3.3-cp310-cp310-manylinux_2_5_x86_64.manylinux1_x86_64.manylinux_2_17_x86_64.manylinux2014_x86_64.whl (149 kB)\n",
            "\u001b[2K     \u001b[90m━━━━━━━━━━━━━━━━━━━━━━━━━━━━━━━━━━━━━━\u001b[0m \u001b[32m149.6/149.6 kB\u001b[0m \u001b[31m20.3 MB/s\u001b[0m eta \u001b[36m0:00:00\u001b[0m\n",
            "\u001b[?25hRequirement already satisfied: sniffio>=1.1 in /usr/local/lib/python3.10/dist-packages (from anyio<5,>=3.4.0->starlette==0.22.0->fastapi==0.88->so-vits-svc-fork) (1.3.0)\n",
            "Requirement already satisfied: wcwidth>=0.1.4 in /usr/local/lib/python3.10/dist-packages (from blessed>=1.19.0->inquirer<5.0,>=2.10.0->lightning<3.0.0,>=2.0.1->so-vits-svc-fork) (0.2.6)\n",
            "Requirement already satisfied: pyasn1<0.6.0,>=0.4.6 in /usr/local/lib/python3.10/dist-packages (from pyasn1-modules>=0.2.1->google-auth<3,>=1.6.3->tensorboard->so-vits-svc-fork) (0.5.0)\n",
            "Requirement already satisfied: oauthlib>=3.0.0 in /usr/local/lib/python3.10/dist-packages (from requests-oauthlib>=0.7.0->google-auth-oauthlib<1.1,>=0.5->tensorboard->so-vits-svc-fork) (3.2.2)\n",
            "Building wheels for collected packages: pyworld, tqdm-joblib\n",
            "  Building wheel for pyworld (pyproject.toml) ... \u001b[?25l\u001b[?25hdone\n",
            "  Created wheel for pyworld: filename=pyworld-0.3.3-cp310-cp310-linux_x86_64.whl size=887694 sha256=dfbfdb9f0ab4d0d92e086c72e95b0b3d6b6c9231f3661820a9a1e5eed68685d8\n",
            "  Stored in directory: /root/.cache/pip/wheels/70/50/a9/36b47c7f055bbee666a2b5718aaf85bce2152ef90f9bd10697\n",
            "  Building wheel for tqdm-joblib (setup.py) ... \u001b[?25l\u001b[?25hdone\n",
            "  Created wheel for tqdm-joblib: filename=tqdm_joblib-0.0.3-py3-none-any.whl size=1648 sha256=0cc3dd900a6febc4f25e37be7104e3f8a656a77b61faee25807dc200f71a8b3d\n",
            "  Stored in directory: /root/.cache/pip/wheels/68/bc/33/47a70346aa7f8953ca185e3485dc2b5b5dc5f233b4d6c6e8f1\n",
            "Successfully built pyworld tqdm-joblib\n",
            "Installing collected packages: tokenizers, python-editor, pysimplegui, websockets, tqdm-joblib, readchar, python-multipart, pyjwt, pebble, ordered-set, numpy, multidict, lightning-utilities, h11, frozenlist, cm-time, blessed, async-timeout, yarl, uvicorn, tensorboardx, starlette, sounddevice, pyworld, praat-parselmouth, onnx, inquirer, huggingface-hub, deepdiff, dateutils, croniter, arrow, aiosignal, transformers, starsessions, resampy, onnxsim, onnxoptimizer, fastapi, aiohttp, lightning-cloud, librosa, torchmetrics, pytorch-lightning, torchcrepe, lightning, so-vits-svc-fork\n",
            "  Attempting uninstall: numpy\n",
            "    Found existing installation: numpy 1.22.4\n",
            "    Uninstalling numpy-1.22.4:\n",
            "      Successfully uninstalled numpy-1.22.4\n",
            "  Attempting uninstall: librosa\n",
            "    Found existing installation: librosa 0.10.0.post2\n",
            "    Uninstalling librosa-0.10.0.post2:\n",
            "      Successfully uninstalled librosa-0.10.0.post2\n",
            "Successfully installed aiohttp-3.8.4 aiosignal-1.3.1 arrow-1.2.3 async-timeout-4.0.2 blessed-1.20.0 cm-time-0.1.2 croniter-1.3.14 dateutils-0.6.12 deepdiff-6.3.0 fastapi-0.88.0 frozenlist-1.3.3 h11-0.14.0 huggingface-hub-0.14.1 inquirer-3.1.3 librosa-0.9.1 lightning-2.0.2 lightning-cloud-0.5.34 lightning-utilities-0.8.0 multidict-6.0.4 numpy-1.23.5 onnx-1.14.0 onnxoptimizer-0.3.13 onnxsim-0.4.28 ordered-set-4.1.0 pebble-5.0.3 praat-parselmouth-0.4.3 pyjwt-2.6.0 pysimplegui-4.60.4 python-editor-1.0.4 python-multipart-0.0.6 pytorch-lightning-2.0.2 pyworld-0.3.3 readchar-4.0.5 resampy-0.4.2 so-vits-svc-fork-3.14.1 sounddevice-0.4.6 starlette-0.22.0 starsessions-1.3.0 tensorboardx-2.6 tokenizers-0.13.3 torchcrepe-0.0.18 torchmetrics-0.11.4 tqdm-joblib-0.0.3 transformers-4.28.1 uvicorn-0.22.0 websockets-11.0.2 yarl-1.9.2\n"
          ]
        },
        {
          "output_type": "display_data",
          "data": {
            "application/vnd.colab-display-data+json": {
              "pip_warning": {
                "packages": [
                  "numpy"
                ]
              }
            }
          },
          "metadata": {}
        }
      ]
    },
    {
      "cell_type": "code",
      "source": [
        "!mkdir -p ./so-vits-svc-fork/models/ru-saya\n",
        "!wget -O ./so-vits-svc-fork/models/ru-saya/config.json https://huggingface.co/fnx/so-vits-svc-4.0-ru-saya/raw/main/config.json\n",
        "!wget -O ./so-vits-svc-fork/models/ru-saya/G_10000.pth https://huggingface.co/fnx/so-vits-svc-4.0-ru-saya/resolve/main/G_10000.pth"
      ],
      "metadata": {
        "colab": {
          "base_uri": "https://localhost:8080/"
        },
        "id": "zImLhjOsHCsY",
        "outputId": "6d6bc7cc-a4ff-445a-8749-2355a2889e3d"
      },
      "execution_count": 5,
      "outputs": [
        {
          "output_type": "stream",
          "name": "stdout",
          "text": [
            "--2023-05-07 07:47:37--  https://huggingface.co/fnx/so-vits-svc-4.0-ru-saya/raw/main/config.json\n",
            "Resolving huggingface.co (huggingface.co)... 18.155.68.116, 18.155.68.121, 18.155.68.44, ...\n",
            "Connecting to huggingface.co (huggingface.co)|18.155.68.116|:443... connected.\n",
            "HTTP request sent, awaiting response... 200 OK\n",
            "Length: 1719 (1.7K) [text/plain]\n",
            "Saving to: ‘./so-vits-svc-fork/models/ru-saya/config.json’\n",
            "\n",
            "\r          ./so-vits   0%[                    ]       0  --.-KB/s               \r./so-vits-svc-fork/ 100%[===================>]   1.68K  --.-KB/s    in 0s      \n",
            "\n",
            "2023-05-07 07:47:37 (345 MB/s) - ‘./so-vits-svc-fork/models/ru-saya/config.json’ saved [1719/1719]\n",
            "\n",
            "--2023-05-07 07:47:38--  https://huggingface.co/fnx/so-vits-svc-4.0-ru-saya/resolve/main/G_10000.pth\n",
            "Resolving huggingface.co (huggingface.co)... 18.155.68.44, 18.155.68.38, 18.155.68.121, ...\n",
            "Connecting to huggingface.co (huggingface.co)|18.155.68.44|:443... connected.\n",
            "HTTP request sent, awaiting response... 302 Found\n",
            "Location: https://cdn-lfs.huggingface.co/repos/e3/6e/e36edc23177794cea10e348ce8f6f709a504e0889f7660e3419c01e6cf019231/b3f9a8210fc7ab9a1de21952542276f43e12ae0a3eecf4f41bd176a4e01c76d2?response-content-disposition=attachment%3B+filename*%3DUTF-8%27%27G_10000.pth%3B+filename%3D%22G_10000.pth%22%3B&Expires=1683704858&Policy=eyJTdGF0ZW1lbnQiOlt7IlJlc291cmNlIjoiaHR0cHM6Ly9jZG4tbGZzLmh1Z2dpbmdmYWNlLmNvL3JlcG9zL2UzLzZlL2UzNmVkYzIzMTc3Nzk0Y2VhMTBlMzQ4Y2U4ZjZmNzA5YTUwNGUwODg5Zjc2NjBlMzQxOWMwMWU2Y2YwMTkyMzEvYjNmOWE4MjEwZmM3YWI5YTFkZTIxOTUyNTQyMjc2ZjQzZTEyYWUwYTNlZWNmNGY0MWJkMTc2YTRlMDFjNzZkMj9yZXNwb25zZS1jb250ZW50LWRpc3Bvc2l0aW9uPSoiLCJDb25kaXRpb24iOnsiRGF0ZUxlc3NUaGFuIjp7IkFXUzpFcG9jaFRpbWUiOjE2ODM3MDQ4NTh9fX1dfQ__&Signature=D4DA61-bKoe6PNWVrGDO3lb1JgZ4Q-oNRl5Sc47yS69cidFyndALe9LogosEerM7TDspyXy%7ESrOohKQBFg8HTzEoIDM1HE0EC0m1TgkWLr4eji7ftBlPLRWi%7EdQFVjDFb4EPmlwulOeDVGsRdlnYwVu8MCN7f%7E1QrHpEObGVar2GJoS49mBtxrnfJrt9-R57tHRcQktFbzk-OJ0i7qdu6spAGAohfLWe8MVJi7ZmQg-b7YZoJ9h8A7jTkhhWpWCZEfOp9hYhK4fY--7gjJjyH7cTi3dqqv1QR15opFVK0uedOmoRb1zMjUCL3orUIQvhWRHX-9N-Temb-bHIi3Y31A__&Key-Pair-Id=KVTP0A1DKRTAX [following]\n",
            "--2023-05-07 07:47:38--  https://cdn-lfs.huggingface.co/repos/e3/6e/e36edc23177794cea10e348ce8f6f709a504e0889f7660e3419c01e6cf019231/b3f9a8210fc7ab9a1de21952542276f43e12ae0a3eecf4f41bd176a4e01c76d2?response-content-disposition=attachment%3B+filename*%3DUTF-8%27%27G_10000.pth%3B+filename%3D%22G_10000.pth%22%3B&Expires=1683704858&Policy=eyJTdGF0ZW1lbnQiOlt7IlJlc291cmNlIjoiaHR0cHM6Ly9jZG4tbGZzLmh1Z2dpbmdmYWNlLmNvL3JlcG9zL2UzLzZlL2UzNmVkYzIzMTc3Nzk0Y2VhMTBlMzQ4Y2U4ZjZmNzA5YTUwNGUwODg5Zjc2NjBlMzQxOWMwMWU2Y2YwMTkyMzEvYjNmOWE4MjEwZmM3YWI5YTFkZTIxOTUyNTQyMjc2ZjQzZTEyYWUwYTNlZWNmNGY0MWJkMTc2YTRlMDFjNzZkMj9yZXNwb25zZS1jb250ZW50LWRpc3Bvc2l0aW9uPSoiLCJDb25kaXRpb24iOnsiRGF0ZUxlc3NUaGFuIjp7IkFXUzpFcG9jaFRpbWUiOjE2ODM3MDQ4NTh9fX1dfQ__&Signature=D4DA61-bKoe6PNWVrGDO3lb1JgZ4Q-oNRl5Sc47yS69cidFyndALe9LogosEerM7TDspyXy%7ESrOohKQBFg8HTzEoIDM1HE0EC0m1TgkWLr4eji7ftBlPLRWi%7EdQFVjDFb4EPmlwulOeDVGsRdlnYwVu8MCN7f%7E1QrHpEObGVar2GJoS49mBtxrnfJrt9-R57tHRcQktFbzk-OJ0i7qdu6spAGAohfLWe8MVJi7ZmQg-b7YZoJ9h8A7jTkhhWpWCZEfOp9hYhK4fY--7gjJjyH7cTi3dqqv1QR15opFVK0uedOmoRb1zMjUCL3orUIQvhWRHX-9N-Temb-bHIi3Y31A__&Key-Pair-Id=KVTP0A1DKRTAX\n",
            "Resolving cdn-lfs.huggingface.co (cdn-lfs.huggingface.co)... 18.155.68.94, 18.155.68.98, 18.155.68.73, ...\n",
            "Connecting to cdn-lfs.huggingface.co (cdn-lfs.huggingface.co)|18.155.68.94|:443... connected.\n",
            "HTTP request sent, awaiting response... 200 OK\n",
            "Length: 542789469 (518M) [application/zip]\n",
            "Saving to: ‘./so-vits-svc-fork/models/ru-saya/G_10000.pth’\n",
            "\n",
            "./so-vits-svc-fork/ 100%[===================>] 517.64M   296MB/s    in 1.7s    \n",
            "\n",
            "2023-05-07 07:47:40 (296 MB/s) - ‘./so-vits-svc-fork/models/ru-saya/G_10000.pth’ saved [542789469/542789469]\n",
            "\n"
          ]
        }
      ]
    },
    {
      "cell_type": "code",
      "source": [
        "!pip install transliterate\n",
        "!pip install num2words\n",
        "!pip install pydub\n",
        "!pip install pypandoc"
      ],
      "metadata": {
        "colab": {
          "base_uri": "https://localhost:8080/"
        },
        "id": "-aCpkxag03ul",
        "outputId": "2629f0fa-8247-4820-dfae-939fb935df3d"
      },
      "execution_count": 6,
      "outputs": [
        {
          "output_type": "stream",
          "name": "stdout",
          "text": [
            "Looking in indexes: https://pypi.org/simple, https://us-python.pkg.dev/colab-wheels/public/simple/\n",
            "Collecting transliterate\n",
            "  Downloading transliterate-1.10.2-py2.py3-none-any.whl (45 kB)\n",
            "\u001b[2K     \u001b[90m━━━━━━━━━━━━━━━━━━━━━━━━━━━━━━━━━━━━━━━━\u001b[0m \u001b[32m45.8/45.8 kB\u001b[0m \u001b[31m5.3 MB/s\u001b[0m eta \u001b[36m0:00:00\u001b[0m\n",
            "\u001b[?25hRequirement already satisfied: six>=1.1.0 in /usr/local/lib/python3.10/dist-packages (from transliterate) (1.16.0)\n",
            "Installing collected packages: transliterate\n",
            "Successfully installed transliterate-1.10.2\n",
            "Looking in indexes: https://pypi.org/simple, https://us-python.pkg.dev/colab-wheels/public/simple/\n",
            "Collecting num2words\n",
            "  Downloading num2words-0.5.12-py3-none-any.whl (125 kB)\n",
            "\u001b[2K     \u001b[90m━━━━━━━━━━━━━━━━━━━━━━━━━━━━━━━━━━━━━━\u001b[0m \u001b[32m125.2/125.2 kB\u001b[0m \u001b[31m12.1 MB/s\u001b[0m eta \u001b[36m0:00:00\u001b[0m\n",
            "\u001b[?25hCollecting docopt>=0.6.2\n",
            "  Downloading docopt-0.6.2.tar.gz (25 kB)\n",
            "  Preparing metadata (setup.py) ... \u001b[?25l\u001b[?25hdone\n",
            "Building wheels for collected packages: docopt\n",
            "  Building wheel for docopt (setup.py) ... \u001b[?25l\u001b[?25hdone\n",
            "  Created wheel for docopt: filename=docopt-0.6.2-py2.py3-none-any.whl size=13721 sha256=dfc15862ea040d38d91375389eb1688ad262999103cd6afad29a24a1b3f5fbb7\n",
            "  Stored in directory: /root/.cache/pip/wheels/fc/ab/d4/5da2067ac95b36618c629a5f93f809425700506f72c9732fac\n",
            "Successfully built docopt\n",
            "Installing collected packages: docopt, num2words\n",
            "Successfully installed docopt-0.6.2 num2words-0.5.12\n",
            "Looking in indexes: https://pypi.org/simple, https://us-python.pkg.dev/colab-wheels/public/simple/\n",
            "Collecting pydub\n",
            "  Downloading pydub-0.25.1-py2.py3-none-any.whl (32 kB)\n",
            "Installing collected packages: pydub\n",
            "Successfully installed pydub-0.25.1\n",
            "Looking in indexes: https://pypi.org/simple, https://us-python.pkg.dev/colab-wheels/public/simple/\n",
            "Collecting pypandoc\n",
            "  Downloading pypandoc-1.11-py3-none-any.whl (20 kB)\n",
            "Installing collected packages: pypandoc\n",
            "Successfully installed pypandoc-1.11\n"
          ]
        }
      ]
    },
    {
      "cell_type": "code",
      "source": [
        "!python silero/silero_tts.py -t 8 -s xenia -d cuda -r 48000 --merge --svc -i ./src -o silero/output_raw"
      ],
      "metadata": {
        "colab": {
          "base_uri": "https://localhost:8080/"
        },
        "id": "idsWXgwjx9Bz",
        "outputId": "96d520ee-7a2b-4b0a-e54d-20b6a25acdbe"
      },
      "execution_count": 7,
      "outputs": [
        {
          "output_type": "stream",
          "name": "stdout",
          "text": [
            "{'input': './src', 'output': 'silero/output_raw', 'threads': '8', 'speaker': 'xenia', 'device': 'cuda', 'rate': '48000', 'merge': True, 'svc': True}\n",
            "[nltk_data] Downloading package punkt to /root/nltk_data...\n",
            "[nltk_data]   Unzipping tokenizers/punkt.zip.\n",
            "100% 59.0M/59.0M [00:04<00:00, 14.5MB/s]\n",
            "\n",
            "silero/output_raw/part001_-_Том_1\n",
            "    TTS: 100% 2/2 [00:03<00:00,  1.98s/it]\n",
            "\n",
            "silero/output_raw/part002_-_Пролог\n",
            "    TTS: 100% 36/36 [00:03<00:00,  9.03it/s]\n",
            "\n",
            "silero/output_raw/part003_-_Глава_1\n",
            "    TTS: 100% 52/52 [00:03<00:00, 14.10it/s]\n",
            "\n",
            "silero/output_raw/part004_-_Глава_2\n",
            "    TTS: 100% 49/49 [00:03<00:00, 13.66it/s]\n",
            "\n",
            "silero/output_raw/part005_-_Глава_3\n",
            "    TTS: 100% 60/60 [00:05<00:00, 11.38it/s]\n",
            "\n",
            "silero/output_raw/part006_-_Глава_4\n",
            "    TTS: 100% 58/58 [00:04<00:00, 13.89it/s]\n",
            "\n",
            "silero/output_raw/part007_-_Глава_5\n",
            "    TTS: 100% 47/47 [00:03<00:00, 13.14it/s]\n",
            "\n",
            "Merging and encoding, please wait... (4 threads)\n",
            "Downloading (…)lve/main/config.json: 100% 1.39k/1.39k [00:00<00:00, 7.34MB/s]\n",
            "Downloading pytorch_model.bin: 100% 378M/378M [00:02<00:00, 166MB/s]\n",
            "MERGING: 100% 7/7 [06:22<00:00, 54.64s/chapter]\n",
            "\n",
            "Warnings: \n",
            "[]\n",
            "\n",
            "Finished!\n"
          ]
        }
      ]
    },
    {
      "cell_type": "code",
      "source": [
        "!zip -r output.zip silero/output_raw/*.opus\n",
        "!ls -l output.zip"
      ],
      "metadata": {
        "colab": {
          "base_uri": "https://localhost:8080/"
        },
        "id": "WJznBjRnCSGV",
        "outputId": "a9b5c766-6669-4ef8-8ba2-204a878c7c8d"
      },
      "execution_count": 8,
      "outputs": [
        {
          "output_type": "stream",
          "name": "stdout",
          "text": [
            "  adding: silero/output_raw/part001_-_Том_1.opus (deflated 1%)\n",
            "  adding: silero/output_raw/part002_-_Пролог.opus (deflated 1%)\n",
            "  adding: silero/output_raw/part003_-_Глава_1.opus (deflated 1%)\n",
            "  adding: silero/output_raw/part004_-_Глава_2.opus (deflated 1%)\n",
            "  adding: silero/output_raw/part005_-_Глава_3.opus (deflated 1%)\n",
            "  adding: silero/output_raw/part006_-_Глава_4.opus (deflated 1%)\n",
            "  adding: silero/output_raw/part007_-_Глава_5.opus (deflated 1%)\n",
            "-rw-r--r-- 1 root root 8315469 May  7 07:55 output.zip\n"
          ]
        }
      ]
    }
  ]
}