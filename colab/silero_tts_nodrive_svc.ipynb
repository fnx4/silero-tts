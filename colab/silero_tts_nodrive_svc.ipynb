{
  "nbformat": 4,
  "nbformat_minor": 0,
  "metadata": {
    "colab": {
      "provenance": []
    },
    "kernelspec": {
      "name": "python3",
      "display_name": "Python 3"
    },
    "language_info": {
      "name": "python"
    },
    "accelerator": "GPU",
    "gpuClass": "standard"
  },
  "cells": [
    {
      "cell_type": "markdown",
      "source": [
        "# SILERO TTS"
      ],
      "metadata": {
        "id": "VIp7YqtS0to5"
      }
    },
    {
      "cell_type": "code",
      "source": [
        "!mkdir src\n",
        "!unzip src.zip -d ./src"
      ],
      "metadata": {
        "colab": {
          "base_uri": "https://localhost:8080/"
        },
        "id": "StLJmSWrBFqk",
        "outputId": "f72a01cb-1168-49f8-dcda-e21d88cd78cc"
      },
      "execution_count": 1,
      "outputs": [
        {
          "output_type": "stream",
          "name": "stdout",
          "text": [
            "Archive:  src.zip\n",
            "  inflating: ./src/part001 - Том 1..txt  \n",
            "  inflating: ./src/part002 - Пролог..txt  \n",
            "  inflating: ./src/part003 - Глава 1..txt  \n",
            "  inflating: ./src/part004 - Глава 2..txt  \n",
            "  inflating: ./src/part005 - Глава 3..txt  \n",
            "  inflating: ./src/part006 - Глава 4..txt  \n",
            "  inflating: ./src/part007 - Глава 5..txt  \n"
          ]
        }
      ]
    },
    {
      "cell_type": "code",
      "source": [
        "!git clone https://github.com/fnx4/silero-tts silero"
      ],
      "metadata": {
        "colab": {
          "base_uri": "https://localhost:8080/"
        },
        "id": "HonFbI7A0wez",
        "outputId": "d13458d5-ab19-4727-9e1a-e1e442e3ffb0"
      },
      "execution_count": 2,
      "outputs": [
        {
          "output_type": "stream",
          "name": "stdout",
          "text": [
            "Cloning into 'silero'...\n",
            "remote: Enumerating objects: 94, done.\u001b[K\n",
            "remote: Counting objects: 100% (94/94), done.\u001b[K\n",
            "remote: Compressing objects: 100% (42/42), done.\u001b[K\n",
            "remote: Total 94 (delta 30), reused 92 (delta 28), pack-reused 0\u001b[K\n",
            "Unpacking objects: 100% (94/94), 27.74 KiB | 1.07 MiB/s, done.\n"
          ]
        }
      ]
    },
    {
      "cell_type": "code",
      "source": [
        "!ffmpeg -version | grep \"ffmpeg version\"\n",
        "!nvidia-smi"
      ],
      "metadata": {
        "colab": {
          "base_uri": "https://localhost:8080/"
        },
        "id": "eGIIgFwg0zsd",
        "outputId": "d0fb4f6c-1b9a-411d-ca6b-096c61e27914"
      },
      "execution_count": 3,
      "outputs": [
        {
          "output_type": "stream",
          "name": "stdout",
          "text": [
            "ffmpeg version 4.2.7-0ubuntu0.1 Copyright (c) 2000-2022 the FFmpeg developers\n",
            "Tue Jul 11 16:52:25 2023       \n",
            "+-----------------------------------------------------------------------------+\n",
            "| NVIDIA-SMI 525.85.12    Driver Version: 525.85.12    CUDA Version: 12.0     |\n",
            "|-------------------------------+----------------------+----------------------+\n",
            "| GPU  Name        Persistence-M| Bus-Id        Disp.A | Volatile Uncorr. ECC |\n",
            "| Fan  Temp  Perf  Pwr:Usage/Cap|         Memory-Usage | GPU-Util  Compute M. |\n",
            "|                               |                      |               MIG M. |\n",
            "|===============================+======================+======================|\n",
            "|   0  Tesla T4            Off  | 00000000:00:04.0 Off |                    0 |\n",
            "| N/A   42C    P8     9W /  70W |      0MiB / 15360MiB |      0%      Default |\n",
            "|                               |                      |                  N/A |\n",
            "+-------------------------------+----------------------+----------------------+\n",
            "                                                                               \n",
            "+-----------------------------------------------------------------------------+\n",
            "| Processes:                                                                  |\n",
            "|  GPU   GI   CI        PID   Type   Process name                  GPU Memory |\n",
            "|        ID   ID                                                   Usage      |\n",
            "|=============================================================================|\n",
            "|  No running processes found                                                 |\n",
            "+-----------------------------------------------------------------------------+\n"
          ]
        }
      ]
    },
    {
      "cell_type": "code",
      "source": [
        "!git clone https://github.com/voicepaw/so-vits-svc-fork\n",
        "!pip install -U so-vits-svc-fork\n",
        "!mkdir -p ./so-vits-svc-fork/venv/Scripts\n",
        "!cp /usr/local/bin/svc ./so-vits-svc-fork/venv/Scripts/svc"
      ],
      "metadata": {
        "id": "vAmolViP79JH",
        "colab": {
          "base_uri": "https://localhost:8080/",
          "height": 1000
        },
        "outputId": "868a136a-e70f-408d-9c23-284983fad0b5"
      },
      "execution_count": 4,
      "outputs": [
        {
          "output_type": "stream",
          "name": "stdout",
          "text": [
            "Cloning into 'so-vits-svc-fork'...\n",
            "remote: Enumerating objects: 3026, done.\u001b[K\n",
            "remote: Counting objects: 100% (197/197), done.\u001b[K\n",
            "remote: Compressing objects: 100% (112/112), done.\u001b[K\n",
            "remote: Total 3026 (delta 108), reused 152 (delta 78), pack-reused 2829\u001b[K\n",
            "Receiving objects: 100% (3026/3026), 19.52 MiB | 20.13 MiB/s, done.\n",
            "Resolving deltas: 100% (1677/1677), done.\n",
            "Collecting so-vits-svc-fork\n",
            "  Downloading so_vits_svc_fork-4.1.1-py3-none-any.whl (93 kB)\n",
            "\u001b[2K     \u001b[90m━━━━━━━━━━━━━━━━━━━━━━━━━━━━━━━━━━━━━━━━\u001b[0m \u001b[32m93.1/93.1 kB\u001b[0m \u001b[31m7.0 MB/s\u001b[0m eta \u001b[36m0:00:00\u001b[0m\n",
            "\u001b[?25hRequirement already satisfied: SoundFile in /usr/local/lib/python3.10/dist-packages (from so-vits-svc-fork) (0.12.1)\n",
            "Collecting cm-time>=0.1.2 (from so-vits-svc-fork)\n",
            "  Downloading cm_time-0.1.2-py3-none-any.whl (7.8 kB)\n",
            "Collecting fastapi==0.99.0 (from so-vits-svc-fork)\n",
            "  Downloading fastapi-0.99.0-py3-none-any.whl (58 kB)\n",
            "\u001b[2K     \u001b[90m━━━━━━━━━━━━━━━━━━━━━━━━━━━━━━━━━━━━━━━━\u001b[0m \u001b[32m58.2/58.2 kB\u001b[0m \u001b[31m7.1 MB/s\u001b[0m eta \u001b[36m0:00:00\u001b[0m\n",
            "\u001b[?25hRequirement already satisfied: librosa in /usr/local/lib/python3.10/dist-packages (from so-vits-svc-fork) (0.10.0.post2)\n",
            "Collecting lightning<3.0.0,>=2.0.1 (from so-vits-svc-fork)\n",
            "  Downloading lightning-2.0.5-py3-none-any.whl (1.9 MB)\n",
            "\u001b[2K     \u001b[90m━━━━━━━━━━━━━━━━━━━━━━━━━━━━━━━━━━━━━━━━\u001b[0m \u001b[32m1.9/1.9 MB\u001b[0m \u001b[31m23.7 MB/s\u001b[0m eta \u001b[36m0:00:00\u001b[0m\n",
            "\u001b[?25hRequirement already satisfied: matplotlib<4.0.0,>=3.7.1 in /usr/local/lib/python3.10/dist-packages (from so-vits-svc-fork) (3.7.1)\n",
            "Collecting numpy<2.0,>=1.23 (from so-vits-svc-fork)\n",
            "  Downloading numpy-1.25.1-cp310-cp310-manylinux_2_17_x86_64.manylinux2014_x86_64.whl (17.6 MB)\n",
            "\u001b[2K     \u001b[90m━━━━━━━━━━━━━━━━━━━━━━━━━━━━━━━━━━━━━━━━\u001b[0m \u001b[32m17.6/17.6 MB\u001b[0m \u001b[31m81.0 MB/s\u001b[0m eta \u001b[36m0:00:00\u001b[0m\n",
            "\u001b[?25hCollecting onnx (from so-vits-svc-fork)\n",
            "  Downloading onnx-1.14.0-cp310-cp310-manylinux_2_17_x86_64.manylinux2014_x86_64.whl (14.6 MB)\n",
            "\u001b[2K     \u001b[90m━━━━━━━━━━━━━━━━━━━━━━━━━━━━━━━━━━━━━━━━\u001b[0m \u001b[32m14.6/14.6 MB\u001b[0m \u001b[31m81.7 MB/s\u001b[0m eta \u001b[36m0:00:00\u001b[0m\n",
            "\u001b[?25hCollecting onnxoptimizer (from so-vits-svc-fork)\n",
            "  Downloading onnxoptimizer-0.3.13-cp310-cp310-manylinux_2_17_x86_64.manylinux2014_x86_64.whl (678 kB)\n",
            "\u001b[2K     \u001b[90m━━━━━━━━━━━━━━━━━━━━━━━━━━━━━━━━━━━━━━\u001b[0m \u001b[32m678.1/678.1 kB\u001b[0m \u001b[31m57.6 MB/s\u001b[0m eta \u001b[36m0:00:00\u001b[0m\n",
            "\u001b[?25hCollecting onnxsim (from so-vits-svc-fork)\n",
            "  Downloading onnxsim-0.4.33-cp310-cp310-manylinux_2_17_x86_64.manylinux2014_x86_64.whl (2.2 MB)\n",
            "\u001b[2K     \u001b[90m━━━━━━━━━━━━━━━━━━━━━━━━━━━━━━━━━━━━━━━━\u001b[0m \u001b[32m2.2/2.2 MB\u001b[0m \u001b[31m96.8 MB/s\u001b[0m eta \u001b[36m0:00:00\u001b[0m\n",
            "\u001b[?25hCollecting pebble>=5.0 (from so-vits-svc-fork)\n",
            "  Downloading Pebble-5.0.3-py3-none-any.whl (30 kB)\n",
            "Collecting praat-parselmouth (from so-vits-svc-fork)\n",
            "  Downloading praat_parselmouth-0.4.3-cp310-cp310-manylinux_2_12_x86_64.manylinux2010_x86_64.whl (10.7 MB)\n",
            "\u001b[2K     \u001b[90m━━━━━━━━━━━━━━━━━━━━━━━━━━━━━━━━━━━━━━━\u001b[0m \u001b[32m10.7/10.7 MB\u001b[0m \u001b[31m109.2 MB/s\u001b[0m eta \u001b[36m0:00:00\u001b[0m\n",
            "\u001b[?25hCollecting pysimplegui>=4.6 (from so-vits-svc-fork)\n",
            "  Downloading PySimpleGUI-4.60.5-py3-none-any.whl (512 kB)\n",
            "\u001b[2K     \u001b[90m━━━━━━━━━━━━━━━━━━━━━━━━━━━━━━━━━━━━━━\u001b[0m \u001b[32m512.7/512.7 kB\u001b[0m \u001b[31m47.1 MB/s\u001b[0m eta \u001b[36m0:00:00\u001b[0m\n",
            "\u001b[?25hCollecting pyworld (from so-vits-svc-fork)\n",
            "  Downloading pyworld-0.3.3.tar.gz (218 kB)\n",
            "\u001b[2K     \u001b[90m━━━━━━━━━━━━━━━━━━━━━━━━━━━━━━━━━━━━━━\u001b[0m \u001b[32m218.7/218.7 kB\u001b[0m \u001b[31m26.2 MB/s\u001b[0m eta \u001b[36m0:00:00\u001b[0m\n",
            "\u001b[?25h  Installing build dependencies ... \u001b[?25l\u001b[?25hdone\n",
            "  Getting requirements to build wheel ... \u001b[?25l\u001b[?25hdone\n",
            "  Preparing metadata (pyproject.toml) ... \u001b[?25l\u001b[?25hdone\n",
            "Requirement already satisfied: requests in /usr/local/lib/python3.10/dist-packages (from so-vits-svc-fork) (2.27.1)\n",
            "Requirement already satisfied: rich in /usr/local/lib/python3.10/dist-packages (from so-vits-svc-fork) (13.4.2)\n",
            "Requirement already satisfied: scipy in /usr/local/lib/python3.10/dist-packages (from so-vits-svc-fork) (1.10.1)\n",
            "Collecting sounddevice (from so-vits-svc-fork)\n",
            "  Downloading sounddevice-0.4.6-py3-none-any.whl (31 kB)\n",
            "Requirement already satisfied: tensorboard in /usr/local/lib/python3.10/dist-packages (from so-vits-svc-fork) (2.12.3)\n",
            "Collecting tensorboardx (from so-vits-svc-fork)\n",
            "  Downloading tensorboardX-2.6.1-py2.py3-none-any.whl (101 kB)\n",
            "\u001b[2K     \u001b[90m━━━━━━━━━━━━━━━━━━━━━━━━━━━━━━━━━━━━━━\u001b[0m \u001b[32m101.6/101.6 kB\u001b[0m \u001b[31m12.8 MB/s\u001b[0m eta \u001b[36m0:00:00\u001b[0m\n",
            "\u001b[?25hRequirement already satisfied: torch in /usr/local/lib/python3.10/dist-packages (from so-vits-svc-fork) (2.0.1+cu118)\n",
            "Requirement already satisfied: torchaudio in /usr/local/lib/python3.10/dist-packages (from so-vits-svc-fork) (2.0.2+cu118)\n",
            "Collecting torchcrepe>=0.0.17 (from so-vits-svc-fork)\n",
            "  Downloading torchcrepe-0.0.20-py3-none-any.whl (72.3 MB)\n",
            "\u001b[2K     \u001b[90m━━━━━━━━━━━━━━━━━━━━━━━━━━━━━━━━━━━━━━━━\u001b[0m \u001b[32m72.3/72.3 MB\u001b[0m \u001b[31m9.1 MB/s\u001b[0m eta \u001b[36m0:00:00\u001b[0m\n",
            "\u001b[?25hRequirement already satisfied: tqdm in /usr/local/lib/python3.10/dist-packages (from so-vits-svc-fork) (4.65.0)\n",
            "Collecting tqdm-joblib (from so-vits-svc-fork)\n",
            "  Downloading tqdm_joblib-0.0.3.tar.gz (1.6 kB)\n",
            "  Preparing metadata (setup.py) ... \u001b[?25l\u001b[?25hdone\n",
            "Collecting transformers<5.0.0,>=4.28.1 (from so-vits-svc-fork)\n",
            "  Downloading transformers-4.30.2-py3-none-any.whl (7.2 MB)\n",
            "\u001b[2K     \u001b[90m━━━━━━━━━━━━━━━━━━━━━━━━━━━━━━━━━━━━━━━━\u001b[0m \u001b[32m7.2/7.2 MB\u001b[0m \u001b[31m82.7 MB/s\u001b[0m eta \u001b[36m0:00:00\u001b[0m\n",
            "\u001b[?25hRequirement already satisfied: pydantic!=1.8,!=1.8.1,<2.0.0,>=1.7.4 in /usr/local/lib/python3.10/dist-packages (from fastapi==0.99.0->so-vits-svc-fork) (1.10.11)\n",
            "Collecting starlette<0.28.0,>=0.27.0 (from fastapi==0.99.0->so-vits-svc-fork)\n",
            "  Downloading starlette-0.27.0-py3-none-any.whl (66 kB)\n",
            "\u001b[2K     \u001b[90m━━━━━━━━━━━━━━━━━━━━━━━━━━━━━━━━━━━━━━━━\u001b[0m \u001b[32m67.0/67.0 kB\u001b[0m \u001b[31m7.9 MB/s\u001b[0m eta \u001b[36m0:00:00\u001b[0m\n",
            "\u001b[?25hRequirement already satisfied: typing-extensions>=4.5.0 in /usr/local/lib/python3.10/dist-packages (from fastapi==0.99.0->so-vits-svc-fork) (4.7.1)\n",
            "Requirement already satisfied: Jinja2<5.0 in /usr/local/lib/python3.10/dist-packages (from lightning<3.0.0,>=2.0.1->so-vits-svc-fork) (3.1.2)\n",
            "Requirement already satisfied: PyYAML<8.0 in /usr/local/lib/python3.10/dist-packages (from lightning<3.0.0,>=2.0.1->so-vits-svc-fork) (6.0)\n",
            "Collecting arrow<3.0,>=1.2.0 (from lightning<3.0.0,>=2.0.1->so-vits-svc-fork)\n",
            "  Downloading arrow-1.2.3-py3-none-any.whl (66 kB)\n",
            "\u001b[2K     \u001b[90m━━━━━━━━━━━━━━━━━━━━━━━━━━━━━━━━━━━━━━━━\u001b[0m \u001b[32m66.4/66.4 kB\u001b[0m \u001b[31m7.9 MB/s\u001b[0m eta \u001b[36m0:00:00\u001b[0m\n",
            "\u001b[?25hCollecting backoff<4.0,>=2.2.1 (from lightning<3.0.0,>=2.0.1->so-vits-svc-fork)\n",
            "  Downloading backoff-2.2.1-py3-none-any.whl (15 kB)\n",
            "Requirement already satisfied: beautifulsoup4<6.0,>=4.8.0 in /usr/local/lib/python3.10/dist-packages (from lightning<3.0.0,>=2.0.1->so-vits-svc-fork) (4.11.2)\n",
            "Requirement already satisfied: click<10.0 in /usr/local/lib/python3.10/dist-packages (from lightning<3.0.0,>=2.0.1->so-vits-svc-fork) (8.1.4)\n",
            "Collecting croniter<1.5.0,>=1.3.0 (from lightning<3.0.0,>=2.0.1->so-vits-svc-fork)\n",
            "  Downloading croniter-1.4.1-py2.py3-none-any.whl (19 kB)\n",
            "Collecting dateutils<2.0 (from lightning<3.0.0,>=2.0.1->so-vits-svc-fork)\n",
            "  Downloading dateutils-0.6.12-py2.py3-none-any.whl (5.7 kB)\n",
            "Collecting deepdiff<8.0,>=5.7.0 (from lightning<3.0.0,>=2.0.1->so-vits-svc-fork)\n",
            "  Downloading deepdiff-6.3.1-py3-none-any.whl (70 kB)\n",
            "\u001b[2K     \u001b[90m━━━━━━━━━━━━━━━━━━━━━━━━━━━━━━━━━━━━━━━━\u001b[0m \u001b[32m70.7/70.7 kB\u001b[0m \u001b[31m7.4 MB/s\u001b[0m eta \u001b[36m0:00:00\u001b[0m\n",
            "\u001b[?25hRequirement already satisfied: fsspec<2025.0,>=2022.5.0 in /usr/local/lib/python3.10/dist-packages (from lightning<3.0.0,>=2.0.1->so-vits-svc-fork) (2023.6.0)\n",
            "Collecting inquirer<5.0,>=2.10.0 (from lightning<3.0.0,>=2.0.1->so-vits-svc-fork)\n",
            "  Downloading inquirer-3.1.3-py3-none-any.whl (18 kB)\n",
            "Collecting lightning-cloud>=0.5.37 (from lightning<3.0.0,>=2.0.1->so-vits-svc-fork)\n",
            "  Downloading lightning_cloud-0.5.37-py3-none-any.whl (596 kB)\n",
            "\u001b[2K     \u001b[90m━━━━━━━━━━━━━━━━━━━━━━━━━━━━━━━━━━━━━━\u001b[0m \u001b[32m596.7/596.7 kB\u001b[0m \u001b[31m47.6 MB/s\u001b[0m eta \u001b[36m0:00:00\u001b[0m\n",
            "\u001b[?25hCollecting lightning-utilities<2.0,>=0.7.0 (from lightning<3.0.0,>=2.0.1->so-vits-svc-fork)\n",
            "  Downloading lightning_utilities-0.9.0-py3-none-any.whl (23 kB)\n",
            "Requirement already satisfied: packaging in /usr/local/lib/python3.10/dist-packages (from lightning<3.0.0,>=2.0.1->so-vits-svc-fork) (23.1)\n",
            "Requirement already satisfied: psutil<7.0 in /usr/local/lib/python3.10/dist-packages (from lightning<3.0.0,>=2.0.1->so-vits-svc-fork) (5.9.5)\n",
            "Collecting python-multipart<2.0,>=0.0.5 (from lightning<3.0.0,>=2.0.1->so-vits-svc-fork)\n",
            "  Downloading python_multipart-0.0.6-py3-none-any.whl (45 kB)\n",
            "\u001b[2K     \u001b[90m━━━━━━━━━━━━━━━━━━━━━━━━━━━━━━━━━━━━━━━━\u001b[0m \u001b[32m45.7/45.7 kB\u001b[0m \u001b[31m4.9 MB/s\u001b[0m eta \u001b[36m0:00:00\u001b[0m\n",
            "\u001b[?25hCollecting starsessions<2.0,>=1.2.1 (from lightning<3.0.0,>=2.0.1->so-vits-svc-fork)\n",
            "  Downloading starsessions-1.3.0-py3-none-any.whl (10 kB)\n",
            "Collecting torchmetrics<2.0,>=0.7.0 (from lightning<3.0.0,>=2.0.1->so-vits-svc-fork)\n",
            "  Downloading torchmetrics-1.0.0-py3-none-any.whl (728 kB)\n",
            "\u001b[2K     \u001b[90m━━━━━━━━━━━━━━━━━━━━━━━━━━━━━━━━━━━━━━\u001b[0m \u001b[32m728.8/728.8 kB\u001b[0m \u001b[31m49.5 MB/s\u001b[0m eta \u001b[36m0:00:00\u001b[0m\n",
            "\u001b[?25hRequirement already satisfied: traitlets<7.0,>=5.3.0 in /usr/local/lib/python3.10/dist-packages (from lightning<3.0.0,>=2.0.1->so-vits-svc-fork) (5.7.1)\n",
            "Requirement already satisfied: urllib3<4.0 in /usr/local/lib/python3.10/dist-packages (from lightning<3.0.0,>=2.0.1->so-vits-svc-fork) (1.26.16)\n",
            "Collecting uvicorn<2.0 (from lightning<3.0.0,>=2.0.1->so-vits-svc-fork)\n",
            "  Downloading uvicorn-0.22.0-py3-none-any.whl (58 kB)\n",
            "\u001b[2K     \u001b[90m━━━━━━━━━━━━━━━━━━━━━━━━━━━━━━━━━━━━━━━━\u001b[0m \u001b[32m58.3/58.3 kB\u001b[0m \u001b[31m7.2 MB/s\u001b[0m eta \u001b[36m0:00:00\u001b[0m\n",
            "\u001b[?25hRequirement already satisfied: websocket-client<3.0 in /usr/local/lib/python3.10/dist-packages (from lightning<3.0.0,>=2.0.1->so-vits-svc-fork) (1.6.1)\n",
            "Collecting websockets<13.0 (from lightning<3.0.0,>=2.0.1->so-vits-svc-fork)\n",
            "  Downloading websockets-11.0.3-cp310-cp310-manylinux_2_5_x86_64.manylinux1_x86_64.manylinux_2_17_x86_64.manylinux2014_x86_64.whl (129 kB)\n",
            "\u001b[2K     \u001b[90m━━━━━━━━━━━━━━━━━━━━━━━━━━━━━━━━━━━━━━\u001b[0m \u001b[32m129.9/129.9 kB\u001b[0m \u001b[31m12.4 MB/s\u001b[0m eta \u001b[36m0:00:00\u001b[0m\n",
            "\u001b[?25hCollecting pytorch-lightning (from lightning<3.0.0,>=2.0.1->so-vits-svc-fork)\n",
            "  Downloading pytorch_lightning-2.0.5-py3-none-any.whl (722 kB)\n",
            "\u001b[2K     \u001b[90m━━━━━━━━━━━━━━━━━━━━━━━━━━━━━━━━━━━━━━\u001b[0m \u001b[32m722.4/722.4 kB\u001b[0m \u001b[31m54.2 MB/s\u001b[0m eta \u001b[36m0:00:00\u001b[0m\n",
            "\u001b[?25hRequirement already satisfied: contourpy>=1.0.1 in /usr/local/lib/python3.10/dist-packages (from matplotlib<4.0.0,>=3.7.1->so-vits-svc-fork) (1.1.0)\n",
            "Requirement already satisfied: cycler>=0.10 in /usr/local/lib/python3.10/dist-packages (from matplotlib<4.0.0,>=3.7.1->so-vits-svc-fork) (0.11.0)\n",
            "Requirement already satisfied: fonttools>=4.22.0 in /usr/local/lib/python3.10/dist-packages (from matplotlib<4.0.0,>=3.7.1->so-vits-svc-fork) (4.40.0)\n",
            "Requirement already satisfied: kiwisolver>=1.0.1 in /usr/local/lib/python3.10/dist-packages (from matplotlib<4.0.0,>=3.7.1->so-vits-svc-fork) (1.4.4)\n",
            "Requirement already satisfied: pillow>=6.2.0 in /usr/local/lib/python3.10/dist-packages (from matplotlib<4.0.0,>=3.7.1->so-vits-svc-fork) (8.4.0)\n",
            "Requirement already satisfied: pyparsing>=2.3.1 in /usr/local/lib/python3.10/dist-packages (from matplotlib<4.0.0,>=3.7.1->so-vits-svc-fork) (3.1.0)\n",
            "Requirement already satisfied: python-dateutil>=2.7 in /usr/local/lib/python3.10/dist-packages (from matplotlib<4.0.0,>=3.7.1->so-vits-svc-fork) (2.8.2)\n",
            "Requirement already satisfied: certifi>=2017.4.17 in /usr/local/lib/python3.10/dist-packages (from requests->so-vits-svc-fork) (2023.5.7)\n",
            "Requirement already satisfied: charset-normalizer~=2.0.0 in /usr/local/lib/python3.10/dist-packages (from requests->so-vits-svc-fork) (2.0.12)\n",
            "Requirement already satisfied: idna<4,>=2.5 in /usr/local/lib/python3.10/dist-packages (from requests->so-vits-svc-fork) (3.4)\n",
            "Requirement already satisfied: markdown-it-py>=2.2.0 in /usr/local/lib/python3.10/dist-packages (from rich->so-vits-svc-fork) (3.0.0)\n",
            "Requirement already satisfied: pygments<3.0.0,>=2.13.0 in /usr/local/lib/python3.10/dist-packages (from rich->so-vits-svc-fork) (2.14.0)\n",
            "Requirement already satisfied: filelock in /usr/local/lib/python3.10/dist-packages (from torch->so-vits-svc-fork) (3.12.2)\n",
            "Requirement already satisfied: sympy in /usr/local/lib/python3.10/dist-packages (from torch->so-vits-svc-fork) (1.11.1)\n",
            "Requirement already satisfied: networkx in /usr/local/lib/python3.10/dist-packages (from torch->so-vits-svc-fork) (3.1)\n",
            "Requirement already satisfied: triton==2.0.0 in /usr/local/lib/python3.10/dist-packages (from torch->so-vits-svc-fork) (2.0.0)\n",
            "Requirement already satisfied: cmake in /usr/local/lib/python3.10/dist-packages (from triton==2.0.0->torch->so-vits-svc-fork) (3.25.2)\n",
            "Requirement already satisfied: lit in /usr/local/lib/python3.10/dist-packages (from triton==2.0.0->torch->so-vits-svc-fork) (16.0.6)\n",
            "Collecting librosa (from so-vits-svc-fork)\n",
            "  Downloading librosa-0.9.1-py3-none-any.whl (213 kB)\n",
            "\u001b[2K     \u001b[90m━━━━━━━━━━━━━━━━━━━━━━━━━━━━━━━━━━━━━━\u001b[0m \u001b[32m213.1/213.1 kB\u001b[0m \u001b[31m15.3 MB/s\u001b[0m eta \u001b[36m0:00:00\u001b[0m\n",
            "\u001b[?25hCollecting resampy (from torchcrepe>=0.0.17->so-vits-svc-fork)\n",
            "  Downloading resampy-0.4.2-py3-none-any.whl (3.1 MB)\n",
            "\u001b[2K     \u001b[90m━━━━━━━━━━━━━━━━━━━━━━━━━━━━━━━━━━━━━━━━\u001b[0m \u001b[32m3.1/3.1 MB\u001b[0m \u001b[31m39.7 MB/s\u001b[0m eta \u001b[36m0:00:00\u001b[0m\n",
            "\u001b[?25hRequirement already satisfied: audioread>=2.1.5 in /usr/local/lib/python3.10/dist-packages (from librosa->so-vits-svc-fork) (3.0.0)\n",
            "Requirement already satisfied: scikit-learn>=0.19.1 in /usr/local/lib/python3.10/dist-packages (from librosa->so-vits-svc-fork) (1.2.2)\n",
            "Requirement already satisfied: joblib>=0.14 in /usr/local/lib/python3.10/dist-packages (from librosa->so-vits-svc-fork) (1.3.1)\n",
            "Requirement already satisfied: decorator>=4.0.10 in /usr/local/lib/python3.10/dist-packages (from librosa->so-vits-svc-fork) (4.4.2)\n",
            "Requirement already satisfied: numba>=0.45.1 in /usr/local/lib/python3.10/dist-packages (from librosa->so-vits-svc-fork) (0.56.4)\n",
            "Requirement already satisfied: pooch>=1.0 in /usr/local/lib/python3.10/dist-packages (from librosa->so-vits-svc-fork) (1.6.0)\n",
            "Requirement already satisfied: cffi>=1.0 in /usr/local/lib/python3.10/dist-packages (from SoundFile->so-vits-svc-fork) (1.15.1)\n",
            "Collecting huggingface-hub<1.0,>=0.14.1 (from transformers<5.0.0,>=4.28.1->so-vits-svc-fork)\n",
            "  Downloading huggingface_hub-0.16.4-py3-none-any.whl (268 kB)\n",
            "\u001b[2K     \u001b[90m━━━━━━━━━━━━━━━━━━━━━━━━━━━━━━━━━━━━━━\u001b[0m \u001b[32m268.8/268.8 kB\u001b[0m \u001b[31m28.4 MB/s\u001b[0m eta \u001b[36m0:00:00\u001b[0m\n",
            "\u001b[?25hRequirement already satisfied: regex!=2019.12.17 in /usr/local/lib/python3.10/dist-packages (from transformers<5.0.0,>=4.28.1->so-vits-svc-fork) (2022.10.31)\n",
            "Collecting tokenizers!=0.11.3,<0.14,>=0.11.1 (from transformers<5.0.0,>=4.28.1->so-vits-svc-fork)\n",
            "  Downloading tokenizers-0.13.3-cp310-cp310-manylinux_2_17_x86_64.manylinux2014_x86_64.whl (7.8 MB)\n",
            "\u001b[2K     \u001b[90m━━━━━━━━━━━━━━━━━━━━━━━━━━━━━━━━━━━━━━━━\u001b[0m \u001b[32m7.8/7.8 MB\u001b[0m \u001b[31m100.6 MB/s\u001b[0m eta \u001b[36m0:00:00\u001b[0m\n",
            "\u001b[?25hCollecting safetensors>=0.3.1 (from transformers<5.0.0,>=4.28.1->so-vits-svc-fork)\n",
            "  Downloading safetensors-0.3.1-cp310-cp310-manylinux_2_17_x86_64.manylinux2014_x86_64.whl (1.3 MB)\n",
            "\u001b[2K     \u001b[90m━━━━━━━━━━━━━━━━━━━━━━━━━━━━━━━━━━━━━━━━\u001b[0m \u001b[32m1.3/1.3 MB\u001b[0m \u001b[31m77.4 MB/s\u001b[0m eta \u001b[36m0:00:00\u001b[0m\n",
            "\u001b[?25hRequirement already satisfied: protobuf>=3.20.2 in /usr/local/lib/python3.10/dist-packages (from onnx->so-vits-svc-fork) (3.20.3)\n",
            "Requirement already satisfied: cython>=0.24 in /usr/local/lib/python3.10/dist-packages (from pyworld->so-vits-svc-fork) (0.29.36)\n",
            "Requirement already satisfied: absl-py>=0.4 in /usr/local/lib/python3.10/dist-packages (from tensorboard->so-vits-svc-fork) (1.4.0)\n",
            "Requirement already satisfied: grpcio>=1.48.2 in /usr/local/lib/python3.10/dist-packages (from tensorboard->so-vits-svc-fork) (1.56.0)\n",
            "Requirement already satisfied: google-auth<3,>=1.6.3 in /usr/local/lib/python3.10/dist-packages (from tensorboard->so-vits-svc-fork) (2.17.3)\n",
            "Requirement already satisfied: google-auth-oauthlib<1.1,>=0.5 in /usr/local/lib/python3.10/dist-packages (from tensorboard->so-vits-svc-fork) (1.0.0)\n",
            "Requirement already satisfied: markdown>=2.6.8 in /usr/local/lib/python3.10/dist-packages (from tensorboard->so-vits-svc-fork) (3.4.3)\n",
            "Requirement already satisfied: setuptools>=41.0.0 in /usr/local/lib/python3.10/dist-packages (from tensorboard->so-vits-svc-fork) (67.7.2)\n",
            "Requirement already satisfied: tensorboard-data-server<0.8.0,>=0.7.0 in /usr/local/lib/python3.10/dist-packages (from tensorboard->so-vits-svc-fork) (0.7.1)\n",
            "Requirement already satisfied: werkzeug>=1.0.1 in /usr/local/lib/python3.10/dist-packages (from tensorboard->so-vits-svc-fork) (2.3.6)\n",
            "Requirement already satisfied: wheel>=0.26 in /usr/local/lib/python3.10/dist-packages (from tensorboard->so-vits-svc-fork) (0.40.0)\n",
            "Collecting protobuf>=3.20.2 (from onnx->so-vits-svc-fork)\n",
            "  Downloading protobuf-4.23.4-cp37-abi3-manylinux2014_x86_64.whl (304 kB)\n",
            "\u001b[2K     \u001b[90m━━━━━━━━━━━━━━━━━━━━━━━━━━━━━━━━━━━━━━\u001b[0m \u001b[32m304.5/304.5 kB\u001b[0m \u001b[31m29.6 MB/s\u001b[0m eta \u001b[36m0:00:00\u001b[0m\n",
            "\u001b[?25hRequirement already satisfied: soupsieve>1.2 in /usr/local/lib/python3.10/dist-packages (from beautifulsoup4<6.0,>=4.8.0->lightning<3.0.0,>=2.0.1->so-vits-svc-fork) (2.4.1)\n",
            "Requirement already satisfied: pycparser in /usr/local/lib/python3.10/dist-packages (from cffi>=1.0->SoundFile->so-vits-svc-fork) (2.21)\n",
            "Requirement already satisfied: pytz in /usr/local/lib/python3.10/dist-packages (from dateutils<2.0->lightning<3.0.0,>=2.0.1->so-vits-svc-fork) (2022.7.1)\n",
            "Collecting ordered-set<4.2.0,>=4.0.2 (from deepdiff<8.0,>=5.7.0->lightning<3.0.0,>=2.0.1->so-vits-svc-fork)\n",
            "  Downloading ordered_set-4.1.0-py3-none-any.whl (7.6 kB)\n",
            "Requirement already satisfied: aiohttp!=4.0.0a0,!=4.0.0a1 in /usr/local/lib/python3.10/dist-packages (from fsspec<2025.0,>=2022.5.0->lightning<3.0.0,>=2.0.1->so-vits-svc-fork) (3.8.4)\n",
            "Requirement already satisfied: cachetools<6.0,>=2.0.0 in /usr/local/lib/python3.10/dist-packages (from google-auth<3,>=1.6.3->tensorboard->so-vits-svc-fork) (5.3.1)\n",
            "Requirement already satisfied: pyasn1-modules>=0.2.1 in /usr/local/lib/python3.10/dist-packages (from google-auth<3,>=1.6.3->tensorboard->so-vits-svc-fork) (0.3.0)\n",
            "Requirement already satisfied: six>=1.9.0 in /usr/local/lib/python3.10/dist-packages (from google-auth<3,>=1.6.3->tensorboard->so-vits-svc-fork) (1.16.0)\n",
            "Requirement already satisfied: rsa<5,>=3.1.4 in /usr/local/lib/python3.10/dist-packages (from google-auth<3,>=1.6.3->tensorboard->so-vits-svc-fork) (4.9)\n",
            "Requirement already satisfied: requests-oauthlib>=0.7.0 in /usr/local/lib/python3.10/dist-packages (from google-auth-oauthlib<1.1,>=0.5->tensorboard->so-vits-svc-fork) (1.3.1)\n",
            "Collecting blessed>=1.19.0 (from inquirer<5.0,>=2.10.0->lightning<3.0.0,>=2.0.1->so-vits-svc-fork)\n",
            "  Downloading blessed-1.20.0-py2.py3-none-any.whl (58 kB)\n",
            "\u001b[2K     \u001b[90m━━━━━━━━━━━━━━━━━━━━━━━━━━━━━━━━━━━━━━━━\u001b[0m \u001b[32m58.4/58.4 kB\u001b[0m \u001b[31m7.6 MB/s\u001b[0m eta \u001b[36m0:00:00\u001b[0m\n",
            "\u001b[?25hCollecting python-editor>=1.0.4 (from inquirer<5.0,>=2.10.0->lightning<3.0.0,>=2.0.1->so-vits-svc-fork)\n",
            "  Downloading python_editor-1.0.4-py3-none-any.whl (4.9 kB)\n",
            "Collecting readchar>=3.0.6 (from inquirer<5.0,>=2.10.0->lightning<3.0.0,>=2.0.1->so-vits-svc-fork)\n",
            "  Downloading readchar-4.0.5-py3-none-any.whl (8.5 kB)\n",
            "Requirement already satisfied: MarkupSafe>=2.0 in /usr/local/lib/python3.10/dist-packages (from Jinja2<5.0->lightning<3.0.0,>=2.0.1->so-vits-svc-fork) (2.1.3)\n",
            "Collecting pyjwt (from lightning-cloud>=0.5.37->lightning<3.0.0,>=2.0.1->so-vits-svc-fork)\n",
            "  Downloading PyJWT-2.7.0-py3-none-any.whl (22 kB)\n",
            "Requirement already satisfied: mdurl~=0.1 in /usr/local/lib/python3.10/dist-packages (from markdown-it-py>=2.2.0->rich->so-vits-svc-fork) (0.1.2)\n",
            "Requirement already satisfied: llvmlite<0.40,>=0.39.0dev0 in /usr/local/lib/python3.10/dist-packages (from numba>=0.45.1->librosa->so-vits-svc-fork) (0.39.1)\n",
            "Collecting numpy<2.0,>=1.23 (from so-vits-svc-fork)\n",
            "  Downloading numpy-1.23.5-cp310-cp310-manylinux_2_17_x86_64.manylinux2014_x86_64.whl (17.1 MB)\n",
            "\u001b[2K     \u001b[90m━━━━━━━━━━━━━━━━━━━━━━━━━━━━━━━━━━━━━━━━\u001b[0m \u001b[32m17.1/17.1 MB\u001b[0m \u001b[31m95.6 MB/s\u001b[0m eta \u001b[36m0:00:00\u001b[0m\n",
            "\u001b[?25hRequirement already satisfied: appdirs>=1.3.0 in /usr/local/lib/python3.10/dist-packages (from pooch>=1.0->librosa->so-vits-svc-fork) (1.4.4)\n",
            "Requirement already satisfied: threadpoolctl>=2.0.0 in /usr/local/lib/python3.10/dist-packages (from scikit-learn>=0.19.1->librosa->so-vits-svc-fork) (3.1.0)\n",
            "Requirement already satisfied: anyio<5,>=3.4.0 in /usr/local/lib/python3.10/dist-packages (from starlette<0.28.0,>=0.27.0->fastapi==0.99.0->so-vits-svc-fork) (3.7.1)\n",
            "Requirement already satisfied: itsdangerous<3.0.0,>=2.0.1 in /usr/local/lib/python3.10/dist-packages (from starsessions<2.0,>=1.2.1->lightning<3.0.0,>=2.0.1->so-vits-svc-fork) (2.1.2)\n",
            "Collecting h11>=0.8 (from uvicorn<2.0->lightning<3.0.0,>=2.0.1->so-vits-svc-fork)\n",
            "  Downloading h11-0.14.0-py3-none-any.whl (58 kB)\n",
            "\u001b[2K     \u001b[90m━━━━━━━━━━━━━━━━━━━━━━━━━━━━━━━━━━━━━━━━\u001b[0m \u001b[32m58.3/58.3 kB\u001b[0m \u001b[31m7.9 MB/s\u001b[0m eta \u001b[36m0:00:00\u001b[0m\n",
            "\u001b[?25hRequirement already satisfied: mpmath>=0.19 in /usr/local/lib/python3.10/dist-packages (from sympy->torch->so-vits-svc-fork) (1.3.0)\n",
            "Requirement already satisfied: attrs>=17.3.0 in /usr/local/lib/python3.10/dist-packages (from aiohttp!=4.0.0a0,!=4.0.0a1->fsspec<2025.0,>=2022.5.0->lightning<3.0.0,>=2.0.1->so-vits-svc-fork) (23.1.0)\n",
            "Requirement already satisfied: multidict<7.0,>=4.5 in /usr/local/lib/python3.10/dist-packages (from aiohttp!=4.0.0a0,!=4.0.0a1->fsspec<2025.0,>=2022.5.0->lightning<3.0.0,>=2.0.1->so-vits-svc-fork) (6.0.4)\n",
            "Requirement already satisfied: async-timeout<5.0,>=4.0.0a3 in /usr/local/lib/python3.10/dist-packages (from aiohttp!=4.0.0a0,!=4.0.0a1->fsspec<2025.0,>=2022.5.0->lightning<3.0.0,>=2.0.1->so-vits-svc-fork) (4.0.2)\n",
            "Requirement already satisfied: yarl<2.0,>=1.0 in /usr/local/lib/python3.10/dist-packages (from aiohttp!=4.0.0a0,!=4.0.0a1->fsspec<2025.0,>=2022.5.0->lightning<3.0.0,>=2.0.1->so-vits-svc-fork) (1.9.2)\n",
            "Requirement already satisfied: frozenlist>=1.1.1 in /usr/local/lib/python3.10/dist-packages (from aiohttp!=4.0.0a0,!=4.0.0a1->fsspec<2025.0,>=2022.5.0->lightning<3.0.0,>=2.0.1->so-vits-svc-fork) (1.3.3)\n",
            "Requirement already satisfied: aiosignal>=1.1.2 in /usr/local/lib/python3.10/dist-packages (from aiohttp!=4.0.0a0,!=4.0.0a1->fsspec<2025.0,>=2022.5.0->lightning<3.0.0,>=2.0.1->so-vits-svc-fork) (1.3.1)\n",
            "Requirement already satisfied: sniffio>=1.1 in /usr/local/lib/python3.10/dist-packages (from anyio<5,>=3.4.0->starlette<0.28.0,>=0.27.0->fastapi==0.99.0->so-vits-svc-fork) (1.3.0)\n",
            "Requirement already satisfied: exceptiongroup in /usr/local/lib/python3.10/dist-packages (from anyio<5,>=3.4.0->starlette<0.28.0,>=0.27.0->fastapi==0.99.0->so-vits-svc-fork) (1.1.2)\n",
            "Requirement already satisfied: wcwidth>=0.1.4 in /usr/local/lib/python3.10/dist-packages (from blessed>=1.19.0->inquirer<5.0,>=2.10.0->lightning<3.0.0,>=2.0.1->so-vits-svc-fork) (0.2.6)\n",
            "Requirement already satisfied: pyasn1<0.6.0,>=0.4.6 in /usr/local/lib/python3.10/dist-packages (from pyasn1-modules>=0.2.1->google-auth<3,>=1.6.3->tensorboard->so-vits-svc-fork) (0.5.0)\n",
            "Requirement already satisfied: oauthlib>=3.0.0 in /usr/local/lib/python3.10/dist-packages (from requests-oauthlib>=0.7.0->google-auth-oauthlib<1.1,>=0.5->tensorboard->so-vits-svc-fork) (3.2.2)\n",
            "Building wheels for collected packages: pyworld, tqdm-joblib\n",
            "  Building wheel for pyworld (pyproject.toml) ... \u001b[?25l\u001b[?25hdone\n",
            "  Created wheel for pyworld: filename=pyworld-0.3.3-cp310-cp310-linux_x86_64.whl size=887644 sha256=0912fd9b666ef592c8ef98985725a29151a5ce6ebb5cca34ed670a12e20cfd65\n",
            "  Stored in directory: /root/.cache/pip/wheels/70/50/a9/36b47c7f055bbee666a2b5718aaf85bce2152ef90f9bd10697\n",
            "  Building wheel for tqdm-joblib (setup.py) ... \u001b[?25l\u001b[?25hdone\n",
            "  Created wheel for tqdm-joblib: filename=tqdm_joblib-0.0.3-py3-none-any.whl size=1631 sha256=f416c9eecc10d37f1e313ad0d402b3b72bc4855049766d7cbd00d05cd3689e05\n",
            "  Stored in directory: /root/.cache/pip/wheels/68/bc/33/47a70346aa7f8953ca185e3485dc2b5b5dc5f233b4d6c6e8f1\n",
            "Successfully built pyworld tqdm-joblib\n",
            "Installing collected packages: tokenizers, safetensors, python-editor, pysimplegui, websockets, tqdm-joblib, readchar, python-multipart, pyjwt, protobuf, pebble, ordered-set, numpy, lightning-utilities, h11, cm-time, blessed, backoff, uvicorn, tensorboardx, starlette, sounddevice, pyworld, praat-parselmouth, onnx, inquirer, huggingface-hub, deepdiff, dateutils, croniter, arrow, transformers, starsessions, resampy, onnxsim, onnxoptimizer, fastapi, lightning-cloud, librosa, torchmetrics, pytorch-lightning, torchcrepe, lightning, so-vits-svc-fork\n",
            "  Attempting uninstall: protobuf\n",
            "    Found existing installation: protobuf 3.20.3\n",
            "    Uninstalling protobuf-3.20.3:\n",
            "      Successfully uninstalled protobuf-3.20.3\n",
            "  Attempting uninstall: numpy\n",
            "    Found existing installation: numpy 1.22.4\n",
            "    Uninstalling numpy-1.22.4:\n",
            "      Successfully uninstalled numpy-1.22.4\n",
            "  Attempting uninstall: librosa\n",
            "    Found existing installation: librosa 0.10.0.post2\n",
            "    Uninstalling librosa-0.10.0.post2:\n",
            "      Successfully uninstalled librosa-0.10.0.post2\n",
            "Successfully installed arrow-1.2.3 backoff-2.2.1 blessed-1.20.0 cm-time-0.1.2 croniter-1.4.1 dateutils-0.6.12 deepdiff-6.3.1 fastapi-0.99.0 h11-0.14.0 huggingface-hub-0.16.4 inquirer-3.1.3 librosa-0.9.1 lightning-2.0.5 lightning-cloud-0.5.37 lightning-utilities-0.9.0 numpy-1.23.5 onnx-1.14.0 onnxoptimizer-0.3.13 onnxsim-0.4.33 ordered-set-4.1.0 pebble-5.0.3 praat-parselmouth-0.4.3 protobuf-4.23.4 pyjwt-2.7.0 pysimplegui-4.60.5 python-editor-1.0.4 python-multipart-0.0.6 pytorch-lightning-2.0.5 pyworld-0.3.3 readchar-4.0.5 resampy-0.4.2 safetensors-0.3.1 so-vits-svc-fork-4.1.1 sounddevice-0.4.6 starlette-0.27.0 starsessions-1.3.0 tensorboardx-2.6.1 tokenizers-0.13.3 torchcrepe-0.0.20 torchmetrics-1.0.0 tqdm-joblib-0.0.3 transformers-4.30.2 uvicorn-0.22.0 websockets-11.0.3\n"
          ]
        },
        {
          "output_type": "display_data",
          "data": {
            "application/vnd.colab-display-data+json": {
              "pip_warning": {
                "packages": [
                  "numpy"
                ]
              }
            }
          },
          "metadata": {}
        }
      ]
    },
    {
      "cell_type": "code",
      "source": [
        "!mkdir -p ./so-vits-svc-fork/models/ru-saya\n",
        "!wget -O ./so-vits-svc-fork/models/ru-saya/config.json https://huggingface.co/fnx/so-vits-svc-4.0-ru-saya/raw/main/config.json\n",
        "!wget -O ./so-vits-svc-fork/models/ru-saya/G_10000.pth https://huggingface.co/fnx/so-vits-svc-4.0-ru-saya/resolve/main/G_10000.pth"
      ],
      "metadata": {
        "colab": {
          "base_uri": "https://localhost:8080/"
        },
        "id": "zImLhjOsHCsY",
        "outputId": "86282536-8e9f-4e97-8215-32b447fc5ac0"
      },
      "execution_count": 5,
      "outputs": [
        {
          "output_type": "stream",
          "name": "stdout",
          "text": [
            "--2023-07-11 16:54:19--  https://huggingface.co/fnx/so-vits-svc-4.0-ru-saya/raw/main/config.json\n",
            "Resolving huggingface.co (huggingface.co)... 13.32.121.112, 13.32.121.4, 13.32.121.124, ...\n",
            "Connecting to huggingface.co (huggingface.co)|13.32.121.112|:443... connected.\n",
            "HTTP request sent, awaiting response... 200 OK\n",
            "Length: 1719 (1.7K) [text/plain]\n",
            "Saving to: ‘./so-vits-svc-fork/models/ru-saya/config.json’\n",
            "\n",
            "\r          ./so-vits   0%[                    ]       0  --.-KB/s               \r./so-vits-svc-fork/ 100%[===================>]   1.68K  --.-KB/s    in 0s      \n",
            "\n",
            "2023-07-11 16:54:19 (419 MB/s) - ‘./so-vits-svc-fork/models/ru-saya/config.json’ saved [1719/1719]\n",
            "\n",
            "--2023-07-11 16:54:19--  https://huggingface.co/fnx/so-vits-svc-4.0-ru-saya/resolve/main/G_10000.pth\n",
            "Resolving huggingface.co (huggingface.co)... 13.32.121.112, 13.32.121.4, 13.32.121.124, ...\n",
            "Connecting to huggingface.co (huggingface.co)|13.32.121.112|:443... connected.\n",
            "HTTP request sent, awaiting response... 302 Found\n",
            "Location: https://cdn-lfs.huggingface.co/repos/e3/6e/e36edc23177794cea10e348ce8f6f709a504e0889f7660e3419c01e6cf019231/b3f9a8210fc7ab9a1de21952542276f43e12ae0a3eecf4f41bd176a4e01c76d2?response-content-disposition=attachment%3B+filename*%3DUTF-8%27%27G_10000.pth%3B+filename%3D%22G_10000.pth%22%3B&Expires=1689353659&Policy=eyJTdGF0ZW1lbnQiOlt7IkNvbmRpdGlvbiI6eyJEYXRlTGVzc1RoYW4iOnsiQVdTOkVwb2NoVGltZSI6MTY4OTM1MzY1OX19LCJSZXNvdXJjZSI6Imh0dHBzOi8vY2RuLWxmcy5odWdnaW5nZmFjZS5jby9yZXBvcy9lMy82ZS9lMzZlZGMyMzE3Nzc5NGNlYTEwZTM0OGNlOGY2ZjcwOWE1MDRlMDg4OWY3NjYwZTM0MTljMDFlNmNmMDE5MjMxL2IzZjlhODIxMGZjN2FiOWExZGUyMTk1MjU0MjI3NmY0M2UxMmFlMGEzZWVjZjRmNDFiZDE3NmE0ZTAxYzc2ZDI%7EcmVzcG9uc2UtY29udGVudC1kaXNwb3NpdGlvbj0qIn1dfQ__&Signature=prBsO3ds6LnBqxDdOhkyliPikaVnjGhAWIhAIHBJzx9KJjfn4S-dJqPWhd-CtAAEda06SI5yGPL1GM7avikHH0PLIobZJ9w4jQsuSb17Y0aJ9Aj-bynGp4BjpdjEIU8kNV00kDS04BcBSV2DeMNF9tZiDyrsuyubSejX6bCWsCyx4wYC7xQw5KX2fXcG2Pd1iGbTJmm75xpCKL5ddG3vGMSwyzqFb5mW0uHsDD6wAqti%7E82RHKOPrQlOCUmmMyfCbHHERzgdjpKEaH7NncUSpmJDRGUpo573cQDYWj8uWSGZCe3SxkPgUBn9UojrCErhcwgFb%7EBGIQoK6UHSn8E3Gw__&Key-Pair-Id=KVTP0A1DKRTAX [following]\n",
            "--2023-07-11 16:54:19--  https://cdn-lfs.huggingface.co/repos/e3/6e/e36edc23177794cea10e348ce8f6f709a504e0889f7660e3419c01e6cf019231/b3f9a8210fc7ab9a1de21952542276f43e12ae0a3eecf4f41bd176a4e01c76d2?response-content-disposition=attachment%3B+filename*%3DUTF-8%27%27G_10000.pth%3B+filename%3D%22G_10000.pth%22%3B&Expires=1689353659&Policy=eyJTdGF0ZW1lbnQiOlt7IkNvbmRpdGlvbiI6eyJEYXRlTGVzc1RoYW4iOnsiQVdTOkVwb2NoVGltZSI6MTY4OTM1MzY1OX19LCJSZXNvdXJjZSI6Imh0dHBzOi8vY2RuLWxmcy5odWdnaW5nZmFjZS5jby9yZXBvcy9lMy82ZS9lMzZlZGMyMzE3Nzc5NGNlYTEwZTM0OGNlOGY2ZjcwOWE1MDRlMDg4OWY3NjYwZTM0MTljMDFlNmNmMDE5MjMxL2IzZjlhODIxMGZjN2FiOWExZGUyMTk1MjU0MjI3NmY0M2UxMmFlMGEzZWVjZjRmNDFiZDE3NmE0ZTAxYzc2ZDI%7EcmVzcG9uc2UtY29udGVudC1kaXNwb3NpdGlvbj0qIn1dfQ__&Signature=prBsO3ds6LnBqxDdOhkyliPikaVnjGhAWIhAIHBJzx9KJjfn4S-dJqPWhd-CtAAEda06SI5yGPL1GM7avikHH0PLIobZJ9w4jQsuSb17Y0aJ9Aj-bynGp4BjpdjEIU8kNV00kDS04BcBSV2DeMNF9tZiDyrsuyubSejX6bCWsCyx4wYC7xQw5KX2fXcG2Pd1iGbTJmm75xpCKL5ddG3vGMSwyzqFb5mW0uHsDD6wAqti%7E82RHKOPrQlOCUmmMyfCbHHERzgdjpKEaH7NncUSpmJDRGUpo573cQDYWj8uWSGZCe3SxkPgUBn9UojrCErhcwgFb%7EBGIQoK6UHSn8E3Gw__&Key-Pair-Id=KVTP0A1DKRTAX\n",
            "Resolving cdn-lfs.huggingface.co (cdn-lfs.huggingface.co)... 108.156.60.44, 108.156.60.37, 108.156.60.109, ...\n",
            "Connecting to cdn-lfs.huggingface.co (cdn-lfs.huggingface.co)|108.156.60.44|:443... connected.\n",
            "HTTP request sent, awaiting response... 200 OK\n",
            "Length: 542789469 (518M) [application/zip]\n",
            "Saving to: ‘./so-vits-svc-fork/models/ru-saya/G_10000.pth’\n",
            "\n",
            "./so-vits-svc-fork/ 100%[===================>] 517.64M  38.7MB/s    in 14s     \n",
            "\n",
            "2023-07-11 16:54:34 (37.3 MB/s) - ‘./so-vits-svc-fork/models/ru-saya/G_10000.pth’ saved [542789469/542789469]\n",
            "\n"
          ]
        }
      ]
    },
    {
      "cell_type": "code",
      "source": [
        "!pip install -r silero/requirements.txt"
      ],
      "metadata": {
        "colab": {
          "base_uri": "https://localhost:8080/"
        },
        "id": "-aCpkxag03ul",
        "outputId": "fbf51372-5eaa-46da-d871-168b163b2cef"
      },
      "execution_count": 6,
      "outputs": [
        {
          "output_type": "stream",
          "name": "stdout",
          "text": [
            "Collecting transliterate (from -r silero/requirements.txt (line 1))\n",
            "  Downloading transliterate-1.10.2-py2.py3-none-any.whl (45 kB)\n",
            "\u001b[?25l     \u001b[90m━━━━━━━━━━━━━━━━━━━━━━━━━━━━━━━━━━━━━━━━\u001b[0m \u001b[32m0.0/45.8 kB\u001b[0m \u001b[31m?\u001b[0m eta \u001b[36m-:--:--\u001b[0m\r\u001b[2K     \u001b[90m━━━━━━━━━━━━━━━━━━━━━━━━━━━━━━━━━━━━━━━━\u001b[0m \u001b[32m45.8/45.8 kB\u001b[0m \u001b[31m3.0 MB/s\u001b[0m eta \u001b[36m0:00:00\u001b[0m\n",
            "\u001b[?25hCollecting num2words (from -r silero/requirements.txt (line 2))\n",
            "  Downloading num2words-0.5.12-py3-none-any.whl (125 kB)\n",
            "\u001b[?25l     \u001b[90m━━━━━━━━━━━━━━━━━━━━━━━━━━━━━━━━━━━━━━━━\u001b[0m \u001b[32m0.0/125.2 kB\u001b[0m \u001b[31m?\u001b[0m eta \u001b[36m-:--:--\u001b[0m\r\u001b[2K     \u001b[90m━━━━━━━━━━━━━━━━━━━━━━━━━━━━━━━━━━━━━━\u001b[0m \u001b[32m125.2/125.2 kB\u001b[0m \u001b[31m12.2 MB/s\u001b[0m eta \u001b[36m0:00:00\u001b[0m\n",
            "\u001b[?25hCollecting pypandoc (from -r silero/requirements.txt (line 3))\n",
            "  Downloading pypandoc-1.11-py3-none-any.whl (20 kB)\n",
            "Collecting ffmpeg-python (from -r silero/requirements.txt (line 4))\n",
            "  Downloading ffmpeg_python-0.2.0-py3-none-any.whl (25 kB)\n",
            "Requirement already satisfied: six>=1.1.0 in /usr/local/lib/python3.10/dist-packages (from transliterate->-r silero/requirements.txt (line 1)) (1.16.0)\n",
            "Collecting docopt>=0.6.2 (from num2words->-r silero/requirements.txt (line 2))\n",
            "  Downloading docopt-0.6.2.tar.gz (25 kB)\n",
            "  Preparing metadata (setup.py) ... \u001b[?25l\u001b[?25hdone\n",
            "Requirement already satisfied: future in /usr/local/lib/python3.10/dist-packages (from ffmpeg-python->-r silero/requirements.txt (line 4)) (0.18.3)\n",
            "Building wheels for collected packages: docopt\n",
            "  Building wheel for docopt (setup.py) ... \u001b[?25l\u001b[?25hdone\n",
            "  Created wheel for docopt: filename=docopt-0.6.2-py2.py3-none-any.whl size=13707 sha256=2971b69524d6a5f03c5a05c1da7b6e1a04267b464eed574b18fc2f5fdc9cca81\n",
            "  Stored in directory: /root/.cache/pip/wheels/fc/ab/d4/5da2067ac95b36618c629a5f93f809425700506f72c9732fac\n",
            "Successfully built docopt\n",
            "Installing collected packages: docopt, transliterate, pypandoc, num2words, ffmpeg-python\n",
            "Successfully installed docopt-0.6.2 ffmpeg-python-0.2.0 num2words-0.5.12 pypandoc-1.11 transliterate-1.10.2\n"
          ]
        }
      ]
    },
    {
      "cell_type": "code",
      "source": [
        "!python silero/silero_tts.py -t 16 -s xenia -d cuda -r 48000 --merge --svc -i ./src -o silero/output_raw"
      ],
      "metadata": {
        "colab": {
          "base_uri": "https://localhost:8080/"
        },
        "id": "idsWXgwjx9Bz",
        "outputId": "48ae6dab-b2ed-4b1c-fc9d-ea6de47876dc"
      },
      "execution_count": 7,
      "outputs": [
        {
          "output_type": "stream",
          "name": "stdout",
          "text": [
            "{'input': './src', 'output': 'silero/output_raw', 'threads': '16', 'speaker': 'xenia', 'device': 'cuda', 'rate': '48000', 'merge': True, 'svc': True}\n",
            "[nltk_data] Downloading package punkt to /root/nltk_data...\n",
            "[nltk_data]   Unzipping tokenizers/punkt.zip.\n",
            "100% 59.0M/59.0M [00:00<00:00, 75.3MB/s]\n",
            "\n",
            "silero/output_raw/part001_-_Том_1\n",
            "    TTS: 100% 2/2 [00:04<00:00,  2.24s/it]\n",
            "\n",
            "silero/output_raw/part002_-_Пролог\n",
            "    TTS: 100% 36/36 [00:03<00:00,  9.76it/s]\n",
            "\n",
            "silero/output_raw/part003_-_Глава_1\n",
            "    TTS: 100% 52/52 [00:04<00:00, 12.61it/s]\n",
            "\n",
            "silero/output_raw/part004_-_Глава_2\n",
            "    TTS: 100% 49/49 [00:05<00:00,  8.27it/s]\n",
            "\n",
            "silero/output_raw/part005_-_Глава_3\n",
            "    TTS: 100% 60/60 [00:04<00:00, 12.09it/s]\n",
            "\n",
            "silero/output_raw/part006_-_Глава_4\n",
            "    TTS: 100% 58/58 [00:04<00:00, 14.05it/s]\n",
            "\n",
            "silero/output_raw/part007_-_Глава_5\n",
            "    TTS: 100% 47/47 [00:04<00:00, 10.21it/s]\n",
            "\n",
            "Merging and encoding, please wait... (4 threads)\n",
            "Downloading (…)lve/main/config.json: 100% 1.39k/1.39k [00:00<00:00, 6.53MB/s]\n",
            "Downloading pytorch_model.bin: 100% 378M/378M [00:02<00:00, 173MB/s]\n",
            "MERGING: 100% 7/7 [06:55<00:00, 59.34s/chapter]\n",
            "\n",
            "Finished!\n"
          ]
        }
      ]
    },
    {
      "cell_type": "code",
      "source": [
        "!zip -r output.zip silero/output_raw/*.opus\n",
        "!ls -l output.zip"
      ],
      "metadata": {
        "colab": {
          "base_uri": "https://localhost:8080/"
        },
        "id": "WJznBjRnCSGV",
        "outputId": "720847f9-2f6b-486f-bd1b-418feafc4163"
      },
      "execution_count": 8,
      "outputs": [
        {
          "output_type": "stream",
          "name": "stdout",
          "text": [
            "  adding: silero/output_raw/part001_-_Том_1.opus (deflated 0%)\n",
            "  adding: silero/output_raw/part002_-_Пролог.opus (deflated 1%)\n",
            "  adding: silero/output_raw/part003_-_Глава_1.opus (deflated 1%)\n",
            "  adding: silero/output_raw/part004_-_Глава_2.opus (deflated 1%)\n",
            "  adding: silero/output_raw/part005_-_Глава_3.opus (deflated 1%)\n",
            "  adding: silero/output_raw/part006_-_Глава_4.opus (deflated 1%)\n",
            "  adding: silero/output_raw/part007_-_Глава_5.opus (deflated 1%)\n",
            "-rw-r--r-- 1 root root 8322842 Jul 11 17:02 output.zip\n"
          ]
        }
      ]
    }
  ]
}