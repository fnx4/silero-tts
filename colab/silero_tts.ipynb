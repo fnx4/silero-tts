{
  "nbformat": 4,
  "nbformat_minor": 0,
  "metadata": {
    "colab": {
      "provenance": []
    },
    "kernelspec": {
      "name": "python3",
      "display_name": "Python 3"
    },
    "language_info": {
      "name": "python"
    },
    "accelerator": "GPU",
    "gpuClass": "standard"
  },
  "cells": [
    {
      "cell_type": "markdown",
      "source": [
        "# SILERO TTS"
      ],
      "metadata": {
        "id": "VIp7YqtS0to5"
      }
    },
    {
      "cell_type": "code",
      "source": [
        "from google.colab import drive\n",
        "drive.mount('/content/drive')"
      ],
      "metadata": {
        "colab": {
          "base_uri": "https://localhost:8080/"
        },
        "id": "StLJmSWrBFqk",
        "outputId": "69334dde-0720-4b8a-e66e-2e6a180e6257"
      },
      "execution_count": 1,
      "outputs": [
        {
          "output_type": "stream",
          "name": "stdout",
          "text": [
            "Mounted at /content/drive\n"
          ]
        }
      ]
    },
    {
      "cell_type": "code",
      "source": [
        "!git clone https://github.com/fnx4/silero-tts silero"
      ],
      "metadata": {
        "colab": {
          "base_uri": "https://localhost:8080/"
        },
        "id": "HonFbI7A0wez",
        "outputId": "02712f91-f45a-499e-a7ab-3ea85506aab7"
      },
      "execution_count": 2,
      "outputs": [
        {
          "output_type": "stream",
          "name": "stdout",
          "text": [
            "Cloning into 'silero'...\n",
            "remote: Enumerating objects: 147, done.\u001b[K\n",
            "remote: Counting objects: 100% (147/147), done.\u001b[K\n",
            "remote: Compressing objects: 100% (78/78), done.\u001b[K\n",
            "remote: Total 147 (delta 68), reused 123 (delta 44), pack-reused 0\u001b[K\n",
            "Receiving objects: 100% (147/147), 55.53 KiB | 888.00 KiB/s, done.\n",
            "Resolving deltas: 100% (68/68), done.\n"
          ]
        }
      ]
    },
    {
      "cell_type": "code",
      "source": [
        "!ffmpeg -version | grep \"ffmpeg version\"\n",
        "!nvidia-smi"
      ],
      "metadata": {
        "colab": {
          "base_uri": "https://localhost:8080/"
        },
        "id": "eGIIgFwg0zsd",
        "outputId": "744013b1-8bd4-4401-8a82-3033307344ea"
      },
      "execution_count": 3,
      "outputs": [
        {
          "output_type": "stream",
          "name": "stdout",
          "text": [
            "ffmpeg version 4.4.2-0ubuntu0.22.04.1 Copyright (c) 2000-2021 the FFmpeg developers\n",
            "Fri Oct 27 22:38:27 2023       \n",
            "+-----------------------------------------------------------------------------+\n",
            "| NVIDIA-SMI 525.105.17   Driver Version: 525.105.17   CUDA Version: 12.0     |\n",
            "|-------------------------------+----------------------+----------------------+\n",
            "| GPU  Name        Persistence-M| Bus-Id        Disp.A | Volatile Uncorr. ECC |\n",
            "| Fan  Temp  Perf  Pwr:Usage/Cap|         Memory-Usage | GPU-Util  Compute M. |\n",
            "|                               |                      |               MIG M. |\n",
            "|===============================+======================+======================|\n",
            "|   0  Tesla T4            Off  | 00000000:00:04.0 Off |                    0 |\n",
            "| N/A   48C    P8     9W /  70W |      0MiB / 15360MiB |      0%      Default |\n",
            "|                               |                      |                  N/A |\n",
            "+-------------------------------+----------------------+----------------------+\n",
            "                                                                               \n",
            "+-----------------------------------------------------------------------------+\n",
            "| Processes:                                                                  |\n",
            "|  GPU   GI   CI        PID   Type   Process name                  GPU Memory |\n",
            "|        ID   ID                                                   Usage      |\n",
            "|=============================================================================|\n",
            "|  No running processes found                                                 |\n",
            "+-----------------------------------------------------------------------------+\n"
          ]
        }
      ]
    },
    {
      "cell_type": "code",
      "source": [
        "!pip install -r silero/requirements.txt"
      ],
      "metadata": {
        "colab": {
          "base_uri": "https://localhost:8080/"
        },
        "id": "-aCpkxag03ul",
        "outputId": "4cf27acc-8389-4da3-a8cb-ca914e09bce4"
      },
      "execution_count": 4,
      "outputs": [
        {
          "output_type": "stream",
          "name": "stdout",
          "text": [
            "Collecting transliterate (from -r silero/requirements.txt (line 1))\n",
            "  Downloading transliterate-1.10.2-py2.py3-none-any.whl (45 kB)\n",
            "\u001b[?25l     \u001b[90m━━━━━━━━━━━━━━━━━━━━━━━━━━━━━━━━━━━━━━━━\u001b[0m \u001b[32m0.0/45.8 kB\u001b[0m \u001b[31m?\u001b[0m eta \u001b[36m-:--:--\u001b[0m\r\u001b[2K     \u001b[90m━━━━━━━━━━━━━━━━━━━━━━━━━━━━━━━━━━━━━━━━\u001b[0m \u001b[32m45.8/45.8 kB\u001b[0m \u001b[31m1.7 MB/s\u001b[0m eta \u001b[36m0:00:00\u001b[0m\n",
            "\u001b[?25hCollecting num2words (from -r silero/requirements.txt (line 2))\n",
            "  Downloading num2words-0.5.13-py3-none-any.whl (143 kB)\n",
            "\u001b[2K     \u001b[90m━━━━━━━━━━━━━━━━━━━━━━━━━━━━━━━━━━━━━━━━\u001b[0m \u001b[32m143.3/143.3 kB\u001b[0m \u001b[31m5.8 MB/s\u001b[0m eta \u001b[36m0:00:00\u001b[0m\n",
            "\u001b[?25hCollecting pypandoc (from -r silero/requirements.txt (line 3))\n",
            "  Downloading pypandoc-1.12-py3-none-any.whl (20 kB)\n",
            "Collecting ffmpeg-python (from -r silero/requirements.txt (line 4))\n",
            "  Downloading ffmpeg_python-0.2.0-py3-none-any.whl (25 kB)\n",
            "Requirement already satisfied: six>=1.1.0 in /usr/local/lib/python3.10/dist-packages (from transliterate->-r silero/requirements.txt (line 1)) (1.16.0)\n",
            "Collecting docopt>=0.6.2 (from num2words->-r silero/requirements.txt (line 2))\n",
            "  Downloading docopt-0.6.2.tar.gz (25 kB)\n",
            "  Preparing metadata (setup.py) ... \u001b[?25l\u001b[?25hdone\n",
            "Requirement already satisfied: future in /usr/local/lib/python3.10/dist-packages (from ffmpeg-python->-r silero/requirements.txt (line 4)) (0.18.3)\n",
            "Building wheels for collected packages: docopt\n",
            "  Building wheel for docopt (setup.py) ... \u001b[?25l\u001b[?25hdone\n",
            "  Created wheel for docopt: filename=docopt-0.6.2-py2.py3-none-any.whl size=13705 sha256=0ebfa21b97d0fb6c2036054a32a6b61bbef616d7c9539b3c4aeacee5a4dbdd74\n",
            "  Stored in directory: /root/.cache/pip/wheels/fc/ab/d4/5da2067ac95b36618c629a5f93f809425700506f72c9732fac\n",
            "Successfully built docopt\n",
            "Installing collected packages: docopt, transliterate, pypandoc, num2words, ffmpeg-python\n",
            "Successfully installed docopt-0.6.2 ffmpeg-python-0.2.0 num2words-0.5.13 pypandoc-1.12 transliterate-1.10.2\n"
          ]
        }
      ]
    },
    {
      "cell_type": "code",
      "source": [
        "!python silero/silero_tts.py -t 16 -s xenia -d cuda -r 48000 --merge -i \"/content/drive/MyDrive/Colab Notebooks/silero/input\" -o silero/output_raw"
      ],
      "metadata": {
        "colab": {
          "base_uri": "https://localhost:8080/"
        },
        "id": "idsWXgwjx9Bz",
        "outputId": "d6259f2f-9375-43d7-8061-d16dd479db35"
      },
      "execution_count": 5,
      "outputs": [
        {
          "output_type": "stream",
          "name": "stdout",
          "text": [
            "\n",
            "Namespace(input='/content/drive/MyDrive/Colab Notebooks/silero/input', output='silero/output_raw', threads='16', speaker='xenia', device='cuda', rate='48000', merge=True, rvc=False)\n",
            "[nltk_data] Downloading package punkt to /root/nltk_data...\n",
            "[nltk_data]   Unzipping tokenizers/punkt.zip.\n",
            "100% 59.0M/59.0M [00:04<00:00, 15.0MB/s]\n",
            "\n",
            "file: /content/drive/MyDrive/Colab Notebooks/silero/input/part001 - Том 1..txt ...\n",
            " TTS: 100% 1/1 [00:03<00:00,  3.66s/it]\n",
            "\n",
            "file: /content/drive/MyDrive/Colab Notebooks/silero/input/part002 - Пролог..txt ...\n",
            " TTS: 100% 1/1 [00:03<00:00,  3.64s/it]\n",
            "\n",
            "file: /content/drive/MyDrive/Colab Notebooks/silero/input/part003 - Глава 1..txt ...\n",
            " TTS: 100% 1/1 [00:05<00:00,  5.14s/it]\n",
            "\n",
            "file: /content/drive/MyDrive/Colab Notebooks/silero/input/part004 - Глава 2..txt ...\n",
            " TTS: 100% 1/1 [00:07<00:00,  7.29s/it]\n",
            "\n",
            "file: /content/drive/MyDrive/Colab Notebooks/silero/input/part005 - Глава 3..txt ...\n",
            " TTS: 100% 1/1 [00:10<00:00, 10.19s/it]\n",
            "\n",
            "file: /content/drive/MyDrive/Colab Notebooks/silero/input/part006 - Глава 4..txt ...\n",
            " TTS: 100% 1/1 [00:12<00:00, 12.32s/it]\n",
            "\n",
            "file: /content/drive/MyDrive/Colab Notebooks/silero/input/part007 - Глава 5..txt ...\n",
            " TTS: 100% 1/1 [00:11<00:00, 11.07s/it]\n",
            "\n",
            "Merging and encoding, please wait...\n",
            "100% 7/7 [00:52<00:00,  7.48s/it]\n",
            "\n",
            "Finished!\n"
          ]
        }
      ]
    },
    {
      "cell_type": "code",
      "source": [
        "!zip -r output.zip silero/output_raw/_opus\n",
        "!cp -v output.zip \"/content/drive/MyDrive/Colab Notebooks/silero\""
      ],
      "metadata": {
        "colab": {
          "base_uri": "https://localhost:8080/"
        },
        "id": "WJznBjRnCSGV",
        "outputId": "4e3f5bc5-4cc6-492d-82e5-46ff6e461bac"
      },
      "execution_count": 6,
      "outputs": [
        {
          "output_type": "stream",
          "name": "stdout",
          "text": [
            "  adding: silero/output_raw/_opus/ (stored 0%)\n",
            "  adding: silero/output_raw/_opus/part003_-_Глава_1__000000.opus (deflated 1%)\n",
            "  adding: silero/output_raw/_opus/part007_-_Глава_5__000000.opus (deflated 1%)\n",
            "  adding: silero/output_raw/_opus/part005_-_Глава_3__000000.opus (deflated 1%)\n",
            "  adding: silero/output_raw/_opus/part001_-_Том_1__000000.opus (deflated 1%)\n",
            "  adding: silero/output_raw/_opus/part002_-_Пролог__000000.opus (deflated 1%)\n",
            "  adding: silero/output_raw/_opus/part006_-_Глава_4__000000.opus (deflated 1%)\n",
            "  adding: silero/output_raw/_opus/part004_-_Глава_2__000000.opus (deflated 1%)\n",
            "'output.zip' -> '/content/drive/MyDrive/Colab Notebooks/silero/output.zip'\n"
          ]
        }
      ]
    }
  ]
}