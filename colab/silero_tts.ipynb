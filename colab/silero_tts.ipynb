{
 "cells": [
  {
   "cell_type": "markdown",
   "metadata": {
    "id": "VIp7YqtS0to5"
   },
   "source": [
    "# SILERO TTS"
   ]
  },
  {
   "cell_type": "code",
   "execution_count": 1,
   "metadata": {
    "colab": {
     "base_uri": "https://localhost:8080/"
    },
    "id": "StLJmSWrBFqk",
    "outputId": "643f8208-96f3-4916-c56e-3c7cf0dc7ad4"
   },
   "outputs": [
    {
     "name": "stdout",
     "output_type": "stream",
     "text": [
      "Mounted at /content/drive\n"
     ]
    }
   ],
   "source": [
    "from google.colab import drive\n",
    "drive.mount('/content/drive')"
   ]
  },
  {
   "cell_type": "code",
   "execution_count": 2,
   "metadata": {
    "colab": {
     "base_uri": "https://localhost:8080/"
    },
    "id": "HonFbI7A0wez",
    "outputId": "5693098e-8dea-4240-b496-c6693f720e2b"
   },
   "outputs": [
    {
     "name": "stdout",
     "output_type": "stream",
     "text": [
      "Cloning into 'silero'...\n",
      "remote: Enumerating objects: 162, done.\u001b[K\n",
      "remote: Counting objects: 100% (162/162), done.\u001b[K\n",
      "remote: Compressing objects: 100% (87/87), done.\u001b[K\n",
      "remote: Total 162 (delta 79), reused 133 (delta 50), pack-reused 0\u001b[K\n",
      "Receiving objects: 100% (162/162), 67.65 KiB | 280.00 KiB/s, done.\n",
      "Resolving deltas: 100% (79/79), done.\n"
     ]
    }
   ],
   "source": [
    "!git clone https://github.com/fnx4/silero-tts silero"
   ]
  },
  {
   "cell_type": "code",
   "execution_count": 3,
   "metadata": {
    "colab": {
     "base_uri": "https://localhost:8080/"
    },
    "id": "eGIIgFwg0zsd",
    "outputId": "e6da3188-ba02-4638-8c00-3c8f57eba8f2"
   },
   "outputs": [
    {
     "name": "stdout",
     "output_type": "stream",
     "text": [
      "ffmpeg version 4.4.2-0ubuntu0.22.04.1 Copyright (c) 2000-2021 the FFmpeg developers\n",
      "Sun Apr 14 13:32:52 2024       \n",
      "+---------------------------------------------------------------------------------------+\n",
      "| NVIDIA-SMI 535.104.05             Driver Version: 535.104.05   CUDA Version: 12.2     |\n",
      "|-----------------------------------------+----------------------+----------------------+\n",
      "| GPU  Name                 Persistence-M | Bus-Id        Disp.A | Volatile Uncorr. ECC |\n",
      "| Fan  Temp   Perf          Pwr:Usage/Cap |         Memory-Usage | GPU-Util  Compute M. |\n",
      "|                                         |                      |               MIG M. |\n",
      "|=========================================+======================+======================|\n",
      "|   0  Tesla T4                       Off | 00000000:00:04.0 Off |                    0 |\n",
      "| N/A   60C    P8              10W /  70W |      0MiB / 15360MiB |      0%      Default |\n",
      "|                                         |                      |                  N/A |\n",
      "+-----------------------------------------+----------------------+----------------------+\n",
      "                                                                                         \n",
      "+---------------------------------------------------------------------------------------+\n",
      "| Processes:                                                                            |\n",
      "|  GPU   GI   CI        PID   Type   Process name                            GPU Memory |\n",
      "|        ID   ID                                                             Usage      |\n",
      "|=======================================================================================|\n",
      "|  No running processes found                                                           |\n",
      "+---------------------------------------------------------------------------------------+\n"
     ]
    }
   ],
   "source": [
    "!ffmpeg -version | grep \"ffmpeg version\"\n",
    "!nvidia-smi"
   ]
  },
  {
   "cell_type": "code",
   "execution_count": 4,
   "metadata": {
    "colab": {
     "base_uri": "https://localhost:8080/"
    },
    "id": "-aCpkxag03ul",
    "outputId": "de2dc982-5f89-4bd1-f2b6-70df3550e337"
   },
   "outputs": [
    {
     "name": "stdout",
     "output_type": "stream",
     "text": [
      "Collecting transliterate (from -r silero/requirements.txt (line 1))\n",
      "  Downloading transliterate-1.10.2-py2.py3-none-any.whl (45 kB)\n",
      "\u001b[2K     \u001b[90m━━━━━━━━━━━━━━━━━━━━━━━━━━━━━━━━━━━━━━━━\u001b[0m \u001b[32m45.8/45.8 kB\u001b[0m \u001b[31m1.6 MB/s\u001b[0m eta \u001b[36m0:00:00\u001b[0m\n",
      "\u001b[?25hCollecting num2words (from -r silero/requirements.txt (line 2))\n",
      "  Downloading num2words-0.5.13-py3-none-any.whl (143 kB)\n",
      "\u001b[2K     \u001b[90m━━━━━━━━━━━━━━━━━━━━━━━━━━━━━━━━━━━━━━━━\u001b[0m \u001b[32m143.3/143.3 kB\u001b[0m \u001b[31m5.9 MB/s\u001b[0m eta \u001b[36m0:00:00\u001b[0m\n",
      "\u001b[?25hCollecting pypandoc (from -r silero/requirements.txt (line 3))\n",
      "  Downloading pypandoc-1.13-py3-none-any.whl (21 kB)\n",
      "Collecting ffmpeg-python (from -r silero/requirements.txt (line 4))\n",
      "  Downloading ffmpeg_python-0.2.0-py3-none-any.whl (25 kB)\n",
      "Requirement already satisfied: six>=1.1.0 in /usr/local/lib/python3.10/dist-packages (from transliterate->-r silero/requirements.txt (line 1)) (1.16.0)\n",
      "Collecting docopt>=0.6.2 (from num2words->-r silero/requirements.txt (line 2))\n",
      "  Downloading docopt-0.6.2.tar.gz (25 kB)\n",
      "  Preparing metadata (setup.py) ... \u001b[?25l\u001b[?25hdone\n",
      "Requirement already satisfied: future in /usr/local/lib/python3.10/dist-packages (from ffmpeg-python->-r silero/requirements.txt (line 4)) (0.18.3)\n",
      "Building wheels for collected packages: docopt\n",
      "  Building wheel for docopt (setup.py) ... \u001b[?25l\u001b[?25hdone\n",
      "  Created wheel for docopt: filename=docopt-0.6.2-py2.py3-none-any.whl size=13706 sha256=a626083f7a8845dcbb252c2ff989e6da7a92281f1c21299264ac57fd89c2f199\n",
      "  Stored in directory: /root/.cache/pip/wheels/fc/ab/d4/5da2067ac95b36618c629a5f93f809425700506f72c9732fac\n",
      "Successfully built docopt\n",
      "Installing collected packages: docopt, transliterate, pypandoc, num2words, ffmpeg-python\n",
      "Successfully installed docopt-0.6.2 ffmpeg-python-0.2.0 num2words-0.5.13 pypandoc-1.13 transliterate-1.10.2\n"
     ]
    }
   ],
   "source": [
    "!pip install -r silero/requirements.txt"
   ]
  },
  {
   "cell_type": "code",
   "execution_count": 5,
   "metadata": {
    "colab": {
     "base_uri": "https://localhost:8080/",
     "height": 672,
     "referenced_widgets": [
      "ba0fa09a832a42ebb2f64d723dcd5b4f",
      "e1ab7c38ff9441f4904f952ef6f6f2d4",
      "e53eda796259441d9491c065b594ba40",
      "fa0673a39c4a4d23840b5db9a6d5fcea",
      "e3a4b77f9c07483bacd32869f17c3ca6",
      "c17e1c1d42cc437aac91160686469235",
      "e679cc53ea6e4306a3db9aa98d8c25e6",
      "72ab913081144dd3a8078d6f1e476867",
      "17e4111dc4b541e3bcdaf7f97e2ee0a3",
      "cad4879fe6de4126bc04ff45de755f5d",
      "c81fcec9a17943518f0770fe6d2ae5e5",
      "c9c107570f57471ebe77379c78910ef0",
      "5eae1ac7514d456ea26f606ba4dc03d4",
      "90f33bb8cd7640968f50858551bb9a8e",
      "8a511df6799146009bb533c63c3782f4",
      "05fdb0775b3f4c43927ce5f59514f662",
      "cd42c0ce65a0447083735f0e629fe39f",
      "a567775c31744754a22742c06c0c31e2",
      "fa8775d2978f4fed91f5acdc1ad042fa",
      "b7739ce63270442e9195b4b578041450",
      "168aba17c37042269ed45da79bc3bd8e",
      "a8fc655256a841d3badb0f4822a62173",
      "729cee84104849e1827b471453f4f4a4",
      "48a7fc4b054b4495af391991b6ab9b55",
      "6b8472a56c25408b8b4a58edad6a6271",
      "bbbac90f86054e2d827f95bc546bb097",
      "2a3302f8dd494e3fbabe4de39d5b4b15",
      "0102d835e63943fc927bae28b37b76fd",
      "ea354672061f41209d3fc881baaaa2b1",
      "5b9cbcec11b840b7822431e238c59406",
      "3a3b3287372040158c81dbe2b7b1f423",
      "f8b8a3febf1c4061bd8876d34f3af936",
      "ba9bc533f31d41d18fb3815fe0ed9a5a",
      "933f60868d36400d9ffa05e0bf188614",
      "a3489626879149d99d7a58a019588ade",
      "ae86e9d003a84529abbf7dbff7d5b124",
      "76f581c897024a509da8ffe5e9332d8e",
      "43a8d1b285d84c3b9c03d3b8a996ecec",
      "8110a059ec5a490f9be38ce0bc159d92",
      "f35ff6ff2066426eba4507893fdcc4e9",
      "45a2aa715b71417abc54afa8947a8fa0",
      "cdd6e71ba9234f68b6e3f3bf39e65c71",
      "a8d469d569104778812f844cf597e388",
      "ff216ea9567f45aa8c7af24283df238c",
      "484c291fc9cd4f5086092089309e432b",
      "97bb3274847a4c7fb0fc770a4bfd3667",
      "7b6e87b4bb404f8581851093aca65052",
      "37e211a298034131b0fcaf015837291c",
      "151d727553434a6d9276a64825d81178",
      "c6cf534acea04c56a06d3b80c3d93b4d",
      "5423e55d78464e17b44f87540afecb62",
      "d36dcea1a96349a289a1563a0404120e",
      "97d64664b0f24c89b3aec249c8633aef",
      "77080f90d00a481bbc8ecaa47bd4e34f",
      "26f4e7978d504d8e86d493b466dbbe93",
      "21e5b7b5d16f48b39f428c280968c341",
      "399066bc3ff344df85db338e3dcbae32",
      "6dd5459bef5d46fdaa334706b62e730f",
      "1aa58f492e024ee5a6cce6207ee8ed5c",
      "46fd7729f1cf435697505c3de4ec4a0f",
      "50085c14b52b4479adf45cbfde3f58eb",
      "c6084a988fcc4acfb474f479a3aa40e5",
      "6d504267669e427c924b501c09cc78a6",
      "01014df8c05f4d05a9740f511572d385",
      "b7134dec44bb410a9967aee7b1e52037",
      "8e9f8d2cd5c749de85a5834f463120ae",
      "312bb940164f4712a99e7fc899376108",
      "5ea56d7b277f4d48ade08d5d520a8719",
      "fec842c81ae24d809c7d32c1155c9571",
      "234ad85bcec24e9a9a56857cbc34aba9",
      "5821afb66d1d4d239bc37fdfed8b0031",
      "333657b0fd4a4ef68889519c0fd036fa",
      "4db741983ab648528acd985cbe4b4f5f",
      "03eee50475ed4a769e6cc4f4f59beebc",
      "a1c6d4b9ada24b3b84c9356af91bfa33",
      "1b02f719398348b6ba9460d04b085f06",
      "9bb3d301379c4ee7bf546275d1a3b6de",
      "449b850515ac4d9fae97b4486a29171a",
      "4b114f1e36ff47fe86bda79328c46e58",
      "ba85d34906b7463ea700814a6c58cdf4",
      "96a7818167b442dd8c03ce47284c0f77",
      "d9a66314f00b42d8b3336d7b4beb7dd3",
      "5bff313c3b644ec3a647d44d0ad54874",
      "6d8b89c306414cda968efee92e302b50",
      "9d1f509002774b6abd1deca28c82c457",
      "ffa673bb7ec54341873dbe7be0840c89",
      "b0a52d933f6848f3b242b09ed16006c5",
      "542962e5aa7a473b91b63a86bee47eda",
      "4d2da6688fb24f5c9748580aba6652b1",
      "dd537a2a30604242a055eb39db07c84a",
      "85e8c9e92b984f209a2043182cf58deb",
      "383694d3367849ac80820bc658e6a3ad",
      "3bdf4915319147d1907ababfe504635c",
      "15028b82f1c747eaae444e97664ecea7",
      "20bb26afcfca4d92947f9bd1ac78a1b8",
      "8c5ef0a90ee6460091e34508502fc637",
      "e23ce018e0b54e708661670c5d7a0dd0",
      "8df4c6ac3d7f4458b7ba7b82bf07115a",
      "1d2e9b9070604572a15ac8cdd56b9aea",
      "4690cc1f736b456f9a82fe066289f1f5",
      "17b4f530f6dc4158b3acb059053a5ffa",
      "17a3a2c38952437da715dc79754de468",
      "d38ac8fcb7074b26addbd97e2f3d5819",
      "3cac3986660c46f58063ecf1111e97e8",
      "56af04b7d906445993a432f7f2236094",
      "e071b6df439d41099b38c2268350d24f",
      "8448c54039a04cdfaf60245a50179bb9",
      "71025df60df244c59f117d4fe8ede883",
      "1a0d34e58dcc430cac9e9d1819caca38",
      "173a7e1ac16d4ad48e694edeebb9f3a9",
      "0b307ee84a2042d583178e8d4827e7c4",
      "d033538c068c46d8a415baa2939bd65b",
      "26c34d6f6aba4658bdf0ce8cc0ea4052",
      "7505f4e5dbc346a5bc5b751a5fa8e5cf",
      "40a410f7386440aa857243e2c891e8b0",
      "713dfd2138da44fab61f050208397704",
      "37afdeea6489439eb22cb34d3c50bbcf",
      "1850db474a2e4418b8e07598bc24a64f",
      "5e5b8de1f00b44c18dd3ed9f0405a52a",
      "e3ea2a8df65e45c894a455aad6eb27e0",
      "9c51e19cfea148608325192fd98b449b",
      "74fcdcf8459e40ff9931b8377382997a",
      "e24b9c2bd3ea4116a5b267679a745635",
      "22f2f73cc4fb4dbabf196f2340c7d35c",
      "4e0cf94b3b0c49f2874201624d5979b5",
      "7a92aef5119f4ed09a8056da7763e315",
      "61c8115de18b479b85cf9d19cc09f838",
      "724dbc51f1b44404927cab5cb8ab1519",
      "910356ac6c574e91b86e9be3f77ad21b",
      "07dbb7b5a3244544a63451c679596da2",
      "fcafae5aa1894eb1acda2aeddd2db8a3",
      "507b56f3b7f442a19ebf1b160f78dcc1",
      "3f0a029459b64862b6179ed995802ceb",
      "578126ba4c8148e78badcf188a02724d",
      "d24240f183df4834b1b49421d601459d",
      "2589533c19fd418c984b8f93bee3a1fd",
      "8faa794298b9457bb3025b12a8d3ed66",
      "4ed26509a2774a67a7f5c26c24a311ee",
      "ba4c20fc76464cf093af49b42850579f",
      "abcec0be7f784bfda15bc55b522e5970",
      "45ab7538ba33419c932de23e42427488",
      "266a1859620b40b9a766a5395ab0e179",
      "afb0b06792424026994803be1e3b3880",
      "40d61e7b6eaf4ab1811def7936bd3667",
      "7d7ea49b211a400b9a6f0fce0d0b3470",
      "842de3ba3ce4481d95f6500fbf1b1cd8",
      "1b238ff95e1d4557b4938c01abf09147",
      "42d4f375e29e486eb4b53bfabad04de9",
      "d2fb9dbca2c649179550746237d37f53",
      "545d9bfe2c9842f49f5d1ae338232fc1",
      "b9c81cd522474e73ba5880f37d6446e8",
      "cc74f74e176243198a1e0f4cbfb89686",
      "fd4430dff7434b379edeb1c0e6e76784",
      "5523a326ea524e9988b7c16c44e34758",
      "35264637f7ba4e16a2b095035049639d",
      "2b5d121c77e34b328e7b714501c145b3",
      "669b193072de4a5aa7b9b9497e90e991",
      "91ee1de3169e4341bcc8d7b04f9b99a0",
      "24cb18e0f3f4413eb26932fbf6fd06a7",
      "c25e03c759304cf3ab407a3bd4401505",
      "4cf5924093c2447cb328fc7a619989ff",
      "ece969e2309a4bf498dc36cc947f7758",
      "5cad4fe7c8664be4a897c50e2e2164e3",
      "1eb175cd16484b3f9617ba907615ee44",
      "1badbd6640404e63aadb4495bc250c24",
      "a98bdbced7ab45bfa57a842716a6ada4",
      "9f725490d78c4dea9b3d063650c469c9",
      "fad96827cd4249b59c3a942176f916b7",
      "e950108bd7e64382a36be6f98ec92dc2",
      "2c47784860304d29b577cd2aa6e8c179",
      "e4e7941b01ef40439982a06ad48c2821",
      "b7629cdf96e24cbab9bc5b8463af583b",
      "9186c11798c340378694c8e76adb06cd",
      "27abaa3f170e42349705e5ae27249ccb",
      "7bf701dd25c34259ada7c8eb7d92d831",
      "59d258c95fd743eaa676680669ec2e0a",
      "5f0fc8236bbf4c3f8e4dc0c356204cad",
      "b9b5f971c9a149ea88566873a6e1bd55",
      "2da1c417f0d9483ab0b3d06bd3dd33e0",
      "30b7a1f4fe324f3eafd58b619cd1ff10",
      "efc65e95c795480884718ddde56d945f",
      "6a3aec5413f245bea50f41024424a245",
      "9eb3dbac821d4a44b3740beeac4d4c31",
      "0460d7f0c11241a7b53fd057cbd32174",
      "485ff3753217487ebfd700e0d8b16501",
      "41e342c2323348a688f6037e78d68130",
      "1a9389eb4841450992a136f7f72a2bee",
      "06e5a9bce24f45c18c351bcce413034f",
      "234d0b8db2154ba29002ae7c0403e015",
      "81b6a877a6bc4701b90dd4f9a838aa08",
      "f7e3bd4422034bc4b5fa5d5e92b5b50e",
      "209d0fa591c94d71a263aae17f168b9f",
      "60555c7e1fd34c2ab5d58f8c8545c987",
      "dc19ead6a2a74d058af9549ec5dd00ed",
      "dbc7f870fa7f4458b6692f7ccdff588b",
      "e45eccbbd28a4098bf41e2241b7673c7",
      "71b327d0cf824a93b86f870f4c5b638f",
      "6300f279902a4bd3982100e526d8092e",
      "edd7bfa49f2a4c3f8bb67e6a618f92f6",
      "01918e3533ae469596185368cb5f2578",
      "adfbf2eac9204c3f8d830d9fbce34ea4",
      "b5f8b7e9d83a409f904aa4f9c447f295",
      "a3ef706e633145dc96181dd7161f6185",
      "a0a079abcf0e4868aab52b5ecc2017a7",
      "012d38359f97451fb9fc86d97417a9e9",
      "8e71580d5c2f4b3a9b3e7d6c77fa93d8",
      "ac3ed3e96beb4442a39f17c5fc4ef02c",
      "beb025d6bbe74101906e80db3a1138b7",
      "f039a166104d479cb0300bc45bf25b28",
      "e3b5d57875a54a5c9e4519f4afac4900",
      "861af2a429ee4c93b4806bfadf94efb4",
      "188687bf4fbb4232a7702ee6f795f8a8",
      "7f1a6346fe6a477abf1ec3136a404e77",
      "b6cb76ab57434621998bd3b0327cdcb9",
      "2d39c05fca4d49398b9157cba7bc2983",
      "e56f7de0d7f346d593c5ba65fe0a1e41",
      "53c57c001cb64f9fa6a4d8df466b0d75",
      "1b38945f50bc484383d93bbd9834f9e3",
      "ed61320ee985470dbe3b2796a4404925",
      "9226ae6f97744aa28878bc4ac7c372bb",
      "c49d16022a9543a4a5275b8b3d8f6fa6",
      "e481f6ed8c34482d83b5208c3785c889",
      "5cff7bb668564ba98359ec59de087152",
      "73f538661630490f864b7b73b9250b62",
      "83c78ca444524ad3add731931243cd2d",
      "2d960d97402944a1b3e5a1d554c36358",
      "060e4149e6a94322a9c65ddd48780b08",
      "02a1cbfdfe634f55ba27f044df23e237",
      "4b1f14955ba7461d87f55d1531bf771f",
      "be0120c5b89a470196c230f4090522b3",
      "70fb42cb892c453f8deffec31315b336",
      "a09df2b3f4294f958eb3f3c54c4033cf",
      "910d5a1601f744dfa04dd01b9138dcda",
      "2366c9d3e1a049b09eed8b4091d66d4e",
      "e187b2f40b0c4896890bd7dd5ca60dc4",
      "c435556cea1a46bf81909572ed078178",
      "eb258ec523734b4f8286a67dba7f3473",
      "05b9a6ad1dce4af9a63c387c5cd2a24b",
      "12c062ce36e34418ab4ef993d3ccae74",
      "eb419afcb1744e689ab30023cc83d949",
      "443e2f88a1754c7bbaa82ed7248e0a05",
      "2c055a6470b74fcd83ee0760eee28bd8"
     ]
    },
    "id": "idsWXgwjx9Bz",
    "outputId": "eb1688b3-4512-4dc6-cef8-4f5fbc1feb0a"
   },
   "outputs": [
    {
     "name": "stdout",
     "output_type": "stream",
     "text": [
      "\n",
      "Namespace(input='/content/drive/MyDrive/Colab Notebooks/silero/input', output='silero/output_raw', threads='16', speaker='xenia', device='cuda', rate='48000', merge=True, rvc=False, rvc_model_pth='ru-saya-1000.pth', rvc_model_index=None, rvc_transpose='3')\n"
     ]
    },
    {
     "name": "stderr",
     "output_type": "stream",
     "text": [
      "[nltk_data] Downloading package punkt to /root/nltk_data...\n",
      "[nltk_data]   Unzipping tokenizers/punkt.zip.\n",
      "100%|██████████| 59.0M/59.0M [18:53<00:00, 54.6kB/s]\n"
     ]
    },
    {
     "name": "stdout",
     "output_type": "stream",
     "text": [
      "\n",
      "file: /content/drive/MyDrive/Colab Notebooks/silero/input/part001 - Том 1..txt ...\n"
     ]
    },
    {
     "data": {
      "application/vnd.jupyter.widget-view+json": {
       "model_id": "ba0fa09a832a42ebb2f64d723dcd5b4f",
       "version_major": 2,
       "version_minor": 0
      },
      "text/plain": [
       " CHAPTER:   0%|          | 0/1 [00:00<?, ?it/s]"
      ]
     },
     "metadata": {},
     "output_type": "display_data"
    },
    {
     "data": {
      "application/vnd.jupyter.widget-view+json": {
       "model_id": "c9c107570f57471ebe77379c78910ef0",
       "version_major": 2,
       "version_minor": 0
      },
      "text/plain": [
       "    TEXT:   0%|          | 0/1 [00:00<?, ?it/s]"
      ]
     },
     "metadata": {},
     "output_type": "display_data"
    },
    {
     "data": {
      "application/vnd.jupyter.widget-view+json": {
       "model_id": "729cee84104849e1827b471453f4f4a4",
       "version_major": 2,
       "version_minor": 0
      },
      "text/plain": [
       "SENTENCE:   0%|          | 0/3 [00:00<?, ?it/s]"
      ]
     },
     "metadata": {},
     "output_type": "display_data"
    },
    {
     "name": "stdout",
     "output_type": "stream",
     "text": [
      "\n",
      "file: /content/drive/MyDrive/Colab Notebooks/silero/input/part002 - Пролог..txt ...\n"
     ]
    },
    {
     "data": {
      "application/vnd.jupyter.widget-view+json": {
       "model_id": "933f60868d36400d9ffa05e0bf188614",
       "version_major": 2,
       "version_minor": 0
      },
      "text/plain": [
       " CHAPTER:   0%|          | 0/1 [00:00<?, ?it/s]"
      ]
     },
     "metadata": {},
     "output_type": "display_data"
    },
    {
     "data": {
      "application/vnd.jupyter.widget-view+json": {
       "model_id": "484c291fc9cd4f5086092089309e432b",
       "version_major": 2,
       "version_minor": 0
      },
      "text/plain": [
       "    TEXT:   0%|          | 0/1 [00:00<?, ?it/s]"
      ]
     },
     "metadata": {},
     "output_type": "display_data"
    },
    {
     "data": {
      "application/vnd.jupyter.widget-view+json": {
       "model_id": "21e5b7b5d16f48b39f428c280968c341",
       "version_major": 2,
       "version_minor": 0
      },
      "text/plain": [
       "SENTENCE:   0%|          | 0/64 [00:00<?, ?it/s]"
      ]
     },
     "metadata": {},
     "output_type": "display_data"
    },
    {
     "name": "stdout",
     "output_type": "stream",
     "text": [
      "\n",
      "file: /content/drive/MyDrive/Colab Notebooks/silero/input/part003 - Глава 1..txt ...\n"
     ]
    },
    {
     "data": {
      "application/vnd.jupyter.widget-view+json": {
       "model_id": "312bb940164f4712a99e7fc899376108",
       "version_major": 2,
       "version_minor": 0
      },
      "text/plain": [
       " CHAPTER:   0%|          | 0/1 [00:00<?, ?it/s]"
      ]
     },
     "metadata": {},
     "output_type": "display_data"
    },
    {
     "data": {
      "application/vnd.jupyter.widget-view+json": {
       "model_id": "449b850515ac4d9fae97b4486a29171a",
       "version_major": 2,
       "version_minor": 0
      },
      "text/plain": [
       "    TEXT:   0%|          | 0/1 [00:00<?, ?it/s]"
      ]
     },
     "metadata": {},
     "output_type": "display_data"
    },
    {
     "data": {
      "application/vnd.jupyter.widget-view+json": {
       "model_id": "4d2da6688fb24f5c9748580aba6652b1",
       "version_major": 2,
       "version_minor": 0
      },
      "text/plain": [
       "SENTENCE:   0%|          | 0/74 [00:00<?, ?it/s]"
      ]
     },
     "metadata": {},
     "output_type": "display_data"
    },
    {
     "name": "stdout",
     "output_type": "stream",
     "text": [
      "\n",
      "file: /content/drive/MyDrive/Colab Notebooks/silero/input/part004 - Глава 2..txt ...\n"
     ]
    },
    {
     "data": {
      "application/vnd.jupyter.widget-view+json": {
       "model_id": "4690cc1f736b456f9a82fe066289f1f5",
       "version_major": 2,
       "version_minor": 0
      },
      "text/plain": [
       " CHAPTER:   0%|          | 0/1 [00:00<?, ?it/s]"
      ]
     },
     "metadata": {},
     "output_type": "display_data"
    },
    {
     "data": {
      "application/vnd.jupyter.widget-view+json": {
       "model_id": "0b307ee84a2042d583178e8d4827e7c4",
       "version_major": 2,
       "version_minor": 0
      },
      "text/plain": [
       "    TEXT:   0%|          | 0/1 [00:00<?, ?it/s]"
      ]
     },
     "metadata": {},
     "output_type": "display_data"
    },
    {
     "data": {
      "application/vnd.jupyter.widget-view+json": {
       "model_id": "74fcdcf8459e40ff9931b8377382997a",
       "version_major": 2,
       "version_minor": 0
      },
      "text/plain": [
       "SENTENCE:   0%|          | 0/80 [00:00<?, ?it/s]"
      ]
     },
     "metadata": {},
     "output_type": "display_data"
    },
    {
     "name": "stdout",
     "output_type": "stream",
     "text": [
      "\n",
      "file: /content/drive/MyDrive/Colab Notebooks/silero/input/part005 - Глава 3..txt ...\n"
     ]
    },
    {
     "data": {
      "application/vnd.jupyter.widget-view+json": {
       "model_id": "3f0a029459b64862b6179ed995802ceb",
       "version_major": 2,
       "version_minor": 0
      },
      "text/plain": [
       " CHAPTER:   0%|          | 0/1 [00:00<?, ?it/s]"
      ]
     },
     "metadata": {},
     "output_type": "display_data"
    },
    {
     "data": {
      "application/vnd.jupyter.widget-view+json": {
       "model_id": "40d61e7b6eaf4ab1811def7936bd3667",
       "version_major": 2,
       "version_minor": 0
      },
      "text/plain": [
       "    TEXT:   0%|          | 0/1 [00:00<?, ?it/s]"
      ]
     },
     "metadata": {},
     "output_type": "display_data"
    },
    {
     "data": {
      "application/vnd.jupyter.widget-view+json": {
       "model_id": "35264637f7ba4e16a2b095035049639d",
       "version_major": 2,
       "version_minor": 0
      },
      "text/plain": [
       "SENTENCE:   0%|          | 0/101 [00:00<?, ?it/s]"
      ]
     },
     "metadata": {},
     "output_type": "display_data"
    },
    {
     "name": "stdout",
     "output_type": "stream",
     "text": [
      "\n",
      "file: /content/drive/MyDrive/Colab Notebooks/silero/input/part006 - Глава 4..txt ...\n"
     ]
    },
    {
     "data": {
      "application/vnd.jupyter.widget-view+json": {
       "model_id": "a98bdbced7ab45bfa57a842716a6ada4",
       "version_major": 2,
       "version_minor": 0
      },
      "text/plain": [
       " CHAPTER:   0%|          | 0/1 [00:00<?, ?it/s]"
      ]
     },
     "metadata": {},
     "output_type": "display_data"
    },
    {
     "data": {
      "application/vnd.jupyter.widget-view+json": {
       "model_id": "5f0fc8236bbf4c3f8e4dc0c356204cad",
       "version_major": 2,
       "version_minor": 0
      },
      "text/plain": [
       "    TEXT:   0%|          | 0/1 [00:00<?, ?it/s]"
      ]
     },
     "metadata": {},
     "output_type": "display_data"
    },
    {
     "data": {
      "application/vnd.jupyter.widget-view+json": {
       "model_id": "06e5a9bce24f45c18c351bcce413034f",
       "version_major": 2,
       "version_minor": 0
      },
      "text/plain": [
       "SENTENCE:   0%|          | 0/99 [00:00<?, ?it/s]"
      ]
     },
     "metadata": {},
     "output_type": "display_data"
    },
    {
     "name": "stdout",
     "output_type": "stream",
     "text": [
      "\n",
      "file: /content/drive/MyDrive/Colab Notebooks/silero/input/part007 - Глава 5..txt ...\n"
     ]
    },
    {
     "data": {
      "application/vnd.jupyter.widget-view+json": {
       "model_id": "edd7bfa49f2a4c3f8bb67e6a618f92f6",
       "version_major": 2,
       "version_minor": 0
      },
      "text/plain": [
       " CHAPTER:   0%|          | 0/1 [00:00<?, ?it/s]"
      ]
     },
     "metadata": {},
     "output_type": "display_data"
    },
    {
     "data": {
      "application/vnd.jupyter.widget-view+json": {
       "model_id": "e3b5d57875a54a5c9e4519f4afac4900",
       "version_major": 2,
       "version_minor": 0
      },
      "text/plain": [
       "    TEXT:   0%|          | 0/1 [00:00<?, ?it/s]"
      ]
     },
     "metadata": {},
     "output_type": "display_data"
    },
    {
     "data": {
      "application/vnd.jupyter.widget-view+json": {
       "model_id": "c49d16022a9543a4a5275b8b3d8f6fa6",
       "version_major": 2,
       "version_minor": 0
      },
      "text/plain": [
       "SENTENCE:   0%|          | 0/87 [00:00<?, ?it/s]"
      ]
     },
     "metadata": {},
     "output_type": "display_data"
    },
    {
     "name": "stdout",
     "output_type": "stream",
     "text": [
      "\n",
      "Merging and encoding, please wait...\n"
     ]
    },
    {
     "data": {
      "application/vnd.jupyter.widget-view+json": {
       "model_id": "a09df2b3f4294f958eb3f3c54c4033cf",
       "version_major": 2,
       "version_minor": 0
      },
      "text/plain": [
       "  0%|          | 0/7 [00:00<?, ?it/s]"
      ]
     },
     "metadata": {},
     "output_type": "display_data"
    },
    {
     "name": "stdout",
     "output_type": "stream",
     "text": [
      "\n",
      "Finished!\n"
     ]
    }
   ],
   "source": [
    "%run silero/silero_tts.py -t 16 -s xenia -d cuda -r 48000 --merge -i \"/content/drive/MyDrive/Colab Notebooks/silero/input\" -o silero/output_raw"
   ]
  },
  {
   "cell_type": "code",
   "execution_count": 6,
   "metadata": {
    "colab": {
     "base_uri": "https://localhost:8080/"
    },
    "id": "WJznBjRnCSGV",
    "outputId": "a9a6b4d9-0c67-4604-f45d-f1bd2af107bc"
   },
   "outputs": [
    {
     "name": "stdout",
     "output_type": "stream",
     "text": [
      "  adding: silero/output_raw/_opus/ (stored 0%)\n",
      "  adding: silero/output_raw/_opus/part005_-_Глава_3__000000.opus (deflated 1%)\n",
      "  adding: silero/output_raw/_opus/part006_-_Глава_4__000000.opus (deflated 1%)\n",
      "  adding: silero/output_raw/_opus/part001_-_Том_1__000000.opus (deflated 1%)\n",
      "  adding: silero/output_raw/_opus/part003_-_Глава_1__000000.opus (deflated 1%)\n",
      "  adding: silero/output_raw/_opus/part002_-_Пролог__000000.opus (deflated 1%)\n",
      "  adding: silero/output_raw/_opus/part004_-_Глава_2__000000.opus (deflated 1%)\n",
      "  adding: silero/output_raw/_opus/part007_-_Глава_5__000000.opus (deflated 1%)\n",
      "'output.zip' -> '/content/drive/MyDrive/Colab Notebooks/silero/output.zip'\n"
     ]
    }
   ],
   "source": [
    "!zip -r output.zip silero/output_raw/_opus\n",
    "!cp -v output.zip \"/content/drive/MyDrive/Colab Notebooks/silero\""
   ]
  }
 ],
 "metadata": {
  "accelerator": "GPU",
  "colab": {
   "provenance": []
  },
  "gpuClass": "standard",
  "kernelspec": {
   "display_name": "Python 3",
   "name": "python3"
  },
  "language_info": {
   "name": "python"
  }
 },
 "nbformat": 4,
 "nbformat_minor": 0
}
