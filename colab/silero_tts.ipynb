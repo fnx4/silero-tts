{
 "cells": [
  {
   "cell_type": "markdown",
   "metadata": {
    "id": "VIp7YqtS0to5"
   },
   "source": [
    "# SILERO TTS"
   ]
  },
  {
   "cell_type": "code",
   "execution_count": 1,
   "metadata": {
    "colab": {
     "base_uri": "https://localhost:8080/"
    },
    "id": "StLJmSWrBFqk",
    "outputId": "8271cb48-ba4a-41fd-9721-fcb8296ce34b"
   },
   "outputs": [
    {
     "name": "stdout",
     "output_type": "stream",
     "text": [
      "Mounted at /content/drive\n"
     ]
    }
   ],
   "source": [
    "from google.colab import drive\n",
    "drive.mount('/content/drive')"
   ]
  },
  {
   "cell_type": "code",
   "execution_count": 2,
   "metadata": {
    "colab": {
     "base_uri": "https://localhost:8080/"
    },
    "id": "HonFbI7A0wez",
    "outputId": "552db2c7-f9a5-47bc-ec3a-e860ad7f86a5"
   },
   "outputs": [
    {
     "name": "stdout",
     "output_type": "stream",
     "text": [
      "Cloning into 'silero'...\n",
      "remote: Enumerating objects: 221, done.\u001b[K\n",
      "remote: Counting objects: 100% (221/221), done.\u001b[K\n",
      "remote: Compressing objects: 100% (128/128), done.\u001b[K\n",
      "remote: Total 221 (delta 114), reused 175 (delta 68), pack-reused 0 (from 0)\u001b[K\n",
      "Receiving objects: 100% (221/221), 111.84 KiB | 5.89 MiB/s, done.\n",
      "Resolving deltas: 100% (114/114), done.\n"
     ]
    }
   ],
   "source": [
    "!git clone https://github.com/fnx4/silero-tts silero"
   ]
  },
  {
   "cell_type": "code",
   "execution_count": 3,
   "metadata": {
    "colab": {
     "base_uri": "https://localhost:8080/"
    },
    "id": "eGIIgFwg0zsd",
    "outputId": "0083b21c-8ab8-42e6-b943-4597965f24ac"
   },
   "outputs": [
    {
     "name": "stdout",
     "output_type": "stream",
     "text": [
      "Python 3.12.11\n",
      "ffmpeg version 4.4.2-0ubuntu0.22.04.1 Copyright (c) 2000-2021 the FFmpeg developers\n",
      "Fri Aug 29 10:28:07 2025       \n",
      "+-----------------------------------------------------------------------------------------+\n",
      "| NVIDIA-SMI 550.54.15              Driver Version: 550.54.15      CUDA Version: 12.4     |\n",
      "|-----------------------------------------+------------------------+----------------------+\n",
      "| GPU  Name                 Persistence-M | Bus-Id          Disp.A | Volatile Uncorr. ECC |\n",
      "| Fan  Temp   Perf          Pwr:Usage/Cap |           Memory-Usage | GPU-Util  Compute M. |\n",
      "|                                         |                        |               MIG M. |\n",
      "|=========================================+========================+======================|\n",
      "|   0  Tesla T4                       Off |   00000000:00:04.0 Off |                    0 |\n",
      "| N/A   58C    P8             10W /   70W |       0MiB /  15360MiB |      0%      Default |\n",
      "|                                         |                        |                  N/A |\n",
      "+-----------------------------------------+------------------------+----------------------+\n",
      "                                                                                         \n",
      "+-----------------------------------------------------------------------------------------+\n",
      "| Processes:                                                                              |\n",
      "|  GPU   GI   CI        PID   Type   Process name                              GPU Memory |\n",
      "|        ID   ID                                                               Usage      |\n",
      "|=========================================================================================|\n",
      "|  No running processes found                                                             |\n",
      "+-----------------------------------------------------------------------------------------+\n"
     ]
    }
   ],
   "source": [
    "!python --version\n",
    "!ffmpeg -version | grep \"ffmpeg version\"\n",
    "!nvidia-smi"
   ]
  },
  {
   "cell_type": "code",
   "execution_count": 4,
   "metadata": {
    "colab": {
     "base_uri": "https://localhost:8080/"
    },
    "id": "-aCpkxag03ul",
    "outputId": "46140646-8b73-49cd-a793-61279c39edd2"
   },
   "outputs": [
    {
     "name": "stdout",
     "output_type": "stream",
     "text": [
      "Selecting previously unselected package libcmark-gfm0.29.0.gfm.3:amd64.\n",
      "(Reading database ... 126371 files and directories currently installed.)\n",
      "Preparing to unpack .../libcmark-gfm0.29.0.gfm.3_0.29.0.gfm.3-3_amd64.deb ...\n",
      "Unpacking libcmark-gfm0.29.0.gfm.3:amd64 (0.29.0.gfm.3-3) ...\n",
      "Selecting previously unselected package libcmark-gfm-extensions0.29.0.gfm.3:amd64.\n",
      "Preparing to unpack .../libcmark-gfm-extensions0.29.0.gfm.3_0.29.0.gfm.3-3_amd64.deb ...\n",
      "Unpacking libcmark-gfm-extensions0.29.0.gfm.3:amd64 (0.29.0.gfm.3-3) ...\n",
      "Selecting previously unselected package pandoc-data.\n",
      "Preparing to unpack .../pandoc-data_2.9.2.1-3ubuntu2_all.deb ...\n",
      "Unpacking pandoc-data (2.9.2.1-3ubuntu2) ...\n",
      "Selecting previously unselected package pandoc.\n",
      "Preparing to unpack .../pandoc_2.9.2.1-3ubuntu2_amd64.deb ...\n",
      "Unpacking pandoc (2.9.2.1-3ubuntu2) ...\n",
      "Setting up libcmark-gfm0.29.0.gfm.3:amd64 (0.29.0.gfm.3-3) ...\n",
      "Setting up libcmark-gfm-extensions0.29.0.gfm.3:amd64 (0.29.0.gfm.3-3) ...\n",
      "Setting up pandoc-data (2.9.2.1-3ubuntu2) ...\n",
      "Setting up pandoc (2.9.2.1-3ubuntu2) ...\n",
      "Processing triggers for man-db (2.10.2-1) ...\n",
      "Processing triggers for libc-bin (2.35-0ubuntu3.8) ...\n",
      "/sbin/ldconfig.real: /usr/local/lib/libtbbmalloc.so.2 is not a symbolic link\n",
      "\n",
      "/sbin/ldconfig.real: /usr/local/lib/libur_adapter_opencl.so.0 is not a symbolic link\n",
      "\n",
      "/sbin/ldconfig.real: /usr/local/lib/libur_adapter_level_zero.so.0 is not a symbolic link\n",
      "\n",
      "/sbin/ldconfig.real: /usr/local/lib/libtbbbind_2_0.so.3 is not a symbolic link\n",
      "\n",
      "/sbin/ldconfig.real: /usr/local/lib/libtbbbind.so.3 is not a symbolic link\n",
      "\n",
      "/sbin/ldconfig.real: /usr/local/lib/libur_adapter_level_zero_v2.so.0 is not a symbolic link\n",
      "\n",
      "/sbin/ldconfig.real: /usr/local/lib/libhwloc.so.15 is not a symbolic link\n",
      "\n",
      "/sbin/ldconfig.real: /usr/local/lib/libumf.so.0 is not a symbolic link\n",
      "\n",
      "/sbin/ldconfig.real: /usr/local/lib/libtcm.so.1 is not a symbolic link\n",
      "\n",
      "/sbin/ldconfig.real: /usr/local/lib/libtbb.so.12 is not a symbolic link\n",
      "\n",
      "/sbin/ldconfig.real: /usr/local/lib/libur_loader.so.0 is not a symbolic link\n",
      "\n",
      "/sbin/ldconfig.real: /usr/local/lib/libtcm_debug.so.1 is not a symbolic link\n",
      "\n",
      "/sbin/ldconfig.real: /usr/local/lib/libtbbmalloc_proxy.so.2 is not a symbolic link\n",
      "\n",
      "/sbin/ldconfig.real: /usr/local/lib/libtbbbind_2_5.so.3 is not a symbolic link\n",
      "\n",
      "  Preparing metadata (setup.py) ... \u001b[?25l\u001b[?25hdone\n",
      "\u001b[2K   \u001b[90m━━━━━━━━━━━━━━━━━━━━━━━━━━━━━━━━━━━━━━━━\u001b[0m \u001b[32m45.8/45.8 kB\u001b[0m \u001b[31m121.2 kB/s\u001b[0m eta \u001b[36m0:00:00\u001b[0m\n",
      "\u001b[2K   \u001b[90m━━━━━━━━━━━━━━━━━━━━━━━━━━━━━━━━━━━━━━━━\u001b[0m \u001b[32m163.5/163.5 kB\u001b[0m \u001b[31m11.3 MB/s\u001b[0m eta \u001b[36m0:00:00\u001b[0m\n",
      "\u001b[?25h  Building wheel for docopt (setup.py) ... \u001b[?25l\u001b[?25hdone\n"
     ]
    }
   ],
   "source": [
    "!apt-get -qq install pandoc\n",
    "\n",
    "#!pip install -r silero/requirements-local.txt --quiet\n",
    "!pip install -r silero/requirements.txt --quiet"
   ]
  },
  {
   "cell_type": "code",
   "execution_count": 5,
   "metadata": {
    "colab": {
     "base_uri": "https://localhost:8080/",
     "height": 759,
     "referenced_widgets": [
      "d25613246887449e93e4921ec6b32a0b",
      "9cc3618ce2594275879d255ae46fe959",
      "3297ca3a89cf486ca32f8517bbf5bb9e",
      "2bc9e580ef0746a39a10d8ef8313f36c",
      "58effe40a5da483babae9001aff058ef",
      "bce24222807b4fa48ae57169f47895da",
      "713c867ec3414239a2630f40c3cd15cf",
      "5f52763b11634e8e9692648457ed0ed5",
      "67b1bb288c184568877908f7b4c25746",
      "ef38512b0e164563b89076adf1a75dcc",
      "9fbef5a176dd4036b914de996b354808",
      "92280b97c477416ba0feddda69401b2b",
      "182ff111ae334681a2ec371875251e4c",
      "9c782793d79f4186b7140eff86fab000",
      "200873fd84614401b30684464dcbd570",
      "a4051d3419164a7eb3e4c59e015809be",
      "b9793e31bea04a728430512819bea82f",
      "86761b5e0f00425bb8c54604d28a3b44",
      "93ad059532ff4172a2270f9fc8a6183b",
      "abf94ee74d144402b532868cec34abb2",
      "461b54278fa84317aff2163f87c22093",
      "086ff43bf5034edfb70881b21c2e7263",
      "33232df5b9e0495d9078d2e75dc5ac73",
      "582c4dee819143cc806bc7db480cd3e1",
      "f48a4953202a47a78be1a86258015d79",
      "b236cc21d554474c9c6c8a12d02085b5",
      "1e90b3bcaffb47eab087193c2760a17b",
      "19ee629b92f5449a9f1560c8b72592b6",
      "54e85fc010164157b3379ea436e76f0b",
      "4f71f9493bad48108f58f599e3ddb89e",
      "83ccfeca360d4aa18bd952b77cf8618b",
      "8049cd8e485a404fb3d1b8afc7191aec",
      "e6d2f2413b1a4a11a53a9d7f37d079a5",
      "5255d274bd9e4963b18d70aec4e8cfb5",
      "cd59874b02cf49a9995b705c07471c4a",
      "b914381c73f34e04ad46a73545e5a9c7",
      "0774d255eb8d452d9431705ffc20059a",
      "16732035ae5a4cf8be24a8a2d7b5f090",
      "9dc2c976c07746f09c825ed2256fd401",
      "5f8ff7ee20424b72972056ab0b2bd5d1",
      "7a2f691e6c5e434fb764a2d5abc7ee27",
      "1b44cdb90d404e3e94f614e4946b92bb",
      "774810cc004f4b888003e23d59ff3cc6",
      "e53862e6a63f42a3afbeee71bcaba74f",
      "92c3550ee9d74347a1bd477ef68c26f5",
      "dc3990b64fea4ef98cbcf1c2d4b5fbc6",
      "7135d8588dc94c68bc45db8a84cb4bda",
      "0862685c875e42c9a71ece63b9dfe0f4",
      "88741ed9ca8a420291d41104d3547f4f",
      "292bda161d954d5983c2725bcb8c19fa",
      "e36c6d81ce614552bc0cf334ea2d245d",
      "50ee1c34a4284a1bbdbbdb81e5e9ce34",
      "7b16e28b76d1442eab8df7c9e363a769",
      "de88a3ef073447dca15ec8b87819276a",
      "3d4cbff3fef44428a20fc6c59953eb82",
      "a70a57c05cba4b02bf643343fc5cd498",
      "4410d9c618d44fac9d4fb438174ac781",
      "e5b5d72e053746859bad240d77bdbb9a",
      "d999e645e9e3473fb8137ef607bba400",
      "64527fd0d99e4d64a9e361ce6a18c85a",
      "5ceb108ee4164eeeb28c53f4ab55732e",
      "b305913d00fe41178d296e2e086fe9a6",
      "bb49d64112784455996f7312ca0b9a21",
      "76a51f95a2244804a6c3bd21127128c0",
      "dd4b0e64bfee4cad8e24fa7449a7e777",
      "59ec6e0b73c74672bf585597178e8ce3",
      "885e705b7385435480a3addc4020e417",
      "a5f39ea5506f48c582180332387e26b4",
      "c23ad33b7f624667a3ae89bcd8a34fae",
      "3c330eaaec5e486e9963f7fb505f96b4",
      "5517d2fbfa904144be3381a7c48ffe9a",
      "a193b6e081c24c40890bda874de09c20",
      "6c269b10af01470aab5d84852cb55644",
      "847ec78fd34a455e822a4c1aa9cf8e16",
      "6d1feffd851c491aa3c38fde9b54c0bd",
      "75493c1d9eac480f968d3d5d5194f22d",
      "d490a3dcde79430087feb212bd940e9f",
      "877d4469a6e943f7b61e929d30c6e550",
      "1c44b02822674dc2beffe824d4a30989",
      "a05e10b6e2904897b67da574fdcda6ca",
      "53b0308c85244fdd9a4b2aea3b01d7dc",
      "a129efe9a81f43d0b434a08733ea5d76",
      "692ea0321c4e42919a23450a8ec01b1e",
      "0a2c5b5bad3b47948098c1601989b635",
      "b5e8aab2911a4698a5434f8e6c30f534",
      "3a01a9dd4b4f44fbb65ff832bdfc9668",
      "cb23e3baa73c46ff8f9f115f53ba7c18",
      "a8a797a3862a4d6ea62e7b2f9c79a42e",
      "a5ab8767bee542b1a78d84b6420ea7da",
      "8fa9b0cce35c494caec8a79477aa992c",
      "ff85473ef3cd4bd5b7b4c740ca4b301f",
      "a684c0b134ac47ad8810e0869b7c307a",
      "a2d8f6420ec24f8ebefdd84bd0a86fd6",
      "ffa87fbb255343a9adc06bceebffc6b7",
      "03afda0e9ec54cc39650ef06e1a87b74",
      "947edcce192f4ac0bfc16cac638fcd5f",
      "2c3c98f9472c415297176fbf0afe2fdf",
      "0a6baa45674b44e5b8d0db04710cc6c8",
      "95ccc35ac429468181ba44b4e00382a0",
      "26e78f23b36c454d87cbabd168d64166",
      "fca0521f363248768055c4cfa67e0570",
      "a3181866864a495183fa584beed6e9c0",
      "0bc3bbe1c1224280a522966895e6e951",
      "b6fbd3e1d5a443408b082a76495e79b4",
      "07a07d8520fb48a7b486a4988fbc5ab4",
      "a7cd817ff8fe4ed989ac6c1403511c93",
      "c164596e9bba4cb08e114c28ae7166d2",
      "e1acf6363401440b8de1ddae1ab77092",
      "522aa64312db46c2b250656f33b93e24",
      "d75b24061b894292aaedb5f2b6d17208",
      "b041c4610b0342e294e00a27da3ba9be",
      "f2eafc26b4b24a299c96060e9504d399",
      "8da36108c9134d2194d0c65294137b98",
      "3de35bf0df424aa185854c88e49f1311",
      "01b1cabddae4492dbdb43ef285f2dbfb",
      "8dd202e96b024743a5f03b6fd4da40f5",
      "e8b0d8423ff2483bafe1f8a38084d35f",
      "a18f9c4803c945f09dba14bbe0868f24",
      "96971605567746db88260d37dfa5bb9c",
      "bafc3aa7d1e943daa8b4041fa7cef9e2",
      "62378137ea3c4b03b0effa7757dbea53",
      "d0b3202f6b094882bb4f94ac1a077fb8",
      "f302900caf684aa396066eab39ac21fb",
      "004290580f0b4025afbc776324f331d5",
      "6a7e996b09654b99b68277d5bf7e17e4",
      "054a3c37f60a4bf9bfe01db106729085",
      "81e98968e0684b9c8d01049dc6756cee",
      "4a0d55e00d2a46519ee20ec2f867543f",
      "6855cda11c414e90b20724c012df8212",
      "9389323483da419982603f8b6d2fa2ed",
      "0c09811c9fae43d0a4b3ef6f47b57f43",
      "06386886d39642fda2c5c499237ea38a",
      "17a1af8f98e04dff80c85c11fb43a56a",
      "b943fb85f7674beda152a8d64980a0c2",
      "0095e87781df4e3ca4b722de33755c07",
      "6893622fa61141ab86a65a348a503f72",
      "6e5758dc9f7c4971a5016b11a329b050",
      "26302446afd34c00832256437db0d982",
      "b92af8fcd3bb41b8b7744bb73abd714d",
      "622151a3dbf549e8845800ee4203aaca",
      "f22dbdf76771495f87b4ef1bbd125ef8",
      "4c6a7eb24c2e4548b6ee359c8f1ed3a0",
      "9de21f7c3f0c43cb8bbf5c39e5ee82c2",
      "b17b4f5dd3874fe591a4114fa4089ee5",
      "2858c452c82a49288224dbca801691e1",
      "3f8b208d3ee7441cbc0231ea7decd124",
      "09fcdc298de340d38008524add30d2ec",
      "8140cfa7a3364d1b8899121e31775fab",
      "d58948624e0c4fb2831e26054707e12d",
      "8ac1aa3be2794d0ca43531d93e2dc481",
      "ca38847d47244fd299ea29d7433e1a22",
      "ed9de99648964a1788ab8423929ed984",
      "52b4b164801a4bfbacefb6a2c337d4e9",
      "4ed2f85c50a44b04b1ea6e474ad9b578",
      "e934f76fbb594c7e9e19c43f0d55898c",
      "d614d2ff6fd744468e0be4bb56d81f80",
      "4397484c2f7e466d90a630f28eb950b6",
      "b4bbfcf9a16c4fa89050c960655646a5",
      "4218ccb41eb84a4db3259d3f8cf96ff6",
      "3ad99a8593a74552a3354997937e0e86",
      "0c3bbce43e954a709cf6584bb82454f9",
      "c4e0661818e54f2ab7b3e738d73052c3",
      "256aa60dac224eeab53a0eb086770545",
      "e80b401b49dc49aab2610b04449c2d11",
      "d607c758a8924ba4bc778346adf76d4e",
      "55e5b69cbd2b4b15bb4afb45ad881665",
      "b6fad9b3075d4fbcb5eaeb20cdc10e14",
      "5c637cbd638b45d693438fe159a7fc10",
      "c0540e1092bd416fb2a857b94369571d",
      "97ab6efd5a134bccac813937771c6e01",
      "6c1dd817972a40859b9652ddaea59f55",
      "9e8d139789584e1db2e3dc3953daa626",
      "ee052533e485412aaf049e4214e920d4",
      "869d22cdb12141728110553e420e68e3",
      "d78788d01add48fca9628c1d68c67495",
      "0fb8ff3b7dea463c83ea3684c49091ad",
      "c986125d4c4046e6a6630f7b71fbc560",
      "8c67ceaa230044e99ba42385763f2121",
      "e49ca78c382f4d789db4a5c8df541122",
      "a11836696db14ff6baa918beac301d86",
      "a49cc3dc0c0244c988595750e9d535e8",
      "a159b1c5ef0a47f39167af69a717f6e6",
      "13fd8044a87c467fa01ba22b88ec5d44",
      "7261dace7cb345ff90684431eca4bccc",
      "0c0edf328ce9444c976cf5af7e30a6a1",
      "39876c5ae2ed47298be21580712e25fc",
      "36c8be9aaa3e42468f4faa14c669a5ad",
      "efd94192277a41ff91765ed98c2e0130",
      "c913b2045c5c422e922dff8c972b1d2c",
      "d65385256b214acd89e5711de472d3dd",
      "1953005c35504dfe9f70e66346e6696d",
      "170fedfa24a54780acc5b3d8d7955b6c",
      "cee78616fa3f4585897646b75acf30eb",
      "d0a70bd3dd454652bcf04bf4827daa15",
      "eec88e8e52a2460faf2c273a0cd7dbaa",
      "d180ece27c2d4848b3c24c70687f9730",
      "c9e717550b1144d996770d2d3d2ffd0b",
      "451b516842d743cc812324be5808ebb0",
      "ed2d02f351504f58afa6a8b957296292",
      "305b25795cea401984b908b9b1d58ef2",
      "7a46e7933527421280405fb937857a44",
      "e6d0e7c3cb014575b876e877a86b55ae",
      "2e26a17b32bb46dfb086b618aba32b2a",
      "2693cb4594284adaa84504ffcad17c8e",
      "437f23ce148240a983eae72e9038b5e9",
      "c0a7d7a4b50f4061b8f064669b80aacc",
      "6b5e7dee238a489196ca1529171e3163",
      "dc0d1bba43644b4db61efd3d4c4ab4fe",
      "2e40e88228ff4101a87f70c8cadd51af",
      "d5f717410e3c43f98121c399c9986549",
      "1ef08271163446a3aa1b81729401d7d4",
      "1493a29ddd1249b7a19e91448e08b107",
      "6f4d419a816d4d8ab925859aac87c03a",
      "b2c71191d6784bb1849f417426c6a4f9",
      "6c3b339f9b2244b59197235c3bcb6195",
      "f73d80b5bdb040b8854843797983282f",
      "3f298d43759a4088b8a336e71912f34a",
      "3c6b72c704aa49768b2f379c4819c2a8",
      "9ecb9b5f49a0457eb93e07e659a9b685",
      "e68e0a6b38334e618b7f8c08a09800fa",
      "1f231dd2d012451aac6d0fa2848a166a",
      "49cae40d763748159f920e9f6b94bd1e",
      "b88b02c923c04f5f9f2ff6f0d7efed71",
      "96f4fdcc2bc6421b93d768aae790ef2c",
      "316a5ffeadc84146b100284c368cd265",
      "d062bda1797d4531be445da972c24bcc",
      "372b5ec443564d288dc0c3a303c74575",
      "81819d998a864a44a3144f7658222499",
      "78706f7acb014d54b65a2a8a709aaf04",
      "bd0c4eaab3624e6081f8e09a9be5c153",
      "87e6a39d3de04299ab4eb7c610d7ee2c",
      "cbaa48e0c8254915955c571658ae2033",
      "c7b6437d111e43cc84fee11215f0d104",
      "c2384ce672fb44be853ef76d94e776d5",
      "e32af068f48c40829e54b4c94e9d7bfa",
      "d31b642f661345a5b9391a135ab7feec",
      "30ed64059afa40a3bac103b38a347137",
      "9a81519f7597465fb7f8a073bec1a599",
      "0000a815c5cd4127979d2b65839e826d",
      "5056f7d3744148b8bbc333865c1ce9a5",
      "32c56772534343efa2ce44d90babfbc1",
      "ef3e75e20c794dcea2f04382e0d514d6",
      "52cb0851453b419c8af56ea08dea9b95",
      "00a9b76d9198455fa5333d70e5d942a8",
      "16ee17fb0aa543e0933a9bb91f68bc70",
      "b159745b10e746349c397d7adec9a461",
      "07ae0ea19f3743048428bd86a0d48b09",
      "99a6739702d140a288c85784c1ea7701",
      "8fd9f434ac4540d8afc06e0ddc1880bd",
      "df5a8b970352410d8b086ba380bdf1c6",
      "35c0e52577b34d1eb8a37b3dadbb8993",
      "b10c6789e19d40b6a0159ed135aae6d6",
      "424079c90eda4ecb90b4decc5cde8bfd"
     ]
    },
    "id": "idsWXgwjx9Bz",
    "outputId": "c3152df3-4af4-4f72-e713-1380ea980b7d"
   },
   "outputs": [
    {
     "name": "stdout",
     "output_type": "stream",
     "text": [
      "\n",
      "Namespace(input='/content/drive/MyDrive/Colab Notebooks/silero/input', output='silero/output_raw', threads='16', speaker='xenia', device='cuda', rate='48000', ignore_newlines=False, merge=True, rvc=False, rvc_model_pth='ru-saya-1000.pth', rvc_model_index=None, rvc_transpose='3')\n"
     ]
    },
    {
     "name": "stderr",
     "output_type": "stream",
     "text": [
      "[nltk_data] Downloading package punkt to /root/nltk_data...\n",
      "[nltk_data]   Unzipping tokenizers/punkt.zip.\n",
      "[nltk_data] Downloading package punkt_tab to /root/nltk_data...\n",
      "[nltk_data]   Unzipping tokenizers/punkt_tab.zip.\n",
      "100%|██████████| 59.0M/59.0M [00:05<00:00, 12.2MB/s]\n"
     ]
    },
    {
     "name": "stdout",
     "output_type": "stream",
     "text": [
      "\n",
      "file: /content/drive/MyDrive/Colab Notebooks/silero/input/part001 - Том 1..txt ...\n"
     ]
    },
    {
     "data": {
      "application/vnd.jupyter.widget-view+json": {
       "model_id": "d25613246887449e93e4921ec6b32a0b",
       "version_major": 2,
       "version_minor": 0
      },
      "text/plain": [
       " CHAPTER:   0%|          | 0/1 [00:00<?, ?it/s]"
      ]
     },
     "metadata": {},
     "output_type": "display_data"
    },
    {
     "data": {
      "application/vnd.jupyter.widget-view+json": {
       "model_id": "92280b97c477416ba0feddda69401b2b",
       "version_major": 2,
       "version_minor": 0
      },
      "text/plain": [
       "    TEXT:   0%|          | 0/1 [00:00<?, ?it/s]"
      ]
     },
     "metadata": {},
     "output_type": "display_data"
    },
    {
     "data": {
      "application/vnd.jupyter.widget-view+json": {
       "model_id": "33232df5b9e0495d9078d2e75dc5ac73",
       "version_major": 2,
       "version_minor": 0
      },
      "text/plain": [
       "SENTENCE:   0%|          | 0/3 [00:00<?, ?it/s]"
      ]
     },
     "metadata": {},
     "output_type": "display_data"
    },
    {
     "name": "stdout",
     "output_type": "stream",
     "text": [
      "\n",
      "file: /content/drive/MyDrive/Colab Notebooks/silero/input/part002 - Пролог..txt ...\n"
     ]
    },
    {
     "data": {
      "application/vnd.jupyter.widget-view+json": {
       "model_id": "5255d274bd9e4963b18d70aec4e8cfb5",
       "version_major": 2,
       "version_minor": 0
      },
      "text/plain": [
       " CHAPTER:   0%|          | 0/1 [00:00<?, ?it/s]"
      ]
     },
     "metadata": {},
     "output_type": "display_data"
    },
    {
     "data": {
      "application/vnd.jupyter.widget-view+json": {
       "model_id": "92c3550ee9d74347a1bd477ef68c26f5",
       "version_major": 2,
       "version_minor": 0
      },
      "text/plain": [
       "    TEXT:   0%|          | 0/1 [00:00<?, ?it/s]"
      ]
     },
     "metadata": {},
     "output_type": "display_data"
    },
    {
     "data": {
      "application/vnd.jupyter.widget-view+json": {
       "model_id": "a70a57c05cba4b02bf643343fc5cd498",
       "version_major": 2,
       "version_minor": 0
      },
      "text/plain": [
       "SENTENCE:   0%|          | 0/64 [00:00<?, ?it/s]"
      ]
     },
     "metadata": {},
     "output_type": "display_data"
    },
    {
     "name": "stdout",
     "output_type": "stream",
     "text": [
      "\n",
      "file: /content/drive/MyDrive/Colab Notebooks/silero/input/part003 - Глава 1..txt ...\n"
     ]
    },
    {
     "data": {
      "application/vnd.jupyter.widget-view+json": {
       "model_id": "885e705b7385435480a3addc4020e417",
       "version_major": 2,
       "version_minor": 0
      },
      "text/plain": [
       " CHAPTER:   0%|          | 0/1 [00:00<?, ?it/s]"
      ]
     },
     "metadata": {},
     "output_type": "display_data"
    },
    {
     "data": {
      "application/vnd.jupyter.widget-view+json": {
       "model_id": "877d4469a6e943f7b61e929d30c6e550",
       "version_major": 2,
       "version_minor": 0
      },
      "text/plain": [
       "    TEXT:   0%|          | 0/1 [00:00<?, ?it/s]"
      ]
     },
     "metadata": {},
     "output_type": "display_data"
    },
    {
     "data": {
      "application/vnd.jupyter.widget-view+json": {
       "model_id": "a5ab8767bee542b1a78d84b6420ea7da",
       "version_major": 2,
       "version_minor": 0
      },
      "text/plain": [
       "SENTENCE:   0%|          | 0/74 [00:00<?, ?it/s]"
      ]
     },
     "metadata": {},
     "output_type": "display_data"
    },
    {
     "name": "stdout",
     "output_type": "stream",
     "text": [
      "\n",
      "file: /content/drive/MyDrive/Colab Notebooks/silero/input/part004 - Глава 2..txt ...\n"
     ]
    },
    {
     "data": {
      "application/vnd.jupyter.widget-view+json": {
       "model_id": "26e78f23b36c454d87cbabd168d64166",
       "version_major": 2,
       "version_minor": 0
      },
      "text/plain": [
       " CHAPTER:   0%|          | 0/1 [00:00<?, ?it/s]"
      ]
     },
     "metadata": {},
     "output_type": "display_data"
    },
    {
     "data": {
      "application/vnd.jupyter.widget-view+json": {
       "model_id": "b041c4610b0342e294e00a27da3ba9be",
       "version_major": 2,
       "version_minor": 0
      },
      "text/plain": [
       "    TEXT:   0%|          | 0/1 [00:00<?, ?it/s]"
      ]
     },
     "metadata": {},
     "output_type": "display_data"
    },
    {
     "data": {
      "application/vnd.jupyter.widget-view+json": {
       "model_id": "d0b3202f6b094882bb4f94ac1a077fb8",
       "version_major": 2,
       "version_minor": 0
      },
      "text/plain": [
       "SENTENCE:   0%|          | 0/80 [00:00<?, ?it/s]"
      ]
     },
     "metadata": {},
     "output_type": "display_data"
    },
    {
     "name": "stdout",
     "output_type": "stream",
     "text": [
      "\n",
      "file: /content/drive/MyDrive/Colab Notebooks/silero/input/part005 - Глава 3..txt ...\n"
     ]
    },
    {
     "data": {
      "application/vnd.jupyter.widget-view+json": {
       "model_id": "17a1af8f98e04dff80c85c11fb43a56a",
       "version_major": 2,
       "version_minor": 0
      },
      "text/plain": [
       " CHAPTER:   0%|          | 0/1 [00:00<?, ?it/s]"
      ]
     },
     "metadata": {},
     "output_type": "display_data"
    },
    {
     "data": {
      "application/vnd.jupyter.widget-view+json": {
       "model_id": "b17b4f5dd3874fe591a4114fa4089ee5",
       "version_major": 2,
       "version_minor": 0
      },
      "text/plain": [
       "    TEXT:   0%|          | 0/1 [00:00<?, ?it/s]"
      ]
     },
     "metadata": {},
     "output_type": "display_data"
    },
    {
     "data": {
      "application/vnd.jupyter.widget-view+json": {
       "model_id": "e934f76fbb594c7e9e19c43f0d55898c",
       "version_major": 2,
       "version_minor": 0
      },
      "text/plain": [
       "SENTENCE:   0%|          | 0/101 [00:00<?, ?it/s]"
      ]
     },
     "metadata": {},
     "output_type": "display_data"
    },
    {
     "name": "stdout",
     "output_type": "stream",
     "text": [
      "\n",
      "file: /content/drive/MyDrive/Colab Notebooks/silero/input/part006 - Глава 4..txt ...\n"
     ]
    },
    {
     "data": {
      "application/vnd.jupyter.widget-view+json": {
       "model_id": "55e5b69cbd2b4b15bb4afb45ad881665",
       "version_major": 2,
       "version_minor": 0
      },
      "text/plain": [
       " CHAPTER:   0%|          | 0/1 [00:00<?, ?it/s]"
      ]
     },
     "metadata": {},
     "output_type": "display_data"
    },
    {
     "data": {
      "application/vnd.jupyter.widget-view+json": {
       "model_id": "c986125d4c4046e6a6630f7b71fbc560",
       "version_major": 2,
       "version_minor": 0
      },
      "text/plain": [
       "    TEXT:   0%|          | 0/1 [00:00<?, ?it/s]"
      ]
     },
     "metadata": {},
     "output_type": "display_data"
    },
    {
     "data": {
      "application/vnd.jupyter.widget-view+json": {
       "model_id": "efd94192277a41ff91765ed98c2e0130",
       "version_major": 2,
       "version_minor": 0
      },
      "text/plain": [
       "SENTENCE:   0%|          | 0/99 [00:00<?, ?it/s]"
      ]
     },
     "metadata": {},
     "output_type": "display_data"
    },
    {
     "name": "stdout",
     "output_type": "stream",
     "text": [
      "\n",
      "file: /content/drive/MyDrive/Colab Notebooks/silero/input/part007 - Глава 5..txt ...\n"
     ]
    },
    {
     "data": {
      "application/vnd.jupyter.widget-view+json": {
       "model_id": "ed2d02f351504f58afa6a8b957296292",
       "version_major": 2,
       "version_minor": 0
      },
      "text/plain": [
       " CHAPTER:   0%|          | 0/1 [00:00<?, ?it/s]"
      ]
     },
     "metadata": {},
     "output_type": "display_data"
    },
    {
     "data": {
      "application/vnd.jupyter.widget-view+json": {
       "model_id": "d5f717410e3c43f98121c399c9986549",
       "version_major": 2,
       "version_minor": 0
      },
      "text/plain": [
       "    TEXT:   0%|          | 0/1 [00:00<?, ?it/s]"
      ]
     },
     "metadata": {},
     "output_type": "display_data"
    },
    {
     "data": {
      "application/vnd.jupyter.widget-view+json": {
       "model_id": "1f231dd2d012451aac6d0fa2848a166a",
       "version_major": 2,
       "version_minor": 0
      },
      "text/plain": [
       "SENTENCE:   0%|          | 0/87 [00:00<?, ?it/s]"
      ]
     },
     "metadata": {},
     "output_type": "display_data"
    },
    {
     "name": "stdout",
     "output_type": "stream",
     "text": [
      "\n",
      "Merging and encoding, please wait...\n"
     ]
    },
    {
     "data": {
      "application/vnd.jupyter.widget-view+json": {
       "model_id": "cbaa48e0c8254915955c571658ae2033",
       "version_major": 2,
       "version_minor": 0
      },
      "text/plain": [
       "  0%|          | 0/7 [00:00<?, ?it/s]"
      ]
     },
     "metadata": {},
     "output_type": "display_data"
    },
    {
     "data": {
      "application/vnd.jupyter.widget-view+json": {
       "model_id": "52cb0851453b419c8af56ea08dea9b95",
       "version_major": 2,
       "version_minor": 0
      },
      "text/plain": [
       "OPUS:   0%|          | 0/7 [00:00<?, ?it/s]"
      ]
     },
     "metadata": {},
     "output_type": "display_data"
    },
    {
     "name": "stdout",
     "output_type": "stream",
     "text": [
      "\n",
      "Finished!\n"
     ]
    }
   ],
   "source": [
    "%run silero/silero_tts.py  -t 16 -s xenia -d cuda -r 48000 --merge -i \"/content/drive/MyDrive/Colab Notebooks/silero/input\" -o silero/output_raw"
   ]
  },
  {
   "cell_type": "code",
   "execution_count": 6,
   "metadata": {
    "colab": {
     "base_uri": "https://localhost:8080/"
    },
    "id": "WJznBjRnCSGV",
    "outputId": "de4128a7-59a5-46f3-dfda-affb571643c0"
   },
   "outputs": [
    {
     "name": "stdout",
     "output_type": "stream",
     "text": [
      "  adding: silero/output_raw/_opus/part001_-_Том_1__000000.opus (deflated 1%)\n",
      "  adding: silero/output_raw/_opus/part002_-_Пролог__000000.opus (deflated 1%)\n",
      "  adding: silero/output_raw/_opus/part003_-_Глава_1__000000.opus (deflated 1%)\n",
      "  adding: silero/output_raw/_opus/part004_-_Глава_2__000000.opus (deflated 1%)\n",
      "  adding: silero/output_raw/_opus/part005_-_Глава_3__000000.opus (deflated 1%)\n",
      "  adding: silero/output_raw/_opus/part006_-_Глава_4__000000.opus (deflated 1%)\n",
      "  adding: silero/output_raw/_opus/part007_-_Глава_5__000000.opus (deflated 1%)\n",
      "  adding: silero/output_raw/_opus/ (stored 0%)\n",
      "'output.zip' -> '/content/drive/MyDrive/Colab Notebooks/silero/output.zip'\n"
     ]
    }
   ],
   "source": [
    "!zip -r output.zip silero/output_raw/_opus | sort\n",
    "!cp -v output.zip \"/content/drive/MyDrive/Colab Notebooks/silero\""
   ]
  },
  {
   "cell_type": "code",
   "execution_count": null,
   "metadata": {
    "id": "RxfX_YPnlcpT"
   },
   "outputs": [],
   "source": [
    "# from IPython.display import Audio\n",
    "# wav_folder = \"silero/output_raw/_wav\"\n",
    "# for file in sorted(os.listdir(wav_folder)):\n",
    "#     print(file)\n",
    "#     display(Audio(os.path.join(wav_folder, file)))"
   ]
  }
 ],
 "metadata": {
  "accelerator": "GPU",
  "colab": {
   "provenance": []
  },
  "gpuClass": "standard",
  "kernelspec": {
   "display_name": "Python 3",
   "name": "python3"
  },
  "language_info": {
   "name": "python"
  }
 },
 "nbformat": 4,
 "nbformat_minor": 0
}
