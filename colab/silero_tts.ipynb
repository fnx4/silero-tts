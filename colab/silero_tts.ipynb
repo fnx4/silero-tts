{
  "nbformat": 4,
  "nbformat_minor": 0,
  "metadata": {
    "colab": {
      "provenance": []
    },
    "kernelspec": {
      "name": "python3",
      "display_name": "Python 3"
    },
    "language_info": {
      "name": "python"
    },
    "accelerator": "GPU",
    "gpuClass": "standard"
  },
  "cells": [
    {
      "cell_type": "markdown",
      "source": [
        "# SILERO TTS"
      ],
      "metadata": {
        "id": "VIp7YqtS0to5"
      }
    },
    {
      "cell_type": "code",
      "source": [
        "from google.colab import drive\n",
        "drive.mount('/content/drive')"
      ],
      "metadata": {
        "colab": {
          "base_uri": "https://localhost:8080/"
        },
        "id": "StLJmSWrBFqk",
        "outputId": "de465f06-e9c1-4c9e-a752-cc601fadb4fe"
      },
      "execution_count": 1,
      "outputs": [
        {
          "output_type": "stream",
          "name": "stdout",
          "text": [
            "Mounted at /content/drive\n"
          ]
        }
      ]
    },
    {
      "cell_type": "code",
      "source": [
        "!git clone https://github.com/fnx4/silero-tts silero"
      ],
      "metadata": {
        "colab": {
          "base_uri": "https://localhost:8080/"
        },
        "id": "HonFbI7A0wez",
        "outputId": "ee655b64-354e-4777-ae58-38a2fb78d17c"
      },
      "execution_count": 2,
      "outputs": [
        {
          "output_type": "stream",
          "name": "stdout",
          "text": [
            "Cloning into 'silero'...\n",
            "remote: Enumerating objects: 94, done.\u001b[K\n",
            "remote: Counting objects: 100% (94/94), done.\u001b[K\n",
            "remote: Compressing objects: 100% (42/42), done.\u001b[K\n",
            "remote: Total 94 (delta 30), reused 92 (delta 28), pack-reused 0\u001b[K\n",
            "Unpacking objects: 100% (94/94), 27.74 KiB | 1.03 MiB/s, done.\n"
          ]
        }
      ]
    },
    {
      "cell_type": "code",
      "source": [
        "!ffmpeg -version | grep \"ffmpeg version\"\n",
        "!nvidia-smi"
      ],
      "metadata": {
        "colab": {
          "base_uri": "https://localhost:8080/"
        },
        "id": "eGIIgFwg0zsd",
        "outputId": "97429be5-781a-4077-8111-d5be9d757d9e"
      },
      "execution_count": 3,
      "outputs": [
        {
          "output_type": "stream",
          "name": "stdout",
          "text": [
            "ffmpeg version 4.2.7-0ubuntu0.1 Copyright (c) 2000-2022 the FFmpeg developers\n",
            "Tue Jul 11 16:48:41 2023       \n",
            "+-----------------------------------------------------------------------------+\n",
            "| NVIDIA-SMI 525.85.12    Driver Version: 525.85.12    CUDA Version: 12.0     |\n",
            "|-------------------------------+----------------------+----------------------+\n",
            "| GPU  Name        Persistence-M| Bus-Id        Disp.A | Volatile Uncorr. ECC |\n",
            "| Fan  Temp  Perf  Pwr:Usage/Cap|         Memory-Usage | GPU-Util  Compute M. |\n",
            "|                               |                      |               MIG M. |\n",
            "|===============================+======================+======================|\n",
            "|   0  Tesla T4            Off  | 00000000:00:04.0 Off |                    0 |\n",
            "| N/A   60C    P8    10W /  70W |      0MiB / 15360MiB |      0%      Default |\n",
            "|                               |                      |                  N/A |\n",
            "+-------------------------------+----------------------+----------------------+\n",
            "                                                                               \n",
            "+-----------------------------------------------------------------------------+\n",
            "| Processes:                                                                  |\n",
            "|  GPU   GI   CI        PID   Type   Process name                  GPU Memory |\n",
            "|        ID   ID                                                   Usage      |\n",
            "|=============================================================================|\n",
            "|  No running processes found                                                 |\n",
            "+-----------------------------------------------------------------------------+\n"
          ]
        }
      ]
    },
    {
      "cell_type": "code",
      "source": [
        "!pip install -r silero/requirements.txt"
      ],
      "metadata": {
        "colab": {
          "base_uri": "https://localhost:8080/"
        },
        "id": "-aCpkxag03ul",
        "outputId": "90d75b52-137b-4031-ecd1-b0bcb0758367"
      },
      "execution_count": 4,
      "outputs": [
        {
          "output_type": "stream",
          "name": "stdout",
          "text": [
            "Collecting transliterate (from -r silero/requirements.txt (line 1))\n",
            "  Downloading transliterate-1.10.2-py2.py3-none-any.whl (45 kB)\n",
            "\u001b[?25l     \u001b[90m━━━━━━━━━━━━━━━━━━━━━━━━━━━━━━━━━━━━━━━━\u001b[0m \u001b[32m0.0/45.8 kB\u001b[0m \u001b[31m?\u001b[0m eta \u001b[36m-:--:--\u001b[0m\r\u001b[2K     \u001b[90m━━━━━━━━━━━━━━━━━━━━━━━━━━━━━━━━━━━━━━━━\u001b[0m \u001b[32m45.8/45.8 kB\u001b[0m \u001b[31m2.8 MB/s\u001b[0m eta \u001b[36m0:00:00\u001b[0m\n",
            "\u001b[?25hCollecting num2words (from -r silero/requirements.txt (line 2))\n",
            "  Downloading num2words-0.5.12-py3-none-any.whl (125 kB)\n",
            "\u001b[?25l     \u001b[90m━━━━━━━━━━━━━━━━━━━━━━━━━━━━━━━━━━━━━━━━\u001b[0m \u001b[32m0.0/125.2 kB\u001b[0m \u001b[31m?\u001b[0m eta \u001b[36m-:--:--\u001b[0m\r\u001b[2K     \u001b[90m━━━━━━━━━━━━━━━━━━━━━━━━━━━━━━━━━━━━━━━\u001b[0m \u001b[32m125.2/125.2 kB\u001b[0m \u001b[31m6.6 MB/s\u001b[0m eta \u001b[36m0:00:00\u001b[0m\n",
            "\u001b[?25hCollecting pypandoc (from -r silero/requirements.txt (line 3))\n",
            "  Downloading pypandoc-1.11-py3-none-any.whl (20 kB)\n",
            "Collecting ffmpeg-python (from -r silero/requirements.txt (line 4))\n",
            "  Downloading ffmpeg_python-0.2.0-py3-none-any.whl (25 kB)\n",
            "Requirement already satisfied: six>=1.1.0 in /usr/local/lib/python3.10/dist-packages (from transliterate->-r silero/requirements.txt (line 1)) (1.16.0)\n",
            "Collecting docopt>=0.6.2 (from num2words->-r silero/requirements.txt (line 2))\n",
            "  Downloading docopt-0.6.2.tar.gz (25 kB)\n",
            "  Preparing metadata (setup.py) ... \u001b[?25l\u001b[?25hdone\n",
            "Requirement already satisfied: future in /usr/local/lib/python3.10/dist-packages (from ffmpeg-python->-r silero/requirements.txt (line 4)) (0.18.3)\n",
            "Building wheels for collected packages: docopt\n",
            "  Building wheel for docopt (setup.py) ... \u001b[?25l\u001b[?25hdone\n",
            "  Created wheel for docopt: filename=docopt-0.6.2-py2.py3-none-any.whl size=13707 sha256=c633e467bc899f51fd4628b2a087c6b38c49cd658bea85f0aca1b94b7a8ea763\n",
            "  Stored in directory: /root/.cache/pip/wheels/fc/ab/d4/5da2067ac95b36618c629a5f93f809425700506f72c9732fac\n",
            "Successfully built docopt\n",
            "Installing collected packages: docopt, transliterate, pypandoc, num2words, ffmpeg-python\n",
            "Successfully installed docopt-0.6.2 ffmpeg-python-0.2.0 num2words-0.5.12 pypandoc-1.11 transliterate-1.10.2\n"
          ]
        }
      ]
    },
    {
      "cell_type": "code",
      "source": [
        "!python silero/silero_tts.py -t 16 -s xenia -d cuda -r 48000 --merge -i \"/content/drive/MyDrive/Colab Notebooks/silero/input\" -o silero/output_raw"
      ],
      "metadata": {
        "colab": {
          "base_uri": "https://localhost:8080/"
        },
        "id": "idsWXgwjx9Bz",
        "outputId": "08161672-e881-47aa-ce21-2eac31bc5244"
      },
      "execution_count": 5,
      "outputs": [
        {
          "output_type": "stream",
          "name": "stdout",
          "text": [
            "{'input': '/content/drive/MyDrive/Colab Notebooks/silero/input', 'output': 'silero/output_raw', 'threads': '16', 'speaker': 'xenia', 'device': 'cuda', 'rate': '48000', 'merge': True, 'svc': False}\n",
            "[nltk_data] Downloading package punkt to /root/nltk_data...\n",
            "[nltk_data]   Unzipping tokenizers/punkt.zip.\n",
            "100% 59.0M/59.0M [00:02<00:00, 21.5MB/s]\n",
            "\n",
            "silero/output_raw/part001_-_Том_1\n",
            "    TTS: 100% 2/2 [00:02<00:00,  1.39s/it]\n",
            "\n",
            "silero/output_raw/part002_-_Пролог\n",
            "    TTS: 100% 36/36 [00:03<00:00,  9.03it/s]\n",
            "\n",
            "silero/output_raw/part003_-_Глава_1\n",
            "    TTS: 100% 52/52 [00:03<00:00, 13.42it/s]\n",
            "\n",
            "silero/output_raw/part004_-_Глава_2\n",
            "    TTS: 100% 49/49 [00:03<00:00, 13.75it/s]\n",
            "\n",
            "silero/output_raw/part005_-_Глава_3\n",
            "    TTS: 100% 60/60 [00:05<00:00, 11.60it/s]\n",
            "\n",
            "silero/output_raw/part006_-_Глава_4\n",
            "    TTS: 100% 58/58 [00:03<00:00, 15.56it/s]\n",
            "\n",
            "silero/output_raw/part007_-_Глава_5\n",
            "    TTS: 100% 47/47 [00:03<00:00, 13.61it/s]\n",
            "\n",
            "Merging and encoding, please wait... (16 threads)\n",
            "MERGING: 100% 7/7 [00:45<00:00,  6.54s/chapter]\n",
            "\n",
            "Finished!\n"
          ]
        }
      ]
    },
    {
      "cell_type": "code",
      "source": [
        "!zip -r output.zip silero/output_raw/*.opus\n",
        "!cp -v output.zip \"/content/drive/MyDrive/Colab Notebooks/silero\""
      ],
      "metadata": {
        "colab": {
          "base_uri": "https://localhost:8080/"
        },
        "id": "WJznBjRnCSGV",
        "outputId": "186596c1-a4d8-4840-d6d2-eecd4b83cb4a"
      },
      "execution_count": 6,
      "outputs": [
        {
          "output_type": "stream",
          "name": "stdout",
          "text": [
            "  adding: silero/output_raw/part001_-_Том_1.opus (deflated 0%)\n",
            "  adding: silero/output_raw/part002_-_Пролог.opus (deflated 0%)\n",
            "  adding: silero/output_raw/part003_-_Глава_1.opus (deflated 0%)\n",
            "  adding: silero/output_raw/part004_-_Глава_2.opus (deflated 0%)\n",
            "  adding: silero/output_raw/part005_-_Глава_3.opus (deflated 0%)\n",
            "  adding: silero/output_raw/part006_-_Глава_4.opus (deflated 0%)\n",
            "  adding: silero/output_raw/part007_-_Глава_5.opus (deflated 0%)\n",
            "'output.zip' -> '/content/drive/MyDrive/Colab Notebooks/silero/output.zip'\n"
          ]
        }
      ]
    }
  ]
}