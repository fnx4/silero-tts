{
 "cells": [
  {
   "cell_type": "markdown",
   "metadata": {
    "id": "VIp7YqtS0to5"
   },
   "source": [
    "# SILERO TTS"
   ]
  },
  {
   "cell_type": "code",
   "execution_count": 1,
   "metadata": {
    "colab": {
     "base_uri": "https://localhost:8080/"
    },
    "id": "StLJmSWrBFqk",
    "outputId": "d1f1c6e4-0646-43b6-df9e-8c36ac2b4f98"
   },
   "outputs": [
    {
     "name": "stdout",
     "output_type": "stream",
     "text": [
      "Mounted at /content/drive\n"
     ]
    }
   ],
   "source": [
    "from google.colab import drive\n",
    "drive.mount('/content/drive')"
   ]
  },
  {
   "cell_type": "code",
   "execution_count": 2,
   "metadata": {
    "colab": {
     "base_uri": "https://localhost:8080/"
    },
    "id": "HonFbI7A0wez",
    "outputId": "3aa467a2-4fc0-4ec8-9f61-d5820cf32087"
   },
   "outputs": [
    {
     "name": "stdout",
     "output_type": "stream",
     "text": [
      "Cloning into 'silero'...\n",
      "remote: Enumerating objects: 179, done.\u001b[K\n",
      "remote: Counting objects: 100% (179/179), done.\u001b[K\n",
      "remote: Compressing objects: 100% (103/103), done.\u001b[K\n",
      "remote: Total 179 (delta 88), reused 142 (delta 51), pack-reused 0 (from 0)\u001b[K\n",
      "Receiving objects: 100% (179/179), 97.85 KiB | 795.00 KiB/s, done.\n",
      "Resolving deltas: 100% (88/88), done.\n"
     ]
    }
   ],
   "source": [
    "!git clone https://github.com/fnx4/silero-tts silero"
   ]
  },
  {
   "cell_type": "code",
   "execution_count": 3,
   "metadata": {
    "colab": {
     "base_uri": "https://localhost:8080/"
    },
    "id": "eGIIgFwg0zsd",
    "outputId": "b5bb9331-d279-4434-8af6-042136708533"
   },
   "outputs": [
    {
     "name": "stdout",
     "output_type": "stream",
     "text": [
      "ffmpeg version 4.4.2-0ubuntu0.22.04.1 Copyright (c) 2000-2021 the FFmpeg developers\n",
      "Sun Jan 26 17:34:24 2025       \n",
      "+---------------------------------------------------------------------------------------+\n",
      "| NVIDIA-SMI 535.104.05             Driver Version: 535.104.05   CUDA Version: 12.2     |\n",
      "|-----------------------------------------+----------------------+----------------------+\n",
      "| GPU  Name                 Persistence-M | Bus-Id        Disp.A | Volatile Uncorr. ECC |\n",
      "| Fan  Temp   Perf          Pwr:Usage/Cap |         Memory-Usage | GPU-Util  Compute M. |\n",
      "|                                         |                      |               MIG M. |\n",
      "|=========================================+======================+======================|\n",
      "|   0  Tesla T4                       Off | 00000000:00:04.0 Off |                    0 |\n",
      "| N/A   36C    P8               9W /  70W |      0MiB / 15360MiB |      0%      Default |\n",
      "|                                         |                      |                  N/A |\n",
      "+-----------------------------------------+----------------------+----------------------+\n",
      "                                                                                         \n",
      "+---------------------------------------------------------------------------------------+\n",
      "| Processes:                                                                            |\n",
      "|  GPU   GI   CI        PID   Type   Process name                            GPU Memory |\n",
      "|        ID   ID                                                             Usage      |\n",
      "|=======================================================================================|\n",
      "|  No running processes found                                                           |\n",
      "+---------------------------------------------------------------------------------------+\n"
     ]
    }
   ],
   "source": [
    "!ffmpeg -version | grep \"ffmpeg version\"\n",
    "!nvidia-smi"
   ]
  },
  {
   "cell_type": "code",
   "execution_count": 4,
   "metadata": {
    "colab": {
     "base_uri": "https://localhost:8080/"
    },
    "id": "-aCpkxag03ul",
    "outputId": "23c0c7e0-d76f-4671-c263-6e2332616aff"
   },
   "outputs": [
    {
     "name": "stdout",
     "output_type": "stream",
     "text": [
      "Selecting previously unselected package libcmark-gfm0.29.0.gfm.3:amd64.\n",
      "(Reading database ... 124574 files and directories currently installed.)\n",
      "Preparing to unpack .../libcmark-gfm0.29.0.gfm.3_0.29.0.gfm.3-3_amd64.deb ...\n",
      "Unpacking libcmark-gfm0.29.0.gfm.3:amd64 (0.29.0.gfm.3-3) ...\n",
      "Selecting previously unselected package libcmark-gfm-extensions0.29.0.gfm.3:amd64.\n",
      "Preparing to unpack .../libcmark-gfm-extensions0.29.0.gfm.3_0.29.0.gfm.3-3_amd64.deb ...\n",
      "Unpacking libcmark-gfm-extensions0.29.0.gfm.3:amd64 (0.29.0.gfm.3-3) ...\n",
      "Selecting previously unselected package pandoc-data.\n",
      "Preparing to unpack .../pandoc-data_2.9.2.1-3ubuntu2_all.deb ...\n",
      "Unpacking pandoc-data (2.9.2.1-3ubuntu2) ...\n",
      "Selecting previously unselected package pandoc.\n",
      "Preparing to unpack .../pandoc_2.9.2.1-3ubuntu2_amd64.deb ...\n",
      "Unpacking pandoc (2.9.2.1-3ubuntu2) ...\n",
      "Setting up libcmark-gfm0.29.0.gfm.3:amd64 (0.29.0.gfm.3-3) ...\n",
      "Setting up libcmark-gfm-extensions0.29.0.gfm.3:amd64 (0.29.0.gfm.3-3) ...\n",
      "Setting up pandoc-data (2.9.2.1-3ubuntu2) ...\n",
      "Setting up pandoc (2.9.2.1-3ubuntu2) ...\n",
      "Processing triggers for man-db (2.10.2-1) ...\n",
      "Processing triggers for libc-bin (2.35-0ubuntu3.4) ...\n",
      "/sbin/ldconfig.real: /usr/local/lib/libtcm.so.1 is not a symbolic link\n",
      "\n",
      "/sbin/ldconfig.real: /usr/local/lib/libur_adapter_opencl.so.0 is not a symbolic link\n",
      "\n",
      "/sbin/ldconfig.real: /usr/local/lib/libtcm_debug.so.1 is not a symbolic link\n",
      "\n",
      "/sbin/ldconfig.real: /usr/local/lib/libumf.so.0 is not a symbolic link\n",
      "\n",
      "/sbin/ldconfig.real: /usr/local/lib/libtbbbind_2_5.so.3 is not a symbolic link\n",
      "\n",
      "/sbin/ldconfig.real: /usr/local/lib/libtbbbind.so.3 is not a symbolic link\n",
      "\n",
      "/sbin/ldconfig.real: /usr/local/lib/libtbbmalloc_proxy.so.2 is not a symbolic link\n",
      "\n",
      "/sbin/ldconfig.real: /usr/local/lib/libhwloc.so.15 is not a symbolic link\n",
      "\n",
      "/sbin/ldconfig.real: /usr/local/lib/libur_adapter_level_zero.so.0 is not a symbolic link\n",
      "\n",
      "/sbin/ldconfig.real: /usr/local/lib/libtbb.so.12 is not a symbolic link\n",
      "\n",
      "/sbin/ldconfig.real: /usr/local/lib/libtbbmalloc.so.2 is not a symbolic link\n",
      "\n",
      "/sbin/ldconfig.real: /usr/local/lib/libtbbbind_2_0.so.3 is not a symbolic link\n",
      "\n",
      "/sbin/ldconfig.real: /usr/local/lib/libur_loader.so.0 is not a symbolic link\n",
      "\n",
      "Collecting virtualenv\n",
      "  Downloading virtualenv-20.29.1-py3-none-any.whl.metadata (4.5 kB)\n",
      "Collecting distlib<1,>=0.3.7 (from virtualenv)\n",
      "  Downloading distlib-0.3.9-py2.py3-none-any.whl.metadata (5.2 kB)\n",
      "Requirement already satisfied: filelock<4,>=3.12.2 in /usr/local/lib/python3.11/dist-packages (from virtualenv) (3.17.0)\n",
      "Requirement already satisfied: platformdirs<5,>=3.9.1 in /usr/local/lib/python3.11/dist-packages (from virtualenv) (4.3.6)\n",
      "Downloading virtualenv-20.29.1-py3-none-any.whl (4.3 MB)\n",
      "\u001b[2K   \u001b[90m━━━━━━━━━━━━━━━━━━━━━━━━━━━━━━━━━━━━━━━━\u001b[0m \u001b[32m4.3/4.3 MB\u001b[0m \u001b[31m50.5 MB/s\u001b[0m eta \u001b[36m0:00:00\u001b[0m\n",
      "\u001b[?25hDownloading distlib-0.3.9-py2.py3-none-any.whl (468 kB)\n",
      "\u001b[2K   \u001b[90m━━━━━━━━━━━━━━━━━━━━━━━━━━━━━━━━━━━━━━━━\u001b[0m \u001b[32m469.0/469.0 kB\u001b[0m \u001b[31m32.9 MB/s\u001b[0m eta \u001b[36m0:00:00\u001b[0m\n",
      "\u001b[?25hInstalling collected packages: distlib, virtualenv\n",
      "Successfully installed distlib-0.3.9 virtualenv-20.29.1\n",
      "created virtual environment CPython3.10.12.final.0-64 in 939ms\n",
      "  creator CPython3Posix(dest=/content/venv, clear=False, no_vcs_ignore=False, global=False)\n",
      "  seeder FromAppData(download=False, pip=bundle, setuptools=bundle, wheel=bundle, via=copy, app_data_dir=/root/.local/share/virtualenv)\n",
      "    added seed packages: pip==24.3.1, setuptools==75.8.0, wheel==0.45.1\n",
      "  activators BashActivator,CShellActivator,FishActivator,NushellActivator,PowerShellActivator,PythonActivator\n",
      "\u001b[2K     \u001b[90m━━━━━━━━━━━━━━━━━━━━━━━━━━━━━━━━━━━━━━━━\u001b[0m \u001b[32m4.2/4.2 MB\u001b[0m \u001b[31m62.4 MB/s\u001b[0m eta \u001b[36m0:00:00\u001b[0m\n",
      "\u001b[2K     \u001b[90m━━━━━━━━━━━━━━━━━━━━━━━━━━━━━━━━━━━━━━━━\u001b[0m \u001b[32m1.8/1.8 GB\u001b[0m \u001b[31m25.4 MB/s\u001b[0m eta \u001b[36m0:00:00\u001b[0m\n",
      "\u001b[2K   \u001b[90m━━━━━━━━━━━━━━━━━━━━━━━━━━━━━━━━━━━━━━━━\u001b[0m \u001b[32m1.5/1.5 MB\u001b[0m \u001b[31m42.5 MB/s\u001b[0m eta \u001b[36m0:00:00\u001b[0m\n",
      "\u001b[2K   \u001b[90m━━━━━━━━━━━━━━━━━━━━━━━━━━━━━━━━━━━━━━━━\u001b[0m \u001b[32m18.2/18.2 MB\u001b[0m \u001b[31m146.1 MB/s\u001b[0m eta \u001b[36m0:00:00\u001b[0m\n",
      "\u001b[2K   \u001b[90m━━━━━━━━━━━━━━━━━━━━━━━━━━━━━━━━━━━━━━━━\u001b[0m \u001b[32m781.7/781.7 kB\u001b[0m \u001b[31m37.8 MB/s\u001b[0m eta \u001b[36m0:00:00\u001b[0m\n",
      "\u001b[?25h  Preparing metadata (setup.py) ... \u001b[?25l\u001b[?25hdone\n",
      "  Building wheel for docopt (setup.py) ... \u001b[?25l\u001b[?25hdone\n",
      "\u001b[2K   \u001b[90m━━━━━━━━━━━━━━━━━━━━━━━━━━━━━━━━━━━━━━━━\u001b[0m \u001b[32m821.6/821.6 kB\u001b[0m \u001b[31m29.2 MB/s\u001b[0m eta \u001b[36m0:00:00\u001b[0m\n",
      "\u001b[2K   \u001b[90m━━━━━━━━━━━━━━━━━━━━━━━━━━━━━━━━━━━━━━━━\u001b[0m \u001b[32m1.6/1.6 MB\u001b[0m \u001b[31m64.0 MB/s\u001b[0m eta \u001b[36m0:00:00\u001b[0m\n",
      "\u001b[2K   \u001b[90m━━━━━━━━━━━━━━━━━━━━━━━━━━━━━━━━━━━━━━━━\u001b[0m \u001b[32m3.6/3.6 MB\u001b[0m \u001b[31m103.6 MB/s\u001b[0m eta \u001b[36m0:00:00\u001b[0m\n",
      "\u001b[2K   \u001b[90m━━━━━━━━━━━━━━━━━━━━━━━━━━━━━━━━━━━━━━━━\u001b[0m \u001b[32m1.6/1.6 MB\u001b[0m \u001b[31m76.2 MB/s\u001b[0m eta \u001b[36m0:00:00\u001b[0m\n",
      "\u001b[2K   \u001b[90m━━━━━━━━━━━━━━━━━━━━━━━━━━━━━━━━━━━━━━━━\u001b[0m \u001b[32m13.2/13.2 MB\u001b[0m \u001b[31m158.4 MB/s\u001b[0m eta \u001b[36m0:00:00\u001b[0m\n",
      "\u001b[2K   \u001b[90m━━━━━━━━━━━━━━━━━━━━━━━━━━━━━━━━━━━━━━━━\u001b[0m \u001b[32m1.2/1.2 MB\u001b[0m \u001b[31m57.7 MB/s\u001b[0m eta \u001b[36m0:00:00\u001b[0m\n",
      "\u001b[2K   \u001b[90m━━━━━━━━━━━━━━━━━━━━━━━━━━━━━━━━━━━━━━━━\u001b[0m \u001b[32m868.8/868.8 kB\u001b[0m \u001b[31m44.9 MB/s\u001b[0m eta \u001b[36m0:00:00\u001b[0m\n",
      "\u001b[2K   \u001b[90m━━━━━━━━━━━━━━━━━━━━━━━━━━━━━━━━━━━━━━━━\u001b[0m \u001b[32m11.7/11.7 MB\u001b[0m \u001b[31m140.9 MB/s\u001b[0m eta \u001b[36m0:00:00\u001b[0m\n",
      "\u001b[2K   \u001b[90m━━━━━━━━━━━━━━━━━━━━━━━━━━━━━━━━━━━━━━━━\u001b[0m \u001b[32m9.6/9.6 MB\u001b[0m \u001b[31m154.6 MB/s\u001b[0m eta \u001b[36m0:00:00\u001b[0m\n",
      "\u001b[2K   \u001b[90m━━━━━━━━━━━━━━━━━━━━━━━━━━━━━━━━━━━━━━━━\u001b[0m \u001b[32m751.2/751.2 kB\u001b[0m \u001b[31m35.6 MB/s\u001b[0m eta \u001b[36m0:00:00\u001b[0m\n",
      "\u001b[?25h"
     ]
    }
   ],
   "source": [
    "!apt-get -qq install pandoc\n",
    "\n",
    "!pip install virtualenv\n",
    "!virtualenv -p /usr/bin/python3.10 venv\n",
    "!venv/bin/pip install -r silero/requirements-local.txt --quiet\n",
    "!venv/bin/pip install -r silero/requirements.txt --quiet\n",
    "\n",
    "!venv/bin/pip install ipywidgets==7.7.1 --quiet\n",
    "!sed -i 's/tqdm.auto/tqdm.notebook/g' silero/silero_tts.py"
   ]
  },
  {
   "cell_type": "code",
   "execution_count": 5,
   "metadata": {
    "colab": {
     "base_uri": "https://localhost:8080/"
    },
    "id": "idsWXgwjx9Bz",
    "outputId": "9ba09b32-dc16-4939-a956-675aa5ceb78d"
   },
   "outputs": [
    {
     "name": "stdout",
     "output_type": "stream",
     "text": [
      "\n",
      "Namespace(input='/content/drive/MyDrive/Colab Notebooks/silero/input', output='silero/output_raw', threads='16', speaker='xenia', device='cuda', rate='48000', merge=True, rvc=False, rvc_model_pth='ru-saya-1000.pth', rvc_model_index=None, rvc_transpose='3')\n",
      "[nltk_data] Downloading package punkt to /root/nltk_data...\n",
      "[nltk_data]   Unzipping tokenizers/punkt.zip.\n",
      "100% 59.0M/59.0M [00:04<00:00, 14.8MB/s]\n",
      "\n",
      "file: /content/drive/MyDrive/Colab Notebooks/silero/input/part001 - Том 1..txt ...\n",
      " CHAPTER:   0%|          | 0/1 [00:00<?, ?it/s]\n",
      "    TEXT:   0%|          | 0/1 [00:00<?, ?it/s]\n",
      "SENTENCE:   0%|          | 0/3 [00:00<?, ?it/s]\n",
      "\n",
      "file: /content/drive/MyDrive/Colab Notebooks/silero/input/part002 - Пролог..txt ...\n",
      " CHAPTER:   0%|          | 0/1 [00:00<?, ?it/s]\n",
      "    TEXT:   0%|          | 0/1 [00:00<?, ?it/s]\n",
      "SENTENCE:   0%|          | 0/64 [00:00<?, ?it/s]\n",
      "\n",
      "file: /content/drive/MyDrive/Colab Notebooks/silero/input/part003 - Глава 1..txt ...\n",
      " CHAPTER:   0%|          | 0/1 [00:00<?, ?it/s]\n",
      "    TEXT:   0%|          | 0/1 [00:00<?, ?it/s]\n",
      "SENTENCE:   0%|          | 0/74 [00:00<?, ?it/s]\n",
      "\n",
      "file: /content/drive/MyDrive/Colab Notebooks/silero/input/part004 - Глава 2..txt ...\n",
      " CHAPTER:   0%|          | 0/1 [00:00<?, ?it/s]\n",
      "    TEXT:   0%|          | 0/1 [00:00<?, ?it/s]\n",
      "SENTENCE:   0%|          | 0/80 [00:00<?, ?it/s]\n",
      "\n",
      "file: /content/drive/MyDrive/Colab Notebooks/silero/input/part005 - Глава 3..txt ...\n",
      " CHAPTER:   0%|          | 0/1 [00:00<?, ?it/s]\n",
      "    TEXT:   0%|          | 0/1 [00:00<?, ?it/s]\n",
      "SENTENCE:   0%|          | 0/101 [00:00<?, ?it/s]\n",
      "\n",
      "file: /content/drive/MyDrive/Colab Notebooks/silero/input/part006 - Глава 4..txt ...\n",
      " CHAPTER:   0%|          | 0/1 [00:00<?, ?it/s]\n",
      "    TEXT:   0%|          | 0/1 [00:00<?, ?it/s]\n",
      "SENTENCE:   0%|          | 0/99 [00:00<?, ?it/s]\n",
      "\n",
      "file: /content/drive/MyDrive/Colab Notebooks/silero/input/part007 - Глава 5..txt ...\n",
      " CHAPTER:   0%|          | 0/1 [00:00<?, ?it/s]\n",
      "    TEXT:   0%|          | 0/1 [00:00<?, ?it/s]\n",
      "SENTENCE:   0%|          | 0/87 [00:00<?, ?it/s]\n",
      "\n",
      "Merging and encoding, please wait...\n",
      "  0%|          | 0/7 [00:00<?, ?it/s]\n",
      "\n",
      "Finished!\n"
     ]
    }
   ],
   "source": [
    "!venv/bin/python silero/silero_tts.py -t 16 -s xenia -d cuda -r 48000 --merge -i \"/content/drive/MyDrive/Colab Notebooks/silero/input\" -o silero/output_raw"
   ]
  },
  {
   "cell_type": "code",
   "execution_count": 6,
   "metadata": {
    "colab": {
     "base_uri": "https://localhost:8080/"
    },
    "id": "WJznBjRnCSGV",
    "outputId": "11c1bbb3-0c86-4a28-e347-eeb8f75c38cd"
   },
   "outputs": [
    {
     "name": "stdout",
     "output_type": "stream",
     "text": [
      "  adding: silero/output_raw/_opus/part001_-_Том_1__000000.opus (deflated 1%)\n",
      "  adding: silero/output_raw/_opus/part002_-_Пролог__000000.opus (deflated 1%)\n",
      "  adding: silero/output_raw/_opus/part003_-_Глава_1__000000.opus (deflated 1%)\n",
      "  adding: silero/output_raw/_opus/part004_-_Глава_2__000000.opus (deflated 1%)\n",
      "  adding: silero/output_raw/_opus/part005_-_Глава_3__000000.opus (deflated 1%)\n",
      "  adding: silero/output_raw/_opus/part006_-_Глава_4__000000.opus (deflated 1%)\n",
      "  adding: silero/output_raw/_opus/part007_-_Глава_5__000000.opus (deflated 1%)\n",
      "  adding: silero/output_raw/_opus/ (stored 0%)\n",
      "'output.zip' -> '/content/drive/MyDrive/Colab Notebooks/silero/output.zip'\n"
     ]
    }
   ],
   "source": [
    "!zip -r output.zip silero/output_raw/_opus | sort\n",
    "!cp -v output.zip \"/content/drive/MyDrive/Colab Notebooks/silero\""
   ]
  }
 ],
 "metadata": {
  "accelerator": "GPU",
  "colab": {
   "provenance": []
  },
  "gpuClass": "standard",
  "kernelspec": {
   "display_name": "Python 3",
   "name": "python3"
  },
  "language_info": {
   "name": "python"
  }
 },
 "nbformat": 4,
 "nbformat_minor": 0
}
