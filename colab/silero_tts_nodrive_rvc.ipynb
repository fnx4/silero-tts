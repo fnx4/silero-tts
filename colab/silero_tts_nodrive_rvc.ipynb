{
 "cells": [
  {
   "cell_type": "markdown",
   "metadata": {
    "id": "VIp7YqtS0to5"
   },
   "source": [
    "# SILERO TTS"
   ]
  },
  {
   "cell_type": "code",
   "execution_count": null,
   "metadata": {
    "id": "Q31VTQNXSP0T"
   },
   "outputs": [],
   "source": [
    "#!mkdir src\n",
    "#!touch src/test.txt\n",
    "\n",
    "#!echo \"Я приближался к месту моего назначения. \" >> src/test.txt\n",
    "#!echo \"Вокруг меня, прижимаясь к самой дороге, зеленел лес, изредка уступая место полянам, поросшим желтой осокою. \" >> src/test.txt\n",
    "#!echo \"Солнце садилось уже который час, все никак не могло сесть и висело низко над горизонтом. \" >> src/test.txt\n",
    "#!echo \"Машина катилась по узкой дороге, засыпанной хрустящим гравием. \" >> src/test.txt\n",
    "#!echo \"Крупные камни я пускал под колесо, и каждый раз в багажнике лязгали и громыхали пустые канистры.\" >> src/test.txt"
   ]
  },
  {
   "cell_type": "code",
   "execution_count": 1,
   "metadata": {
    "colab": {
     "base_uri": "https://localhost:8080/"
    },
    "id": "StLJmSWrBFqk",
    "outputId": "b728ad88-49bc-42d3-d47c-becb7b6ab018"
   },
   "outputs": [
    {
     "name": "stdout",
     "output_type": "stream",
     "text": [
      "Archive:  src.zip\n",
      "  inflating: ./src/part001 - Том 1..txt  \n",
      "  inflating: ./src/part002 - Пролог..txt  \n",
      "  inflating: ./src/part003 - Глава 1..txt  \n",
      "  inflating: ./src/part004 - Глава 2..txt  \n",
      "  inflating: ./src/part005 - Глава 3..txt  \n",
      "  inflating: ./src/part006 - Глава 4..txt  \n",
      "  inflating: ./src/part007 - Глава 5..txt  \n"
     ]
    }
   ],
   "source": [
    "!mkdir src\n",
    "!unzip src.zip -d ./src"
   ]
  },
  {
   "cell_type": "code",
   "execution_count": 2,
   "metadata": {
    "colab": {
     "base_uri": "https://localhost:8080/"
    },
    "id": "HonFbI7A0wez",
    "outputId": "967e24f8-7e99-4538-9a8f-90eec0690c87"
   },
   "outputs": [
    {
     "name": "stdout",
     "output_type": "stream",
     "text": [
      "Cloning into 'silero'...\n",
      "remote: Enumerating objects: 179, done.\u001b[K\n",
      "remote: Counting objects: 100% (179/179), done.\u001b[K\n",
      "remote: Compressing objects: 100% (103/103), done.\u001b[K\n",
      "remote: Total 179 (delta 88), reused 142 (delta 51), pack-reused 0 (from 0)\u001b[K\n",
      "Receiving objects: 100% (179/179), 97.85 KiB | 753.00 KiB/s, done.\n",
      "Resolving deltas: 100% (88/88), done.\n"
     ]
    }
   ],
   "source": [
    "!git clone https://github.com/fnx4/silero-tts silero"
   ]
  },
  {
   "cell_type": "code",
   "execution_count": 3,
   "metadata": {
    "colab": {
     "base_uri": "https://localhost:8080/"
    },
    "id": "eGIIgFwg0zsd",
    "outputId": "cc6ecfe1-1630-43e0-a659-1a054e66ebe3"
   },
   "outputs": [
    {
     "name": "stdout",
     "output_type": "stream",
     "text": [
      "ffmpeg version 4.4.2-0ubuntu0.22.04.1 Copyright (c) 2000-2021 the FFmpeg developers\n",
      "Sun Jan 26 16:31:01 2025       \n",
      "+---------------------------------------------------------------------------------------+\n",
      "| NVIDIA-SMI 535.104.07             Driver Version: 537.34       CUDA Version: 12.2     |\n",
      "|-----------------------------------------+----------------------+----------------------+\n",
      "| GPU  Name                 Persistence-M | Bus-Id        Disp.A | Volatile Uncorr. ECC |\n",
      "| Fan  Temp   Perf          Pwr:Usage/Cap |         Memory-Usage | GPU-Util  Compute M. |\n",
      "|                                         |                      |               MIG M. |\n",
      "|=========================================+======================+======================|\n",
      "|   0  NVIDIA GeForce RTX 4090        On  | 00000000:01:00.0  On |                  Off |\n",
      "| 47%   45C    P0              61W / 360W |   1603MiB / 24564MiB |      2%      Default |\n",
      "|                                         |                      |                  N/A |\n",
      "+-----------------------------------------+----------------------+----------------------+\n",
      "                                                                                         \n",
      "+---------------------------------------------------------------------------------------+\n",
      "| Processes:                                                                            |\n",
      "|  GPU   GI   CI        PID   Type   Process name                            GPU Memory |\n",
      "|        ID   ID                                                             Usage      |\n",
      "|=======================================================================================|\n",
      "|    0   N/A  N/A        20      G   /Xwayland                                 N/A      |\n",
      "|    0   N/A  N/A        24      G   /Xwayland                                 N/A      |\n",
      "+---------------------------------------------------------------------------------------+\n"
     ]
    }
   ],
   "source": [
    "!ffmpeg -version | grep \"ffmpeg version\"\n",
    "!nvidia-smi"
   ]
  },
  {
   "cell_type": "code",
   "execution_count": 4,
   "metadata": {
    "colab": {
     "base_uri": "https://localhost:8080/"
    },
    "id": "vAmolViP79JH",
    "outputId": "df1b83d0-e4d5-4b5a-b276-7108f4e52303"
   },
   "outputs": [
    {
     "name": "stdout",
     "output_type": "stream",
     "text": [
      "Cloning into 'rvc'...\n",
      "remote: Enumerating objects: 4593, done.\u001b[K\n",
      "remote: Total 4593 (delta 0), reused 0 (delta 0), pack-reused 4593 (from 1)\u001b[K\n",
      "Receiving objects: 100% (4593/4593), 14.35 MiB | 9.54 MiB/s, done.\n",
      "Resolving deltas: 100% (2864/2864), done.\n",
      "HEAD is now at 64b78be 20240604\n",
      "--2025-01-26 16:31:08--  https://huggingface.co/lj1995/VoiceConversionWebUI/resolve/main/rmvpe.pt\n",
      "Resolving huggingface.co (huggingface.co)... 18.165.122.101, 18.165.122.11, 18.165.122.30, ...\n",
      "Connecting to huggingface.co (huggingface.co)|18.165.122.101|:443... connected.\n",
      "HTTP request sent, awaiting response... 302 Found\n",
      "Location: https://cdn-lfs.hf.co/repos/ef/97/ef977053f017cde1fc0f89ac7ef0b33172a3d8fb8a840bb24e78b1c0f35f1e72/6d62215f4306e3ca278246188607209f09af3dc77ed4232efdd069798c4ec193?response-content-disposition=inline%3B+filename*%3DUTF-8%27%27rmvpe.pt%3B+filename%3D%22rmvpe.pt%22%3B&Expires=1737912670&Policy=eyJTdGF0ZW1lbnQiOlt7IkNvbmRpdGlvbiI6eyJEYXRlTGVzc1RoYW4iOnsiQVdTOkVwb2NoVGltZSI6MTczNzkxMjY3MH19LCJSZXNvdXJjZSI6Imh0dHBzOi8vY2RuLWxmcy5oZi5jby9yZXBvcy9lZi85Ny9lZjk3NzA1M2YwMTdjZGUxZmMwZjg5YWM3ZWYwYjMzMTcyYTNkOGZiOGE4NDBiYjI0ZTc4YjFjMGYzNWYxZTcyLzZkNjIyMTVmNDMwNmUzY2EyNzgyNDYxODg2MDcyMDlmMDlhZjNkYzc3ZWQ0MjMyZWZkZDA2OTc5OGM0ZWMxOTM%7EcmVzcG9uc2UtY29udGVudC1kaXNwb3NpdGlvbj0qIn1dfQ__&Signature=kqjiVoLZ7hSOf9CjIMTBamdeDWHgW7Ujuhpk-bFvHNh6Tb623LAJYfqmy4Hsl%7EwXyiPps6e1orzk5XCV%7EhwLOf141IXk9o0f3uxs9KDS%7EgyeZ34MN3WW8MURAi3g5aRSEhe7Lh6zR-uHdqBqC6hTVOGOuuW28Z1Wsfo-DHumQYVRLAiWJizx2DqhIQV9tYbeMVYBgYIWHeAz6RE495qHKeJpBvIam62cqxQUyoticBf-lnIaazLmWNmZVASohrElj%7Ef9lMHOJQD-Z5LdoP5K88bOB43%7EddWqvfon58kmz4OlHzeXwn2kgzmMXg2-s7%7E1%7EX-Je5MYG9C9BpNnK1DJOQ__&Key-Pair-Id=K3RPWS32NSSJCE [following]\n",
      "--2025-01-26 16:31:09--  https://cdn-lfs.hf.co/repos/ef/97/ef977053f017cde1fc0f89ac7ef0b33172a3d8fb8a840bb24e78b1c0f35f1e72/6d62215f4306e3ca278246188607209f09af3dc77ed4232efdd069798c4ec193?response-content-disposition=inline%3B+filename*%3DUTF-8%27%27rmvpe.pt%3B+filename%3D%22rmvpe.pt%22%3B&Expires=1737912670&Policy=eyJTdGF0ZW1lbnQiOlt7IkNvbmRpdGlvbiI6eyJEYXRlTGVzc1RoYW4iOnsiQVdTOkVwb2NoVGltZSI6MTczNzkxMjY3MH19LCJSZXNvdXJjZSI6Imh0dHBzOi8vY2RuLWxmcy5oZi5jby9yZXBvcy9lZi85Ny9lZjk3NzA1M2YwMTdjZGUxZmMwZjg5YWM3ZWYwYjMzMTcyYTNkOGZiOGE4NDBiYjI0ZTc4YjFjMGYzNWYxZTcyLzZkNjIyMTVmNDMwNmUzY2EyNzgyNDYxODg2MDcyMDlmMDlhZjNkYzc3ZWQ0MjMyZWZkZDA2OTc5OGM0ZWMxOTM%7EcmVzcG9uc2UtY29udGVudC1kaXNwb3NpdGlvbj0qIn1dfQ__&Signature=kqjiVoLZ7hSOf9CjIMTBamdeDWHgW7Ujuhpk-bFvHNh6Tb623LAJYfqmy4Hsl%7EwXyiPps6e1orzk5XCV%7EhwLOf141IXk9o0f3uxs9KDS%7EgyeZ34MN3WW8MURAi3g5aRSEhe7Lh6zR-uHdqBqC6hTVOGOuuW28Z1Wsfo-DHumQYVRLAiWJizx2DqhIQV9tYbeMVYBgYIWHeAz6RE495qHKeJpBvIam62cqxQUyoticBf-lnIaazLmWNmZVASohrElj%7Ef9lMHOJQD-Z5LdoP5K88bOB43%7EddWqvfon58kmz4OlHzeXwn2kgzmMXg2-s7%7E1%7EX-Je5MYG9C9BpNnK1DJOQ__&Key-Pair-Id=K3RPWS32NSSJCE\n",
      "Resolving cdn-lfs.hf.co (cdn-lfs.hf.co)... 108.156.22.80, 108.156.22.112, 108.156.22.50, ...\n",
      "Connecting to cdn-lfs.hf.co (cdn-lfs.hf.co)|108.156.22.80|:443... connected.\n",
      "HTTP request sent, awaiting response... 200 OK\n",
      "Length: 181184272 (173M) [binary/octet-stream]\n",
      "Saving to: ‘rvc/assets/rmvpe/rmvpe.pt’\n",
      "\n",
      "rvc/assets/rmvpe/rm 100%[===================>] 172.79M  12.3MB/s    in 15s     \n",
      "\n",
      "2025-01-26 16:31:23 (11.8 MB/s) - ‘rvc/assets/rmvpe/rmvpe.pt’ saved [181184272/181184272]\n",
      "\n",
      "--2025-01-26 16:31:24--  https://huggingface.co/lj1995/VoiceConversionWebUI/resolve/main/hubert_base.pt\n",
      "Resolving huggingface.co (huggingface.co)... ::ffff:18.165.122.101, ::ffff:18.165.122.11, ::ffff:18.165.122.30, ...\n",
      "Connecting to huggingface.co (huggingface.co)|::ffff:18.165.122.101|:443... connected.\n",
      "HTTP request sent, awaiting response... 302 Found\n",
      "Location: https://cdn-lfs.hf.co/repos/ef/97/ef977053f017cde1fc0f89ac7ef0b33172a3d8fb8a840bb24e78b1c0f35f1e72/f54b40fd2802423a5643779c4861af1e9ee9c1564dc9d32f54f20b5ffba7db96?response-content-disposition=inline%3B+filename*%3DUTF-8%27%27hubert_base.pt%3B+filename%3D%22hubert_base.pt%22%3B&Expires=1737912542&Policy=eyJTdGF0ZW1lbnQiOlt7IkNvbmRpdGlvbiI6eyJEYXRlTGVzc1RoYW4iOnsiQVdTOkVwb2NoVGltZSI6MTczNzkxMjU0Mn19LCJSZXNvdXJjZSI6Imh0dHBzOi8vY2RuLWxmcy5oZi5jby9yZXBvcy9lZi85Ny9lZjk3NzA1M2YwMTdjZGUxZmMwZjg5YWM3ZWYwYjMzMTcyYTNkOGZiOGE4NDBiYjI0ZTc4YjFjMGYzNWYxZTcyL2Y1NGI0MGZkMjgwMjQyM2E1NjQzNzc5YzQ4NjFhZjFlOWVlOWMxNTY0ZGM5ZDMyZjU0ZjIwYjVmZmJhN2RiOTY%7EcmVzcG9uc2UtY29udGVudC1kaXNwb3NpdGlvbj0qIn1dfQ__&Signature=ofmtIN0ATgzmY9JyqM-Glw2RgqbS6CKUTr9MxLsorCl1N2H3B-2iREKiYv8wi2z2vm7zbABNMSfK2rUBVzw90Sv1Ycqr-mcxziZm9vShIGvboaFMqK4nYNQQd41EWFwUf708N%7EnKKSYWSbUmdc6hvwAcMsplw8AGsBAWxJw5YLEgA2ix0h3WcT3tKEN4AXEWb0wNKaoTcmjnTIgnPRG2xfaQ2ugNZmYWYsE0FL4jYBi4Pbbrtmxprh0PVjDUFunyHwseatTYAnsmWhDZFrTlNMutsaxC0tYL3VR3xnkUDoOQ1InU3TO-Tuc9zipZm4b8Go-HUuWxN5E1wztVKuS04g__&Key-Pair-Id=K3RPWS32NSSJCE [following]\n",
      "--2025-01-26 16:31:24--  https://cdn-lfs.hf.co/repos/ef/97/ef977053f017cde1fc0f89ac7ef0b33172a3d8fb8a840bb24e78b1c0f35f1e72/f54b40fd2802423a5643779c4861af1e9ee9c1564dc9d32f54f20b5ffba7db96?response-content-disposition=inline%3B+filename*%3DUTF-8%27%27hubert_base.pt%3B+filename%3D%22hubert_base.pt%22%3B&Expires=1737912542&Policy=eyJTdGF0ZW1lbnQiOlt7IkNvbmRpdGlvbiI6eyJEYXRlTGVzc1RoYW4iOnsiQVdTOkVwb2NoVGltZSI6MTczNzkxMjU0Mn19LCJSZXNvdXJjZSI6Imh0dHBzOi8vY2RuLWxmcy5oZi5jby9yZXBvcy9lZi85Ny9lZjk3NzA1M2YwMTdjZGUxZmMwZjg5YWM3ZWYwYjMzMTcyYTNkOGZiOGE4NDBiYjI0ZTc4YjFjMGYzNWYxZTcyL2Y1NGI0MGZkMjgwMjQyM2E1NjQzNzc5YzQ4NjFhZjFlOWVlOWMxNTY0ZGM5ZDMyZjU0ZjIwYjVmZmJhN2RiOTY%7EcmVzcG9uc2UtY29udGVudC1kaXNwb3NpdGlvbj0qIn1dfQ__&Signature=ofmtIN0ATgzmY9JyqM-Glw2RgqbS6CKUTr9MxLsorCl1N2H3B-2iREKiYv8wi2z2vm7zbABNMSfK2rUBVzw90Sv1Ycqr-mcxziZm9vShIGvboaFMqK4nYNQQd41EWFwUf708N%7EnKKSYWSbUmdc6hvwAcMsplw8AGsBAWxJw5YLEgA2ix0h3WcT3tKEN4AXEWb0wNKaoTcmjnTIgnPRG2xfaQ2ugNZmYWYsE0FL4jYBi4Pbbrtmxprh0PVjDUFunyHwseatTYAnsmWhDZFrTlNMutsaxC0tYL3VR3xnkUDoOQ1InU3TO-Tuc9zipZm4b8Go-HUuWxN5E1wztVKuS04g__&Key-Pair-Id=K3RPWS32NSSJCE\n",
      "Resolving cdn-lfs.hf.co (cdn-lfs.hf.co)... 108.156.22.80, 108.156.22.112, 108.156.22.50, ...\n",
      "Connecting to cdn-lfs.hf.co (cdn-lfs.hf.co)|108.156.22.80|:443... connected.\n",
      "HTTP request sent, awaiting response... 200 OK\n",
      "Length: 189507909 (181M) [binary/octet-stream]\n",
      "Saving to: ‘rvc/assets/hubert/hubert_base.pt’\n",
      "\n",
      "rvc/assets/hubert/h 100%[===================>] 180.73M  12.3MB/s    in 15s     \n",
      "\n",
      "2025-01-26 16:31:39 (11.9 MB/s) - ‘rvc/assets/hubert/hubert_base.pt’ saved [189507909/189507909]\n",
      "\n",
      "Requirement already satisfied: virtualenv in /usr/local/lib/python3.10/dist-packages (20.29.1)\n",
      "Requirement already satisfied: distlib<1,>=0.3.7 in /usr/local/lib/python3.10/dist-packages (from virtualenv) (0.3.9)\n",
      "Requirement already satisfied: filelock<4,>=3.12.2 in /usr/local/lib/python3.10/dist-packages (from virtualenv) (3.16.1)\n",
      "Requirement already satisfied: platformdirs<5,>=3.9.1 in /usr/local/lib/python3.10/dist-packages (from virtualenv) (4.3.6)\n",
      "created virtual environment CPython3.10.12.final.0-64 in 142ms\n",
      "  creator CPython3Posix(dest=/content/rvc/venv, clear=False, no_vcs_ignore=False, global=False)\n",
      "  seeder FromAppData(download=False, pip=bundle, setuptools=bundle, wheel=bundle, via=copy, app_data_dir=/root/.local/share/virtualenv)\n",
      "    added seed packages: pip==24.3.1, setuptools==75.8.0, wheel==0.45.1\n",
      "  activators BashActivator,CShellActivator,FishActivator,NushellActivator,PowerShellActivator,PythonActivator\n",
      "Collecting pip==22.3.1\n",
      "  Using cached pip-22.3.1-py3-none-any.whl.metadata (4.1 kB)\n",
      "Using cached pip-22.3.1-py3-none-any.whl (2.1 MB)\n",
      "Installing collected packages: pip\n",
      "  Attempting uninstall: pip\n",
      "    Found existing installation: pip 24.3.1\n",
      "    Uninstalling pip-24.3.1:\n",
      "      Successfully uninstalled pip-24.3.1\n",
      "Successfully installed pip-22.3.1\n",
      "Looking in indexes: https://download.pytorch.org/whl/cu121\n",
      "Collecting torch\n",
      "  Using cached https://download.pytorch.org/whl/cu121/torch-2.5.1%2Bcu121-cp310-cp310-linux_x86_64.whl (780.4 MB)\n",
      "Collecting torchvision\n",
      "  Using cached https://download.pytorch.org/whl/cu121/torchvision-0.20.1%2Bcu121-cp310-cp310-linux_x86_64.whl (7.3 MB)\n",
      "Collecting torchaudio\n",
      "  Using cached https://download.pytorch.org/whl/cu121/torchaudio-2.5.1%2Bcu121-cp310-cp310-linux_x86_64.whl (3.4 MB)\n",
      "Collecting nvidia-cuda-cupti-cu12==12.1.105\n",
      "  Using cached https://download.pytorch.org/whl/cu121/nvidia_cuda_cupti_cu12-12.1.105-py3-none-manylinux1_x86_64.whl (14.1 MB)\n",
      "Collecting nvidia-cusparse-cu12==12.1.0.106\n",
      "  Using cached https://download.pytorch.org/whl/cu121/nvidia_cusparse_cu12-12.1.0.106-py3-none-manylinux1_x86_64.whl (196.0 MB)\n",
      "Collecting nvidia-cudnn-cu12==9.1.0.70\n",
      "  Using cached https://download.pytorch.org/whl/cu121/nvidia_cudnn_cu12-9.1.0.70-py3-none-manylinux2014_x86_64.whl (664.8 MB)\n",
      "Collecting nvidia-cusolver-cu12==11.4.5.107\n",
      "  Using cached https://download.pytorch.org/whl/cu121/nvidia_cusolver_cu12-11.4.5.107-py3-none-manylinux1_x86_64.whl (124.2 MB)\n",
      "Collecting filelock\n",
      "  Using cached https://download.pytorch.org/whl/filelock-3.13.1-py3-none-any.whl (11 kB)\n",
      "Collecting nvidia-cuda-runtime-cu12==12.1.105\n",
      "  Using cached https://download.pytorch.org/whl/cu121/nvidia_cuda_runtime_cu12-12.1.105-py3-none-manylinux1_x86_64.whl (823 kB)\n",
      "Collecting fsspec\n",
      "  Using cached https://download.pytorch.org/whl/fsspec-2024.2.0-py3-none-any.whl (170 kB)\n",
      "Collecting typing-extensions>=4.8.0\n",
      "  Using cached https://download.pytorch.org/whl/typing_extensions-4.9.0-py3-none-any.whl (32 kB)\n",
      "Collecting nvidia-curand-cu12==10.3.2.106\n",
      "  Using cached https://download.pytorch.org/whl/cu121/nvidia_curand_cu12-10.3.2.106-py3-none-manylinux1_x86_64.whl (56.5 MB)\n",
      "Collecting triton==3.1.0\n",
      "  Using cached https://download.pytorch.org/whl/triton-3.1.0-cp310-cp310-manylinux_2_17_x86_64.manylinux2014_x86_64.whl (209.5 MB)\n",
      "Collecting nvidia-nccl-cu12==2.21.5\n",
      "  Using cached https://download.pytorch.org/whl/nvidia_nccl_cu12-2.21.5-py3-none-manylinux2014_x86_64.whl (188.7 MB)\n",
      "Collecting sympy==1.13.1\n",
      "  Using cached https://download.pytorch.org/whl/sympy-1.13.1-py3-none-any.whl (6.2 MB)\n",
      "Collecting networkx\n",
      "  Using cached https://download.pytorch.org/whl/networkx-3.2.1-py3-none-any.whl (1.6 MB)\n",
      "Collecting nvidia-cublas-cu12==12.1.3.1\n",
      "  Using cached https://download.pytorch.org/whl/cu121/nvidia_cublas_cu12-12.1.3.1-py3-none-manylinux1_x86_64.whl (410.6 MB)\n",
      "Collecting nvidia-nvtx-cu12==12.1.105\n",
      "  Using cached https://download.pytorch.org/whl/cu121/nvidia_nvtx_cu12-12.1.105-py3-none-manylinux1_x86_64.whl (99 kB)\n",
      "Collecting nvidia-cuda-nvrtc-cu12==12.1.105\n",
      "  Using cached https://download.pytorch.org/whl/cu121/nvidia_cuda_nvrtc_cu12-12.1.105-py3-none-manylinux1_x86_64.whl (23.7 MB)\n",
      "Collecting nvidia-cufft-cu12==11.0.2.54\n",
      "  Using cached https://download.pytorch.org/whl/cu121/nvidia_cufft_cu12-11.0.2.54-py3-none-manylinux1_x86_64.whl (121.6 MB)\n",
      "Collecting jinja2\n",
      "  Using cached https://download.pytorch.org/whl/Jinja2-3.1.3-py3-none-any.whl (133 kB)\n",
      "Collecting nvidia-nvjitlink-cu12\n",
      "  Using cached https://download.pytorch.org/whl/cu121/nvidia_nvjitlink_cu12-12.1.105-py3-none-manylinux1_x86_64.whl (19.8 MB)\n",
      "Collecting mpmath<1.4,>=1.1.0\n",
      "  Using cached https://download.pytorch.org/whl/mpmath-1.3.0-py3-none-any.whl (536 kB)\n",
      "Collecting pillow!=8.3.*,>=5.3.0\n",
      "  Using cached https://download.pytorch.org/whl/pillow-10.2.0-cp310-cp310-manylinux_2_28_x86_64.whl (4.5 MB)\n",
      "Collecting numpy\n",
      "  Using cached https://download.pytorch.org/whl/numpy-1.26.3-cp310-cp310-manylinux_2_17_x86_64.manylinux2014_x86_64.whl (18.2 MB)\n",
      "Collecting MarkupSafe>=2.0\n",
      "  Using cached https://download.pytorch.org/whl/MarkupSafe-2.1.5-cp310-cp310-manylinux_2_17_x86_64.manylinux2014_x86_64.whl (25 kB)\n",
      "Installing collected packages: mpmath, typing-extensions, sympy, pillow, nvidia-nvtx-cu12, nvidia-nvjitlink-cu12, nvidia-nccl-cu12, nvidia-curand-cu12, nvidia-cufft-cu12, nvidia-cuda-runtime-cu12, nvidia-cuda-nvrtc-cu12, nvidia-cuda-cupti-cu12, nvidia-cublas-cu12, numpy, networkx, MarkupSafe, fsspec, filelock, triton, nvidia-cusparse-cu12, nvidia-cudnn-cu12, jinja2, nvidia-cusolver-cu12, torch, torchvision, torchaudio\n",
      "Successfully installed MarkupSafe-2.1.5 filelock-3.13.1 fsspec-2024.2.0 jinja2-3.1.3 mpmath-1.3.0 networkx-3.2.1 numpy-1.26.3 nvidia-cublas-cu12-12.1.3.1 nvidia-cuda-cupti-cu12-12.1.105 nvidia-cuda-nvrtc-cu12-12.1.105 nvidia-cuda-runtime-cu12-12.1.105 nvidia-cudnn-cu12-9.1.0.70 nvidia-cufft-cu12-11.0.2.54 nvidia-curand-cu12-10.3.2.106 nvidia-cusolver-cu12-11.4.5.107 nvidia-cusparse-cu12-12.1.0.106 nvidia-nccl-cu12-2.21.5 nvidia-nvjitlink-cu12-12.1.105 nvidia-nvtx-cu12-12.1.105 pillow-10.2.0 sympy-1.13.1 torch-2.5.1+cu121 torchaudio-2.5.1+cu121 torchvision-0.20.1+cu121 triton-3.1.0 typing-extensions-4.9.0\n",
      "\u001b[2K     \u001b[90m━━━━━━━━━━━━━━━━━━━━━━━━━━━━━━━━━━━━━━━━\u001b[0m \u001b[32m3.8/3.8 MB\u001b[0m \u001b[31m?\u001b[0m eta \u001b[36m0:00:00\u001b[0m\n",
      "\u001b[2K     \u001b[90m━━━━━━━━━━━━━━━━━━━━━━━━━━━━━━━━━━━━━━━━\u001b[0m \u001b[32m42.4/42.4 MB\u001b[0m \u001b[31m?\u001b[0m eta \u001b[36m0:00:00\u001b[0m\n",
      "\u001b[2K     \u001b[90m━━━━━━━━━━━━━━━━━━━━━━━━━━━━━━━━━━━━━━━━\u001b[0m \u001b[32m27.5/27.5 MB\u001b[0m \u001b[31m365.6 kB/s\u001b[0m eta \u001b[36m0:00:00\u001b[0m\n",
      "\u001b[?25h"
     ]
    }
   ],
   "source": [
    "!git clone https://github.com/RVC-Project/Retrieval-based-Voice-Conversion-WebUI rvc\n",
    "!git --work-tree=rvc --git-dir=rvc/.git reset --hard 64b78bed3b48f595e27fbe302819b2df13124095\n",
    "!wget -O rvc/assets/rmvpe/rmvpe.pt https://huggingface.co/lj1995/VoiceConversionWebUI/resolve/main/rmvpe.pt\n",
    "!wget -O rvc/assets/hubert/hubert_base.pt https://huggingface.co/lj1995/VoiceConversionWebUI/resolve/main/hubert_base.pt\n",
    "!pip install virtualenv\n",
    "!virtualenv -p /usr/bin/python3.10 rvc/venv\n",
    "!rvc/venv/bin/python -m pip install --force-reinstall pip==22.3.1\n",
    "#rvc/venv/bin/python -m pip install torch==2.0.1+cu117 torchvision==0.15.2+cu117 torchaudio==2.0.2+cu117 --index-url https://download.pytorch.org/whl/cu117\n",
    "!rvc/venv/bin/python -m pip install torch torchvision torchaudio --index-url https://download.pytorch.org/whl/cu121\n",
    "!rvc/venv/bin/python -m pip install -r rvc/requirements.txt --quiet"
   ]
  },
  {
   "cell_type": "code",
   "execution_count": 5,
   "metadata": {
    "colab": {
     "base_uri": "https://localhost:8080/"
    },
    "id": "zImLhjOsHCsY",
    "outputId": "7b6ebdd5-0216-4c2b-8fc7-77ab6c4ad6de"
   },
   "outputs": [
    {
     "name": "stdout",
     "output_type": "stream",
     "text": [
      "--2025-01-26 16:43:32--  https://huggingface.co/fnx/RVCv2-RMVPE-ru-saya/resolve/main/ru-saya-1000.zip\n",
      "Resolving huggingface.co (huggingface.co)... ::ffff:18.165.122.101, ::ffff:18.165.122.30, ::ffff:18.165.122.11, ...\n",
      "Connecting to huggingface.co (huggingface.co)|::ffff:18.165.122.101|:443... connected.\n",
      "HTTP request sent, awaiting response... 302 Found\n",
      "Location: https://cdn-lfs.hf.co/repos/6f/97/6f97c90b4497aa8edea081713b1d3163392d9536cc43374f32ffc6a4c6fe7625/181d635b7f4405318c072567f4cf9ff8076c814803ec87d82ea2af9bc1450c70?response-content-disposition=inline%3B+filename*%3DUTF-8%27%27ru-saya-1000.zip%3B+filename%3D%22ru-saya-1000.zip%22%3B&response-content-type=application%2Fzip&Expires=1737913414&Policy=eyJTdGF0ZW1lbnQiOlt7IkNvbmRpdGlvbiI6eyJEYXRlTGVzc1RoYW4iOnsiQVdTOkVwb2NoVGltZSI6MTczNzkxMzQxNH19LCJSZXNvdXJjZSI6Imh0dHBzOi8vY2RuLWxmcy5oZi5jby9yZXBvcy82Zi85Ny82Zjk3YzkwYjQ0OTdhYThlZGVhMDgxNzEzYjFkMzE2MzM5MmQ5NTM2Y2M0MzM3NGYzMmZmYzZhNGM2ZmU3NjI1LzE4MWQ2MzViN2Y0NDA1MzE4YzA3MjU2N2Y0Y2Y5ZmY4MDc2YzgxNDgwM2VjODdkODJlYTJhZjliYzE0NTBjNzA%7EcmVzcG9uc2UtY29udGVudC1kaXNwb3NpdGlvbj0qJnJlc3BvbnNlLWNvbnRlbnQtdHlwZT0qIn1dfQ__&Signature=Vzibjyg6rhAUXGNRqs5SuUHQUTLbYvjNFLT64hv4EUNhuJrcYUNK8uS9Vmg%7EXYu%7EtGiUKvjkivxf6jjTP93fnIIggzguIiN9sIfeXeAPK-YkVvP6ZJmFOt84yWSFf8TbSUSO3UrMp7cTo%7EdOcd11oJ25s5ZqiPlUqKhPJvwN5-W4wOeZW5Og78%7EMrZzDI2mIYcTNEfa5-8Er8uRa3jJtxMdzQ3p9Bqna7Mpw2C-fQHLz6YE0EtF%7EhGqltsYcrkPyFErMNfXFjYUyz6ZeuEa2kajoZjVijJEwQS9VGAn1YH0TJ8hY8WWJQivi90Zx0gbAL0%7EETBDkR055SelG1rxQTg__&Key-Pair-Id=K3RPWS32NSSJCE [following]\n",
      "--2025-01-26 16:43:33--  https://cdn-lfs.hf.co/repos/6f/97/6f97c90b4497aa8edea081713b1d3163392d9536cc43374f32ffc6a4c6fe7625/181d635b7f4405318c072567f4cf9ff8076c814803ec87d82ea2af9bc1450c70?response-content-disposition=inline%3B+filename*%3DUTF-8%27%27ru-saya-1000.zip%3B+filename%3D%22ru-saya-1000.zip%22%3B&response-content-type=application%2Fzip&Expires=1737913414&Policy=eyJTdGF0ZW1lbnQiOlt7IkNvbmRpdGlvbiI6eyJEYXRlTGVzc1RoYW4iOnsiQVdTOkVwb2NoVGltZSI6MTczNzkxMzQxNH19LCJSZXNvdXJjZSI6Imh0dHBzOi8vY2RuLWxmcy5oZi5jby9yZXBvcy82Zi85Ny82Zjk3YzkwYjQ0OTdhYThlZGVhMDgxNzEzYjFkMzE2MzM5MmQ5NTM2Y2M0MzM3NGYzMmZmYzZhNGM2ZmU3NjI1LzE4MWQ2MzViN2Y0NDA1MzE4YzA3MjU2N2Y0Y2Y5ZmY4MDc2YzgxNDgwM2VjODdkODJlYTJhZjliYzE0NTBjNzA%7EcmVzcG9uc2UtY29udGVudC1kaXNwb3NpdGlvbj0qJnJlc3BvbnNlLWNvbnRlbnQtdHlwZT0qIn1dfQ__&Signature=Vzibjyg6rhAUXGNRqs5SuUHQUTLbYvjNFLT64hv4EUNhuJrcYUNK8uS9Vmg%7EXYu%7EtGiUKvjkivxf6jjTP93fnIIggzguIiN9sIfeXeAPK-YkVvP6ZJmFOt84yWSFf8TbSUSO3UrMp7cTo%7EdOcd11oJ25s5ZqiPlUqKhPJvwN5-W4wOeZW5Og78%7EMrZzDI2mIYcTNEfa5-8Er8uRa3jJtxMdzQ3p9Bqna7Mpw2C-fQHLz6YE0EtF%7EhGqltsYcrkPyFErMNfXFjYUyz6ZeuEa2kajoZjVijJEwQS9VGAn1YH0TJ8hY8WWJQivi90Zx0gbAL0%7EETBDkR055SelG1rxQTg__&Key-Pair-Id=K3RPWS32NSSJCE\n",
      "Resolving cdn-lfs.hf.co (cdn-lfs.hf.co)... 108.156.22.50, 108.156.22.80, 108.156.22.52, ...\n",
      "Connecting to cdn-lfs.hf.co (cdn-lfs.hf.co)|108.156.22.50|:443... connected.\n",
      "HTTP request sent, awaiting response... 200 OK\n",
      "Length: 60828339 (58M) [application/zip]\n",
      "Saving to: ‘ru-saya-1000.zip’\n",
      "\n",
      "ru-saya-1000.zip    100%[===================>]  58.01M  12.2MB/s    in 4.9s    \n",
      "\n",
      "2025-01-26 16:43:38 (11.8 MB/s) - ‘ru-saya-1000.zip’ saved [60828339/60828339]\n",
      "\n",
      "Archive:  ru-saya-1000.zip\n",
      "   creating: rvc/assets/weights/ru-saya/\n",
      "  inflating: rvc/assets/weights/ru-saya/ru-saya-1000.pth  \n",
      "  inflating: rvc/assets/weights/ru-saya/trained_IVF3468_Flat_nprobe_1_ru-saya_v2.index  \n"
     ]
    }
   ],
   "source": [
    "!wget https://huggingface.co/fnx/RVCv2-RMVPE-ru-saya/resolve/main/ru-saya-1000.zip\n",
    "!unzip ru-saya-1000.zip -d rvc/assets/weights\n",
    "!mv rvc/assets/weights/ru-saya/* rvc/assets/weights"
   ]
  },
  {
   "cell_type": "code",
   "execution_count": 6,
   "metadata": {
    "colab": {
     "base_uri": "https://localhost:8080/"
    },
    "id": "-aCpkxag03ul",
    "outputId": "4b5bd0ce-962f-4ec1-ff0a-799877ed7401"
   },
   "outputs": [
    {
     "name": "stdout",
     "output_type": "stream",
     "text": [
      "Requirement already satisfied: virtualenv in /usr/local/lib/python3.10/dist-packages (20.29.1)\n",
      "Requirement already satisfied: distlib<1,>=0.3.7 in /usr/local/lib/python3.10/dist-packages (from virtualenv) (0.3.9)\n",
      "Requirement already satisfied: filelock<4,>=3.12.2 in /usr/local/lib/python3.10/dist-packages (from virtualenv) (3.16.1)\n",
      "Requirement already satisfied: platformdirs<5,>=3.9.1 in /usr/local/lib/python3.10/dist-packages (from virtualenv) (4.3.6)\n",
      "created virtual environment CPython3.10.12.final.0-64 in 473ms\n",
      "  creator CPython3Posix(dest=/content/venv, clear=False, no_vcs_ignore=False, global=False)\n",
      "  seeder FromAppData(download=False, pip=bundle, setuptools=bundle, wheel=bundle, via=copy, app_data_dir=/root/.local/share/virtualenv)\n",
      "    added seed packages: pip==24.3.1, setuptools==75.8.0, wheel==0.45.1\n",
      "  activators BashActivator,CShellActivator,FishActivator,NushellActivator,PowerShellActivator,PythonActivator\n"
     ]
    }
   ],
   "source": [
    "!apt-get -qq install pandoc\n",
    "\n",
    "!pip install virtualenv\n",
    "!virtualenv -p /usr/bin/python3.10 venv\n",
    "!venv/bin/pip install -r silero/requirements-local.txt --quiet\n",
    "!venv/bin/pip install -r silero/requirements.txt --quiet\n",
    "\n",
    "!venv/bin/pip install ipywidgets==7.7.1 --quiet\n",
    "!sed -i 's/tqdm.auto/tqdm.notebook/g' silero/silero_tts.py"
   ]
  },
  {
   "cell_type": "code",
   "execution_count": 7,
   "metadata": {
    "colab": {
     "base_uri": "https://localhost:8080/"
    },
    "id": "idsWXgwjx9Bz",
    "outputId": "548dede3-ed65-4f40-ae1e-23735c137e09"
   },
   "outputs": [
    {
     "name": "stdout",
     "output_type": "stream",
     "text": [
      "\n",
      "Namespace(input='./src', output='silero/output_raw', threads='16', speaker='xenia', device='cuda', rate='48000', merge=True, rvc=True, rvc_model_pth='ru-saya-1000.pth', rvc_model_index=None, rvc_transpose='3')\n",
      "[nltk_data] Downloading package punkt to /root/nltk_data...\n",
      "[nltk_data]   Package punkt is already up-to-date!\n",
      "100% 59.0M/59.0M [00:05<00:00, 10.7MB/s]\n",
      "\n",
      "file: ./src/part001 - Том 1..txt ...\n",
      " CHAPTER:   0%|          | 0/1 [00:00<?, ?it/s]\n",
      "    TEXT:   0%|          | 0/1 [00:00<?, ?it/s]\n",
      "SENTENCE:   0%|          | 0/4 [00:00<?, ?it/s]\n",
      "\n",
      "file: ./src/part002 - Пролог..txt ...\n",
      " CHAPTER:   0%|          | 0/1 [00:00<?, ?it/s]\n",
      "    TEXT:   0%|          | 0/1 [00:00<?, ?it/s]\n",
      "SENTENCE:   0%|          | 0/65 [00:00<?, ?it/s]\n",
      "\n",
      "file: ./src/part003 - Глава 1..txt ...\n",
      " CHAPTER:   0%|          | 0/1 [00:00<?, ?it/s]\n",
      "    TEXT:   0%|          | 0/1 [00:00<?, ?it/s]\n",
      "SENTENCE:   0%|          | 0/75 [00:00<?, ?it/s]\n",
      "\n",
      "file: ./src/part004 - Глава 2..txt ...\n",
      " CHAPTER:   0%|          | 0/1 [00:00<?, ?it/s]\n",
      "    TEXT:   0%|          | 0/1 [00:00<?, ?it/s]\n",
      "SENTENCE:   0%|          | 0/81 [00:00<?, ?it/s]\n",
      "\n",
      "file: ./src/part005 - Глава 3..txt ...\n",
      " CHAPTER:   0%|          | 0/1 [00:00<?, ?it/s]\n",
      "    TEXT:   0%|          | 0/1 [00:00<?, ?it/s]\n",
      "SENTENCE:   0%|          | 0/102 [00:00<?, ?it/s]\n",
      "\n",
      "file: ./src/part006 - Глава 4..txt ...\n",
      " CHAPTER:   0%|          | 0/1 [00:00<?, ?it/s]\n",
      "    TEXT:   0%|          | 0/1 [00:00<?, ?it/s]\n",
      "SENTENCE:   0%|          | 0/100 [00:00<?, ?it/s]\n",
      "\n",
      "file: ./src/part007 - Глава 5..txt ...\n",
      " CHAPTER:   0%|          | 0/1 [00:00<?, ?it/s]\n",
      "    TEXT:   0%|          | 0/1 [00:00<?, ?it/s]\n",
      "SENTENCE:   0%|          | 0/88 [00:00<?, ?it/s]\n",
      "\n",
      "Merging and encoding, please wait...\n",
      "  0%|          | 0/7 [00:00<?, ?it/s]\n",
      "\n",
      "Finished!\n"
     ]
    }
   ],
   "source": [
    "!venv/bin/python silero/silero_tts.py -t 16 -s xenia -d cuda -r 48000 --merge --rvc --rvc_model_pth ru-saya-1000.pth -i ./src -o silero/output_raw"
   ]
  },
  {
   "cell_type": "code",
   "execution_count": 8,
   "metadata": {
    "colab": {
     "base_uri": "https://localhost:8080/"
    },
    "id": "WJznBjRnCSGV",
    "outputId": "5d958914-748b-43bb-dd32-2e6909bcf086"
   },
   "outputs": [
    {
     "name": "stdout",
     "output_type": "stream",
     "text": [
      "  adding: silero/output_raw/_opus/part001_-_Том_1__000000.opus (deflated 0%)\n",
      "  adding: silero/output_raw/_opus/part002_-_Пролог__000000.opus (deflated 0%)\n",
      "  adding: silero/output_raw/_opus/part003_-_Глава_1__000000.opus (deflated 0%)\n",
      "  adding: silero/output_raw/_opus/part004_-_Глава_2__000000.opus (deflated 0%)\n",
      "  adding: silero/output_raw/_opus/part005_-_Глава_3__000000.opus (deflated 0%)\n",
      "  adding: silero/output_raw/_opus/part006_-_Глава_4__000000.opus (deflated 0%)\n",
      "  adding: silero/output_raw/_opus/part007_-_Глава_5__000000.opus (deflated 0%)\n",
      "  adding: silero/output_raw/_opus/ (stored 0%)\n",
      "-rw-r--r-- 1 root root 8360639 Jan 26 16:51 output.zip\n"
     ]
    }
   ],
   "source": [
    "!zip -r output.zip silero/output_raw/_opus | sort\n",
    "!ls -l output.zip"
   ]
  }
 ],
 "metadata": {
  "accelerator": "GPU",
  "colab": {
   "gpuType": "T4",
   "provenance": []
  },
  "kernelspec": {
   "display_name": "Python 3",
   "name": "python3"
  },
  "language_info": {
   "name": "python"
  }
 },
 "nbformat": 4,
 "nbformat_minor": 0
}
