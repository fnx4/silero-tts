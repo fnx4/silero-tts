{
  "nbformat": 4,
  "nbformat_minor": 0,
  "metadata": {
    "colab": {
      "provenance": [],
      "gpuType": "T4"
    },
    "kernelspec": {
      "name": "python3",
      "display_name": "Python 3"
    },
    "language_info": {
      "name": "python"
    },
    "accelerator": "GPU"
  },
  "cells": [
    {
      "cell_type": "markdown",
      "source": [
        "# SILERO TTS"
      ],
      "metadata": {
        "id": "VIp7YqtS0to5"
      }
    },
    {
      "cell_type": "code",
      "source": [
        "!mkdir src\n",
        "!unzip src.zip -d ./src"
      ],
      "metadata": {
        "colab": {
          "base_uri": "https://localhost:8080/"
        },
        "id": "StLJmSWrBFqk",
        "outputId": "44526ab7-ad24-4223-90c2-1c33491c9a33"
      },
      "execution_count": 1,
      "outputs": [
        {
          "output_type": "stream",
          "name": "stdout",
          "text": [
            "Archive:  src.zip\n",
            "  inflating: ./src/part001 - Том 1..txt  \n",
            "  inflating: ./src/part002 - Пролог..txt  \n",
            "  inflating: ./src/part003 - Глава 1..txt  \n",
            "  inflating: ./src/part004 - Глава 2..txt  \n",
            "  inflating: ./src/part005 - Глава 3..txt  \n",
            "  inflating: ./src/part006 - Глава 4..txt  \n",
            "  inflating: ./src/part007 - Глава 5..txt  \n"
          ]
        }
      ]
    },
    {
      "cell_type": "code",
      "source": [
        "!git clone https://github.com/fnx4/silero-tts silero"
      ],
      "metadata": {
        "colab": {
          "base_uri": "https://localhost:8080/"
        },
        "id": "HonFbI7A0wez",
        "outputId": "a3027461-25b7-4436-d86f-c904858e6c2d"
      },
      "execution_count": 2,
      "outputs": [
        {
          "output_type": "stream",
          "name": "stdout",
          "text": [
            "Cloning into 'silero'...\n",
            "remote: Enumerating objects: 116, done.\u001b[K\n",
            "remote: Counting objects: 100% (116/116), done.\u001b[K\n",
            "remote: Compressing objects: 100% (56/56), done.\u001b[K\n",
            "remote: Total 116 (delta 44), reused 107 (delta 35), pack-reused 0\u001b[K\n",
            "Receiving objects: 100% (116/116), 38.59 KiB | 12.86 MiB/s, done.\n",
            "Resolving deltas: 100% (44/44), done.\n"
          ]
        }
      ]
    },
    {
      "cell_type": "code",
      "source": [
        "!ffmpeg -version | grep \"ffmpeg version\"\n",
        "!nvidia-smi"
      ],
      "metadata": {
        "colab": {
          "base_uri": "https://localhost:8080/"
        },
        "id": "eGIIgFwg0zsd",
        "outputId": "af70e62a-b640-44e9-f396-acd481962964"
      },
      "execution_count": 3,
      "outputs": [
        {
          "output_type": "stream",
          "name": "stdout",
          "text": [
            "ffmpeg version 4.4.2-0ubuntu0.22.04.1 Copyright (c) 2000-2021 the FFmpeg developers\n",
            "Sun Sep 17 20:48:23 2023       \n",
            "+-----------------------------------------------------------------------------+\n",
            "| NVIDIA-SMI 525.105.17   Driver Version: 525.105.17   CUDA Version: 12.0     |\n",
            "|-------------------------------+----------------------+----------------------+\n",
            "| GPU  Name        Persistence-M| Bus-Id        Disp.A | Volatile Uncorr. ECC |\n",
            "| Fan  Temp  Perf  Pwr:Usage/Cap|         Memory-Usage | GPU-Util  Compute M. |\n",
            "|                               |                      |               MIG M. |\n",
            "|===============================+======================+======================|\n",
            "|   0  Tesla T4            Off  | 00000000:00:04.0 Off |                    0 |\n",
            "| N/A   56C    P8    12W /  70W |      0MiB / 15360MiB |      0%      Default |\n",
            "|                               |                      |                  N/A |\n",
            "+-------------------------------+----------------------+----------------------+\n",
            "                                                                               \n",
            "+-----------------------------------------------------------------------------+\n",
            "| Processes:                                                                  |\n",
            "|  GPU   GI   CI        PID   Type   Process name                  GPU Memory |\n",
            "|        ID   ID                                                   Usage      |\n",
            "|=============================================================================|\n",
            "|  No running processes found                                                 |\n",
            "+-----------------------------------------------------------------------------+\n"
          ]
        }
      ]
    },
    {
      "cell_type": "code",
      "source": [
        "!git clone https://github.com/RVC-Project/Retrieval-based-Voice-Conversion-WebUI -b updated0814v2 rvc\n",
        "!wget https://huggingface.co/lj1995/VoiceConversionWebUI/resolve/main/rmvpe.pt\n",
        "!wget https://huggingface.co/lj1995/VoiceConversionWebUI/resolve/main/hubert_base.pt\n",
        "!pip install -r rvc/requirements.txt"
      ],
      "metadata": {
        "id": "vAmolViP79JH",
        "colab": {
          "base_uri": "https://localhost:8080/"
        },
        "outputId": "94e66d77-d99f-4f72-ef00-9b5617bac56c"
      },
      "execution_count": 4,
      "outputs": [
        {
          "output_type": "stream",
          "name": "stdout",
          "text": [
            "Cloning into 'rvc'...\n",
            "remote: Enumerating objects: 3573, done.\u001b[K\n",
            "remote: Counting objects: 100% (381/381), done.\u001b[K\n",
            "remote: Compressing objects: 100% (204/204), done.\u001b[K\n",
            "remote: Total 3573 (delta 225), reused 283 (delta 177), pack-reused 3192\u001b[K\n",
            "Receiving objects: 100% (3573/3573), 13.51 MiB | 7.84 MiB/s, done.\n",
            "Resolving deltas: 100% (2188/2188), done.\n",
            "Note: switching to '4cf1ad4ce9e1b00f6e7573c15ca91b0d6bd2e395'.\n",
            "\n",
            "You are in 'detached HEAD' state. You can look around, make experimental\n",
            "changes and commit them, and you can discard any commits you make in this\n",
            "state without impacting any branches by switching back to a branch.\n",
            "\n",
            "If you want to create a new branch to retain commits you create, you may\n",
            "do so (now or later) by using -c with the switch command. Example:\n",
            "\n",
            "  git switch -c <new-branch-name>\n",
            "\n",
            "Or undo this operation with:\n",
            "\n",
            "  git switch -\n",
            "\n",
            "Turn off this advice by setting config variable advice.detachedHead to false\n",
            "\n",
            "--2023-09-17 20:48:28--  https://huggingface.co/lj1995/VoiceConversionWebUI/resolve/main/rmvpe.pt\n",
            "Resolving huggingface.co (huggingface.co)... 13.33.33.20, 13.33.33.55, 13.33.33.110, ...\n",
            "Connecting to huggingface.co (huggingface.co)|13.33.33.20|:443... connected.\n",
            "HTTP request sent, awaiting response... 302 Found\n",
            "Location: https://cdn-lfs.huggingface.co/repos/ef/97/ef977053f017cde1fc0f89ac7ef0b33172a3d8fb8a840bb24e78b1c0f35f1e72/a5ed4719f59085d1affc5d81354c70828c740584f2d24e782523345a6a278962?response-content-disposition=attachment%3B+filename*%3DUTF-8%27%27rmvpe.pt%3B+filename%3D%22rmvpe.pt%22%3B&Expires=1695236285&Policy=eyJTdGF0ZW1lbnQiOlt7IkNvbmRpdGlvbiI6eyJEYXRlTGVzc1RoYW4iOnsiQVdTOkVwb2NoVGltZSI6MTY5NTIzNjI4NX19LCJSZXNvdXJjZSI6Imh0dHBzOi8vY2RuLWxmcy5odWdnaW5nZmFjZS5jby9yZXBvcy9lZi85Ny9lZjk3NzA1M2YwMTdjZGUxZmMwZjg5YWM3ZWYwYjMzMTcyYTNkOGZiOGE4NDBiYjI0ZTc4YjFjMGYzNWYxZTcyL2E1ZWQ0NzE5ZjU5MDg1ZDFhZmZjNWQ4MTM1NGM3MDgyOGM3NDA1ODRmMmQyNGU3ODI1MjMzNDVhNmEyNzg5NjI%7EcmVzcG9uc2UtY29udGVudC1kaXNwb3NpdGlvbj0qIn1dfQ__&Signature=nWrMcigH3fy2jMwL6CVaEn-31QIzmE1IKW5jzhy4HKlFaFW0XjiXygUShknaQT2Zac5StlN4ofYs9N8viulVjUfeJm1ms17rDgN2j2cTNJV-gd7qDZhJb1fnbdXMy2LrFpNnbv1j7ENBptwr2lKUp-Hrmzf9rP2qtudm2P8hQkyG5ymHFy3DsnjlzV9-B0Yaz8zIvJilH1H8pmELFpwsE-KZOm4YpcCYZaDWC8uHSbHZqxBBhtuJeJZ1uZWOdIrJITLzHpsZZ7tu-7APNI2OEbrZa%7EuRHR9%7EMmBqGHhzGjNgIk6MsfySj86%7E3%7EZfFHZODMMvhcZiGv6EJoU8ZrfYJg__&Key-Pair-Id=KVTP0A1DKRTAX [following]\n",
            "--2023-09-17 20:48:28--  https://cdn-lfs.huggingface.co/repos/ef/97/ef977053f017cde1fc0f89ac7ef0b33172a3d8fb8a840bb24e78b1c0f35f1e72/a5ed4719f59085d1affc5d81354c70828c740584f2d24e782523345a6a278962?response-content-disposition=attachment%3B+filename*%3DUTF-8%27%27rmvpe.pt%3B+filename%3D%22rmvpe.pt%22%3B&Expires=1695236285&Policy=eyJTdGF0ZW1lbnQiOlt7IkNvbmRpdGlvbiI6eyJEYXRlTGVzc1RoYW4iOnsiQVdTOkVwb2NoVGltZSI6MTY5NTIzNjI4NX19LCJSZXNvdXJjZSI6Imh0dHBzOi8vY2RuLWxmcy5odWdnaW5nZmFjZS5jby9yZXBvcy9lZi85Ny9lZjk3NzA1M2YwMTdjZGUxZmMwZjg5YWM3ZWYwYjMzMTcyYTNkOGZiOGE4NDBiYjI0ZTc4YjFjMGYzNWYxZTcyL2E1ZWQ0NzE5ZjU5MDg1ZDFhZmZjNWQ4MTM1NGM3MDgyOGM3NDA1ODRmMmQyNGU3ODI1MjMzNDVhNmEyNzg5NjI%7EcmVzcG9uc2UtY29udGVudC1kaXNwb3NpdGlvbj0qIn1dfQ__&Signature=nWrMcigH3fy2jMwL6CVaEn-31QIzmE1IKW5jzhy4HKlFaFW0XjiXygUShknaQT2Zac5StlN4ofYs9N8viulVjUfeJm1ms17rDgN2j2cTNJV-gd7qDZhJb1fnbdXMy2LrFpNnbv1j7ENBptwr2lKUp-Hrmzf9rP2qtudm2P8hQkyG5ymHFy3DsnjlzV9-B0Yaz8zIvJilH1H8pmELFpwsE-KZOm4YpcCYZaDWC8uHSbHZqxBBhtuJeJZ1uZWOdIrJITLzHpsZZ7tu-7APNI2OEbrZa%7EuRHR9%7EMmBqGHhzGjNgIk6MsfySj86%7E3%7EZfFHZODMMvhcZiGv6EJoU8ZrfYJg__&Key-Pair-Id=KVTP0A1DKRTAX\n",
            "Resolving cdn-lfs.huggingface.co (cdn-lfs.huggingface.co)... 18.155.68.94, 18.155.68.98, 18.155.68.128, ...\n",
            "Connecting to cdn-lfs.huggingface.co (cdn-lfs.huggingface.co)|18.155.68.94|:443... connected.\n",
            "HTTP request sent, awaiting response... 200 OK\n",
            "Length: 181189687 (173M) [binary/octet-stream]\n",
            "Saving to: ‘rmvpe.pt’\n",
            "\n",
            "rmvpe.pt            100%[===================>] 172.80M   260MB/s    in 0.7s    \n",
            "\n",
            "2023-09-17 20:48:29 (260 MB/s) - ‘rmvpe.pt’ saved [181189687/181189687]\n",
            "\n",
            "--2023-09-17 20:48:29--  https://huggingface.co/lj1995/VoiceConversionWebUI/resolve/main/hubert_base.pt\n",
            "Resolving huggingface.co (huggingface.co)... 13.33.33.55, 13.33.33.110, 13.33.33.20, ...\n",
            "Connecting to huggingface.co (huggingface.co)|13.33.33.55|:443... connected.\n",
            "HTTP request sent, awaiting response... 302 Found\n",
            "Location: https://cdn-lfs.huggingface.co/repos/ef/97/ef977053f017cde1fc0f89ac7ef0b33172a3d8fb8a840bb24e78b1c0f35f1e72/f54b40fd2802423a5643779c4861af1e9ee9c1564dc9d32f54f20b5ffba7db96?response-content-disposition=attachment%3B+filename*%3DUTF-8%27%27hubert_base.pt%3B+filename%3D%22hubert_base.pt%22%3B&Expires=1695242160&Policy=eyJTdGF0ZW1lbnQiOlt7IkNvbmRpdGlvbiI6eyJEYXRlTGVzc1RoYW4iOnsiQVdTOkVwb2NoVGltZSI6MTY5NTI0MjE2MH19LCJSZXNvdXJjZSI6Imh0dHBzOi8vY2RuLWxmcy5odWdnaW5nZmFjZS5jby9yZXBvcy9lZi85Ny9lZjk3NzA1M2YwMTdjZGUxZmMwZjg5YWM3ZWYwYjMzMTcyYTNkOGZiOGE4NDBiYjI0ZTc4YjFjMGYzNWYxZTcyL2Y1NGI0MGZkMjgwMjQyM2E1NjQzNzc5YzQ4NjFhZjFlOWVlOWMxNTY0ZGM5ZDMyZjU0ZjIwYjVmZmJhN2RiOTY%7EcmVzcG9uc2UtY29udGVudC1kaXNwb3NpdGlvbj0qIn1dfQ__&Signature=I1JECRf-UQUtBTi6PyL7ZVhT94QjQuI7n54kRfxAuAXc-n0Z4cC8E81Mt%7EYHu15W51SmuH4vDS2cjyFUzu9ZIAHAdsk4DE89Zz1msY8L5C-G6sCm477FMMqwFxjgcNzFcuNzM2Qbt2w5TpXvKk-5voHHkqjIXxiiCvdm6wI9JuNR-ETLn5ZEdNdcxk2GigTaYi0HeFJAmNexRVOwebGNyokSZ4LwFlwF2e4G-dWR2PJ5-nwMhAqqMAMc5gU4cyjK0hHEBA92r9ynvQeGrJ7QldzWjdc5l4TU9iaJUkwJyCS5MypLIek7HtK7MpDFvCTMCvV6f0ejsRMXEeDczaMsSQ__&Key-Pair-Id=KVTP0A1DKRTAX [following]\n",
            "--2023-09-17 20:48:29--  https://cdn-lfs.huggingface.co/repos/ef/97/ef977053f017cde1fc0f89ac7ef0b33172a3d8fb8a840bb24e78b1c0f35f1e72/f54b40fd2802423a5643779c4861af1e9ee9c1564dc9d32f54f20b5ffba7db96?response-content-disposition=attachment%3B+filename*%3DUTF-8%27%27hubert_base.pt%3B+filename%3D%22hubert_base.pt%22%3B&Expires=1695242160&Policy=eyJTdGF0ZW1lbnQiOlt7IkNvbmRpdGlvbiI6eyJEYXRlTGVzc1RoYW4iOnsiQVdTOkVwb2NoVGltZSI6MTY5NTI0MjE2MH19LCJSZXNvdXJjZSI6Imh0dHBzOi8vY2RuLWxmcy5odWdnaW5nZmFjZS5jby9yZXBvcy9lZi85Ny9lZjk3NzA1M2YwMTdjZGUxZmMwZjg5YWM3ZWYwYjMzMTcyYTNkOGZiOGE4NDBiYjI0ZTc4YjFjMGYzNWYxZTcyL2Y1NGI0MGZkMjgwMjQyM2E1NjQzNzc5YzQ4NjFhZjFlOWVlOWMxNTY0ZGM5ZDMyZjU0ZjIwYjVmZmJhN2RiOTY%7EcmVzcG9uc2UtY29udGVudC1kaXNwb3NpdGlvbj0qIn1dfQ__&Signature=I1JECRf-UQUtBTi6PyL7ZVhT94QjQuI7n54kRfxAuAXc-n0Z4cC8E81Mt%7EYHu15W51SmuH4vDS2cjyFUzu9ZIAHAdsk4DE89Zz1msY8L5C-G6sCm477FMMqwFxjgcNzFcuNzM2Qbt2w5TpXvKk-5voHHkqjIXxiiCvdm6wI9JuNR-ETLn5ZEdNdcxk2GigTaYi0HeFJAmNexRVOwebGNyokSZ4LwFlwF2e4G-dWR2PJ5-nwMhAqqMAMc5gU4cyjK0hHEBA92r9ynvQeGrJ7QldzWjdc5l4TU9iaJUkwJyCS5MypLIek7HtK7MpDFvCTMCvV6f0ejsRMXEeDczaMsSQ__&Key-Pair-Id=KVTP0A1DKRTAX\n",
            "Resolving cdn-lfs.huggingface.co (cdn-lfs.huggingface.co)... 18.155.68.73, 18.155.68.98, 18.155.68.94, ...\n",
            "Connecting to cdn-lfs.huggingface.co (cdn-lfs.huggingface.co)|18.155.68.73|:443... connected.\n",
            "HTTP request sent, awaiting response... 200 OK\n",
            "Length: 189507909 (181M) [binary/octet-stream]\n",
            "Saving to: ‘hubert_base.pt’\n",
            "\n",
            "hubert_base.pt      100%[===================>] 180.73M  33.1MB/s    in 4.0s    \n",
            "\n",
            "2023-09-17 20:48:33 (45.2 MB/s) - ‘hubert_base.pt’ saved [189507909/189507909]\n",
            "\n",
            "Ignoring onnxruntime: markers 'sys_platform == \"darwin\"' don't match your environment\n",
            "Requirement already satisfied: joblib>=1.1.0 in /usr/local/lib/python3.10/dist-packages (from -r rvc/requirements.txt (line 1)) (1.3.2)\n",
            "Requirement already satisfied: numba==0.56.4 in /usr/local/lib/python3.10/dist-packages (from -r rvc/requirements.txt (line 2)) (0.56.4)\n",
            "Requirement already satisfied: numpy==1.23.5 in /usr/local/lib/python3.10/dist-packages (from -r rvc/requirements.txt (line 3)) (1.23.5)\n",
            "Collecting scipy==1.9.3 (from -r rvc/requirements.txt (line 4))\n",
            "  Downloading scipy-1.9.3-cp310-cp310-manylinux_2_17_x86_64.manylinux2014_x86_64.whl (33.7 MB)\n",
            "\u001b[2K     \u001b[90m━━━━━━━━━━━━━━━━━━━━━━━━━━━━━━━━━━━━━━━━\u001b[0m \u001b[32m33.7/33.7 MB\u001b[0m \u001b[31m50.5 MB/s\u001b[0m eta \u001b[36m0:00:00\u001b[0m\n",
            "\u001b[?25hCollecting librosa==0.9.1 (from -r rvc/requirements.txt (line 5))\n",
            "  Downloading librosa-0.9.1-py3-none-any.whl (213 kB)\n",
            "\u001b[2K     \u001b[90m━━━━━━━━━━━━━━━━━━━━━━━━━━━━━━━━━━━━━━\u001b[0m \u001b[32m213.1/213.1 kB\u001b[0m \u001b[31m26.5 MB/s\u001b[0m eta \u001b[36m0:00:00\u001b[0m\n",
            "\u001b[?25hCollecting llvmlite==0.39.0 (from -r rvc/requirements.txt (line 6))\n",
            "  Downloading llvmlite-0.39.0-cp310-cp310-manylinux_2_17_x86_64.manylinux2014_x86_64.whl (34.6 MB)\n",
            "\u001b[2K     \u001b[90m━━━━━━━━━━━━━━━━━━━━━━━━━━━━━━━━━━━━━━━━\u001b[0m \u001b[32m34.6/34.6 MB\u001b[0m \u001b[31m17.8 MB/s\u001b[0m eta \u001b[36m0:00:00\u001b[0m\n",
            "\u001b[?25hCollecting fairseq==0.12.2 (from -r rvc/requirements.txt (line 7))\n",
            "  Downloading fairseq-0.12.2.tar.gz (9.6 MB)\n",
            "\u001b[2K     \u001b[90m━━━━━━━━━━━━━━━━━━━━━━━━━━━━━━━━━━━━━━━━\u001b[0m \u001b[32m9.6/9.6 MB\u001b[0m \u001b[31m119.5 MB/s\u001b[0m eta \u001b[36m0:00:00\u001b[0m\n",
            "\u001b[?25h  Installing build dependencies ... \u001b[?25l\u001b[?25hdone\n",
            "  Getting requirements to build wheel ... \u001b[?25l\u001b[?25hdone\n",
            "  Installing backend dependencies ... \u001b[?25l\u001b[?25hdone\n",
            "  Preparing metadata (pyproject.toml) ... \u001b[?25l\u001b[?25hdone\n",
            "Collecting faiss-cpu==1.7.3 (from -r rvc/requirements.txt (line 8))\n",
            "  Downloading faiss_cpu-1.7.3-cp310-cp310-manylinux_2_17_x86_64.manylinux2014_x86_64.whl (17.0 MB)\n",
            "\u001b[2K     \u001b[90m━━━━━━━━━━━━━━━━━━━━━━━━━━━━━━━━━━━━━━━━\u001b[0m \u001b[32m17.0/17.0 MB\u001b[0m \u001b[31m59.1 MB/s\u001b[0m eta \u001b[36m0:00:00\u001b[0m\n",
            "\u001b[?25hCollecting gradio==3.14.0 (from -r rvc/requirements.txt (line 9))\n",
            "  Downloading gradio-3.14.0-py3-none-any.whl (13.8 MB)\n",
            "\u001b[2K     \u001b[90m━━━━━━━━━━━━━━━━━━━━━━━━━━━━━━━━━━━━━━━━\u001b[0m \u001b[32m13.8/13.8 MB\u001b[0m \u001b[31m77.4 MB/s\u001b[0m eta \u001b[36m0:00:00\u001b[0m\n",
            "\u001b[?25hRequirement already satisfied: Cython in /usr/local/lib/python3.10/dist-packages (from -r rvc/requirements.txt (line 10)) (3.0.2)\n",
            "Collecting pydub>=0.25.1 (from -r rvc/requirements.txt (line 11))\n",
            "  Downloading pydub-0.25.1-py2.py3-none-any.whl (32 kB)\n",
            "Requirement already satisfied: soundfile>=0.12.1 in /usr/local/lib/python3.10/dist-packages (from -r rvc/requirements.txt (line 12)) (0.12.1)\n",
            "Collecting ffmpeg-python>=0.2.0 (from -r rvc/requirements.txt (line 13))\n",
            "  Downloading ffmpeg_python-0.2.0-py3-none-any.whl (25 kB)\n",
            "Collecting tensorboardX (from -r rvc/requirements.txt (line 14))\n",
            "  Downloading tensorboardX-2.6.2.2-py2.py3-none-any.whl (101 kB)\n",
            "\u001b[2K     \u001b[90m━━━━━━━━━━━━━━━━━━━━━━━━━━━━━━━━━━━━━━\u001b[0m \u001b[32m101.7/101.7 kB\u001b[0m \u001b[31m14.0 MB/s\u001b[0m eta \u001b[36m0:00:00\u001b[0m\n",
            "\u001b[?25hRequirement already satisfied: Jinja2>=3.1.2 in /usr/local/lib/python3.10/dist-packages (from -r rvc/requirements.txt (line 15)) (3.1.2)\n",
            "Collecting json5 (from -r rvc/requirements.txt (line 16))\n",
            "  Downloading json5-0.9.14-py2.py3-none-any.whl (19 kB)\n",
            "Requirement already satisfied: Markdown in /usr/local/lib/python3.10/dist-packages (from -r rvc/requirements.txt (line 17)) (3.4.4)\n",
            "Requirement already satisfied: matplotlib>=3.7.0 in /usr/local/lib/python3.10/dist-packages (from -r rvc/requirements.txt (line 18)) (3.7.1)\n",
            "Requirement already satisfied: matplotlib-inline>=0.1.3 in /usr/local/lib/python3.10/dist-packages (from -r rvc/requirements.txt (line 19)) (0.1.6)\n",
            "Collecting praat-parselmouth>=0.4.2 (from -r rvc/requirements.txt (line 20))\n",
            "  Downloading praat_parselmouth-0.4.3-cp310-cp310-manylinux_2_12_x86_64.manylinux2010_x86_64.whl (10.7 MB)\n",
            "\u001b[2K     \u001b[90m━━━━━━━━━━━━━━━━━━━━━━━━━━━━━━━━━━━━━━━━\u001b[0m \u001b[32m10.7/10.7 MB\u001b[0m \u001b[31m81.5 MB/s\u001b[0m eta \u001b[36m0:00:00\u001b[0m\n",
            "\u001b[?25hRequirement already satisfied: Pillow>=9.1.1 in /usr/local/lib/python3.10/dist-packages (from -r rvc/requirements.txt (line 21)) (9.4.0)\n",
            "Collecting resampy>=0.4.2 (from -r rvc/requirements.txt (line 22))\n",
            "  Downloading resampy-0.4.2-py3-none-any.whl (3.1 MB)\n",
            "\u001b[2K     \u001b[90m━━━━━━━━━━━━━━━━━━━━━━━━━━━━━━━━━━━━━━━━\u001b[0m \u001b[32m3.1/3.1 MB\u001b[0m \u001b[31m82.0 MB/s\u001b[0m eta \u001b[36m0:00:00\u001b[0m\n",
            "\u001b[?25hRequirement already satisfied: scikit-learn in /usr/local/lib/python3.10/dist-packages (from -r rvc/requirements.txt (line 23)) (1.2.2)\n",
            "Requirement already satisfied: tensorboard in /usr/local/lib/python3.10/dist-packages (from -r rvc/requirements.txt (line 24)) (2.13.0)\n",
            "Requirement already satisfied: tqdm>=4.63.1 in /usr/local/lib/python3.10/dist-packages (from -r rvc/requirements.txt (line 25)) (4.66.1)\n",
            "Requirement already satisfied: tornado>=6.1 in /usr/local/lib/python3.10/dist-packages (from -r rvc/requirements.txt (line 26)) (6.3.2)\n",
            "Requirement already satisfied: Werkzeug>=2.2.3 in /usr/local/lib/python3.10/dist-packages (from -r rvc/requirements.txt (line 27)) (2.3.7)\n",
            "Requirement already satisfied: uc-micro-py>=1.0.1 in /usr/local/lib/python3.10/dist-packages (from -r rvc/requirements.txt (line 28)) (1.0.2)\n",
            "Requirement already satisfied: sympy>=1.11.1 in /usr/local/lib/python3.10/dist-packages (from -r rvc/requirements.txt (line 29)) (1.12)\n",
            "Requirement already satisfied: tabulate>=0.8.10 in /usr/local/lib/python3.10/dist-packages (from -r rvc/requirements.txt (line 30)) (0.9.0)\n",
            "Requirement already satisfied: PyYAML>=6.0 in /usr/local/lib/python3.10/dist-packages (from -r rvc/requirements.txt (line 31)) (6.0.1)\n",
            "Requirement already satisfied: pyasn1>=0.4.8 in /usr/local/lib/python3.10/dist-packages (from -r rvc/requirements.txt (line 32)) (0.5.0)\n",
            "Requirement already satisfied: pyasn1-modules>=0.2.8 in /usr/local/lib/python3.10/dist-packages (from -r rvc/requirements.txt (line 33)) (0.3.0)\n",
            "Requirement already satisfied: fsspec>=2022.11.0 in /usr/local/lib/python3.10/dist-packages (from -r rvc/requirements.txt (line 34)) (2023.6.0)\n",
            "Requirement already satisfied: absl-py>=1.2.0 in /usr/local/lib/python3.10/dist-packages (from -r rvc/requirements.txt (line 35)) (1.4.0)\n",
            "Requirement already satisfied: audioread in /usr/local/lib/python3.10/dist-packages (from -r rvc/requirements.txt (line 36)) (3.0.0)\n",
            "Collecting uvicorn>=0.21.1 (from -r rvc/requirements.txt (line 37))\n",
            "  Downloading uvicorn-0.23.2-py3-none-any.whl (59 kB)\n",
            "\u001b[2K     \u001b[90m━━━━━━━━━━━━━━━━━━━━━━━━━━━━━━━━━━━━━━━━\u001b[0m \u001b[32m59.5/59.5 kB\u001b[0m \u001b[31m8.4 MB/s\u001b[0m eta \u001b[36m0:00:00\u001b[0m\n",
            "\u001b[?25hCollecting colorama>=0.4.5 (from -r rvc/requirements.txt (line 38))\n",
            "  Downloading colorama-0.4.6-py2.py3-none-any.whl (25 kB)\n",
            "Collecting pyworld==0.3.2 (from -r rvc/requirements.txt (line 39))\n",
            "  Downloading pyworld-0.3.2.tar.gz (214 kB)\n",
            "\u001b[2K     \u001b[90m━━━━━━━━━━━━━━━━━━━━━━━━━━━━━━━━━━━━━━\u001b[0m \u001b[32m214.4/214.4 kB\u001b[0m \u001b[31m23.2 MB/s\u001b[0m eta \u001b[36m0:00:00\u001b[0m\n",
            "\u001b[?25h  Installing build dependencies ... \u001b[?25l\u001b[?25hdone\n",
            "  Getting requirements to build wheel ... \u001b[?25l\u001b[?25hdone\n",
            "  Preparing metadata (pyproject.toml) ... \u001b[?25l\u001b[?25hdone\n",
            "Collecting httpx==0.23. (from -r rvc/requirements.txt (line 40))\n",
            "  Downloading httpx-0.23.0-py3-none-any.whl (84 kB)\n",
            "\u001b[2K     \u001b[90m━━━━━━━━━━━━━━━━━━━━━━━━━━━━━━━━━━━━━━━━\u001b[0m \u001b[32m84.8/84.8 kB\u001b[0m \u001b[31m6.1 MB/s\u001b[0m eta \u001b[36m0:00:00\u001b[0m\n",
            "\u001b[?25hCollecting onnxruntime-gpu (from -r rvc/requirements.txt (line 42))\n",
            "  Downloading onnxruntime_gpu-1.15.1-cp310-cp310-manylinux_2_17_x86_64.manylinux2014_x86_64.whl (121.6 MB)\n",
            "\u001b[2K     \u001b[90m━━━━━━━━━━━━━━━━━━━━━━━━━━━━━━━━━━━━━━━\u001b[0m \u001b[32m121.6/121.6 MB\u001b[0m \u001b[31m8.5 MB/s\u001b[0m eta \u001b[36m0:00:00\u001b[0m\n",
            "\u001b[?25hCollecting torchcrepe==0.0.20 (from -r rvc/requirements.txt (line 43))\n",
            "  Downloading torchcrepe-0.0.20-py3-none-any.whl (72.3 MB)\n",
            "\u001b[2K     \u001b[90m━━━━━━━━━━━━━━━━━━━━━━━━━━━━━━━━━━━━━━━━\u001b[0m \u001b[32m72.3/72.3 MB\u001b[0m \u001b[31m9.0 MB/s\u001b[0m eta \u001b[36m0:00:00\u001b[0m\n",
            "\u001b[?25hCollecting fastapi==0.88 (from -r rvc/requirements.txt (line 44))\n",
            "  Downloading fastapi-0.88.0-py3-none-any.whl (55 kB)\n",
            "\u001b[2K     \u001b[90m━━━━━━━━━━━━━━━━━━━━━━━━━━━━━━━━━━━━━━━━\u001b[0m \u001b[32m55.5/55.5 kB\u001b[0m \u001b[31m6.4 MB/s\u001b[0m eta \u001b[36m0:00:00\u001b[0m\n",
            "\u001b[?25hCollecting ffmpy==0.3.1 (from -r rvc/requirements.txt (line 45))\n",
            "  Downloading ffmpy-0.3.1.tar.gz (5.5 kB)\n",
            "  Preparing metadata (setup.py) ... \u001b[?25l\u001b[?25hdone\n",
            "Requirement already satisfied: setuptools in /usr/local/lib/python3.10/dist-packages (from numba==0.56.4->-r rvc/requirements.txt (line 2)) (67.7.2)\n",
            "Requirement already satisfied: decorator>=4.0.10 in /usr/local/lib/python3.10/dist-packages (from librosa==0.9.1->-r rvc/requirements.txt (line 5)) (4.4.2)\n",
            "Requirement already satisfied: pooch>=1.0 in /usr/local/lib/python3.10/dist-packages (from librosa==0.9.1->-r rvc/requirements.txt (line 5)) (1.7.0)\n",
            "Requirement already satisfied: packaging>=20.0 in /usr/local/lib/python3.10/dist-packages (from librosa==0.9.1->-r rvc/requirements.txt (line 5)) (23.1)\n",
            "Requirement already satisfied: cffi in /usr/local/lib/python3.10/dist-packages (from fairseq==0.12.2->-r rvc/requirements.txt (line 7)) (1.15.1)\n",
            "Collecting hydra-core<1.1,>=1.0.7 (from fairseq==0.12.2->-r rvc/requirements.txt (line 7))\n",
            "  Downloading hydra_core-1.0.7-py3-none-any.whl (123 kB)\n",
            "\u001b[2K     \u001b[90m━━━━━━━━━━━━━━━━━━━━━━━━━━━━━━━━━━━━━━\u001b[0m \u001b[32m123.8/123.8 kB\u001b[0m \u001b[31m15.9 MB/s\u001b[0m eta \u001b[36m0:00:00\u001b[0m\n",
            "\u001b[?25hCollecting omegaconf<2.1 (from fairseq==0.12.2->-r rvc/requirements.txt (line 7))\n",
            "  Downloading omegaconf-2.0.6-py3-none-any.whl (36 kB)\n",
            "Requirement already satisfied: regex in /usr/local/lib/python3.10/dist-packages (from fairseq==0.12.2->-r rvc/requirements.txt (line 7)) (2023.6.3)\n",
            "Collecting sacrebleu>=1.4.12 (from fairseq==0.12.2->-r rvc/requirements.txt (line 7))\n",
            "  Downloading sacrebleu-2.3.1-py3-none-any.whl (118 kB)\n",
            "\u001b[2K     \u001b[90m━━━━━━━━━━━━━━━━━━━━━━━━━━━━━━━━━━━━━━\u001b[0m \u001b[32m118.9/118.9 kB\u001b[0m \u001b[31m16.2 MB/s\u001b[0m eta \u001b[36m0:00:00\u001b[0m\n",
            "\u001b[?25hRequirement already satisfied: torch in /usr/local/lib/python3.10/dist-packages (from fairseq==0.12.2->-r rvc/requirements.txt (line 7)) (2.0.1+cu118)\n",
            "Collecting bitarray (from fairseq==0.12.2->-r rvc/requirements.txt (line 7))\n",
            "  Downloading bitarray-2.8.1-cp310-cp310-manylinux_2_17_x86_64.manylinux2014_x86_64.whl (286 kB)\n",
            "\u001b[2K     \u001b[90m━━━━━━━━━━━━━━━━━━━━━━━━━━━━━━━━━━━━━━\u001b[0m \u001b[32m286.2/286.2 kB\u001b[0m \u001b[31m34.6 MB/s\u001b[0m eta \u001b[36m0:00:00\u001b[0m\n",
            "\u001b[?25hRequirement already satisfied: torchaudio>=0.8.0 in /usr/local/lib/python3.10/dist-packages (from fairseq==0.12.2->-r rvc/requirements.txt (line 7)) (2.0.2+cu118)\n",
            "Requirement already satisfied: aiohttp in /usr/local/lib/python3.10/dist-packages (from gradio==3.14.0->-r rvc/requirements.txt (line 9)) (3.8.5)\n",
            "Requirement already satisfied: altair in /usr/local/lib/python3.10/dist-packages (from gradio==3.14.0->-r rvc/requirements.txt (line 9)) (4.2.2)\n",
            "Requirement already satisfied: markdown-it-py[linkify,plugins] in /usr/local/lib/python3.10/dist-packages (from gradio==3.14.0->-r rvc/requirements.txt (line 9)) (3.0.0)\n",
            "Requirement already satisfied: markupsafe in /usr/local/lib/python3.10/dist-packages (from gradio==3.14.0->-r rvc/requirements.txt (line 9)) (2.1.3)\n",
            "Collecting orjson (from gradio==3.14.0->-r rvc/requirements.txt (line 9))\n",
            "  Downloading orjson-3.9.7-cp310-cp310-manylinux_2_17_x86_64.manylinux2014_x86_64.whl (138 kB)\n",
            "\u001b[2K     \u001b[90m━━━━━━━━━━━━━━━━━━━━━━━━━━━━━━━━━━━━━━\u001b[0m \u001b[32m138.7/138.7 kB\u001b[0m \u001b[31m20.9 MB/s\u001b[0m eta \u001b[36m0:00:00\u001b[0m\n",
            "\u001b[?25hRequirement already satisfied: pandas in /usr/local/lib/python3.10/dist-packages (from gradio==3.14.0->-r rvc/requirements.txt (line 9)) (1.5.3)\n",
            "Collecting pycryptodome (from gradio==3.14.0->-r rvc/requirements.txt (line 9))\n",
            "  Downloading pycryptodome-3.19.0-cp35-abi3-manylinux_2_17_x86_64.manylinux2014_x86_64.whl (2.1 MB)\n",
            "\u001b[2K     \u001b[90m━━━━━━━━━━━━━━━━━━━━━━━━━━━━━━━━━━━━━━━━\u001b[0m \u001b[32m2.1/2.1 MB\u001b[0m \u001b[31m42.8 MB/s\u001b[0m eta \u001b[36m0:00:00\u001b[0m\n",
            "\u001b[?25hRequirement already satisfied: pydantic in /usr/local/lib/python3.10/dist-packages (from gradio==3.14.0->-r rvc/requirements.txt (line 9)) (1.10.12)\n",
            "Collecting python-multipart (from gradio==3.14.0->-r rvc/requirements.txt (line 9))\n",
            "  Downloading python_multipart-0.0.6-py3-none-any.whl (45 kB)\n",
            "\u001b[2K     \u001b[90m━━━━━━━━━━━━━━━━━━━━━━━━━━━━━━━━━━━━━━━━\u001b[0m \u001b[32m45.7/45.7 kB\u001b[0m \u001b[31m6.3 MB/s\u001b[0m eta \u001b[36m0:00:00\u001b[0m\n",
            "\u001b[?25hRequirement already satisfied: requests in /usr/local/lib/python3.10/dist-packages (from gradio==3.14.0->-r rvc/requirements.txt (line 9)) (2.31.0)\n",
            "Collecting websockets>=10.0 (from gradio==3.14.0->-r rvc/requirements.txt (line 9))\n",
            "  Downloading websockets-11.0.3-cp310-cp310-manylinux_2_5_x86_64.manylinux1_x86_64.manylinux_2_17_x86_64.manylinux2014_x86_64.whl (129 kB)\n",
            "\u001b[2K     \u001b[90m━━━━━━━━━━━━━━━━━━━━━━━━━━━━━━━━━━━━━━\u001b[0m \u001b[32m129.9/129.9 kB\u001b[0m \u001b[31m18.5 MB/s\u001b[0m eta \u001b[36m0:00:00\u001b[0m\n",
            "\u001b[?25hRequirement already satisfied: certifi in /usr/local/lib/python3.10/dist-packages (from httpx==0.23.->-r rvc/requirements.txt (line 40)) (2023.7.22)\n",
            "Requirement already satisfied: sniffio in /usr/local/lib/python3.10/dist-packages (from httpx==0.23.->-r rvc/requirements.txt (line 40)) (1.3.0)\n",
            "Collecting rfc3986[idna2008]<2,>=1.3 (from httpx==0.23.->-r rvc/requirements.txt (line 40))\n",
            "  Downloading rfc3986-1.5.0-py2.py3-none-any.whl (31 kB)\n",
            "Collecting httpcore<0.16.0,>=0.15.0 (from httpx==0.23.->-r rvc/requirements.txt (line 40))\n",
            "  Downloading httpcore-0.15.0-py3-none-any.whl (68 kB)\n",
            "\u001b[2K     \u001b[90m━━━━━━━━━━━━━━━━━━━━━━━━━━━━━━━━━━━━━━━━\u001b[0m \u001b[32m68.4/68.4 kB\u001b[0m \u001b[31m9.5 MB/s\u001b[0m eta \u001b[36m0:00:00\u001b[0m\n",
            "\u001b[?25hCollecting starlette==0.22.0 (from fastapi==0.88->-r rvc/requirements.txt (line 44))\n",
            "  Downloading starlette-0.22.0-py3-none-any.whl (64 kB)\n",
            "\u001b[2K     \u001b[90m━━━━━━━━━━━━━━━━━━━━━━━━━━━━━━━━━━━━━━━━\u001b[0m \u001b[32m64.3/64.3 kB\u001b[0m \u001b[31m8.9 MB/s\u001b[0m eta \u001b[36m0:00:00\u001b[0m\n",
            "\u001b[?25hRequirement already satisfied: anyio<5,>=3.4.0 in /usr/local/lib/python3.10/dist-packages (from starlette==0.22.0->fastapi==0.88->-r rvc/requirements.txt (line 44)) (3.7.1)\n",
            "Requirement already satisfied: future in /usr/local/lib/python3.10/dist-packages (from ffmpeg-python>=0.2.0->-r rvc/requirements.txt (line 13)) (0.18.3)\n",
            "Requirement already satisfied: protobuf>=3.20 in /usr/local/lib/python3.10/dist-packages (from tensorboardX->-r rvc/requirements.txt (line 14)) (3.20.3)\n",
            "Requirement already satisfied: contourpy>=1.0.1 in /usr/local/lib/python3.10/dist-packages (from matplotlib>=3.7.0->-r rvc/requirements.txt (line 18)) (1.1.0)\n",
            "Requirement already satisfied: cycler>=0.10 in /usr/local/lib/python3.10/dist-packages (from matplotlib>=3.7.0->-r rvc/requirements.txt (line 18)) (0.11.0)\n",
            "Requirement already satisfied: fonttools>=4.22.0 in /usr/local/lib/python3.10/dist-packages (from matplotlib>=3.7.0->-r rvc/requirements.txt (line 18)) (4.42.1)\n",
            "Requirement already satisfied: kiwisolver>=1.0.1 in /usr/local/lib/python3.10/dist-packages (from matplotlib>=3.7.0->-r rvc/requirements.txt (line 18)) (1.4.5)\n",
            "Requirement already satisfied: pyparsing>=2.3.1 in /usr/local/lib/python3.10/dist-packages (from matplotlib>=3.7.0->-r rvc/requirements.txt (line 18)) (3.1.1)\n",
            "Requirement already satisfied: python-dateutil>=2.7 in /usr/local/lib/python3.10/dist-packages (from matplotlib>=3.7.0->-r rvc/requirements.txt (line 18)) (2.8.2)\n",
            "Requirement already satisfied: traitlets in /usr/local/lib/python3.10/dist-packages (from matplotlib-inline>=0.1.3->-r rvc/requirements.txt (line 19)) (5.7.1)\n",
            "Requirement already satisfied: threadpoolctl>=2.0.0 in /usr/local/lib/python3.10/dist-packages (from scikit-learn->-r rvc/requirements.txt (line 23)) (3.2.0)\n",
            "Requirement already satisfied: grpcio>=1.48.2 in /usr/local/lib/python3.10/dist-packages (from tensorboard->-r rvc/requirements.txt (line 24)) (1.57.0)\n",
            "Requirement already satisfied: google-auth<3,>=1.6.3 in /usr/local/lib/python3.10/dist-packages (from tensorboard->-r rvc/requirements.txt (line 24)) (2.17.3)\n",
            "Requirement already satisfied: google-auth-oauthlib<1.1,>=0.5 in /usr/local/lib/python3.10/dist-packages (from tensorboard->-r rvc/requirements.txt (line 24)) (1.0.0)\n",
            "Requirement already satisfied: tensorboard-data-server<0.8.0,>=0.7.0 in /usr/local/lib/python3.10/dist-packages (from tensorboard->-r rvc/requirements.txt (line 24)) (0.7.1)\n",
            "Requirement already satisfied: wheel>=0.26 in /usr/local/lib/python3.10/dist-packages (from tensorboard->-r rvc/requirements.txt (line 24)) (0.41.2)\n",
            "Requirement already satisfied: mpmath>=0.19 in /usr/local/lib/python3.10/dist-packages (from sympy>=1.11.1->-r rvc/requirements.txt (line 29)) (1.3.0)\n",
            "Requirement already satisfied: click>=7.0 in /usr/local/lib/python3.10/dist-packages (from uvicorn>=0.21.1->-r rvc/requirements.txt (line 37)) (8.1.7)\n",
            "Collecting h11>=0.8 (from uvicorn>=0.21.1->-r rvc/requirements.txt (line 37))\n",
            "  Downloading h11-0.14.0-py3-none-any.whl (58 kB)\n",
            "\u001b[2K     \u001b[90m━━━━━━━━━━━━━━━━━━━━━━━━━━━━━━━━━━━━━━━━\u001b[0m \u001b[32m58.3/58.3 kB\u001b[0m \u001b[31m8.1 MB/s\u001b[0m eta \u001b[36m0:00:00\u001b[0m\n",
            "\u001b[?25hRequirement already satisfied: typing-extensions>=4.0 in /usr/local/lib/python3.10/dist-packages (from uvicorn>=0.21.1->-r rvc/requirements.txt (line 37)) (4.5.0)\n",
            "Collecting coloredlogs (from onnxruntime-gpu->-r rvc/requirements.txt (line 42))\n",
            "  Downloading coloredlogs-15.0.1-py2.py3-none-any.whl (46 kB)\n",
            "\u001b[2K     \u001b[90m━━━━━━━━━━━━━━━━━━━━━━━━━━━━━━━━━━━━━━━━\u001b[0m \u001b[32m46.0/46.0 kB\u001b[0m \u001b[31m6.6 MB/s\u001b[0m eta \u001b[36m0:00:00\u001b[0m\n",
            "\u001b[?25hRequirement already satisfied: flatbuffers in /usr/local/lib/python3.10/dist-packages (from onnxruntime-gpu->-r rvc/requirements.txt (line 42)) (23.5.26)\n",
            "Requirement already satisfied: pycparser in /usr/local/lib/python3.10/dist-packages (from cffi->fairseq==0.12.2->-r rvc/requirements.txt (line 7)) (2.21)\n",
            "Requirement already satisfied: cachetools<6.0,>=2.0.0 in /usr/local/lib/python3.10/dist-packages (from google-auth<3,>=1.6.3->tensorboard->-r rvc/requirements.txt (line 24)) (5.3.1)\n",
            "Requirement already satisfied: six>=1.9.0 in /usr/local/lib/python3.10/dist-packages (from google-auth<3,>=1.6.3->tensorboard->-r rvc/requirements.txt (line 24)) (1.16.0)\n",
            "Requirement already satisfied: rsa<5,>=3.1.4 in /usr/local/lib/python3.10/dist-packages (from google-auth<3,>=1.6.3->tensorboard->-r rvc/requirements.txt (line 24)) (4.9)\n",
            "Requirement already satisfied: requests-oauthlib>=0.7.0 in /usr/local/lib/python3.10/dist-packages (from google-auth-oauthlib<1.1,>=0.5->tensorboard->-r rvc/requirements.txt (line 24)) (1.3.1)\n",
            "Collecting h11>=0.8 (from uvicorn>=0.21.1->-r rvc/requirements.txt (line 37))\n",
            "  Downloading h11-0.12.0-py3-none-any.whl (54 kB)\n",
            "\u001b[2K     \u001b[90m━━━━━━━━━━━━━━━━━━━━━━━━━━━━━━━━━━━━━━━━\u001b[0m \u001b[32m54.9/54.9 kB\u001b[0m \u001b[31m7.6 MB/s\u001b[0m eta \u001b[36m0:00:00\u001b[0m\n",
            "\u001b[?25hRequirement already satisfied: idna>=2.8 in /usr/local/lib/python3.10/dist-packages (from anyio<5,>=3.4.0->starlette==0.22.0->fastapi==0.88->-r rvc/requirements.txt (line 44)) (3.4)\n",
            "Requirement already satisfied: exceptiongroup in /usr/local/lib/python3.10/dist-packages (from anyio<5,>=3.4.0->starlette==0.22.0->fastapi==0.88->-r rvc/requirements.txt (line 44)) (1.1.3)\n",
            "Collecting antlr4-python3-runtime==4.8 (from hydra-core<1.1,>=1.0.7->fairseq==0.12.2->-r rvc/requirements.txt (line 7))\n",
            "  Downloading antlr4-python3-runtime-4.8.tar.gz (112 kB)\n",
            "\u001b[2K     \u001b[90m━━━━━━━━━━━━━━━━━━━━━━━━━━━━━━━━━━━━━━\u001b[0m \u001b[32m112.4/112.4 kB\u001b[0m \u001b[31m16.3 MB/s\u001b[0m eta \u001b[36m0:00:00\u001b[0m\n",
            "\u001b[?25h  Preparing metadata (setup.py) ... \u001b[?25l\u001b[?25hdone\n",
            "Requirement already satisfied: platformdirs>=2.5.0 in /usr/local/lib/python3.10/dist-packages (from pooch>=1.0->librosa==0.9.1->-r rvc/requirements.txt (line 5)) (3.10.0)\n",
            "Requirement already satisfied: charset-normalizer<4,>=2 in /usr/local/lib/python3.10/dist-packages (from requests->gradio==3.14.0->-r rvc/requirements.txt (line 9)) (3.2.0)\n",
            "Requirement already satisfied: urllib3<3,>=1.21.1 in /usr/local/lib/python3.10/dist-packages (from requests->gradio==3.14.0->-r rvc/requirements.txt (line 9)) (2.0.4)\n",
            "Collecting portalocker (from sacrebleu>=1.4.12->fairseq==0.12.2->-r rvc/requirements.txt (line 7))\n",
            "  Downloading portalocker-2.8.2-py3-none-any.whl (17 kB)\n",
            "Requirement already satisfied: lxml in /usr/local/lib/python3.10/dist-packages (from sacrebleu>=1.4.12->fairseq==0.12.2->-r rvc/requirements.txt (line 7)) (4.9.3)\n",
            "Requirement already satisfied: filelock in /usr/local/lib/python3.10/dist-packages (from torch->fairseq==0.12.2->-r rvc/requirements.txt (line 7)) (3.12.2)\n",
            "Requirement already satisfied: networkx in /usr/local/lib/python3.10/dist-packages (from torch->fairseq==0.12.2->-r rvc/requirements.txt (line 7)) (3.1)\n",
            "Requirement already satisfied: triton==2.0.0 in /usr/local/lib/python3.10/dist-packages (from torch->fairseq==0.12.2->-r rvc/requirements.txt (line 7)) (2.0.0)\n",
            "Requirement already satisfied: cmake in /usr/local/lib/python3.10/dist-packages (from triton==2.0.0->torch->fairseq==0.12.2->-r rvc/requirements.txt (line 7)) (3.27.4.1)\n",
            "Requirement already satisfied: lit in /usr/local/lib/python3.10/dist-packages (from triton==2.0.0->torch->fairseq==0.12.2->-r rvc/requirements.txt (line 7)) (16.0.6)\n",
            "Requirement already satisfied: attrs>=17.3.0 in /usr/local/lib/python3.10/dist-packages (from aiohttp->gradio==3.14.0->-r rvc/requirements.txt (line 9)) (23.1.0)\n",
            "Requirement already satisfied: multidict<7.0,>=4.5 in /usr/local/lib/python3.10/dist-packages (from aiohttp->gradio==3.14.0->-r rvc/requirements.txt (line 9)) (6.0.4)\n",
            "Requirement already satisfied: async-timeout<5.0,>=4.0.0a3 in /usr/local/lib/python3.10/dist-packages (from aiohttp->gradio==3.14.0->-r rvc/requirements.txt (line 9)) (4.0.3)\n",
            "Requirement already satisfied: yarl<2.0,>=1.0 in /usr/local/lib/python3.10/dist-packages (from aiohttp->gradio==3.14.0->-r rvc/requirements.txt (line 9)) (1.9.2)\n",
            "Requirement already satisfied: frozenlist>=1.1.1 in /usr/local/lib/python3.10/dist-packages (from aiohttp->gradio==3.14.0->-r rvc/requirements.txt (line 9)) (1.4.0)\n",
            "Requirement already satisfied: aiosignal>=1.1.2 in /usr/local/lib/python3.10/dist-packages (from aiohttp->gradio==3.14.0->-r rvc/requirements.txt (line 9)) (1.3.1)\n",
            "Requirement already satisfied: entrypoints in /usr/local/lib/python3.10/dist-packages (from altair->gradio==3.14.0->-r rvc/requirements.txt (line 9)) (0.4)\n",
            "Requirement already satisfied: jsonschema>=3.0 in /usr/local/lib/python3.10/dist-packages (from altair->gradio==3.14.0->-r rvc/requirements.txt (line 9)) (4.19.0)\n",
            "Requirement already satisfied: toolz in /usr/local/lib/python3.10/dist-packages (from altair->gradio==3.14.0->-r rvc/requirements.txt (line 9)) (0.12.0)\n",
            "Requirement already satisfied: pytz>=2020.1 in /usr/local/lib/python3.10/dist-packages (from pandas->gradio==3.14.0->-r rvc/requirements.txt (line 9)) (2023.3.post1)\n",
            "Collecting humanfriendly>=9.1 (from coloredlogs->onnxruntime-gpu->-r rvc/requirements.txt (line 42))\n",
            "  Downloading humanfriendly-10.0-py2.py3-none-any.whl (86 kB)\n",
            "\u001b[2K     \u001b[90m━━━━━━━━━━━━━━━━━━━━━━━━━━━━━━━━━━━━━━━━\u001b[0m \u001b[32m86.8/86.8 kB\u001b[0m \u001b[31m12.5 MB/s\u001b[0m eta \u001b[36m0:00:00\u001b[0m\n",
            "\u001b[?25hRequirement already satisfied: mdurl~=0.1 in /usr/local/lib/python3.10/dist-packages (from markdown-it-py[linkify,plugins]->gradio==3.14.0->-r rvc/requirements.txt (line 9)) (0.1.2)\n",
            "Requirement already satisfied: mdit-py-plugins in /usr/local/lib/python3.10/dist-packages (from markdown-it-py[linkify,plugins]->gradio==3.14.0->-r rvc/requirements.txt (line 9)) (0.4.0)\n",
            "Requirement already satisfied: linkify-it-py<3,>=1 in /usr/local/lib/python3.10/dist-packages (from markdown-it-py[linkify,plugins]->gradio==3.14.0->-r rvc/requirements.txt (line 9)) (2.0.2)\n",
            "Requirement already satisfied: jsonschema-specifications>=2023.03.6 in /usr/local/lib/python3.10/dist-packages (from jsonschema>=3.0->altair->gradio==3.14.0->-r rvc/requirements.txt (line 9)) (2023.7.1)\n",
            "Requirement already satisfied: referencing>=0.28.4 in /usr/local/lib/python3.10/dist-packages (from jsonschema>=3.0->altair->gradio==3.14.0->-r rvc/requirements.txt (line 9)) (0.30.2)\n",
            "Requirement already satisfied: rpds-py>=0.7.1 in /usr/local/lib/python3.10/dist-packages (from jsonschema>=3.0->altair->gradio==3.14.0->-r rvc/requirements.txt (line 9)) (0.10.2)\n",
            "Requirement already satisfied: oauthlib>=3.0.0 in /usr/local/lib/python3.10/dist-packages (from requests-oauthlib>=0.7.0->google-auth-oauthlib<1.1,>=0.5->tensorboard->-r rvc/requirements.txt (line 24)) (3.2.2)\n",
            "Building wheels for collected packages: fairseq, pyworld, ffmpy, antlr4-python3-runtime\n",
            "  Building wheel for fairseq (pyproject.toml) ... \u001b[?25l\u001b[?25hdone\n",
            "  Created wheel for fairseq: filename=fairseq-0.12.2-cp310-cp310-linux_x86_64.whl size=11291797 sha256=ba4840f6caeb59badb7554fa37582350f2fccfcc6f3f005319e99bdf286fb423\n",
            "  Stored in directory: /root/.cache/pip/wheels/e4/35/55/9c66f65ec7c83fd6fbc2b9502a0ac81b2448a1196159dacc32\n",
            "  Building wheel for pyworld (pyproject.toml) ... \u001b[?25l\u001b[?25hdone\n",
            "  Created wheel for pyworld: filename=pyworld-0.3.2-cp310-cp310-linux_x86_64.whl size=861628 sha256=d650f700f8bcf7f45a9fd04ad7484424715bb62ec7b440fc6b75ed5e3a7dbcb6\n",
            "  Stored in directory: /root/.cache/pip/wheels/35/48/7e/e25bdd25fda4326d47010c157709436a6ee7a1423e18a24195\n",
            "  Building wheel for ffmpy (setup.py) ... \u001b[?25l\u001b[?25hdone\n",
            "  Created wheel for ffmpy: filename=ffmpy-0.3.1-py3-none-any.whl size=5579 sha256=26820485c2e52c6f861265611d966feba20c5c055d303775c0532fc97ff803b2\n",
            "  Stored in directory: /root/.cache/pip/wheels/01/a6/d1/1c0828c304a4283b2c1639a09ad86f83d7c487ef34c6b4a1bf\n",
            "  Building wheel for antlr4-python3-runtime (setup.py) ... \u001b[?25l\u001b[?25hdone\n",
            "  Created wheel for antlr4-python3-runtime: filename=antlr4_python3_runtime-4.8-py3-none-any.whl size=141209 sha256=be87120cbe0181402658b21a1eea468f4069fec113157513933642bb2c9d86bc\n",
            "  Stored in directory: /root/.cache/pip/wheels/a7/20/bd/e1477d664f22d99989fd28ee1a43d6633dddb5cb9e801350d5\n",
            "Successfully built fairseq pyworld ffmpy antlr4-python3-runtime\n",
            "Installing collected packages: rfc3986, pydub, json5, ffmpy, faiss-cpu, bitarray, antlr4-python3-runtime, websockets, tensorboardX, scipy, pyworld, python-multipart, pycryptodome, praat-parselmouth, portalocker, orjson, omegaconf, llvmlite, humanfriendly, h11, ffmpeg-python, colorama, uvicorn, starlette, sacrebleu, hydra-core, httpcore, coloredlogs, resampy, onnxruntime-gpu, httpx, fastapi, librosa, gradio, torchcrepe, fairseq\n",
            "  Attempting uninstall: scipy\n",
            "    Found existing installation: scipy 1.11.2\n",
            "    Uninstalling scipy-1.11.2:\n",
            "      Successfully uninstalled scipy-1.11.2\n",
            "  Attempting uninstall: llvmlite\n",
            "    Found existing installation: llvmlite 0.39.1\n",
            "    Uninstalling llvmlite-0.39.1:\n",
            "      Successfully uninstalled llvmlite-0.39.1\n",
            "  Attempting uninstall: librosa\n",
            "    Found existing installation: librosa 0.10.1\n",
            "    Uninstalling librosa-0.10.1:\n",
            "      Successfully uninstalled librosa-0.10.1\n",
            "Successfully installed antlr4-python3-runtime-4.8 bitarray-2.8.1 colorama-0.4.6 coloredlogs-15.0.1 fairseq-0.12.2 faiss-cpu-1.7.3 fastapi-0.88.0 ffmpeg-python-0.2.0 ffmpy-0.3.1 gradio-3.14.0 h11-0.12.0 httpcore-0.15.0 httpx-0.23.0 humanfriendly-10.0 hydra-core-1.0.7 json5-0.9.14 librosa-0.9.1 llvmlite-0.39.0 omegaconf-2.0.6 onnxruntime-gpu-1.15.1 orjson-3.9.7 portalocker-2.8.2 praat-parselmouth-0.4.3 pycryptodome-3.19.0 pydub-0.25.1 python-multipart-0.0.6 pyworld-0.3.2 resampy-0.4.2 rfc3986-1.5.0 sacrebleu-2.3.1 scipy-1.9.3 starlette-0.22.0 tensorboardX-2.6.2.2 torchcrepe-0.0.20 uvicorn-0.23.2 websockets-11.0.3\n"
          ]
        }
      ]
    },
    {
      "cell_type": "code",
      "source": [
        "!mkdir -p rvc/models\n",
        "!wget https://huggingface.co/fnx/RVCv2-RMVPE-ru-saya/resolve/main/ru-saya-1000.zip\n",
        "!unzip ru-saya-1000.zip -d rvc/models"
      ],
      "metadata": {
        "colab": {
          "base_uri": "https://localhost:8080/"
        },
        "id": "zImLhjOsHCsY",
        "outputId": "c7733ed1-2c01-4470-c38c-7c7497b3ae62"
      },
      "execution_count": 5,
      "outputs": [
        {
          "output_type": "stream",
          "name": "stdout",
          "text": [
            "--2023-09-17 20:50:27--  https://huggingface.co/fnx/RVCv2-RMVPE-ru-saya/resolve/main/ru-saya-1000.zip\n",
            "Resolving huggingface.co (huggingface.co)... 13.33.33.110, 13.33.33.20, 13.33.33.55, ...\n",
            "Connecting to huggingface.co (huggingface.co)|13.33.33.110|:443... connected.\n",
            "HTTP request sent, awaiting response... 302 Found\n",
            "Location: https://cdn-lfs.huggingface.co/repos/6f/97/6f97c90b4497aa8edea081713b1d3163392d9536cc43374f32ffc6a4c6fe7625/181d635b7f4405318c072567f4cf9ff8076c814803ec87d82ea2af9bc1450c70?response-content-disposition=attachment%3B+filename*%3DUTF-8%27%27ru-saya-1000.zip%3B+filename%3D%22ru-saya-1000.zip%22%3B&response-content-type=application%2Fzip&Expires=1695243027&Policy=eyJTdGF0ZW1lbnQiOlt7IkNvbmRpdGlvbiI6eyJEYXRlTGVzc1RoYW4iOnsiQVdTOkVwb2NoVGltZSI6MTY5NTI0MzAyN319LCJSZXNvdXJjZSI6Imh0dHBzOi8vY2RuLWxmcy5odWdnaW5nZmFjZS5jby9yZXBvcy82Zi85Ny82Zjk3YzkwYjQ0OTdhYThlZGVhMDgxNzEzYjFkMzE2MzM5MmQ5NTM2Y2M0MzM3NGYzMmZmYzZhNGM2ZmU3NjI1LzE4MWQ2MzViN2Y0NDA1MzE4YzA3MjU2N2Y0Y2Y5ZmY4MDc2YzgxNDgwM2VjODdkODJlYTJhZjliYzE0NTBjNzA%7EcmVzcG9uc2UtY29udGVudC1kaXNwb3NpdGlvbj0qJnJlc3BvbnNlLWNvbnRlbnQtdHlwZT0qIn1dfQ__&Signature=m2r-8oEuF8HZ%7Ez2xkcKGgiO-ILSjn%7EdFP945CGi6aZowsU8MFV-tgFykWrW2De7btq9sEj5pjnY-3shNigYe4WHLVreR0xRT93o-0k5EoJ2Ll2xpBoHIvjpTGgye9QHvWxgFrYzw%7Ej95wKA4Ts4uTGpRrl7oMopePOZttiObZu2wzRYBVJ-GUh1mIFFeBIQEAtB3rrHelWLF2O41qBdqqxJdNwMeYlh2FNLBmXD865F1upxwvm5XXj%7Er32nwVL63KH4kRRZQ%7EeGh4zfSUU5a-AgDxYHUlBjbL5ATaTiAuwGf3CTsGQ8XwlRaeqNrxHZKzMsHl8Bja49E-F-0s4ib%7Eg__&Key-Pair-Id=KVTP0A1DKRTAX [following]\n",
            "--2023-09-17 20:50:27--  https://cdn-lfs.huggingface.co/repos/6f/97/6f97c90b4497aa8edea081713b1d3163392d9536cc43374f32ffc6a4c6fe7625/181d635b7f4405318c072567f4cf9ff8076c814803ec87d82ea2af9bc1450c70?response-content-disposition=attachment%3B+filename*%3DUTF-8%27%27ru-saya-1000.zip%3B+filename%3D%22ru-saya-1000.zip%22%3B&response-content-type=application%2Fzip&Expires=1695243027&Policy=eyJTdGF0ZW1lbnQiOlt7IkNvbmRpdGlvbiI6eyJEYXRlTGVzc1RoYW4iOnsiQVdTOkVwb2NoVGltZSI6MTY5NTI0MzAyN319LCJSZXNvdXJjZSI6Imh0dHBzOi8vY2RuLWxmcy5odWdnaW5nZmFjZS5jby9yZXBvcy82Zi85Ny82Zjk3YzkwYjQ0OTdhYThlZGVhMDgxNzEzYjFkMzE2MzM5MmQ5NTM2Y2M0MzM3NGYzMmZmYzZhNGM2ZmU3NjI1LzE4MWQ2MzViN2Y0NDA1MzE4YzA3MjU2N2Y0Y2Y5ZmY4MDc2YzgxNDgwM2VjODdkODJlYTJhZjliYzE0NTBjNzA%7EcmVzcG9uc2UtY29udGVudC1kaXNwb3NpdGlvbj0qJnJlc3BvbnNlLWNvbnRlbnQtdHlwZT0qIn1dfQ__&Signature=m2r-8oEuF8HZ%7Ez2xkcKGgiO-ILSjn%7EdFP945CGi6aZowsU8MFV-tgFykWrW2De7btq9sEj5pjnY-3shNigYe4WHLVreR0xRT93o-0k5EoJ2Ll2xpBoHIvjpTGgye9QHvWxgFrYzw%7Ej95wKA4Ts4uTGpRrl7oMopePOZttiObZu2wzRYBVJ-GUh1mIFFeBIQEAtB3rrHelWLF2O41qBdqqxJdNwMeYlh2FNLBmXD865F1upxwvm5XXj%7Er32nwVL63KH4kRRZQ%7EeGh4zfSUU5a-AgDxYHUlBjbL5ATaTiAuwGf3CTsGQ8XwlRaeqNrxHZKzMsHl8Bja49E-F-0s4ib%7Eg__&Key-Pair-Id=KVTP0A1DKRTAX\n",
            "Resolving cdn-lfs.huggingface.co (cdn-lfs.huggingface.co)... 18.155.68.128, 18.155.68.73, 18.155.68.98, ...\n",
            "Connecting to cdn-lfs.huggingface.co (cdn-lfs.huggingface.co)|18.155.68.128|:443... connected.\n",
            "HTTP request sent, awaiting response... 200 OK\n",
            "Length: 60828339 (58M) [application/zip]\n",
            "Saving to: ‘ru-saya-1000.zip’\n",
            "\n",
            "ru-saya-1000.zip    100%[===================>]  58.01M   296MB/s    in 0.2s    \n",
            "\n",
            "2023-09-17 20:50:27 (296 MB/s) - ‘ru-saya-1000.zip’ saved [60828339/60828339]\n",
            "\n",
            "Archive:  ru-saya-1000.zip\n",
            "   creating: rvc/models/ru-saya/\n",
            "  inflating: rvc/models/ru-saya/ru-saya-1000.pth  \n",
            "  inflating: rvc/models/ru-saya/trained_IVF3468_Flat_nprobe_1_ru-saya_v2.index  \n"
          ]
        }
      ]
    },
    {
      "cell_type": "code",
      "source": [
        "!pip install -r silero/requirements.txt"
      ],
      "metadata": {
        "colab": {
          "base_uri": "https://localhost:8080/"
        },
        "id": "-aCpkxag03ul",
        "outputId": "62d3099d-3eaf-42be-89e0-b8ad62f3fc52"
      },
      "execution_count": 6,
      "outputs": [
        {
          "output_type": "stream",
          "name": "stdout",
          "text": [
            "Collecting transliterate (from -r silero/requirements.txt (line 1))\n",
            "  Downloading transliterate-1.10.2-py2.py3-none-any.whl (45 kB)\n",
            "\u001b[2K     \u001b[90m━━━━━━━━━━━━━━━━━━━━━━━━━━━━━━━━━━━━━━━\u001b[0m \u001b[32m45.8/45.8 kB\u001b[0m \u001b[31m769.8 kB/s\u001b[0m eta \u001b[36m0:00:00\u001b[0m\n",
            "\u001b[?25hCollecting num2words (from -r silero/requirements.txt (line 2))\n",
            "  Downloading num2words-0.5.12-py3-none-any.whl (125 kB)\n",
            "\u001b[2K     \u001b[90m━━━━━━━━━━━━━━━━━━━━━━━━━━━━━━━━━━━━━━━\u001b[0m \u001b[32m125.2/125.2 kB\u001b[0m \u001b[31m5.2 MB/s\u001b[0m eta \u001b[36m0:00:00\u001b[0m\n",
            "\u001b[?25hCollecting pypandoc (from -r silero/requirements.txt (line 3))\n",
            "  Downloading pypandoc-1.11-py3-none-any.whl (20 kB)\n",
            "Requirement already satisfied: ffmpeg-python in /usr/local/lib/python3.10/dist-packages (from -r silero/requirements.txt (line 4)) (0.2.0)\n",
            "Requirement already satisfied: six>=1.1.0 in /usr/local/lib/python3.10/dist-packages (from transliterate->-r silero/requirements.txt (line 1)) (1.16.0)\n",
            "Collecting docopt>=0.6.2 (from num2words->-r silero/requirements.txt (line 2))\n",
            "  Downloading docopt-0.6.2.tar.gz (25 kB)\n",
            "  Preparing metadata (setup.py) ... \u001b[?25l\u001b[?25hdone\n",
            "Requirement already satisfied: future in /usr/local/lib/python3.10/dist-packages (from ffmpeg-python->-r silero/requirements.txt (line 4)) (0.18.3)\n",
            "Building wheels for collected packages: docopt\n",
            "  Building wheel for docopt (setup.py) ... \u001b[?25l\u001b[?25hdone\n",
            "  Created wheel for docopt: filename=docopt-0.6.2-py2.py3-none-any.whl size=13705 sha256=f5e4ad93d3bc14bab8433361073187d9731b978912f9e35433a8f6ee7d142da1\n",
            "  Stored in directory: /root/.cache/pip/wheels/fc/ab/d4/5da2067ac95b36618c629a5f93f809425700506f72c9732fac\n",
            "Successfully built docopt\n",
            "Installing collected packages: docopt, transliterate, pypandoc, num2words\n",
            "Successfully installed docopt-0.6.2 num2words-0.5.12 pypandoc-1.11 transliterate-1.10.2\n"
          ]
        }
      ]
    },
    {
      "cell_type": "code",
      "source": [
        "!python silero/silero_tts.py -t 8 -s xenia -d cuda -r 48000 --merge --rvc -i ./src -o silero/output_raw"
      ],
      "metadata": {
        "colab": {
          "base_uri": "https://localhost:8080/"
        },
        "id": "idsWXgwjx9Bz",
        "outputId": "ad5b33e4-f37c-4ff1-ab65-be661ba42399"
      },
      "execution_count": 7,
      "outputs": [
        {
          "output_type": "stream",
          "name": "stdout",
          "text": [
            "{'input': './src', 'output': 'silero/output_raw', 'threads': '8', 'speaker': 'xenia', 'device': 'cuda', 'rate': '48000', 'merge': True, 'svc': False, 'rvc': True}\n",
            "[nltk_data] Downloading package punkt to /root/nltk_data...\n",
            "[nltk_data]   Unzipping tokenizers/punkt.zip.\n",
            "100% 59.0M/59.0M [00:04<00:00, 13.9MB/s]\n",
            "\n",
            "silero/output_raw/part001_-_Том_1\n",
            "    TTS: 100% 2/2 [00:03<00:00,  1.60s/it]\n",
            "\n",
            "silero/output_raw/part002_-_Пролог\n",
            "    TTS: 100% 36/36 [00:04<00:00,  8.68it/s]\n",
            "\n",
            "silero/output_raw/part003_-_Глава_1\n",
            "    TTS: 100% 52/52 [00:04<00:00, 10.77it/s]\n",
            "\n",
            "silero/output_raw/part004_-_Глава_2\n",
            "    TTS: 100% 49/49 [00:03<00:00, 12.72it/s]\n",
            "\n",
            "silero/output_raw/part005_-_Глава_3\n",
            "    TTS: 100% 60/60 [00:04<00:00, 14.80it/s]\n",
            "\n",
            "silero/output_raw/part006_-_Глава_4\n",
            "    TTS: 100% 58/58 [00:05<00:00, 11.10it/s]\n",
            "\n",
            "silero/output_raw/part007_-_Глава_5\n",
            "    TTS: 100% 47/47 [00:03<00:00, 13.28it/s]\n",
            "\n",
            "Merging and encoding, please wait... (1 threads)\n",
            "MERGING: 100% 7/7 [04:56<00:00, 42.42s/chapter]\n",
            "\n",
            "Finished!\n"
          ]
        }
      ]
    },
    {
      "cell_type": "code",
      "source": [
        "!zip -r output.zip silero/output_raw/*.opus\n",
        "!ls -l output.zip"
      ],
      "metadata": {
        "colab": {
          "base_uri": "https://localhost:8080/"
        },
        "id": "WJznBjRnCSGV",
        "outputId": "2f614971-67af-47da-e2d1-1ddd60d1b0eb"
      },
      "execution_count": 8,
      "outputs": [
        {
          "output_type": "stream",
          "name": "stdout",
          "text": [
            "  adding: silero/output_raw/part001_-_Том_1.opus (deflated 1%)\n",
            "  adding: silero/output_raw/part002_-_Пролог.opus (deflated 0%)\n",
            "  adding: silero/output_raw/part003_-_Глава_1.opus (deflated 0%)\n",
            "  adding: silero/output_raw/part004_-_Глава_2.opus (deflated 0%)\n",
            "  adding: silero/output_raw/part005_-_Глава_3.opus (deflated 0%)\n",
            "  adding: silero/output_raw/part006_-_Глава_4.opus (deflated 0%)\n",
            "  adding: silero/output_raw/part007_-_Глава_5.opus (deflated 0%)\n",
            "-rw-r--r-- 1 root root 8297104 Sep 17 20:56 output.zip\n"
          ]
        }
      ]
    }
  ]
}