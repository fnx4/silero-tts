{
 "cells": [
  {
   "cell_type": "markdown",
   "metadata": {
    "id": "VIp7YqtS0to5"
   },
   "source": [
    "# SILERO TTS"
   ]
  },
  {
   "cell_type": "code",
   "execution_count": null,
   "metadata": {
    "id": "Q31VTQNXSP0T"
   },
   "outputs": [],
   "source": [
    "#!mkdir src\n",
    "#!touch src/test.txt\n",
    "\n",
    "# !echo \"Я приближался к месту моего назначения. \" >> src/test.txt\n",
    "# !echo \"Вокруг меня, прижимаясь к самой дороге, зеленел лес, изредка уступая место полянам, поросшим желтой осокою. \" >> src/test.txt\n",
    "# !echo \"Солнце садилось уже который час, все никак не могло сесть и висело низко над горизонтом. \" >> src/test.txt\n",
    "# !echo \"Машина катилась по узкой дороге, засыпанной хрустящим гравием. \" >> src/test.txt\n",
    "# !echo \"Крупные камни я пускал под колесо, и каждый раз в багажнике лязгали и громыхали пустые канистры.\" >> src/test.txt"
   ]
  },
  {
   "cell_type": "code",
   "execution_count": 1,
   "metadata": {
    "colab": {
     "base_uri": "https://localhost:8080/"
    },
    "id": "StLJmSWrBFqk",
    "outputId": "151f19d2-adca-43af-bf3b-1d766a98517a"
   },
   "outputs": [
    {
     "name": "stdout",
     "output_type": "stream",
     "text": [
      "Archive:  src.zip\n",
      "  inflating: ./src/part001 - Том 1..txt  \n",
      "  inflating: ./src/part002 - Пролог..txt  \n",
      "  inflating: ./src/part003 - Глава 1..txt  \n",
      "  inflating: ./src/part004 - Глава 2..txt  \n",
      "  inflating: ./src/part005 - Глава 3..txt  \n",
      "  inflating: ./src/part006 - Глава 4..txt  \n",
      "  inflating: ./src/part007 - Глава 5..txt  \n"
     ]
    }
   ],
   "source": [
    "!mkdir src\n",
    "!unzip src.zip -d ./src"
   ]
  },
  {
   "cell_type": "code",
   "execution_count": 2,
   "metadata": {
    "colab": {
     "base_uri": "https://localhost:8080/"
    },
    "id": "HonFbI7A0wez",
    "outputId": "d13203b7-6db9-466d-9bd5-035df1f4a859"
   },
   "outputs": [
    {
     "name": "stdout",
     "output_type": "stream",
     "text": [
      "Cloning into 'silero'...\n",
      "remote: Enumerating objects: 162, done.\u001b[K\n",
      "remote: Counting objects: 100% (162/162), done.\u001b[K\n",
      "remote: Compressing objects: 100% (87/87), done.\u001b[K\n",
      "remote: Total 162 (delta 79), reused 133 (delta 50), pack-reused 0\u001b[K\n",
      "Receiving objects: 100% (162/162), 67.65 KiB | 1.13 MiB/s, done.\n",
      "Resolving deltas: 100% (79/79), done.\n"
     ]
    }
   ],
   "source": [
    "!git clone https://github.com/fnx4/silero-tts silero"
   ]
  },
  {
   "cell_type": "code",
   "execution_count": 3,
   "metadata": {
    "colab": {
     "base_uri": "https://localhost:8080/"
    },
    "id": "eGIIgFwg0zsd",
    "outputId": "4c672471-8241-4cb9-d897-f5aae7b60656"
   },
   "outputs": [
    {
     "name": "stdout",
     "output_type": "stream",
     "text": [
      "ffmpeg version 4.4.2-0ubuntu0.22.04.1 Copyright (c) 2000-2021 the FFmpeg developers\n",
      "Sun Apr 14 12:29:28 2024       \n",
      "+---------------------------------------------------------------------------------------+\n",
      "| NVIDIA-SMI 535.104.07             Driver Version: 537.34       CUDA Version: 12.2     |\n",
      "|-----------------------------------------+----------------------+----------------------+\n",
      "| GPU  Name                 Persistence-M | Bus-Id        Disp.A | Volatile Uncorr. ECC |\n",
      "| Fan  Temp   Perf          Pwr:Usage/Cap |         Memory-Usage | GPU-Util  Compute M. |\n",
      "|                                         |                      |               MIG M. |\n",
      "|=========================================+======================+======================|\n",
      "|   0  NVIDIA GeForce RTX 4090        On  | 00000000:01:00.0  On |                  Off |\n",
      "| 47%   45C    P0              62W / 360W |   1199MiB / 24564MiB |      3%      Default |\n",
      "|                                         |                      |                  N/A |\n",
      "+-----------------------------------------+----------------------+----------------------+\n",
      "                                                                                         \n",
      "+---------------------------------------------------------------------------------------+\n",
      "| Processes:                                                                            |\n",
      "|  GPU   GI   CI        PID   Type   Process name                            GPU Memory |\n",
      "|        ID   ID                                                             Usage      |\n",
      "|=======================================================================================|\n",
      "|    0   N/A  N/A        20      G   /Xwayland                                 N/A      |\n",
      "|    0   N/A  N/A        20      G   /Xwayland                                 N/A      |\n",
      "|    0   N/A  N/A        23      G   /Xwayland                                 N/A      |\n",
      "+---------------------------------------------------------------------------------------+\n"
     ]
    }
   ],
   "source": [
    "!ffmpeg -version | grep \"ffmpeg version\"\n",
    "!nvidia-smi"
   ]
  },
  {
   "cell_type": "code",
   "execution_count": 4,
   "metadata": {
    "colab": {
     "base_uri": "https://localhost:8080/"
    },
    "id": "vAmolViP79JH",
    "outputId": "9a5c0058-f216-491d-9427-33bc283510d0"
   },
   "outputs": [
    {
     "name": "stdout",
     "output_type": "stream",
     "text": [
      "Cloning into 'rvc'...\n",
      "remote: Enumerating objects: 4777, done.\u001b[K\n",
      "remote: Counting objects: 100% (99/99), done.\u001b[K\n",
      "remote: Compressing objects: 100% (75/75), done.\u001b[K\n",
      "remote: Total 4777 (delta 47), reused 62 (delta 23), pack-reused 4678\u001b[K\n",
      "Receiving objects: 100% (4777/4777), 14.32 MiB | 5.31 MiB/s, done.\n",
      "Resolving deltas: 100% (2964/2964), done.\n",
      "--2024-04-14 12:29:35--  https://huggingface.co/lj1995/VoiceConversionWebUI/resolve/main/rmvpe.pt\n",
      "Resolving huggingface.co (huggingface.co)... 108.138.51.8, 108.138.51.41, 108.138.51.26, ...\n",
      "Connecting to huggingface.co (huggingface.co)|108.138.51.8|:443... connected.\n",
      "HTTP request sent, awaiting response... 302 Found\n",
      "Location: https://cdn-lfs.huggingface.co/repos/ef/97/ef977053f017cde1fc0f89ac7ef0b33172a3d8fb8a840bb24e78b1c0f35f1e72/6d62215f4306e3ca278246188607209f09af3dc77ed4232efdd069798c4ec193?response-content-disposition=attachment%3B+filename*%3DUTF-8%27%27rmvpe.pt%3B+filename%3D%22rmvpe.pt%22%3B&Expires=1713355674&Policy=eyJTdGF0ZW1lbnQiOlt7IkNvbmRpdGlvbiI6eyJEYXRlTGVzc1RoYW4iOnsiQVdTOkVwb2NoVGltZSI6MTcxMzM1NTY3NH19LCJSZXNvdXJjZSI6Imh0dHBzOi8vY2RuLWxmcy5odWdnaW5nZmFjZS5jby9yZXBvcy9lZi85Ny9lZjk3NzA1M2YwMTdjZGUxZmMwZjg5YWM3ZWYwYjMzMTcyYTNkOGZiOGE4NDBiYjI0ZTc4YjFjMGYzNWYxZTcyLzZkNjIyMTVmNDMwNmUzY2EyNzgyNDYxODg2MDcyMDlmMDlhZjNkYzc3ZWQ0MjMyZWZkZDA2OTc5OGM0ZWMxOTM%7EcmVzcG9uc2UtY29udGVudC1kaXNwb3NpdGlvbj0qIn1dfQ__&Signature=v0B31i0wkJHtlDr%7Ez1tNY8HvPK4sbcSgPiSIWBd29k2larW6yICybtU-latg0fmsKZbDw0HcZQKdu4-QUDd%7ElQfo2c9L-J6iMlB7BTb7uvWWJng1QQ%7EPE4mI5Ohq0JjFInLBYN9uUFel0-00LUVXogrdJDQifKhdk6xhyJfIhkuPSmdjStAskZ6yU57znK0bIz5RFybVTpx6d6H2FND-TdFK18xSY7pQmyOlVhcM8PMlOrCDpGjdcNA48OkuaRoT45HgBaACeOixtf2m0Lon%7EpDEQr7Rsx0iMUWyUlk88zXwOKbdvRR60hNsQ4R5i%7ErDyb5O-0szyBy29uLOxD%7ERqg__&Key-Pair-Id=KVTP0A1DKRTAX [following]\n",
      "--2024-04-14 12:29:35--  https://cdn-lfs.huggingface.co/repos/ef/97/ef977053f017cde1fc0f89ac7ef0b33172a3d8fb8a840bb24e78b1c0f35f1e72/6d62215f4306e3ca278246188607209f09af3dc77ed4232efdd069798c4ec193?response-content-disposition=attachment%3B+filename*%3DUTF-8%27%27rmvpe.pt%3B+filename%3D%22rmvpe.pt%22%3B&Expires=1713355674&Policy=eyJTdGF0ZW1lbnQiOlt7IkNvbmRpdGlvbiI6eyJEYXRlTGVzc1RoYW4iOnsiQVdTOkVwb2NoVGltZSI6MTcxMzM1NTY3NH19LCJSZXNvdXJjZSI6Imh0dHBzOi8vY2RuLWxmcy5odWdnaW5nZmFjZS5jby9yZXBvcy9lZi85Ny9lZjk3NzA1M2YwMTdjZGUxZmMwZjg5YWM3ZWYwYjMzMTcyYTNkOGZiOGE4NDBiYjI0ZTc4YjFjMGYzNWYxZTcyLzZkNjIyMTVmNDMwNmUzY2EyNzgyNDYxODg2MDcyMDlmMDlhZjNkYzc3ZWQ0MjMyZWZkZDA2OTc5OGM0ZWMxOTM%7EcmVzcG9uc2UtY29udGVudC1kaXNwb3NpdGlvbj0qIn1dfQ__&Signature=v0B31i0wkJHtlDr%7Ez1tNY8HvPK4sbcSgPiSIWBd29k2larW6yICybtU-latg0fmsKZbDw0HcZQKdu4-QUDd%7ElQfo2c9L-J6iMlB7BTb7uvWWJng1QQ%7EPE4mI5Ohq0JjFInLBYN9uUFel0-00LUVXogrdJDQifKhdk6xhyJfIhkuPSmdjStAskZ6yU57znK0bIz5RFybVTpx6d6H2FND-TdFK18xSY7pQmyOlVhcM8PMlOrCDpGjdcNA48OkuaRoT45HgBaACeOixtf2m0Lon%7EpDEQr7Rsx0iMUWyUlk88zXwOKbdvRR60hNsQ4R5i%7ErDyb5O-0szyBy29uLOxD%7ERqg__&Key-Pair-Id=KVTP0A1DKRTAX\n",
      "Resolving cdn-lfs.huggingface.co (cdn-lfs.huggingface.co)... ::ffff:18.244.102.81, ::ffff:18.244.102.9, ::ffff:18.244.102.76, ...\n",
      "Connecting to cdn-lfs.huggingface.co (cdn-lfs.huggingface.co)|::ffff:18.244.102.81|:443... connected.\n",
      "HTTP request sent, awaiting response... 200 OK\n",
      "Length: 181184272 (173M) [binary/octet-stream]\n",
      "Saving to: ‘rvc/assets/rmvpe/rmvpe.pt’\n",
      "\n",
      "rvc/assets/rmvpe/rm 100%[===================>] 172.79M  6.46MB/s    in 26s     \n",
      "\n",
      "2024-04-14 12:30:02 (6.57 MB/s) - ‘rvc/assets/rmvpe/rmvpe.pt’ saved [181184272/181184272]\n",
      "\n",
      "--2024-04-14 12:30:02--  https://huggingface.co/lj1995/VoiceConversionWebUI/resolve/main/hubert_base.pt\n",
      "Resolving huggingface.co (huggingface.co)... 108.138.51.8, 108.138.51.41, 108.138.51.26, ...\n",
      "Connecting to huggingface.co (huggingface.co)|108.138.51.8|:443... connected.\n",
      "HTTP request sent, awaiting response... 302 Found\n",
      "Location: https://cdn-lfs.huggingface.co/repos/ef/97/ef977053f017cde1fc0f89ac7ef0b33172a3d8fb8a840bb24e78b1c0f35f1e72/f54b40fd2802423a5643779c4861af1e9ee9c1564dc9d32f54f20b5ffba7db96?response-content-disposition=attachment%3B+filename*%3DUTF-8%27%27hubert_base.pt%3B+filename%3D%22hubert_base.pt%22%3B&Expires=1713357002&Policy=eyJTdGF0ZW1lbnQiOlt7IkNvbmRpdGlvbiI6eyJEYXRlTGVzc1RoYW4iOnsiQVdTOkVwb2NoVGltZSI6MTcxMzM1NzAwMn19LCJSZXNvdXJjZSI6Imh0dHBzOi8vY2RuLWxmcy5odWdnaW5nZmFjZS5jby9yZXBvcy9lZi85Ny9lZjk3NzA1M2YwMTdjZGUxZmMwZjg5YWM3ZWYwYjMzMTcyYTNkOGZiOGE4NDBiYjI0ZTc4YjFjMGYzNWYxZTcyL2Y1NGI0MGZkMjgwMjQyM2E1NjQzNzc5YzQ4NjFhZjFlOWVlOWMxNTY0ZGM5ZDMyZjU0ZjIwYjVmZmJhN2RiOTY%7EcmVzcG9uc2UtY29udGVudC1kaXNwb3NpdGlvbj0qIn1dfQ__&Signature=Q8cUnBayJQu9IclMTAKI6t36OFOmtQmhN2VDmGj5J2LWkZNn-ryFX6jZiGYV5mhJrFMkchmc0gnPX8o1gRiOvFGYI9cvSR138RYioAdHs49d2tp1BEOcCtkI9OScfp6ngxgbOPyePPOoBmAhf38RGM%7EN9HT8wrvhy2HryRn88WIZynF4TejhJpPC7ebIpO2lP-k98qW-cleGGwznkmfiN5FermNnPkO7Ttbkncba6DYoO-Zi%7E1eckUgenNWRWvoUtxt2OJReQYNXlbSL%7EJNHW7CgzjD-NRoLclWkUDGMjEPoNYYwVaF5ixsUDSGIXeymGjXF78botRnDDNyPQimvzQ__&Key-Pair-Id=KVTP0A1DKRTAX [following]\n",
      "--2024-04-14 12:30:02--  https://cdn-lfs.huggingface.co/repos/ef/97/ef977053f017cde1fc0f89ac7ef0b33172a3d8fb8a840bb24e78b1c0f35f1e72/f54b40fd2802423a5643779c4861af1e9ee9c1564dc9d32f54f20b5ffba7db96?response-content-disposition=attachment%3B+filename*%3DUTF-8%27%27hubert_base.pt%3B+filename%3D%22hubert_base.pt%22%3B&Expires=1713357002&Policy=eyJTdGF0ZW1lbnQiOlt7IkNvbmRpdGlvbiI6eyJEYXRlTGVzc1RoYW4iOnsiQVdTOkVwb2NoVGltZSI6MTcxMzM1NzAwMn19LCJSZXNvdXJjZSI6Imh0dHBzOi8vY2RuLWxmcy5odWdnaW5nZmFjZS5jby9yZXBvcy9lZi85Ny9lZjk3NzA1M2YwMTdjZGUxZmMwZjg5YWM3ZWYwYjMzMTcyYTNkOGZiOGE4NDBiYjI0ZTc4YjFjMGYzNWYxZTcyL2Y1NGI0MGZkMjgwMjQyM2E1NjQzNzc5YzQ4NjFhZjFlOWVlOWMxNTY0ZGM5ZDMyZjU0ZjIwYjVmZmJhN2RiOTY%7EcmVzcG9uc2UtY29udGVudC1kaXNwb3NpdGlvbj0qIn1dfQ__&Signature=Q8cUnBayJQu9IclMTAKI6t36OFOmtQmhN2VDmGj5J2LWkZNn-ryFX6jZiGYV5mhJrFMkchmc0gnPX8o1gRiOvFGYI9cvSR138RYioAdHs49d2tp1BEOcCtkI9OScfp6ngxgbOPyePPOoBmAhf38RGM%7EN9HT8wrvhy2HryRn88WIZynF4TejhJpPC7ebIpO2lP-k98qW-cleGGwznkmfiN5FermNnPkO7Ttbkncba6DYoO-Zi%7E1eckUgenNWRWvoUtxt2OJReQYNXlbSL%7EJNHW7CgzjD-NRoLclWkUDGMjEPoNYYwVaF5ixsUDSGIXeymGjXF78botRnDDNyPQimvzQ__&Key-Pair-Id=KVTP0A1DKRTAX\n",
      "Resolving cdn-lfs.huggingface.co (cdn-lfs.huggingface.co)... ::ffff:18.244.102.81, ::ffff:18.244.102.9, ::ffff:18.244.102.76, ...\n",
      "Connecting to cdn-lfs.huggingface.co (cdn-lfs.huggingface.co)|::ffff:18.244.102.81|:443... connected.\n",
      "HTTP request sent, awaiting response... 200 OK\n",
      "Length: 189507909 (181M) [binary/octet-stream]\n",
      "Saving to: ‘rvc/assets/hubert/hubert_base.pt’\n",
      "\n",
      "rvc/assets/hubert/h 100%[===================>] 180.73M  6.69MB/s    in 29s     \n",
      "\n",
      "2024-04-14 12:30:31 (6.28 MB/s) - ‘rvc/assets/hubert/hubert_base.pt’ saved [189507909/189507909]\n",
      "\n",
      "Requirement already satisfied: virtualenv in /usr/local/lib/python3.10/dist-packages (20.25.1)\n",
      "Requirement already satisfied: distlib<1,>=0.3.7 in /usr/local/lib/python3.10/dist-packages (from virtualenv) (0.3.8)\n",
      "Requirement already satisfied: filelock<4,>=3.12.2 in /usr/local/lib/python3.10/dist-packages (from virtualenv) (3.13.3)\n",
      "Requirement already satisfied: platformdirs<5,>=3.9.1 in /usr/local/lib/python3.10/dist-packages (from virtualenv) (4.2.0)\n",
      "created virtual environment CPython3.10.12.final.0-64 in 88ms\n",
      "  creator CPython3Posix(dest=/content/rvc/venv, clear=False, no_vcs_ignore=False, global=False)\n",
      "  seeder FromAppData(download=False, pip=bundle, setuptools=bundle, wheel=bundle, via=copy, app_data_dir=/root/.local/share/virtualenv)\n",
      "    added seed packages: pip==24.0, setuptools==69.2.0, wheel==0.43.0\n",
      "  activators BashActivator,CShellActivator,FishActivator,NushellActivator,PowerShellActivator,PythonActivator\n",
      "\u001b[33mDEPRECATION: omegaconf 2.0.6 has a non-standard dependency specifier PyYAML>=5.1.*. pip 24.1 will enforce this behaviour change. A possible replacement is to upgrade to a newer version of omegaconf or contact the author to suggest that they release a version with a conforming dependency specifiers. Discussion can be found at https://github.com/pypa/pip/issues/12063\u001b[0m\u001b[33m\n",
      "\u001b[0m"
     ]
    }
   ],
   "source": [
    "!git clone https://github.com/RVC-Project/Retrieval-based-Voice-Conversion-WebUI -b v2.2 rvc\n",
    "!wget -O rvc/assets/rmvpe/rmvpe.pt https://huggingface.co/lj1995/VoiceConversionWebUI/resolve/main/rmvpe.pt\n",
    "!wget -O rvc/assets/hubert/hubert_base.pt https://huggingface.co/lj1995/VoiceConversionWebUI/resolve/main/hubert_base.pt\n",
    "!pip install virtualenv\n",
    "!virtualenv rvc/venv\n",
    "!rvc/venv/bin/python -m pip install -r rvc/requirements.txt --quiet"
   ]
  },
  {
   "cell_type": "code",
   "execution_count": 5,
   "metadata": {
    "colab": {
     "base_uri": "https://localhost:8080/"
    },
    "id": "zImLhjOsHCsY",
    "outputId": "626741f1-2b98-4b5c-8c92-4276b800337f"
   },
   "outputs": [
    {
     "name": "stdout",
     "output_type": "stream",
     "text": [
      "--2024-04-14 12:37:38--  https://huggingface.co/fnx/RVCv2-RMVPE-ru-saya/resolve/main/ru-saya-1000.zip\n",
      "Resolving huggingface.co (huggingface.co)... 108.138.51.41, 108.138.51.26, 108.138.51.8, ...\n",
      "Connecting to huggingface.co (huggingface.co)|108.138.51.41|:443... connected.\n",
      "HTTP request sent, awaiting response... 302 Found\n",
      "Location: https://cdn-lfs.huggingface.co/repos/6f/97/6f97c90b4497aa8edea081713b1d3163392d9536cc43374f32ffc6a4c6fe7625/181d635b7f4405318c072567f4cf9ff8076c814803ec87d82ea2af9bc1450c70?response-content-disposition=attachment%3B+filename*%3DUTF-8%27%27ru-saya-1000.zip%3B+filename%3D%22ru-saya-1000.zip%22%3B&response-content-type=application%2Fzip&Expires=1713357458&Policy=eyJTdGF0ZW1lbnQiOlt7IkNvbmRpdGlvbiI6eyJEYXRlTGVzc1RoYW4iOnsiQVdTOkVwb2NoVGltZSI6MTcxMzM1NzQ1OH19LCJSZXNvdXJjZSI6Imh0dHBzOi8vY2RuLWxmcy5odWdnaW5nZmFjZS5jby9yZXBvcy82Zi85Ny82Zjk3YzkwYjQ0OTdhYThlZGVhMDgxNzEzYjFkMzE2MzM5MmQ5NTM2Y2M0MzM3NGYzMmZmYzZhNGM2ZmU3NjI1LzE4MWQ2MzViN2Y0NDA1MzE4YzA3MjU2N2Y0Y2Y5ZmY4MDc2YzgxNDgwM2VjODdkODJlYTJhZjliYzE0NTBjNzA%7EcmVzcG9uc2UtY29udGVudC1kaXNwb3NpdGlvbj0qJnJlc3BvbnNlLWNvbnRlbnQtdHlwZT0qIn1dfQ__&Signature=bb0MHtrnbOuI1dr-BLqgOfk50dNUPTHr%7E77Gs7xb9TsAFm3C9ywFde2a61MJdHsNIYNtM2ko47uQBfjgWWTj%7E-v1av2gxoOLWS2ftJdKzvAzJ89zmvzp8kxf5f2CMPUkbV8oQJDYX5xuLEacwXkHXCexZbZn5FW055aoh2ZmkluBDl5DKA8wi7vObBAOKBpYktFbvflddccPoRK-ocEg5slbvZS9%7EsyKq-MppNtR%7Eqs2Fj8nY-Et4VR1AzbFPmjWQ9EG30OtzAr6w5lfd80yqcY4158JuleQ2VzZy%7E5MM4YpOCdFkjxqUqAvvNPmFDiPkjvqlqynAMVJaQ8z04BIvQ__&Key-Pair-Id=KVTP0A1DKRTAX [following]\n",
      "--2024-04-14 12:37:39--  https://cdn-lfs.huggingface.co/repos/6f/97/6f97c90b4497aa8edea081713b1d3163392d9536cc43374f32ffc6a4c6fe7625/181d635b7f4405318c072567f4cf9ff8076c814803ec87d82ea2af9bc1450c70?response-content-disposition=attachment%3B+filename*%3DUTF-8%27%27ru-saya-1000.zip%3B+filename%3D%22ru-saya-1000.zip%22%3B&response-content-type=application%2Fzip&Expires=1713357458&Policy=eyJTdGF0ZW1lbnQiOlt7IkNvbmRpdGlvbiI6eyJEYXRlTGVzc1RoYW4iOnsiQVdTOkVwb2NoVGltZSI6MTcxMzM1NzQ1OH19LCJSZXNvdXJjZSI6Imh0dHBzOi8vY2RuLWxmcy5odWdnaW5nZmFjZS5jby9yZXBvcy82Zi85Ny82Zjk3YzkwYjQ0OTdhYThlZGVhMDgxNzEzYjFkMzE2MzM5MmQ5NTM2Y2M0MzM3NGYzMmZmYzZhNGM2ZmU3NjI1LzE4MWQ2MzViN2Y0NDA1MzE4YzA3MjU2N2Y0Y2Y5ZmY4MDc2YzgxNDgwM2VjODdkODJlYTJhZjliYzE0NTBjNzA%7EcmVzcG9uc2UtY29udGVudC1kaXNwb3NpdGlvbj0qJnJlc3BvbnNlLWNvbnRlbnQtdHlwZT0qIn1dfQ__&Signature=bb0MHtrnbOuI1dr-BLqgOfk50dNUPTHr%7E77Gs7xb9TsAFm3C9ywFde2a61MJdHsNIYNtM2ko47uQBfjgWWTj%7E-v1av2gxoOLWS2ftJdKzvAzJ89zmvzp8kxf5f2CMPUkbV8oQJDYX5xuLEacwXkHXCexZbZn5FW055aoh2ZmkluBDl5DKA8wi7vObBAOKBpYktFbvflddccPoRK-ocEg5slbvZS9%7EsyKq-MppNtR%7Eqs2Fj8nY-Et4VR1AzbFPmjWQ9EG30OtzAr6w5lfd80yqcY4158JuleQ2VzZy%7E5MM4YpOCdFkjxqUqAvvNPmFDiPkjvqlqynAMVJaQ8z04BIvQ__&Key-Pair-Id=KVTP0A1DKRTAX\n",
      "Resolving cdn-lfs.huggingface.co (cdn-lfs.huggingface.co)... 18.244.102.76, 18.244.102.81, 18.244.102.9, ...\n",
      "Connecting to cdn-lfs.huggingface.co (cdn-lfs.huggingface.co)|18.244.102.76|:443... connected.\n",
      "HTTP request sent, awaiting response... 200 OK\n",
      "Length: 60828339 (58M) [application/zip]\n",
      "Saving to: ‘ru-saya-1000.zip’\n",
      "\n",
      "ru-saya-1000.zip    100%[===================>]  58.01M  6.57MB/s    in 8.7s    \n",
      "\n",
      "2024-04-14 12:37:48 (6.63 MB/s) - ‘ru-saya-1000.zip’ saved [60828339/60828339]\n",
      "\n",
      "Archive:  ru-saya-1000.zip\n",
      "   creating: rvc/assets/weights/ru-saya/\n",
      "  inflating: rvc/assets/weights/ru-saya/ru-saya-1000.pth  \n",
      "  inflating: rvc/assets/weights/ru-saya/trained_IVF3468_Flat_nprobe_1_ru-saya_v2.index  \n"
     ]
    }
   ],
   "source": [
    "!wget https://huggingface.co/fnx/RVCv2-RMVPE-ru-saya/resolve/main/ru-saya-1000.zip\n",
    "!unzip ru-saya-1000.zip -d rvc/assets/weights\n",
    "!mv rvc/assets/weights/ru-saya/* rvc/assets/weights"
   ]
  },
  {
   "cell_type": "code",
   "execution_count": 6,
   "metadata": {
    "colab": {
     "base_uri": "https://localhost:8080/"
    },
    "id": "-aCpkxag03ul",
    "outputId": "49e3e277-21a6-437c-db6d-8b6596c7c051"
   },
   "outputs": [
    {
     "name": "stdout",
     "output_type": "stream",
     "text": [
      "Requirement already satisfied: transliterate in /usr/local/lib/python3.10/dist-packages (from -r silero/requirements.txt (line 1)) (1.10.2)\n",
      "Requirement already satisfied: num2words in /usr/local/lib/python3.10/dist-packages (from -r silero/requirements.txt (line 2)) (0.5.13)\n",
      "Requirement already satisfied: pypandoc in /usr/local/lib/python3.10/dist-packages (from -r silero/requirements.txt (line 3)) (1.13)\n",
      "Requirement already satisfied: ffmpeg-python in /usr/local/lib/python3.10/dist-packages (from -r silero/requirements.txt (line 4)) (0.2.0)\n",
      "Requirement already satisfied: six>=1.1.0 in /usr/local/lib/python3.10/dist-packages (from transliterate->-r silero/requirements.txt (line 1)) (1.16.0)\n",
      "Requirement already satisfied: docopt>=0.6.2 in /usr/local/lib/python3.10/dist-packages (from num2words->-r silero/requirements.txt (line 2)) (0.6.2)\n",
      "Requirement already satisfied: future in /usr/local/lib/python3.10/dist-packages (from ffmpeg-python->-r silero/requirements.txt (line 4)) (0.18.3)\n"
     ]
    }
   ],
   "source": [
    "!pip install -r silero/requirements.txt"
   ]
  },
  {
   "cell_type": "code",
   "execution_count": 7,
   "metadata": {
    "colab": {
     "base_uri": "https://localhost:8080/",
     "height": 675,
     "referenced_widgets": [
      "1f2a4386179e46bf8e4c4093beebac7b",
      "5f5efb16a9304b2085f9a2b8ba04e1a6",
      "03724553656645dcbbfc872d62a0ed88",
      "fe0d114b12d4485ab6bfe758715f7078",
      "bf2f39695bb94cc1be5bfaf8261adac6",
      "d4c27ee987bc4bf592d44e0ea3a7e214",
      "fb6347eadfdd4b25937816f48cf95eb8",
      "133bf73496a34f59a2e63139dd209edc",
      "1a8a53dd544847fea3bfb1d90a892bb2",
      "26ba6863ccf447069d0689bded2b1f4f",
      "1532d0a7d63c4c4d9f211bd404a4cca8",
      "fb9b2f99c17e4393a28c5eddad6beedd",
      "856683b87cd34ef280d89e68cf77a878",
      "b32655a0419044dbadd3993662ad9cb3",
      "880966d153f94d50b533addee52f65ed",
      "ae1f03dbafde4452a88da75ba11d44cb",
      "527db6f5d6564515a4bcf0e68bffe334",
      "b13ae012c79c49f887410afa47730af6",
      "577bb07b57a54623be5ddfbe029dd855",
      "eb8e6ca14a314bd49717a9928cfa9e3b",
      "87e1297989e54266b74306b4f4b2f797",
      "e72b2bd6f6ff410280422ef5c33ac6dd",
      "2e8fc1b7740d42a6a452e6d40776722b",
      "1647c56908a246b594cddce7012ea202",
      "35ec341673c14ab680e84d4a47ccefc3",
      "5c4dfc2d06f54088b6a6acfcce4ab448",
      "d66131f506d44f5cadec03fbe5d5453c",
      "ce20e31e4bbf477787082e413b334c2c",
      "6277a914cd4a45999acb3677ced7b3dd",
      "3f46775536954aecb5616afa5ab457fe",
      "626a7c67c0264227a0dd30fce2a2b6b4",
      "70cfa891c229491e8748e98cebf0485e",
      "10850da59c494bb58e8f6ed8ec02813d",
      "046169afa5a74163b12e59ffc95e8d50",
      "870f1df703104f29950a3759bf65600f",
      "b70135273d6f4a84ad1d292679ebe229",
      "66d4798441a34a1b949ef6dc0e16a4b5",
      "605a96f760584556a453d4ebf3273861",
      "d3746a10b8c14b8c9e1b81b344390419",
      "dc1fa7a16f4d415f8b9696ffe52da706",
      "daab58e96f844ec09c3dec39a9b6bd39",
      "312ecc95104c4afe898c32a18a1cf4cd",
      "2d305823032646329cc3fd009daa0576",
      "bf58e97b42db41e1b5beb1c4873c26dc",
      "70e593d1498c413faeb62232cbbb0c2c",
      "6cb1f21c59414437a65245db85744ab4",
      "cac171e9bb64403d81a0e553552a6346",
      "1f2e02c79bf74bb989c19472a2c56a09",
      "ff747ff74df04c0e85236236c8f70b74",
      "fda136dd346041c2a6eb037db825feff",
      "bf7ebf6d506e4624bfbd773ac042cfd0",
      "f42f439090c4415ab3dcc240f4b48c7c",
      "3194b27c2bf942f6a1a40435e5c92658",
      "6c9524803ab54dc19eb9a764c2645be8",
      "86134c63617f4c9495cd91460ba5a2e5",
      "03fd6dbcc86942f7829b069e4be95d49",
      "60e5775224884e64a743de17353b593b",
      "f756722404fe4a11a7621f76f97ce710",
      "ce8f1f86fa7e4ef38341145950cc2e31",
      "d2dc858edea2416a8a07fa3d156bf768",
      "26eed240bbe5456aa90f2497e93873b7",
      "1951251308ab484f8187b95b7957913d",
      "7cc20d9c2793426db53b706b5b893a70",
      "83b08c01dd3649f88d5d8ad93160b949",
      "11f45d989295490092da48614aa67512",
      "aa8e613093e74704bc33e2cd420a325f",
      "0c2c7330a1d946f79e2a4c3bcfaf6a49",
      "65d69a661e34413db23d1ec46d6f3a73",
      "ced161d05f66418e98b3d99d87f1dde9",
      "17eb538f34ef44fcbf796d4f2281f8a0",
      "d31db9b93cf84f7ebbc0d71abb5cf7b9",
      "a20a510d74704059b2262a7188cf5fc3",
      "983fbdc25e874ba3baa9ddfc5b2573a9",
      "ab61a01d5aa94683afed55e33eba3b12",
      "8d563aaaca394829b0819b0ec80e332e",
      "299ebe913fb7446fb265c43691567d2d",
      "6eda954463854717abeeeb24727d3992",
      "4e643aa80aba446ca6f5eec730433820",
      "f01fb337a5bb4bc6a5e518f7f36909eb",
      "0c2e284e7b224556b41e7247cb36843e",
      "cc12e26f9b3440929bfca6d57bfbed43",
      "195e8cd353a047a1a0d982fff58f913d",
      "af8d69b3237f4e5386e0c61c671b9dc7",
      "d89f9d5a632448a1a94143cff1e17d7c",
      "589d2545a2d44550b7a1070e39d3e5fc",
      "da1ab4c6efce4120855773019cb70dd4",
      "46fe92be16cd45289c9cff91b51a4e38",
      "9da2b47eb74940b1b4350f648c3469c3",
      "244de8c7d24943c7844a2f7b58f793c5",
      "b32ffcc3b287434fa8ecbd6d6134ea38",
      "6cd488ddaec643bd8f7a71128e4164a8",
      "9f931b1afa574ce09807bb29f5e50f98",
      "8e21bd42c98249c988ef5781a03dd4ef",
      "a0f7bb0ea2c44eba94c7f1af6798e557",
      "cf0f4482feb042b78c6b14a0e1b7e192",
      "a078bdb954024cbc84e4f425cd8820c8",
      "2d9bce839d3d41ea88541b5af5377e65",
      "a0b519bf285a411e8def0622e88d4906",
      "0d6b70b41ba04988b581b5fe0033578b",
      "e36ce31a176e4211ad0538de83d9fb76",
      "625c6fe578d04ea8a93a7f5ec846e0c9",
      "240e97c275994341a541924a824dd27f",
      "6d97a90f93ed4bc2b1e6887c762b3250",
      "d8e11aaf223a48d2a0134c46ec82b609",
      "1fe07a3b39f54ad8bdd17ceb2c762532",
      "b8a9c25a8f60432994186303f68d57a5",
      "b8ed56a2a7294a3fa88ed6c1141126c6",
      "8ac280834f414273bdfd9cf175de4496",
      "9a54fb918f1647eea12e7ae641e5304f",
      "21cea5c9ece44a37a759ab6b069db3b4",
      "02aed1e8767942e29edebfd967381d00",
      "673685e96360443db47c3b7a406623d6",
      "7ece118020664aaf80c060f531ea3e14",
      "95c0be049e7d46a2ad4fba58642a139f",
      "77dac2654de544bc94bff137a55e93b8",
      "6c9d52f5b7334f2c9d7cf78b0b19bc43",
      "81ac1e68a3cb43a0990d4f6450d7c85b",
      "440623a446394da28b15afb8efc5ed28",
      "f26b4ffd113f435f9d36bc467d457d04",
      "10c8f896aec444d3bfbe45c42329ff6a",
      "345946ef76be4c898a2cb3dcf35f989c",
      "7a68092d40c140abab95bfb4a92b22c2",
      "637a99a00c094fe38929819947debf96",
      "8d32968f6e314e3b9fe50d5c7bf665e7",
      "d526e42983b043feaa73a9660385e781",
      "1b442270bb08457eb469d6f329db7a8d",
      "ffa02c0df0fe421f9c84b02da1ef12f7",
      "bb886c04da424bf48c2c195ffeee6308",
      "fd8bd3a7b1c947b393667ef0b9ef0eea",
      "1638e2f96a444b32a5b37e7f2c691fe2",
      "f70c18ee42c248ada46ad3ce071ffeed",
      "39a0ff0d12004ff2ac1f2a1f816d9afa",
      "91ccdfc63e0d4e33ad26e23b3abe66a0",
      "ea8fcdf3ece14f64a2dea15aa65257b4",
      "fe2148513cb7403aa4df61ce1a3f1566",
      "faa430066a61457f84c417bf2be30e69",
      "98120826420844cea6de1c5bafbbab78",
      "af264dec0a1c47c294d40ffae1eb8f61",
      "fa8da454a40c4bd3b8be86cb0050c128",
      "fab7a38e5797424cb6e79fe423c8a750",
      "5d810aa2c819446fa9f3f71c6617b889",
      "d5433fe0551e431b9beb4c60687fb731",
      "dbbf6f83aeb142fbadc75b41dc5ec374",
      "d775c328688a4684a08b94c64d796618",
      "b24a765ae90548e3be1287e4835682fc",
      "e7493e25101a49d7a29d3cbc5441242e",
      "ea638f2439534e2395b7040b746b2bfa",
      "00f07e7532e842afb37c9ef3158bde2a",
      "e319ea32db084b7185e0d1081e881e23",
      "cc9886949b764a55acef762c0e71df2c",
      "10758825c11a47b78266729769bf6841",
      "82aaf784fd6744da9fa9ff51a1723fc4",
      "9e543f73a0054321a31c153654f454f7",
      "b22ddf71f1d34921a4cc26adb7bf3719",
      "b8c436260c3b4d87ad5831b41a0c12d5",
      "9544a57b9d0f4009992c6d708d42b2b6",
      "57c59c382f5f499fbfb1c81b38c91f02",
      "83bc6762d4bf4595aadfbfe492b15abf",
      "7c61c05bf1f34a208ea0cdd891751225",
      "28132b52f6834453af2b8540ffe7aab7",
      "aa2e6faf89fb4ca6b7e39f51068bacd3",
      "66e51d246964408fae24a05fd35bd7f3",
      "747423c650974487bdbaa896ea1f1e8f",
      "4f51f4a9b75449198cdde67f4f3e3c84",
      "decbb598755649578e32c449b180eaab",
      "bae430bee4ce46f098589dbfcdc864aa",
      "554e57f7d7164109bbf308079b17184f",
      "1fabcda11d454a43a59bb08d5f0e5023",
      "cc1cb66d0ba34c44b1c8d74a15479882",
      "4936dc1d198e45be9c97818d1776bddc",
      "25b27f2da43440d2949b709728f6221d",
      "52960122dae4481da186328638eb4868",
      "860b1f59113a4d89bf2166d297708a17",
      "3cf343ccf9a046d68506c2f4889668fd",
      "a21ce1f00914492aa634246f398ea7d1",
      "35271b6346b9433c934dcdbf553985ab",
      "71b269c370294f238a3cc274270e7502",
      "38c43ff1151444b7a239babe48c8ca5f",
      "6c74652db02a44ffa4d6b88006d03249",
      "073f861e646841d88826f83f552aa82e",
      "fa4315b984314225ad6ea64a79f57f7d",
      "889b4e136c974a0a9d9cbf0b3894f81b",
      "3835b68bf3d74d3c9a5db37da2079741",
      "8de30b17d160412185613a40ef6fcad4",
      "5715d19e5d2c450688dfbaa034b127f8",
      "5399efe47f44405c970073d2549327b5",
      "8957125402fc4107a182f4a0153d20a0",
      "d634aaa4a1e04a7e9438bb0b90c92125",
      "6a262adc495945f1bc472c8f5f98e4e7",
      "c4317e871133462ebcff19439dc828f6",
      "d58b65be9c3f48f0900ee33678146cc6",
      "1598b62abe9d4f6e9e6e63e92033b72d",
      "ef30e0a6c7e94f94ace8c9ee80ef0a10",
      "10ad957988d24a87b2cecaa43886380d",
      "a0d6e3b2fe2148a580b12bfc9217fa88",
      "28713fda2f05408d90bb46014c67c478",
      "88f1702fcc254b4ca47244478b38bb72",
      "064891e4b4234b469c401d6fe817e3a2",
      "da40802fdd0f42ee9fad94336d859ccb",
      "bdbbc6427b304ffdafb4391a52067f4b",
      "5384507377814bcc8c847edc374191e8",
      "af2f16932d3f4b4d8b34905ca0a95adc",
      "d7a74be1aa2d41238e5a01e2d25b85e5",
      "17878e224d1c43d592eef2b0d53abb81",
      "79e841c5272f4665ad0a911d26a634fb",
      "87edfa16bd014a07873d4e1585f3fb12",
      "a33c012645a04e60a1868d44551776d3",
      "e4e7133104c04ca1a6fb4de719e804d7",
      "ef6e192203c64bffbaa4bbd9544ee3a7",
      "01164efea91643edba275c4addc98019",
      "4460e28a8496462cb947848bc767c7b9",
      "222d1f9432994ea7a54f78b334ef28c4",
      "936c04753f70438dabbd65f1f72f1793",
      "4f9bdf3db5234fec91fe0b0e661fa788",
      "f2311d129eec4b0e8f356ac6c369a2da",
      "c7073e379119407583c14ce6e80b6fb7",
      "b5dd595cd87e4660879693f35ba1869c",
      "62dea85b3a714ce1bc8bdf12e9cf41c8",
      "accfe1e875e548258ae23034f598b1fd",
      "0aad8aed7ee9454986fb3bd098d6b8f7",
      "e22581a7ddda43b7bb101fa50942963c",
      "76995e9912124339850c2b12569f46dc",
      "4e7d37b48e714fa79870a5679c566264",
      "ab777c42ca4d4a3fac6785a19d4bcaf1",
      "ff36e16147904648b798c3eb317788cf",
      "4719549d713c471c90fc3326213fbe3c",
      "a713b0c898d640058b226cb38d443224",
      "284519a56ed5487a9b8555373a811922",
      "713e829d32ff48b6ac047f842acc8c16",
      "16e499a746d045b099c16c9510bd6c0d",
      "ff6ceafcfedd44ff9731ba2735ce23fa",
      "985b23c198564d0a9e4374ab063052e7",
      "35afd77ad3c04ddc9003af354addfeff",
      "0b5572cd360b4a7eb1eba4be2d6f8a0b",
      "21a11d4d06c546ec8d7e18bc932ba980",
      "ddbaef6783d64d4ab2c644b9674c50f5",
      "08f004ae81534f11a562a71a0a94004e",
      "9f65a107f92847ac804af6c3a427b259",
      "66e40ab0ae654541b25c2d73640ee91f",
      "07feb2ccfd2f477490c2d919294d6388",
      "6d9af079d3e7478e8547791dcd75530e",
      "47c297bd88104ee7accebca01e03aead"
     ]
    },
    "id": "idsWXgwjx9Bz",
    "outputId": "d0746bbc-063f-4744-916f-684319ae604b"
   },
   "outputs": [
    {
     "name": "stdout",
     "output_type": "stream",
     "text": [
      "\n",
      "Namespace(input='./src', output='silero/output_raw', threads='16', speaker='xenia', device='cuda', rate='48000', merge=True, rvc=True, rvc_model_pth='ru-saya-1000.pth', rvc_model_index='trained_IVF3468_Flat_nprobe_1_ru-saya_v2.index', rvc_transpose='3')\n"
     ]
    },
    {
     "name": "stderr",
     "output_type": "stream",
     "text": [
      "[nltk_data] Downloading package punkt to /root/nltk_data...\n",
      "[nltk_data]   Package punkt is already up-to-date!\n"
     ]
    },
    {
     "name": "stdout",
     "output_type": "stream",
     "text": [
      "\n",
      "file: ./src/part001 - Том 1..txt ...\n"
     ]
    },
    {
     "data": {
      "application/vnd.jupyter.widget-view+json": {
       "model_id": "1f2a4386179e46bf8e4c4093beebac7b",
       "version_major": 2,
       "version_minor": 0
      },
      "text/plain": [
       " CHAPTER:   0%|          | 0/1 [00:00<?, ?it/s]"
      ]
     },
     "metadata": {},
     "output_type": "display_data"
    },
    {
     "data": {
      "application/vnd.jupyter.widget-view+json": {
       "model_id": "fb9b2f99c17e4393a28c5eddad6beedd",
       "version_major": 2,
       "version_minor": 0
      },
      "text/plain": [
       "    TEXT:   0%|          | 0/1 [00:00<?, ?it/s]"
      ]
     },
     "metadata": {},
     "output_type": "display_data"
    },
    {
     "data": {
      "application/vnd.jupyter.widget-view+json": {
       "model_id": "2e8fc1b7740d42a6a452e6d40776722b",
       "version_major": 2,
       "version_minor": 0
      },
      "text/plain": [
       "SENTENCE:   0%|          | 0/3 [00:00<?, ?it/s]"
      ]
     },
     "metadata": {},
     "output_type": "display_data"
    },
    {
     "name": "stdout",
     "output_type": "stream",
     "text": [
      "\n",
      "file: ./src/part002 - Пролог..txt ...\n"
     ]
    },
    {
     "data": {
      "application/vnd.jupyter.widget-view+json": {
       "model_id": "046169afa5a74163b12e59ffc95e8d50",
       "version_major": 2,
       "version_minor": 0
      },
      "text/plain": [
       " CHAPTER:   0%|          | 0/1 [00:00<?, ?it/s]"
      ]
     },
     "metadata": {},
     "output_type": "display_data"
    },
    {
     "data": {
      "application/vnd.jupyter.widget-view+json": {
       "model_id": "70e593d1498c413faeb62232cbbb0c2c",
       "version_major": 2,
       "version_minor": 0
      },
      "text/plain": [
       "    TEXT:   0%|          | 0/1 [00:00<?, ?it/s]"
      ]
     },
     "metadata": {},
     "output_type": "display_data"
    },
    {
     "data": {
      "application/vnd.jupyter.widget-view+json": {
       "model_id": "03fd6dbcc86942f7829b069e4be95d49",
       "version_major": 2,
       "version_minor": 0
      },
      "text/plain": [
       "SENTENCE:   0%|          | 0/64 [00:00<?, ?it/s]"
      ]
     },
     "metadata": {},
     "output_type": "display_data"
    },
    {
     "name": "stdout",
     "output_type": "stream",
     "text": [
      "\n",
      "file: ./src/part003 - Глава 1..txt ...\n"
     ]
    },
    {
     "data": {
      "application/vnd.jupyter.widget-view+json": {
       "model_id": "0c2c7330a1d946f79e2a4c3bcfaf6a49",
       "version_major": 2,
       "version_minor": 0
      },
      "text/plain": [
       " CHAPTER:   0%|          | 0/1 [00:00<?, ?it/s]"
      ]
     },
     "metadata": {},
     "output_type": "display_data"
    },
    {
     "data": {
      "application/vnd.jupyter.widget-view+json": {
       "model_id": "4e643aa80aba446ca6f5eec730433820",
       "version_major": 2,
       "version_minor": 0
      },
      "text/plain": [
       "    TEXT:   0%|          | 0/1 [00:00<?, ?it/s]"
      ]
     },
     "metadata": {},
     "output_type": "display_data"
    },
    {
     "data": {
      "application/vnd.jupyter.widget-view+json": {
       "model_id": "244de8c7d24943c7844a2f7b58f793c5",
       "version_major": 2,
       "version_minor": 0
      },
      "text/plain": [
       "SENTENCE:   0%|          | 0/74 [00:00<?, ?it/s]"
      ]
     },
     "metadata": {},
     "output_type": "display_data"
    },
    {
     "name": "stdout",
     "output_type": "stream",
     "text": [
      "\n",
      "file: ./src/part004 - Глава 2..txt ...\n"
     ]
    },
    {
     "data": {
      "application/vnd.jupyter.widget-view+json": {
       "model_id": "e36ce31a176e4211ad0538de83d9fb76",
       "version_major": 2,
       "version_minor": 0
      },
      "text/plain": [
       " CHAPTER:   0%|          | 0/1 [00:00<?, ?it/s]"
      ]
     },
     "metadata": {},
     "output_type": "display_data"
    },
    {
     "data": {
      "application/vnd.jupyter.widget-view+json": {
       "model_id": "02aed1e8767942e29edebfd967381d00",
       "version_major": 2,
       "version_minor": 0
      },
      "text/plain": [
       "    TEXT:   0%|          | 0/1 [00:00<?, ?it/s]"
      ]
     },
     "metadata": {},
     "output_type": "display_data"
    },
    {
     "data": {
      "application/vnd.jupyter.widget-view+json": {
       "model_id": "7a68092d40c140abab95bfb4a92b22c2",
       "version_major": 2,
       "version_minor": 0
      },
      "text/plain": [
       "SENTENCE:   0%|          | 0/80 [00:00<?, ?it/s]"
      ]
     },
     "metadata": {},
     "output_type": "display_data"
    },
    {
     "name": "stdout",
     "output_type": "stream",
     "text": [
      "\n",
      "file: ./src/part005 - Глава 3..txt ...\n"
     ]
    },
    {
     "data": {
      "application/vnd.jupyter.widget-view+json": {
       "model_id": "91ccdfc63e0d4e33ad26e23b3abe66a0",
       "version_major": 2,
       "version_minor": 0
      },
      "text/plain": [
       " CHAPTER:   0%|          | 0/1 [00:00<?, ?it/s]"
      ]
     },
     "metadata": {},
     "output_type": "display_data"
    },
    {
     "data": {
      "application/vnd.jupyter.widget-view+json": {
       "model_id": "d775c328688a4684a08b94c64d796618",
       "version_major": 2,
       "version_minor": 0
      },
      "text/plain": [
       "    TEXT:   0%|          | 0/1 [00:00<?, ?it/s]"
      ]
     },
     "metadata": {},
     "output_type": "display_data"
    },
    {
     "data": {
      "application/vnd.jupyter.widget-view+json": {
       "model_id": "b8c436260c3b4d87ad5831b41a0c12d5",
       "version_major": 2,
       "version_minor": 0
      },
      "text/plain": [
       "SENTENCE:   0%|          | 0/101 [00:00<?, ?it/s]"
      ]
     },
     "metadata": {},
     "output_type": "display_data"
    },
    {
     "name": "stdout",
     "output_type": "stream",
     "text": [
      "\n",
      "file: ./src/part006 - Глава 4..txt ...\n"
     ]
    },
    {
     "data": {
      "application/vnd.jupyter.widget-view+json": {
       "model_id": "bae430bee4ce46f098589dbfcdc864aa",
       "version_major": 2,
       "version_minor": 0
      },
      "text/plain": [
       " CHAPTER:   0%|          | 0/1 [00:00<?, ?it/s]"
      ]
     },
     "metadata": {},
     "output_type": "display_data"
    },
    {
     "data": {
      "application/vnd.jupyter.widget-view+json": {
       "model_id": "71b269c370294f238a3cc274270e7502",
       "version_major": 2,
       "version_minor": 0
      },
      "text/plain": [
       "    TEXT:   0%|          | 0/1 [00:00<?, ?it/s]"
      ]
     },
     "metadata": {},
     "output_type": "display_data"
    },
    {
     "data": {
      "application/vnd.jupyter.widget-view+json": {
       "model_id": "d634aaa4a1e04a7e9438bb0b90c92125",
       "version_major": 2,
       "version_minor": 0
      },
      "text/plain": [
       "SENTENCE:   0%|          | 0/99 [00:00<?, ?it/s]"
      ]
     },
     "metadata": {},
     "output_type": "display_data"
    },
    {
     "name": "stdout",
     "output_type": "stream",
     "text": [
      "\n",
      "file: ./src/part007 - Глава 5..txt ...\n"
     ]
    },
    {
     "data": {
      "application/vnd.jupyter.widget-view+json": {
       "model_id": "da40802fdd0f42ee9fad94336d859ccb",
       "version_major": 2,
       "version_minor": 0
      },
      "text/plain": [
       " CHAPTER:   0%|          | 0/1 [00:00<?, ?it/s]"
      ]
     },
     "metadata": {},
     "output_type": "display_data"
    },
    {
     "data": {
      "application/vnd.jupyter.widget-view+json": {
       "model_id": "01164efea91643edba275c4addc98019",
       "version_major": 2,
       "version_minor": 0
      },
      "text/plain": [
       "    TEXT:   0%|          | 0/1 [00:00<?, ?it/s]"
      ]
     },
     "metadata": {},
     "output_type": "display_data"
    },
    {
     "data": {
      "application/vnd.jupyter.widget-view+json": {
       "model_id": "e22581a7ddda43b7bb101fa50942963c",
       "version_major": 2,
       "version_minor": 0
      },
      "text/plain": [
       "SENTENCE:   0%|          | 0/87 [00:00<?, ?it/s]"
      ]
     },
     "metadata": {},
     "output_type": "display_data"
    },
    {
     "name": "stdout",
     "output_type": "stream",
     "text": [
      "\n",
      "Merging and encoding, please wait...\n"
     ]
    },
    {
     "data": {
      "application/vnd.jupyter.widget-view+json": {
       "model_id": "985b23c198564d0a9e4374ab063052e7",
       "version_major": 2,
       "version_minor": 0
      },
      "text/plain": [
       "  0%|          | 0/7 [00:00<?, ?it/s]"
      ]
     },
     "metadata": {},
     "output_type": "display_data"
    },
    {
     "name": "stdout",
     "output_type": "stream",
     "text": [
      "\n",
      "Finished!\n"
     ]
    }
   ],
   "source": [
    "#%run silero/silero_tts.py -t 16 -s xenia -d cuda -r 48000 --merge --rvc --rvc_model_pth ru-saya-1000.pth -i ./src -o silero/output_raw\n",
    "%run silero/silero_tts.py -t 16 -s xenia -d cuda -r 48000 --merge --rvc --rvc_model_pth ru-saya-1000.pth --rvc_model_index trained_IVF3468_Flat_nprobe_1_ru-saya_v2.index -i ./src -o silero/output_raw"
   ]
  },
  {
   "cell_type": "code",
   "execution_count": 8,
   "metadata": {
    "colab": {
     "base_uri": "https://localhost:8080/"
    },
    "id": "WJznBjRnCSGV",
    "outputId": "0353f655-da15-4643-8068-47a405724977"
   },
   "outputs": [
    {
     "name": "stdout",
     "output_type": "stream",
     "text": [
      "updating: silero/output_raw/_opus/ (stored 0%)\n",
      "  adding: silero/output_raw/_opus/part006_-_Глава_4__000000.opus (deflated 0%)\n",
      "  adding: silero/output_raw/_opus/part007_-_Глава_5__000000.opus (deflated 0%)\n",
      "  adding: silero/output_raw/_opus/part003_-_Глава_1__000000.opus (deflated 0%)\n",
      "  adding: silero/output_raw/_opus/part001_-_Том_1__000000.opus (deflated 0%)\n",
      "  adding: silero/output_raw/_opus/part002_-_Пролог__000000.opus (deflated 0%)\n",
      "  adding: silero/output_raw/_opus/part005_-_Глава_3__000000.opus (deflated 0%)\n",
      "  adding: silero/output_raw/_opus/part004_-_Глава_2__000000.opus (deflated 0%)\n",
      "-rw-r--r-- 1 root root 8341291 Apr 14 12:39 output.zip\n"
     ]
    }
   ],
   "source": [
    "!zip -r output.zip silero/output_raw/_opus\n",
    "!ls -l output.zip"
   ]
  }
 ],
 "metadata": {
  "accelerator": "GPU",
  "colab": {
   "gpuType": "T4",
   "provenance": []
  },
  "kernelspec": {
   "display_name": "Python 3",
   "name": "python3"
  },
  "language_info": {
   "name": "python"
  }
 },
 "nbformat": 4,
 "nbformat_minor": 0
}
